{
 "cells": [
  {
   "cell_type": "markdown",
   "id": "2f783980-e76d-494b-9b43-255e9109437a",
   "metadata": {},
   "source": [
    "## dplyr\n",
    "+ select : 열 선택\n",
    "+ filter : 조건 검색\n",
    "+ group_by : 데이터 그룹화\n",
    "+ mutate : 행/열 추가\n",
    "+ summerise : 데이터 집계\n",
    "+ arrange : 데이터 정렬"
   ]
  },
  {
   "cell_type": "markdown",
   "id": "9a84387d-79a8-42c3-b243-dcd9eda50e76",
   "metadata": {},
   "source": [
    "### arrange (데이터 정렬)"
   ]
  },
  {
   "cell_type": "code",
   "execution_count": 187,
   "id": "f4a34706-489d-4766-bb4e-08e9fe45e2c4",
   "metadata": {},
   "outputs": [],
   "source": [
    "library(dplyr)"
   ]
  },
  {
   "cell_type": "code",
   "execution_count": null,
   "id": "57934b58-d847-4b82-8067-98e2c26c1f8e",
   "metadata": {},
   "outputs": [],
   "source": [
    "load('sungjuk.rdata')"
   ]
  },
  {
   "cell_type": "code",
   "execution_count": null,
   "id": "881c71c8-9619-44c6-b344-d018c6f67d90",
   "metadata": {},
   "outputs": [],
   "source": [
    "sungjuk %>% arrange(name)"
   ]
  },
  {
   "cell_type": "code",
   "execution_count": null,
   "id": "49fcb992-c72d-43cc-b169-56132a7c9490",
   "metadata": {},
   "outputs": [],
   "source": [
    "sungjuk %>% arrange(desc(name))"
   ]
  },
  {
   "cell_type": "code",
   "execution_count": null,
   "id": "1de52a03-5965-41eb-8c0c-e7993290a3eb",
   "metadata": {},
   "outputs": [],
   "source": [
    "sungjuk %>% arrange(desc(eng, sci, mat))"
   ]
  },
  {
   "cell_type": "markdown",
   "id": "a93a530b-16aa-46fe-91c6-bb83f6a9d608",
   "metadata": {},
   "source": [
    "### summarise (데이터 집계)"
   ]
  },
  {
   "cell_type": "code",
   "execution_count": null,
   "id": "09af359f-f0cb-4e69-bb0f-24ddcdc64268",
   "metadata": {},
   "outputs": [],
   "source": [
    "sungjuk %>% summarise(평균영어점수=mean(eng))"
   ]
  },
  {
   "cell_type": "code",
   "execution_count": null,
   "id": "07f098d3-2b77-4ca2-827c-4c96192f0300",
   "metadata": {},
   "outputs": [],
   "source": [
    "sungjuk %>% summarise(영어평균=mean(eng), 수학평균=mean(mat), 과학평균=mean(sci), 영어최고=max(eng), 수학최고 =max(mat), 과학최고=max(sci), 영어최소 = min(eng), 수학최소=min(mat), 과학최소=min(sci))"
   ]
  },
  {
   "cell_type": "markdown",
   "id": "3179ee51-cf3b-4fbc-b306-d952b63de08e",
   "metadata": {},
   "source": [
    "### group_by (데이터 그룹화)"
   ]
  },
  {
   "cell_type": "code",
   "execution_count": null,
   "id": "8c5c039c-9dca-4099-b6dc-64f1a4513013",
   "metadata": {},
   "outputs": [],
   "source": [
    "sungjuk$class <- c(2,1,2,3)"
   ]
  },
  {
   "cell_type": "code",
   "execution_count": null,
   "id": "401ba4a6-aef9-4856-a6c7-6375dbec3370",
   "metadata": {},
   "outputs": [],
   "source": [
    "sungjuk %>% group_by(class) %>% summarise(평균영어=mean(eng))"
   ]
  },
  {
   "cell_type": "code",
   "execution_count": null,
   "id": "30ca68df-f254-4552-879c-d9c37dfa0fd6",
   "metadata": {},
   "outputs": [],
   "source": [
    "sungjuk %>% group_by(class) %>% summarise(최고영어=max(eng), 최소영어=min(eng))"
   ]
  },
  {
   "cell_type": "code",
   "execution_count": 188,
   "id": "145e5632-ee4a-4ef3-a0df-a52345b0e29e",
   "metadata": {},
   "outputs": [],
   "source": [
    "library(ggplot2)"
   ]
  },
  {
   "cell_type": "code",
   "execution_count": null,
   "id": "a50aa23f-1971-486f-a167-f27e6e45e560",
   "metadata": {},
   "outputs": [],
   "source": [
    "str(diamonds)"
   ]
  },
  {
   "cell_type": "code",
   "execution_count": null,
   "id": "783fbe79-d964-4fbc-a5bb-e8c699ebc794",
   "metadata": {},
   "outputs": [],
   "source": [
    "head(diamonds)"
   ]
  },
  {
   "cell_type": "code",
   "execution_count": null,
   "id": "000197e6-6425-4df2-a675-24dd2d6bd276",
   "metadata": {},
   "outputs": [],
   "source": [
    "diamonds %>% select(carat, price) %>% head()"
   ]
  },
  {
   "cell_type": "code",
   "execution_count": null,
   "id": "fe647268-91d5-4f9f-a79e-0fade820fd25",
   "metadata": {},
   "outputs": [],
   "source": [
    "select(diamonds, carat, price)"
   ]
  },
  {
   "cell_type": "code",
   "execution_count": null,
   "id": "be20a009-3fbe-471a-a17c-44cd9ff11227",
   "metadata": {},
   "outputs": [],
   "source": [
    "diamonds[, c('carat', 'price')]"
   ]
  },
  {
   "cell_type": "code",
   "execution_count": null,
   "id": "498179e3-2edc-489c-8e7a-a5b8aea3aeea",
   "metadata": {},
   "outputs": [],
   "source": [
    "head(select(diamonds, 1, 7))"
   ]
  },
  {
   "cell_type": "code",
   "execution_count": null,
   "id": "c999f43d-1149-424f-8050-144c0da0fb1b",
   "metadata": {},
   "outputs": [],
   "source": [
    "diamonds[, c(1,7)]"
   ]
  },
  {
   "cell_type": "code",
   "execution_count": null,
   "id": "d787d98d-d500-4330-ab3f-a8865de0a8a1",
   "metadata": {},
   "outputs": [],
   "source": [
    "diamonds[, -c(1,7)]"
   ]
  },
  {
   "cell_type": "code",
   "execution_count": null,
   "id": "d1fef0f7-8b93-4fe6-8352-45c083d9276b",
   "metadata": {},
   "outputs": [],
   "source": [
    "diamonds %>% select(-c(carat,price))"
   ]
  },
  {
   "cell_type": "code",
   "execution_count": null,
   "id": "440ab2c7-86ea-4c4c-bcc1-1d2e42629e22",
   "metadata": {},
   "outputs": [],
   "source": [
    "diamonds %>% select(-carat,-price)"
   ]
  },
  {
   "cell_type": "code",
   "execution_count": null,
   "id": "75fbd57b-c0fa-4103-951f-caa4a626b6f5",
   "metadata": {},
   "outputs": [],
   "source": [
    "select(diamonds, -carat, -price)"
   ]
  },
  {
   "cell_type": "code",
   "execution_count": null,
   "id": "921f4339-dd91-4ec3-b1a9-089e3b489133",
   "metadata": {},
   "outputs": [],
   "source": [
    "diamonds %>% select(starts_with('c'))"
   ]
  },
  {
   "cell_type": "code",
   "execution_count": null,
   "id": "b96070b3-2cf9-45ec-9813-9e730937172d",
   "metadata": {},
   "outputs": [],
   "source": [
    "select(diamonds, starts_with('c'))"
   ]
  },
  {
   "cell_type": "code",
   "execution_count": null,
   "id": "c80c156d-1494-4805-98b1-bf43e398dbf2",
   "metadata": {},
   "outputs": [],
   "source": [
    "diamonds %>% select(ends_with('e'))"
   ]
  },
  {
   "cell_type": "code",
   "execution_count": null,
   "id": "ec234592-7465-4eb1-884f-4080b89e7d55",
   "metadata": {},
   "outputs": [],
   "source": [
    "diamonds %>% select(contains('I'))"
   ]
  },
  {
   "cell_type": "code",
   "execution_count": null,
   "id": "46aba3da-6d0b-4db3-9138-b3d5edad97df",
   "metadata": {},
   "outputs": [],
   "source": [
    "diamonds %>% select(matches('I'))"
   ]
  },
  {
   "cell_type": "code",
   "execution_count": null,
   "id": "0c94ad54-860a-4440-9568-e924fe9b9a7d",
   "metadata": {},
   "outputs": [],
   "source": [
    "diamonds %>% select(contains('r') & contains('t'))"
   ]
  },
  {
   "cell_type": "code",
   "execution_count": null,
   "id": "29996e3d-6695-474c-9c97-e3a411eb0d4d",
   "metadata": {},
   "outputs": [],
   "source": [
    "diamonds %>% select(matches('r.t')) %>% head()"
   ]
  },
  {
   "cell_type": "code",
   "execution_count": null,
   "id": "f9d99e4f-62c2-439a-80ba-3020cff1b9ce",
   "metadata": {},
   "outputs": [],
   "source": [
    "diamonds %>% select(matches('r.+t')) %>% head()"
   ]
  },
  {
   "cell_type": "code",
   "execution_count": null,
   "id": "6dc6eca2-cf6e-45c5-8916-b95c25b3e68b",
   "metadata": {},
   "outputs": [],
   "source": [
    "diamonds %>% filter(cut == 'Ideal')"
   ]
  },
  {
   "cell_type": "code",
   "execution_count": null,
   "id": "2476d16d-eb99-45ad-b7df-478eb4bc01fe",
   "metadata": {},
   "outputs": [],
   "source": [
    "diamonds[diamonds$cut == 'Ideal', ]"
   ]
  },
  {
   "cell_type": "code",
   "execution_count": null,
   "id": "3fe96c6e-9622-4f53-a486-594ad30fc243",
   "metadata": {},
   "outputs": [],
   "source": [
    "diamonds %>% filter(price > 1000)"
   ]
  },
  {
   "cell_type": "code",
   "execution_count": null,
   "id": "23f4608c-9f42-4ef1-b7ba-f368943cc18a",
   "metadata": {},
   "outputs": [],
   "source": [
    "head(diamonds[diamonds$price >1000, ])"
   ]
  },
  {
   "cell_type": "code",
   "execution_count": null,
   "id": "b6652fe3-7fe9-40d8-99d0-74aa38642e1c",
   "metadata": {},
   "outputs": [],
   "source": [
    "diamonds %>% filter(carat >=2, price <= 14000)"
   ]
  },
  {
   "cell_type": "code",
   "execution_count": null,
   "id": "88a84273-e79e-4017-99c2-c7fdde768dc1",
   "metadata": {},
   "outputs": [],
   "source": [
    "diamonds[diamonds$carat >= 2 & diamonds$ price <= 14000, ]"
   ]
  },
  {
   "cell_type": "code",
   "execution_count": null,
   "id": "2d0ff93e-cb9d-4739-b97f-25a381d8b8ea",
   "metadata": {},
   "outputs": [],
   "source": [
    "filter(diamonds, carat >=2 & price <=15000)"
   ]
  },
  {
   "cell_type": "code",
   "execution_count": null,
   "id": "44ccbe04-426d-4c5f-a58b-d26e6af917c5",
   "metadata": {},
   "outputs": [],
   "source": [
    "diamonds %>% filter(carat <1 | carat > 5)"
   ]
  },
  {
   "cell_type": "code",
   "execution_count": null,
   "id": "94819dd7-9764-4cce-bdf4-bb09faebac31",
   "metadata": {},
   "outputs": [],
   "source": [
    "diamonds[diamonds$carat < 1 | diamonds$carat > 5, ]"
   ]
  },
  {
   "cell_type": "code",
   "execution_count": null,
   "id": "5fb1a3e5-ee20-49b3-bb3e-9266db6bcba8",
   "metadata": {},
   "outputs": [],
   "source": [
    "diamonds %>% filter(cut == 'Ideal' | cut == 'Good')"
   ]
  },
  {
   "cell_type": "code",
   "execution_count": null,
   "id": "bdeae43c-0bbd-4b63-92f7-068c27546289",
   "metadata": {},
   "outputs": [],
   "source": [
    "diamonds[diamonds$cut %in% c('Ideal', 'Good'),]"
   ]
  },
  {
   "cell_type": "code",
   "execution_count": null,
   "id": "822c8167-4912-4e45-9059-729deef912a2",
   "metadata": {},
   "outputs": [],
   "source": [
    "diamonds %>% group_by(cut, color) %>% mutate(avgprice=mean(price), sumcarat = sum(carat))"
   ]
  },
  {
   "cell_type": "code",
   "execution_count": 212,
   "id": "71121c8b-5a37-4a85-8165-28480ce660de",
   "metadata": {},
   "outputs": [
    {
     "data": {
      "text/html": [
       "<table class=\"dataframe\">\n",
       "<caption>A data.frame: 1 × 3</caption>\n",
       "<thead>\n",
       "\t<tr><th scope=col>avgprice</th><th scope=col>medPrice</th><th scope=col>avgcarat</th></tr>\n",
       "\t<tr><th scope=col>&lt;dbl&gt;</th><th scope=col>&lt;dbl&gt;</th><th scope=col>&lt;dbl&gt;</th></tr>\n",
       "</thead>\n",
       "<tbody>\n",
       "\t<tr><td>3932.8</td><td>2401</td><td>0.7979397</td></tr>\n",
       "</tbody>\n",
       "</table>\n"
      ],
      "text/latex": [
       "A data.frame: 1 × 3\n",
       "\\begin{tabular}{lll}\n",
       " avgprice & medPrice & avgcarat\\\\\n",
       " <dbl> & <dbl> & <dbl>\\\\\n",
       "\\hline\n",
       "\t 3932.8 & 2401 & 0.7979397\\\\\n",
       "\\end{tabular}\n"
      ],
      "text/markdown": [
       "\n",
       "A data.frame: 1 × 3\n",
       "\n",
       "| avgprice &lt;dbl&gt; | medPrice &lt;dbl&gt; | avgcarat &lt;dbl&gt; |\n",
       "|---|---|---|\n",
       "| 3932.8 | 2401 | 0.7979397 |\n",
       "\n"
      ],
      "text/plain": [
       "  avgprice medPrice avgcarat \n",
       "1 3932.8   2401     0.7979397"
      ]
     },
     "metadata": {},
     "output_type": "display_data"
    }
   ],
   "source": [
    "diamonds %>% summarise(avgprice=mean(price), medPrice=median(price), avgcarat=mean(carat))"
   ]
  },
  {
   "cell_type": "code",
   "execution_count": null,
   "id": "23cf4bac-c4b3-4e05-8391-8da670b7a6c6",
   "metadata": {},
   "outputs": [],
   "source": []
  },
  {
   "cell_type": "code",
   "execution_count": null,
   "id": "11611661-373f-4600-9da8-5d76c5268c57",
   "metadata": {},
   "outputs": [],
   "source": [
    "diamonds %>% group_by(color) %>% mutate(avgPrice=mean(price), sumCarat = sum(carat)) %>% arrange(desc(avgPrice))"
   ]
  },
  {
   "cell_type": "code",
   "execution_count": 204,
   "id": "01ffd823-7ed4-4219-831a-825d6ad6e249",
   "metadata": {},
   "outputs": [
    {
     "data": {
      "text/html": [
       "<table class=\"dataframe\">\n",
       "<caption>A data.frame: 1 × 2</caption>\n",
       "<thead>\n",
       "\t<tr><th scope=col>avgPrice</th><th scope=col>sumCarat</th></tr>\n",
       "\t<tr><th scope=col>&lt;dbl&gt;</th><th scope=col>&lt;dbl&gt;</th></tr>\n",
       "</thead>\n",
       "<tbody>\n",
       "\t<tr><td>3932.8</td><td>43040.87</td></tr>\n",
       "</tbody>\n",
       "</table>\n"
      ],
      "text/latex": [
       "A data.frame: 1 × 2\n",
       "\\begin{tabular}{ll}\n",
       " avgPrice & sumCarat\\\\\n",
       " <dbl> & <dbl>\\\\\n",
       "\\hline\n",
       "\t 3932.8 & 43040.87\\\\\n",
       "\\end{tabular}\n"
      ],
      "text/markdown": [
       "\n",
       "A data.frame: 1 × 2\n",
       "\n",
       "| avgPrice &lt;dbl&gt; | sumCarat &lt;dbl&gt; |\n",
       "|---|---|\n",
       "| 3932.8 | 43040.87 |\n",
       "\n"
      ],
      "text/plain": [
       "  avgPrice sumCarat\n",
       "1 3932.8   43040.87"
      ]
     },
     "metadata": {},
     "output_type": "display_data"
    }
   ],
   "source": [
    "diamonds %>% group_by(color) %>% summarise(avgPrice=mean(price), sumCarat = sum(carat)) %>% arrange(desc(avgPrice), sumCarat)"
   ]
  },
  {
   "cell_type": "code",
   "execution_count": null,
   "id": "649c064b-bfb9-4c1e-b9e3-d995629369fc",
   "metadata": {},
   "outputs": [],
   "source": [
    "diamonds %>% group_by(color) %>% mutate(avgPrice=mean(price), sumCarat = sum(carat)) %>% arrange(desc(avgPrice), sumCarat)"
   ]
  },
  {
   "cell_type": "code",
   "execution_count": null,
   "id": "59ff8a54-160d-411e-86e8-1160bdc82d5a",
   "metadata": {},
   "outputs": [],
   "source": [
    "diamonds %>% mutate(Ratio= (price/carat), Double = (Ratio^2)) %>% select(carat, price, Ratio, Double) %>% head()"
   ]
  },
  {
   "cell_type": "code",
   "execution_count": null,
   "id": "856a10af-7040-4a40-860f-0a80ecbcd314",
   "metadata": {},
   "outputs": [],
   "source": [
    "diamonds %>% summarise(Ratio= (price/carat), Double = (Ratio^2)) %>% head()"
   ]
  },
  {
   "cell_type": "code",
   "execution_count": null,
   "id": "b90d93dc-d52e-4347-b7cb-8376c861d267",
   "metadata": {},
   "outputs": [],
   "source": [
    "dia$Ratio <- dia$price /dia$carat\n",
    "dia$Double <- dia$Ratio^2\n",
    "head(dia[, c('carat', 'price', 'Ratio', 'Double')])"
   ]
  },
  {
   "cell_type": "code",
   "execution_count": null,
   "id": "337a9269-f58a-4d9b-bdaf-761abb524391",
   "metadata": {},
   "outputs": [],
   "source": []
  },
  {
   "cell_type": "code",
   "execution_count": null,
   "id": "91a3b630-6424-4df7-9350-6c792000d466",
   "metadata": {},
   "outputs": [],
   "source": [
    "c1 <- mean(diamonds$price)\n",
    "c2 <- median(diamonds$price)\n",
    "c3 <- mean(diamonds$carat)"
   ]
  },
  {
   "cell_type": "code",
   "execution_count": null,
   "id": "b741f480-d85c-43d6-83a1-0041ab231bd3",
   "metadata": {},
   "outputs": [],
   "source": [
    "df <- tibble(c1, c2, c3)"
   ]
  },
  {
   "cell_type": "code",
   "execution_count": null,
   "id": "06e15a43-76f3-4381-a035-d7a380bde7cb",
   "metadata": {},
   "outputs": [],
   "source": [
    "colnames(df) <- c('avgPrice', 'medPrice', 'avgCarat')"
   ]
  },
  {
   "cell_type": "code",
   "execution_count": null,
   "id": "e0dd85b2-c593-4693-9dec-de8894f6310a",
   "metadata": {},
   "outputs": [],
   "source": [
    "df"
   ]
  },
  {
   "cell_type": "code",
   "execution_count": null,
   "id": "167db69a-7813-4193-98e0-e4998b7c7f92",
   "metadata": {},
   "outputs": [],
   "source": [
    "df1 <-data.frame(c1, c2, c3)"
   ]
  },
  {
   "cell_type": "code",
   "execution_count": null,
   "id": "b858cb5d-f0e4-4a51-a565-e5fb11ee8762",
   "metadata": {},
   "outputs": [],
   "source": [
    "df1.columns = ['avgPrice', 'medPrice', 'avgCarat']\n",
    "df1"
   ]
  },
  {
   "cell_type": "markdown",
   "id": "bc0fe3d2-ff4a-49f6-8cd1-27f0a790fefd",
   "metadata": {},
   "source": [
    "### 집계처리 : aggregate\n",
    "+ aggregate(집계대상컬럼, by=그룹대상컬럼, 집계함수)\n",
    "+ aggregate(인자식, 데이터, 집계함수)\n",
    "+ 집계시 사용하는 인자식 예 : a ~ b +c\n",
    "    - a : 집계하고자 하는 대상\n",
    "    - b : 그룹으로 묶을 기준 1 \n",
    "    - c : 그룹으로 묶을 기준 2"
   ]
  },
  {
   "cell_type": "markdown",
   "id": "443c17bf-fc53-4a34-a109-b2290d020042",
   "metadata": {},
   "source": [
    "### cut 기준으로 평균 price 집계"
   ]
  },
  {
   "cell_type": "code",
   "execution_count": null,
   "id": "e3c7711d-22d6-4d61-b408-aed5d7479b31",
   "metadata": {},
   "outputs": [],
   "source": [
    "aggregate(diamonds$price, by=list(diamonds$cut), FUN=mean)"
   ]
  },
  {
   "cell_type": "code",
   "execution_count": null,
   "id": "9eca7e28-4b1d-470f-8f14-dd0981e06e37",
   "metadata": {},
   "outputs": [],
   "source": [
    "aggregate(price ~ cut, diamonds, FUN=mean)"
   ]
  },
  {
   "cell_type": "code",
   "execution_count": null,
   "id": "100f90b0-ef01-43ca-b85c-51d728b2e9f0",
   "metadata": {},
   "outputs": [],
   "source": [
    "diamonds %>% group_by(cut) %>% summarise(avgPrice = mean(price))"
   ]
  },
  {
   "cell_type": "code",
   "execution_count": null,
   "id": "ce5daae0-f147-4548-8913-519edb5c869c",
   "metadata": {},
   "outputs": [],
   "source": [
    "aggregate(price ~ cut + color, diamonds, FUN=mean)"
   ]
  },
  {
   "cell_type": "code",
   "execution_count": null,
   "id": "6bd98cb6-1a34-4d86-acce-4854ab46d3a3",
   "metadata": {},
   "outputs": [],
   "source": [
    "aggregate(carat ~ cut + color, diamonds, FUN=sum)"
   ]
  },
  {
   "cell_type": "markdown",
   "id": "9a9c3a11-123d-4d9f-8730-58812c120fb5",
   "metadata": {},
   "source": [
    "#### aggregate문에 집계합수 2개 이상 쓰기 : plyr 패키지 each 함수"
   ]
  },
  {
   "cell_type": "code",
   "execution_count": 186,
   "id": "4350d0e5-8c90-43c8-8e57-bd2092bb2635",
   "metadata": {},
   "outputs": [],
   "source": [
    "library(plyr)"
   ]
  },
  {
   "cell_type": "code",
   "execution_count": null,
   "id": "ae744d53-b9f3-4eda-94aa-ba821e7df620",
   "metadata": {},
   "outputs": [],
   "source": [
    "aggregate(price ~ cut + color, diamonds, each(mean,sum))"
   ]
  },
  {
   "cell_type": "code",
   "execution_count": 226,
   "id": "73284a3c-6432-4176-9aec-8d1887f75fdc",
   "metadata": {},
   "outputs": [],
   "source": [
    "detach('package:plyr', unload=T)"
   ]
  },
  {
   "cell_type": "code",
   "execution_count": null,
   "id": "eb31dc13-3c28-4a6c-975d-6327e760fa41",
   "metadata": {},
   "outputs": [],
   "source": [
    "diamonds %>% group_by(cut, color) %>% mutate(avgPrice=mean(price), sumCarat=sum(carat))"
   ]
  },
  {
   "cell_type": "code",
   "execution_count": 207,
   "id": "ac70c3dc-a03b-4b7d-9e4c-0c539847fd2d",
   "metadata": {},
   "outputs": [
    {
     "data": {
      "text/html": [
       "<table class=\"dataframe\">\n",
       "<caption>A data.frame: 1 × 2</caption>\n",
       "<thead>\n",
       "\t<tr><th scope=col>avgPrice</th><th scope=col>sumCarat</th></tr>\n",
       "\t<tr><th scope=col>&lt;dbl&gt;</th><th scope=col>&lt;dbl&gt;</th></tr>\n",
       "</thead>\n",
       "<tbody>\n",
       "\t<tr><td>3932.8</td><td>43040.87</td></tr>\n",
       "</tbody>\n",
       "</table>\n"
      ],
      "text/latex": [
       "A data.frame: 1 × 2\n",
       "\\begin{tabular}{ll}\n",
       " avgPrice & sumCarat\\\\\n",
       " <dbl> & <dbl>\\\\\n",
       "\\hline\n",
       "\t 3932.8 & 43040.87\\\\\n",
       "\\end{tabular}\n"
      ],
      "text/markdown": [
       "\n",
       "A data.frame: 1 × 2\n",
       "\n",
       "| avgPrice &lt;dbl&gt; | sumCarat &lt;dbl&gt; |\n",
       "|---|---|\n",
       "| 3932.8 | 43040.87 |\n",
       "\n"
      ],
      "text/plain": [
       "  avgPrice sumCarat\n",
       "1 3932.8   43040.87"
      ]
     },
     "metadata": {},
     "output_type": "display_data"
    }
   ],
   "source": [
    "diamonds %>% group_by(cut, color) %>% summarise(avgPrice=mean(price), sumCarat=sum(carat))"
   ]
  },
  {
   "cell_type": "code",
   "execution_count": 190,
   "id": "f8aff6ce-1270-4baf-aa0b-11c07667e7b1",
   "metadata": {},
   "outputs": [],
   "source": [
    "dia <- diamonds"
   ]
  },
  {
   "cell_type": "code",
   "execution_count": 194,
   "id": "e85d6105-38e6-41ab-b4e7-57f73d04293e",
   "metadata": {},
   "outputs": [],
   "source": [
    "avgPrice <- aggregate(price~color, dia, FUN=mean)"
   ]
  },
  {
   "cell_type": "code",
   "execution_count": 195,
   "id": "b9d6636c-aae4-4b08-a3e4-c14a6fa1f8d5",
   "metadata": {},
   "outputs": [],
   "source": [
    "sumCarat<- aggregate(carat~color, dia, FUN=sum)"
   ]
  },
  {
   "cell_type": "code",
   "execution_count": 217,
   "id": "2a449c58-10ea-497a-aa0f-278b1b45743c",
   "metadata": {},
   "outputs": [
    {
     "data": {
      "text/html": [
       "<table class=\"dataframe\">\n",
       "<caption>A tibble: 7 × 3</caption>\n",
       "<thead>\n",
       "\t<tr><th scope=col>color</th><th scope=col>avgPrice</th><th scope=col>sumCarat</th></tr>\n",
       "\t<tr><th scope=col>&lt;ord&gt;</th><th scope=col>&lt;dbl&gt;</th><th scope=col>&lt;dbl&gt;</th></tr>\n",
       "</thead>\n",
       "<tbody>\n",
       "\t<tr><td>D</td><td>3169.954</td><td>4456.56</td></tr>\n",
       "\t<tr><td>E</td><td>3076.752</td><td>6445.12</td></tr>\n",
       "\t<tr><td>F</td><td>3724.886</td><td>7028.05</td></tr>\n",
       "\t<tr><td>G</td><td>3999.136</td><td>8708.28</td></tr>\n",
       "\t<tr><td>H</td><td>4486.669</td><td>7571.58</td></tr>\n",
       "\t<tr><td>I</td><td>5091.875</td><td>5568.00</td></tr>\n",
       "\t<tr><td>J</td><td>5323.818</td><td>3263.28</td></tr>\n",
       "</tbody>\n",
       "</table>\n"
      ],
      "text/latex": [
       "A tibble: 7 × 3\n",
       "\\begin{tabular}{lll}\n",
       " color & avgPrice & sumCarat\\\\\n",
       " <ord> & <dbl> & <dbl>\\\\\n",
       "\\hline\n",
       "\t D & 3169.954 & 4456.56\\\\\n",
       "\t E & 3076.752 & 6445.12\\\\\n",
       "\t F & 3724.886 & 7028.05\\\\\n",
       "\t G & 3999.136 & 8708.28\\\\\n",
       "\t H & 4486.669 & 7571.58\\\\\n",
       "\t I & 5091.875 & 5568.00\\\\\n",
       "\t J & 5323.818 & 3263.28\\\\\n",
       "\\end{tabular}\n"
      ],
      "text/markdown": [
       "\n",
       "A tibble: 7 × 3\n",
       "\n",
       "| color &lt;ord&gt; | avgPrice &lt;dbl&gt; | sumCarat &lt;dbl&gt; |\n",
       "|---|---|---|\n",
       "| D | 3169.954 | 4456.56 |\n",
       "| E | 3076.752 | 6445.12 |\n",
       "| F | 3724.886 | 7028.05 |\n",
       "| G | 3999.136 | 8708.28 |\n",
       "| H | 4486.669 | 7571.58 |\n",
       "| I | 5091.875 | 5568.00 |\n",
       "| J | 5323.818 | 3263.28 |\n",
       "\n"
      ],
      "text/plain": [
       "  color avgPrice sumCarat\n",
       "1 D     3169.954 4456.56 \n",
       "2 E     3076.752 6445.12 \n",
       "3 F     3724.886 7028.05 \n",
       "4 G     3999.136 8708.28 \n",
       "5 H     4486.669 7571.58 \n",
       "6 I     5091.875 5568.00 \n",
       "7 J     5323.818 3263.28 "
      ]
     },
     "metadata": {},
     "output_type": "display_data"
    }
   ],
   "source": [
    "df5<- tibble(avgPrice, sumCarat$carat)\n",
    "colnames(df5) <- c('color', 'avgPrice', 'sumCarat')\n",
    "df5"
   ]
  },
  {
   "cell_type": "code",
   "execution_count": 220,
   "id": "be8d8327-6392-4c3e-b17a-a4cbf0a540d3",
   "metadata": {},
   "outputs": [
    {
     "data": {
      "text/html": [
       "<table class=\"dataframe\">\n",
       "<caption>A tibble: 7 × 3</caption>\n",
       "<thead>\n",
       "\t<tr><th scope=col>color</th><th scope=col>avgPrice</th><th scope=col>sumCarat</th></tr>\n",
       "\t<tr><th scope=col>&lt;ord&gt;</th><th scope=col>&lt;dbl&gt;</th><th scope=col>&lt;dbl&gt;</th></tr>\n",
       "</thead>\n",
       "<tbody>\n",
       "\t<tr><td>J</td><td>5323.818</td><td>3263.28</td></tr>\n",
       "\t<tr><td>I</td><td>5091.875</td><td>5568.00</td></tr>\n",
       "\t<tr><td>H</td><td>4486.669</td><td>7571.58</td></tr>\n",
       "\t<tr><td>G</td><td>3999.136</td><td>8708.28</td></tr>\n",
       "\t<tr><td>F</td><td>3724.886</td><td>7028.05</td></tr>\n",
       "\t<tr><td>D</td><td>3169.954</td><td>4456.56</td></tr>\n",
       "\t<tr><td>E</td><td>3076.752</td><td>6445.12</td></tr>\n",
       "</tbody>\n",
       "</table>\n"
      ],
      "text/latex": [
       "A tibble: 7 × 3\n",
       "\\begin{tabular}{lll}\n",
       " color & avgPrice & sumCarat\\\\\n",
       " <ord> & <dbl> & <dbl>\\\\\n",
       "\\hline\n",
       "\t J & 5323.818 & 3263.28\\\\\n",
       "\t I & 5091.875 & 5568.00\\\\\n",
       "\t H & 4486.669 & 7571.58\\\\\n",
       "\t G & 3999.136 & 8708.28\\\\\n",
       "\t F & 3724.886 & 7028.05\\\\\n",
       "\t D & 3169.954 & 4456.56\\\\\n",
       "\t E & 3076.752 & 6445.12\\\\\n",
       "\\end{tabular}\n"
      ],
      "text/markdown": [
       "\n",
       "A tibble: 7 × 3\n",
       "\n",
       "| color &lt;ord&gt; | avgPrice &lt;dbl&gt; | sumCarat &lt;dbl&gt; |\n",
       "|---|---|---|\n",
       "| J | 5323.818 | 3263.28 |\n",
       "| I | 5091.875 | 5568.00 |\n",
       "| H | 4486.669 | 7571.58 |\n",
       "| G | 3999.136 | 8708.28 |\n",
       "| F | 3724.886 | 7028.05 |\n",
       "| D | 3169.954 | 4456.56 |\n",
       "| E | 3076.752 | 6445.12 |\n",
       "\n"
      ],
      "text/plain": [
       "  color avgPrice sumCarat\n",
       "1 J     5323.818 3263.28 \n",
       "2 I     5091.875 5568.00 \n",
       "3 H     4486.669 7571.58 \n",
       "4 G     3999.136 8708.28 \n",
       "5 F     3724.886 7028.05 \n",
       "6 D     3169.954 4456.56 \n",
       "7 E     3076.752 6445.12 "
      ]
     },
     "metadata": {},
     "output_type": "display_data"
    }
   ],
   "source": [
    "df5[order(-df5$avgPrice, df5$sumCarat),] # 정렬 출력"
   ]
  },
  {
   "cell_type": "code",
   "execution_count": 223,
   "id": "ef6fc920-60cd-4e97-be93-b7e4e8943d0b",
   "metadata": {},
   "outputs": [
    {
     "data": {
      "text/html": [
       "<table class=\"dataframe\">\n",
       "<caption>A data.frame: 1 × 2</caption>\n",
       "<thead>\n",
       "\t<tr><th scope=col>avgPrice</th><th scope=col>sumCarat</th></tr>\n",
       "\t<tr><th scope=col>&lt;dbl&gt;</th><th scope=col>&lt;dbl&gt;</th></tr>\n",
       "</thead>\n",
       "<tbody>\n",
       "\t<tr><td>3932.8</td><td>43040.87</td></tr>\n",
       "</tbody>\n",
       "</table>\n"
      ],
      "text/latex": [
       "A data.frame: 1 × 2\n",
       "\\begin{tabular}{ll}\n",
       " avgPrice & sumCarat\\\\\n",
       " <dbl> & <dbl>\\\\\n",
       "\\hline\n",
       "\t 3932.8 & 43040.87\\\\\n",
       "\\end{tabular}\n"
      ],
      "text/markdown": [
       "\n",
       "A data.frame: 1 × 2\n",
       "\n",
       "| avgPrice &lt;dbl&gt; | sumCarat &lt;dbl&gt; |\n",
       "|---|---|\n",
       "| 3932.8 | 43040.87 |\n",
       "\n"
      ],
      "text/plain": [
       "  avgPrice sumCarat\n",
       "1 3932.8   43040.87"
      ]
     },
     "metadata": {},
     "output_type": "display_data"
    }
   ],
   "source": [
    "diamonds %>% group_by(color) %>% summarise(avgPrice=mean(price), sumCarat=sum(carat)) %>% arrange(desc(avgPrice))"
   ]
  },
  {
   "cell_type": "code",
   "execution_count": 215,
   "id": "a977956d-90b7-4aca-bcc2-42703a5de712",
   "metadata": {},
   "outputs": [
    {
     "data": {
      "text/html": [
       "3932.79972191324"
      ],
      "text/latex": [
       "3932.79972191324"
      ],
      "text/markdown": [
       "3932.79972191324"
      ],
      "text/plain": [
       "[1] 3932.8"
      ]
     },
     "metadata": {},
     "output_type": "display_data"
    }
   ],
   "source": [
    "mean(diamonds$price)"
   ]
  },
  {
   "cell_type": "code",
   "execution_count": 227,
   "id": "3751721a-53dd-4fee-bb97-11450716d917",
   "metadata": {},
   "outputs": [
    {
     "data": {
      "text/html": [
       "<table class=\"dataframe\">\n",
       "<caption>A grouped_df: 53940 × 12</caption>\n",
       "<thead>\n",
       "\t<tr><th scope=col>carat</th><th scope=col>cut</th><th scope=col>color</th><th scope=col>clarity</th><th scope=col>depth</th><th scope=col>table</th><th scope=col>price</th><th scope=col>x</th><th scope=col>y</th><th scope=col>z</th><th scope=col>avgPrice</th><th scope=col>sumCarat</th></tr>\n",
       "\t<tr><th scope=col>&lt;dbl&gt;</th><th scope=col>&lt;ord&gt;</th><th scope=col>&lt;ord&gt;</th><th scope=col>&lt;ord&gt;</th><th scope=col>&lt;dbl&gt;</th><th scope=col>&lt;dbl&gt;</th><th scope=col>&lt;int&gt;</th><th scope=col>&lt;dbl&gt;</th><th scope=col>&lt;dbl&gt;</th><th scope=col>&lt;dbl&gt;</th><th scope=col>&lt;dbl&gt;</th><th scope=col>&lt;dbl&gt;</th></tr>\n",
       "</thead>\n",
       "<tbody>\n",
       "\t<tr><td>0.31</td><td>Good     </td><td>J</td><td>SI2 </td><td>63.3</td><td>58</td><td> 335</td><td>4.34</td><td>4.35</td><td>2.75</td><td>5323.818</td><td>3263.28</td></tr>\n",
       "\t<tr><td>0.24</td><td>Very Good</td><td>J</td><td>VVS2</td><td>62.8</td><td>57</td><td> 336</td><td>3.94</td><td>3.96</td><td>2.48</td><td>5323.818</td><td>3263.28</td></tr>\n",
       "\t<tr><td>0.30</td><td>Good     </td><td>J</td><td>SI1 </td><td>64.0</td><td>55</td><td> 339</td><td>4.25</td><td>4.28</td><td>2.73</td><td>5323.818</td><td>3263.28</td></tr>\n",
       "\t<tr><td>0.23</td><td>Ideal    </td><td>J</td><td>VS1 </td><td>62.8</td><td>56</td><td> 340</td><td>3.93</td><td>3.90</td><td>2.46</td><td>5323.818</td><td>3263.28</td></tr>\n",
       "\t<tr><td>0.31</td><td>Ideal    </td><td>J</td><td>SI2 </td><td>62.2</td><td>54</td><td> 344</td><td>4.35</td><td>4.37</td><td>2.71</td><td>5323.818</td><td>3263.28</td></tr>\n",
       "\t<tr><td>0.30</td><td>Good     </td><td>J</td><td>SI1 </td><td>63.4</td><td>54</td><td> 351</td><td>4.23</td><td>4.29</td><td>2.70</td><td>5323.818</td><td>3263.28</td></tr>\n",
       "\t<tr><td>0.30</td><td>Good     </td><td>J</td><td>SI1 </td><td>63.8</td><td>56</td><td> 351</td><td>4.23</td><td>4.26</td><td>2.71</td><td>5323.818</td><td>3263.28</td></tr>\n",
       "\t<tr><td>0.30</td><td>Very Good</td><td>J</td><td>SI1 </td><td>62.7</td><td>59</td><td> 351</td><td>4.21</td><td>4.27</td><td>2.66</td><td>5323.818</td><td>3263.28</td></tr>\n",
       "\t<tr><td>0.31</td><td>Very Good</td><td>J</td><td>SI1 </td><td>59.4</td><td>62</td><td> 353</td><td>4.39</td><td>4.43</td><td>2.62</td><td>5323.818</td><td>3263.28</td></tr>\n",
       "\t<tr><td>0.31</td><td>Very Good</td><td>J</td><td>SI1 </td><td>58.1</td><td>62</td><td> 353</td><td>4.44</td><td>4.47</td><td>2.59</td><td>5323.818</td><td>3263.28</td></tr>\n",
       "\t<tr><td>0.30</td><td>Very Good</td><td>J</td><td>VS2 </td><td>62.2</td><td>57</td><td> 357</td><td>4.28</td><td>4.30</td><td>2.67</td><td>5323.818</td><td>3263.28</td></tr>\n",
       "\t<tr><td>0.33</td><td>Ideal    </td><td>J</td><td>SI1 </td><td>61.1</td><td>56</td><td> 403</td><td>4.49</td><td>4.55</td><td>2.76</td><td>5323.818</td><td>3263.28</td></tr>\n",
       "\t<tr><td>0.30</td><td>Premium  </td><td>J</td><td>SI2 </td><td>59.3</td><td>61</td><td> 405</td><td>4.43</td><td>4.38</td><td>2.61</td><td>5323.818</td><td>3263.28</td></tr>\n",
       "\t<tr><td>1.17</td><td>Very Good</td><td>J</td><td>I1  </td><td>60.2</td><td>61</td><td>2774</td><td>6.83</td><td>6.90</td><td>4.13</td><td>5323.818</td><td>3263.28</td></tr>\n",
       "\t<tr><td>1.05</td><td>Very Good</td><td>J</td><td>SI2 </td><td>63.2</td><td>56</td><td>2789</td><td>6.49</td><td>6.45</td><td>4.09</td><td>5323.818</td><td>3263.28</td></tr>\n",
       "\t<tr><td>1.05</td><td>Fair     </td><td>J</td><td>SI2 </td><td>65.8</td><td>59</td><td>2789</td><td>6.41</td><td>6.27</td><td>4.18</td><td>5323.818</td><td>3263.28</td></tr>\n",
       "\t<tr><td>1.00</td><td>Premium  </td><td>J</td><td>SI2 </td><td>62.3</td><td>58</td><td>2801</td><td>6.45</td><td>6.34</td><td>3.98</td><td>5323.818</td><td>3263.28</td></tr>\n",
       "\t<tr><td>0.93</td><td>Premium  </td><td>J</td><td>SI2 </td><td>61.9</td><td>57</td><td>2807</td><td>6.21</td><td>6.19</td><td>3.84</td><td>5323.818</td><td>3263.28</td></tr>\n",
       "\t<tr><td>1.00</td><td>Fair     </td><td>J</td><td>VS2 </td><td>65.7</td><td>59</td><td>2811</td><td>6.14</td><td>6.07</td><td>4.01</td><td>5323.818</td><td>3263.28</td></tr>\n",
       "\t<tr><td>0.99</td><td>Fair     </td><td>J</td><td>SI1 </td><td>55.0</td><td>61</td><td>2812</td><td>6.72</td><td>6.67</td><td>3.68</td><td>5323.818</td><td>3263.28</td></tr>\n",
       "\t<tr><td>0.90</td><td>Fair     </td><td>J</td><td>VS2 </td><td>65.0</td><td>56</td><td>2815</td><td>6.08</td><td>6.04</td><td>3.94</td><td>5323.818</td><td>3263.28</td></tr>\n",
       "\t<tr><td>0.90</td><td>Ideal    </td><td>J</td><td>VS2 </td><td>62.8</td><td>55</td><td>2817</td><td>6.20</td><td>6.16</td><td>3.88</td><td>5323.818</td><td>3263.28</td></tr>\n",
       "\t<tr><td>0.90</td><td>Good     </td><td>J</td><td>VS2 </td><td>64.0</td><td>61</td><td>2822</td><td>6.04</td><td>6.03</td><td>3.86</td><td>5323.818</td><td>3263.28</td></tr>\n",
       "\t<tr><td>1.17</td><td>Premium  </td><td>J</td><td>I1  </td><td>60.2</td><td>61</td><td>2825</td><td>6.90</td><td>6.83</td><td>4.13</td><td>5323.818</td><td>3263.28</td></tr>\n",
       "\t<tr><td>0.90</td><td>Good     </td><td>J</td><td>SI1 </td><td>64.3</td><td>63</td><td>2832</td><td>6.05</td><td>6.01</td><td>3.88</td><td>5323.818</td><td>3263.28</td></tr>\n",
       "\t<tr><td>0.90</td><td>Very Good</td><td>J</td><td>SI1 </td><td>63.4</td><td>54</td><td>2834</td><td>6.17</td><td>6.14</td><td>3.90</td><td>5323.818</td><td>3263.28</td></tr>\n",
       "\t<tr><td>0.75</td><td>Ideal    </td><td>J</td><td>SI1 </td><td>61.5</td><td>56</td><td>2850</td><td>5.83</td><td>5.87</td><td>3.60</td><td>5323.818</td><td>3263.28</td></tr>\n",
       "\t<tr><td>0.91</td><td>Fair     </td><td>J</td><td>VS2 </td><td>64.4</td><td>62</td><td>2854</td><td>6.06</td><td>6.03</td><td>3.89</td><td>5323.818</td><td>3263.28</td></tr>\n",
       "\t<tr><td>0.91</td><td>Fair     </td><td>J</td><td>VS2 </td><td>65.4</td><td>60</td><td>2854</td><td>6.04</td><td>6.00</td><td>3.94</td><td>5323.818</td><td>3263.28</td></tr>\n",
       "\t<tr><td>0.91</td><td>Good     </td><td>J</td><td>VS2 </td><td>64.2</td><td>58</td><td>2854</td><td>6.12</td><td>6.09</td><td>3.92</td><td>5323.818</td><td>3263.28</td></tr>\n",
       "\t<tr><td>⋮</td><td>⋮</td><td>⋮</td><td>⋮</td><td>⋮</td><td>⋮</td><td>⋮</td><td>⋮</td><td>⋮</td><td>⋮</td><td>⋮</td><td>⋮</td></tr>\n",
       "\t<tr><td>0.70</td><td>Premium  </td><td>E</td><td>VS2 </td><td>62.3</td><td>59</td><td>2737</td><td>5.70</td><td>5.64</td><td>3.53</td><td>3076.752</td><td>6445.12</td></tr>\n",
       "\t<tr><td>0.70</td><td>Very Good</td><td>E</td><td>VS2 </td><td>60.5</td><td>63</td><td>2737</td><td>5.74</td><td>5.70</td><td>3.46</td><td>3076.752</td><td>6445.12</td></tr>\n",
       "\t<tr><td>0.70</td><td>Premium  </td><td>E</td><td>VS2 </td><td>62.5</td><td>59</td><td>2737</td><td>5.65</td><td>5.62</td><td>3.52</td><td>3076.752</td><td>6445.12</td></tr>\n",
       "\t<tr><td>0.57</td><td>Ideal    </td><td>E</td><td>VVS1</td><td>61.8</td><td>56</td><td>2739</td><td>5.33</td><td>5.35</td><td>3.30</td><td>3076.752</td><td>6445.12</td></tr>\n",
       "\t<tr><td>0.82</td><td>Very Good</td><td>E</td><td>SI1 </td><td>63.2</td><td>57</td><td>2741</td><td>5.92</td><td>5.97</td><td>3.76</td><td>3076.752</td><td>6445.12</td></tr>\n",
       "\t<tr><td>0.71</td><td>Premium  </td><td>E</td><td>SI1 </td><td>62.2</td><td>58</td><td>2743</td><td>5.74</td><td>5.67</td><td>3.55</td><td>3076.752</td><td>6445.12</td></tr>\n",
       "\t<tr><td>0.71</td><td>Premium  </td><td>E</td><td>SI1 </td><td>62.7</td><td>56</td><td>2743</td><td>5.71</td><td>5.64</td><td>3.56</td><td>3076.752</td><td>6445.12</td></tr>\n",
       "\t<tr><td>0.70</td><td>Ideal    </td><td>E</td><td>SI1 </td><td>61.7</td><td>55</td><td>2745</td><td>5.71</td><td>5.74</td><td>3.53</td><td>3076.752</td><td>6445.12</td></tr>\n",
       "\t<tr><td>0.51</td><td>Ideal    </td><td>E</td><td>VVS1</td><td>61.9</td><td>54</td><td>2745</td><td>5.17</td><td>5.11</td><td>3.18</td><td>3076.752</td><td>6445.12</td></tr>\n",
       "\t<tr><td>0.73</td><td>Good     </td><td>E</td><td>SI1 </td><td>57.9</td><td>55</td><td>2749</td><td>6.00</td><td>5.96</td><td>3.46</td><td>3076.752</td><td>6445.12</td></tr>\n",
       "\t<tr><td>0.56</td><td>Ideal    </td><td>E</td><td>VVS1</td><td>62.1</td><td>56</td><td>2750</td><td>5.28</td><td>5.29</td><td>3.28</td><td>3076.752</td><td>6445.12</td></tr>\n",
       "\t<tr><td>0.57</td><td>Premium  </td><td>E</td><td>VS1 </td><td>61.6</td><td>58</td><td>2753</td><td>5.36</td><td>5.33</td><td>3.29</td><td>3076.752</td><td>6445.12</td></tr>\n",
       "\t<tr><td>0.77</td><td>Very Good</td><td>E</td><td>SI2 </td><td>59.9</td><td>61</td><td>2753</td><td>5.98</td><td>6.01</td><td>3.59</td><td>3076.752</td><td>6445.12</td></tr>\n",
       "\t<tr><td>0.75</td><td>Very Good</td><td>E</td><td>SI1 </td><td>62.9</td><td>57</td><td>2753</td><td>5.79</td><td>5.84</td><td>3.66</td><td>3076.752</td><td>6445.12</td></tr>\n",
       "\t<tr><td>0.70</td><td>Premium  </td><td>E</td><td>SI1 </td><td>61.3</td><td>58</td><td>2753</td><td>5.68</td><td>5.71</td><td>3.49</td><td>3076.752</td><td>6445.12</td></tr>\n",
       "\t<tr><td>0.70</td><td>Premium  </td><td>E</td><td>SI1 </td><td>60.0</td><td>59</td><td>2753</td><td>5.75</td><td>5.79</td><td>3.46</td><td>3076.752</td><td>6445.12</td></tr>\n",
       "\t<tr><td>0.75</td><td>Very Good</td><td>E</td><td>SI1 </td><td>63.0</td><td>55</td><td>2753</td><td>5.76</td><td>5.79</td><td>3.64</td><td>3076.752</td><td>6445.12</td></tr>\n",
       "\t<tr><td>0.70</td><td>Very Good</td><td>E</td><td>SI1 </td><td>61.0</td><td>57</td><td>2753</td><td>5.68</td><td>5.73</td><td>3.48</td><td>3076.752</td><td>6445.12</td></tr>\n",
       "\t<tr><td>0.70</td><td>Very Good</td><td>E</td><td>SI1 </td><td>61.2</td><td>57</td><td>2753</td><td>5.68</td><td>5.73</td><td>3.49</td><td>3076.752</td><td>6445.12</td></tr>\n",
       "\t<tr><td>0.70</td><td>Very Good</td><td>E</td><td>SI1 </td><td>62.7</td><td>59</td><td>2753</td><td>5.63</td><td>5.67</td><td>3.54</td><td>3076.752</td><td>6445.12</td></tr>\n",
       "\t<tr><td>0.70</td><td>Premium  </td><td>E</td><td>SI1 </td><td>60.5</td><td>58</td><td>2753</td><td>5.74</td><td>5.77</td><td>3.48</td><td>3076.752</td><td>6445.12</td></tr>\n",
       "\t<tr><td>0.57</td><td>Premium  </td><td>E</td><td>IF  </td><td>59.8</td><td>60</td><td>2753</td><td>5.43</td><td>5.38</td><td>3.23</td><td>3076.752</td><td>6445.12</td></tr>\n",
       "\t<tr><td>0.77</td><td>Ideal    </td><td>E</td><td>SI2 </td><td>62.1</td><td>56</td><td>2753</td><td>5.84</td><td>5.86</td><td>3.63</td><td>3076.752</td><td>6445.12</td></tr>\n",
       "\t<tr><td>0.70</td><td>Very Good</td><td>E</td><td>VS2 </td><td>62.4</td><td>60</td><td>2755</td><td>5.57</td><td>5.61</td><td>3.49</td><td>3076.752</td><td>6445.12</td></tr>\n",
       "\t<tr><td>0.70</td><td>Very Good</td><td>E</td><td>VS2 </td><td>62.8</td><td>60</td><td>2755</td><td>5.59</td><td>5.65</td><td>3.53</td><td>3076.752</td><td>6445.12</td></tr>\n",
       "\t<tr><td>0.71</td><td>Ideal    </td><td>E</td><td>SI1 </td><td>61.9</td><td>56</td><td>2756</td><td>5.71</td><td>5.73</td><td>3.54</td><td>3076.752</td><td>6445.12</td></tr>\n",
       "\t<tr><td>0.79</td><td>Premium  </td><td>E</td><td>SI2 </td><td>61.4</td><td>58</td><td>2756</td><td>6.03</td><td>5.96</td><td>3.68</td><td>3076.752</td><td>6445.12</td></tr>\n",
       "\t<tr><td>0.71</td><td>Premium  </td><td>E</td><td>SI1 </td><td>60.5</td><td>55</td><td>2756</td><td>5.79</td><td>5.74</td><td>3.49</td><td>3076.752</td><td>6445.12</td></tr>\n",
       "\t<tr><td>0.70</td><td>Very Good</td><td>E</td><td>VS2 </td><td>60.5</td><td>59</td><td>2757</td><td>5.71</td><td>5.76</td><td>3.47</td><td>3076.752</td><td>6445.12</td></tr>\n",
       "\t<tr><td>0.70</td><td>Very Good</td><td>E</td><td>VS2 </td><td>61.2</td><td>59</td><td>2757</td><td>5.69</td><td>5.72</td><td>3.49</td><td>3076.752</td><td>6445.12</td></tr>\n",
       "</tbody>\n",
       "</table>\n"
      ],
      "text/latex": [
       "A grouped\\_df: 53940 × 12\n",
       "\\begin{tabular}{llllllllllll}\n",
       " carat & cut & color & clarity & depth & table & price & x & y & z & avgPrice & sumCarat\\\\\n",
       " <dbl> & <ord> & <ord> & <ord> & <dbl> & <dbl> & <int> & <dbl> & <dbl> & <dbl> & <dbl> & <dbl>\\\\\n",
       "\\hline\n",
       "\t 0.31 & Good      & J & SI2  & 63.3 & 58 &  335 & 4.34 & 4.35 & 2.75 & 5323.818 & 3263.28\\\\\n",
       "\t 0.24 & Very Good & J & VVS2 & 62.8 & 57 &  336 & 3.94 & 3.96 & 2.48 & 5323.818 & 3263.28\\\\\n",
       "\t 0.30 & Good      & J & SI1  & 64.0 & 55 &  339 & 4.25 & 4.28 & 2.73 & 5323.818 & 3263.28\\\\\n",
       "\t 0.23 & Ideal     & J & VS1  & 62.8 & 56 &  340 & 3.93 & 3.90 & 2.46 & 5323.818 & 3263.28\\\\\n",
       "\t 0.31 & Ideal     & J & SI2  & 62.2 & 54 &  344 & 4.35 & 4.37 & 2.71 & 5323.818 & 3263.28\\\\\n",
       "\t 0.30 & Good      & J & SI1  & 63.4 & 54 &  351 & 4.23 & 4.29 & 2.70 & 5323.818 & 3263.28\\\\\n",
       "\t 0.30 & Good      & J & SI1  & 63.8 & 56 &  351 & 4.23 & 4.26 & 2.71 & 5323.818 & 3263.28\\\\\n",
       "\t 0.30 & Very Good & J & SI1  & 62.7 & 59 &  351 & 4.21 & 4.27 & 2.66 & 5323.818 & 3263.28\\\\\n",
       "\t 0.31 & Very Good & J & SI1  & 59.4 & 62 &  353 & 4.39 & 4.43 & 2.62 & 5323.818 & 3263.28\\\\\n",
       "\t 0.31 & Very Good & J & SI1  & 58.1 & 62 &  353 & 4.44 & 4.47 & 2.59 & 5323.818 & 3263.28\\\\\n",
       "\t 0.30 & Very Good & J & VS2  & 62.2 & 57 &  357 & 4.28 & 4.30 & 2.67 & 5323.818 & 3263.28\\\\\n",
       "\t 0.33 & Ideal     & J & SI1  & 61.1 & 56 &  403 & 4.49 & 4.55 & 2.76 & 5323.818 & 3263.28\\\\\n",
       "\t 0.30 & Premium   & J & SI2  & 59.3 & 61 &  405 & 4.43 & 4.38 & 2.61 & 5323.818 & 3263.28\\\\\n",
       "\t 1.17 & Very Good & J & I1   & 60.2 & 61 & 2774 & 6.83 & 6.90 & 4.13 & 5323.818 & 3263.28\\\\\n",
       "\t 1.05 & Very Good & J & SI2  & 63.2 & 56 & 2789 & 6.49 & 6.45 & 4.09 & 5323.818 & 3263.28\\\\\n",
       "\t 1.05 & Fair      & J & SI2  & 65.8 & 59 & 2789 & 6.41 & 6.27 & 4.18 & 5323.818 & 3263.28\\\\\n",
       "\t 1.00 & Premium   & J & SI2  & 62.3 & 58 & 2801 & 6.45 & 6.34 & 3.98 & 5323.818 & 3263.28\\\\\n",
       "\t 0.93 & Premium   & J & SI2  & 61.9 & 57 & 2807 & 6.21 & 6.19 & 3.84 & 5323.818 & 3263.28\\\\\n",
       "\t 1.00 & Fair      & J & VS2  & 65.7 & 59 & 2811 & 6.14 & 6.07 & 4.01 & 5323.818 & 3263.28\\\\\n",
       "\t 0.99 & Fair      & J & SI1  & 55.0 & 61 & 2812 & 6.72 & 6.67 & 3.68 & 5323.818 & 3263.28\\\\\n",
       "\t 0.90 & Fair      & J & VS2  & 65.0 & 56 & 2815 & 6.08 & 6.04 & 3.94 & 5323.818 & 3263.28\\\\\n",
       "\t 0.90 & Ideal     & J & VS2  & 62.8 & 55 & 2817 & 6.20 & 6.16 & 3.88 & 5323.818 & 3263.28\\\\\n",
       "\t 0.90 & Good      & J & VS2  & 64.0 & 61 & 2822 & 6.04 & 6.03 & 3.86 & 5323.818 & 3263.28\\\\\n",
       "\t 1.17 & Premium   & J & I1   & 60.2 & 61 & 2825 & 6.90 & 6.83 & 4.13 & 5323.818 & 3263.28\\\\\n",
       "\t 0.90 & Good      & J & SI1  & 64.3 & 63 & 2832 & 6.05 & 6.01 & 3.88 & 5323.818 & 3263.28\\\\\n",
       "\t 0.90 & Very Good & J & SI1  & 63.4 & 54 & 2834 & 6.17 & 6.14 & 3.90 & 5323.818 & 3263.28\\\\\n",
       "\t 0.75 & Ideal     & J & SI1  & 61.5 & 56 & 2850 & 5.83 & 5.87 & 3.60 & 5323.818 & 3263.28\\\\\n",
       "\t 0.91 & Fair      & J & VS2  & 64.4 & 62 & 2854 & 6.06 & 6.03 & 3.89 & 5323.818 & 3263.28\\\\\n",
       "\t 0.91 & Fair      & J & VS2  & 65.4 & 60 & 2854 & 6.04 & 6.00 & 3.94 & 5323.818 & 3263.28\\\\\n",
       "\t 0.91 & Good      & J & VS2  & 64.2 & 58 & 2854 & 6.12 & 6.09 & 3.92 & 5323.818 & 3263.28\\\\\n",
       "\t ⋮ & ⋮ & ⋮ & ⋮ & ⋮ & ⋮ & ⋮ & ⋮ & ⋮ & ⋮ & ⋮ & ⋮\\\\\n",
       "\t 0.70 & Premium   & E & VS2  & 62.3 & 59 & 2737 & 5.70 & 5.64 & 3.53 & 3076.752 & 6445.12\\\\\n",
       "\t 0.70 & Very Good & E & VS2  & 60.5 & 63 & 2737 & 5.74 & 5.70 & 3.46 & 3076.752 & 6445.12\\\\\n",
       "\t 0.70 & Premium   & E & VS2  & 62.5 & 59 & 2737 & 5.65 & 5.62 & 3.52 & 3076.752 & 6445.12\\\\\n",
       "\t 0.57 & Ideal     & E & VVS1 & 61.8 & 56 & 2739 & 5.33 & 5.35 & 3.30 & 3076.752 & 6445.12\\\\\n",
       "\t 0.82 & Very Good & E & SI1  & 63.2 & 57 & 2741 & 5.92 & 5.97 & 3.76 & 3076.752 & 6445.12\\\\\n",
       "\t 0.71 & Premium   & E & SI1  & 62.2 & 58 & 2743 & 5.74 & 5.67 & 3.55 & 3076.752 & 6445.12\\\\\n",
       "\t 0.71 & Premium   & E & SI1  & 62.7 & 56 & 2743 & 5.71 & 5.64 & 3.56 & 3076.752 & 6445.12\\\\\n",
       "\t 0.70 & Ideal     & E & SI1  & 61.7 & 55 & 2745 & 5.71 & 5.74 & 3.53 & 3076.752 & 6445.12\\\\\n",
       "\t 0.51 & Ideal     & E & VVS1 & 61.9 & 54 & 2745 & 5.17 & 5.11 & 3.18 & 3076.752 & 6445.12\\\\\n",
       "\t 0.73 & Good      & E & SI1  & 57.9 & 55 & 2749 & 6.00 & 5.96 & 3.46 & 3076.752 & 6445.12\\\\\n",
       "\t 0.56 & Ideal     & E & VVS1 & 62.1 & 56 & 2750 & 5.28 & 5.29 & 3.28 & 3076.752 & 6445.12\\\\\n",
       "\t 0.57 & Premium   & E & VS1  & 61.6 & 58 & 2753 & 5.36 & 5.33 & 3.29 & 3076.752 & 6445.12\\\\\n",
       "\t 0.77 & Very Good & E & SI2  & 59.9 & 61 & 2753 & 5.98 & 6.01 & 3.59 & 3076.752 & 6445.12\\\\\n",
       "\t 0.75 & Very Good & E & SI1  & 62.9 & 57 & 2753 & 5.79 & 5.84 & 3.66 & 3076.752 & 6445.12\\\\\n",
       "\t 0.70 & Premium   & E & SI1  & 61.3 & 58 & 2753 & 5.68 & 5.71 & 3.49 & 3076.752 & 6445.12\\\\\n",
       "\t 0.70 & Premium   & E & SI1  & 60.0 & 59 & 2753 & 5.75 & 5.79 & 3.46 & 3076.752 & 6445.12\\\\\n",
       "\t 0.75 & Very Good & E & SI1  & 63.0 & 55 & 2753 & 5.76 & 5.79 & 3.64 & 3076.752 & 6445.12\\\\\n",
       "\t 0.70 & Very Good & E & SI1  & 61.0 & 57 & 2753 & 5.68 & 5.73 & 3.48 & 3076.752 & 6445.12\\\\\n",
       "\t 0.70 & Very Good & E & SI1  & 61.2 & 57 & 2753 & 5.68 & 5.73 & 3.49 & 3076.752 & 6445.12\\\\\n",
       "\t 0.70 & Very Good & E & SI1  & 62.7 & 59 & 2753 & 5.63 & 5.67 & 3.54 & 3076.752 & 6445.12\\\\\n",
       "\t 0.70 & Premium   & E & SI1  & 60.5 & 58 & 2753 & 5.74 & 5.77 & 3.48 & 3076.752 & 6445.12\\\\\n",
       "\t 0.57 & Premium   & E & IF   & 59.8 & 60 & 2753 & 5.43 & 5.38 & 3.23 & 3076.752 & 6445.12\\\\\n",
       "\t 0.77 & Ideal     & E & SI2  & 62.1 & 56 & 2753 & 5.84 & 5.86 & 3.63 & 3076.752 & 6445.12\\\\\n",
       "\t 0.70 & Very Good & E & VS2  & 62.4 & 60 & 2755 & 5.57 & 5.61 & 3.49 & 3076.752 & 6445.12\\\\\n",
       "\t 0.70 & Very Good & E & VS2  & 62.8 & 60 & 2755 & 5.59 & 5.65 & 3.53 & 3076.752 & 6445.12\\\\\n",
       "\t 0.71 & Ideal     & E & SI1  & 61.9 & 56 & 2756 & 5.71 & 5.73 & 3.54 & 3076.752 & 6445.12\\\\\n",
       "\t 0.79 & Premium   & E & SI2  & 61.4 & 58 & 2756 & 6.03 & 5.96 & 3.68 & 3076.752 & 6445.12\\\\\n",
       "\t 0.71 & Premium   & E & SI1  & 60.5 & 55 & 2756 & 5.79 & 5.74 & 3.49 & 3076.752 & 6445.12\\\\\n",
       "\t 0.70 & Very Good & E & VS2  & 60.5 & 59 & 2757 & 5.71 & 5.76 & 3.47 & 3076.752 & 6445.12\\\\\n",
       "\t 0.70 & Very Good & E & VS2  & 61.2 & 59 & 2757 & 5.69 & 5.72 & 3.49 & 3076.752 & 6445.12\\\\\n",
       "\\end{tabular}\n"
      ],
      "text/markdown": [
       "\n",
       "A grouped_df: 53940 × 12\n",
       "\n",
       "| carat &lt;dbl&gt; | cut &lt;ord&gt; | color &lt;ord&gt; | clarity &lt;ord&gt; | depth &lt;dbl&gt; | table &lt;dbl&gt; | price &lt;int&gt; | x &lt;dbl&gt; | y &lt;dbl&gt; | z &lt;dbl&gt; | avgPrice &lt;dbl&gt; | sumCarat &lt;dbl&gt; |\n",
       "|---|---|---|---|---|---|---|---|---|---|---|---|\n",
       "| 0.31 | Good      | J | SI2  | 63.3 | 58 |  335 | 4.34 | 4.35 | 2.75 | 5323.818 | 3263.28 |\n",
       "| 0.24 | Very Good | J | VVS2 | 62.8 | 57 |  336 | 3.94 | 3.96 | 2.48 | 5323.818 | 3263.28 |\n",
       "| 0.30 | Good      | J | SI1  | 64.0 | 55 |  339 | 4.25 | 4.28 | 2.73 | 5323.818 | 3263.28 |\n",
       "| 0.23 | Ideal     | J | VS1  | 62.8 | 56 |  340 | 3.93 | 3.90 | 2.46 | 5323.818 | 3263.28 |\n",
       "| 0.31 | Ideal     | J | SI2  | 62.2 | 54 |  344 | 4.35 | 4.37 | 2.71 | 5323.818 | 3263.28 |\n",
       "| 0.30 | Good      | J | SI1  | 63.4 | 54 |  351 | 4.23 | 4.29 | 2.70 | 5323.818 | 3263.28 |\n",
       "| 0.30 | Good      | J | SI1  | 63.8 | 56 |  351 | 4.23 | 4.26 | 2.71 | 5323.818 | 3263.28 |\n",
       "| 0.30 | Very Good | J | SI1  | 62.7 | 59 |  351 | 4.21 | 4.27 | 2.66 | 5323.818 | 3263.28 |\n",
       "| 0.31 | Very Good | J | SI1  | 59.4 | 62 |  353 | 4.39 | 4.43 | 2.62 | 5323.818 | 3263.28 |\n",
       "| 0.31 | Very Good | J | SI1  | 58.1 | 62 |  353 | 4.44 | 4.47 | 2.59 | 5323.818 | 3263.28 |\n",
       "| 0.30 | Very Good | J | VS2  | 62.2 | 57 |  357 | 4.28 | 4.30 | 2.67 | 5323.818 | 3263.28 |\n",
       "| 0.33 | Ideal     | J | SI1  | 61.1 | 56 |  403 | 4.49 | 4.55 | 2.76 | 5323.818 | 3263.28 |\n",
       "| 0.30 | Premium   | J | SI2  | 59.3 | 61 |  405 | 4.43 | 4.38 | 2.61 | 5323.818 | 3263.28 |\n",
       "| 1.17 | Very Good | J | I1   | 60.2 | 61 | 2774 | 6.83 | 6.90 | 4.13 | 5323.818 | 3263.28 |\n",
       "| 1.05 | Very Good | J | SI2  | 63.2 | 56 | 2789 | 6.49 | 6.45 | 4.09 | 5323.818 | 3263.28 |\n",
       "| 1.05 | Fair      | J | SI2  | 65.8 | 59 | 2789 | 6.41 | 6.27 | 4.18 | 5323.818 | 3263.28 |\n",
       "| 1.00 | Premium   | J | SI2  | 62.3 | 58 | 2801 | 6.45 | 6.34 | 3.98 | 5323.818 | 3263.28 |\n",
       "| 0.93 | Premium   | J | SI2  | 61.9 | 57 | 2807 | 6.21 | 6.19 | 3.84 | 5323.818 | 3263.28 |\n",
       "| 1.00 | Fair      | J | VS2  | 65.7 | 59 | 2811 | 6.14 | 6.07 | 4.01 | 5323.818 | 3263.28 |\n",
       "| 0.99 | Fair      | J | SI1  | 55.0 | 61 | 2812 | 6.72 | 6.67 | 3.68 | 5323.818 | 3263.28 |\n",
       "| 0.90 | Fair      | J | VS2  | 65.0 | 56 | 2815 | 6.08 | 6.04 | 3.94 | 5323.818 | 3263.28 |\n",
       "| 0.90 | Ideal     | J | VS2  | 62.8 | 55 | 2817 | 6.20 | 6.16 | 3.88 | 5323.818 | 3263.28 |\n",
       "| 0.90 | Good      | J | VS2  | 64.0 | 61 | 2822 | 6.04 | 6.03 | 3.86 | 5323.818 | 3263.28 |\n",
       "| 1.17 | Premium   | J | I1   | 60.2 | 61 | 2825 | 6.90 | 6.83 | 4.13 | 5323.818 | 3263.28 |\n",
       "| 0.90 | Good      | J | SI1  | 64.3 | 63 | 2832 | 6.05 | 6.01 | 3.88 | 5323.818 | 3263.28 |\n",
       "| 0.90 | Very Good | J | SI1  | 63.4 | 54 | 2834 | 6.17 | 6.14 | 3.90 | 5323.818 | 3263.28 |\n",
       "| 0.75 | Ideal     | J | SI1  | 61.5 | 56 | 2850 | 5.83 | 5.87 | 3.60 | 5323.818 | 3263.28 |\n",
       "| 0.91 | Fair      | J | VS2  | 64.4 | 62 | 2854 | 6.06 | 6.03 | 3.89 | 5323.818 | 3263.28 |\n",
       "| 0.91 | Fair      | J | VS2  | 65.4 | 60 | 2854 | 6.04 | 6.00 | 3.94 | 5323.818 | 3263.28 |\n",
       "| 0.91 | Good      | J | VS2  | 64.2 | 58 | 2854 | 6.12 | 6.09 | 3.92 | 5323.818 | 3263.28 |\n",
       "| ⋮ | ⋮ | ⋮ | ⋮ | ⋮ | ⋮ | ⋮ | ⋮ | ⋮ | ⋮ | ⋮ | ⋮ |\n",
       "| 0.70 | Premium   | E | VS2  | 62.3 | 59 | 2737 | 5.70 | 5.64 | 3.53 | 3076.752 | 6445.12 |\n",
       "| 0.70 | Very Good | E | VS2  | 60.5 | 63 | 2737 | 5.74 | 5.70 | 3.46 | 3076.752 | 6445.12 |\n",
       "| 0.70 | Premium   | E | VS2  | 62.5 | 59 | 2737 | 5.65 | 5.62 | 3.52 | 3076.752 | 6445.12 |\n",
       "| 0.57 | Ideal     | E | VVS1 | 61.8 | 56 | 2739 | 5.33 | 5.35 | 3.30 | 3076.752 | 6445.12 |\n",
       "| 0.82 | Very Good | E | SI1  | 63.2 | 57 | 2741 | 5.92 | 5.97 | 3.76 | 3076.752 | 6445.12 |\n",
       "| 0.71 | Premium   | E | SI1  | 62.2 | 58 | 2743 | 5.74 | 5.67 | 3.55 | 3076.752 | 6445.12 |\n",
       "| 0.71 | Premium   | E | SI1  | 62.7 | 56 | 2743 | 5.71 | 5.64 | 3.56 | 3076.752 | 6445.12 |\n",
       "| 0.70 | Ideal     | E | SI1  | 61.7 | 55 | 2745 | 5.71 | 5.74 | 3.53 | 3076.752 | 6445.12 |\n",
       "| 0.51 | Ideal     | E | VVS1 | 61.9 | 54 | 2745 | 5.17 | 5.11 | 3.18 | 3076.752 | 6445.12 |\n",
       "| 0.73 | Good      | E | SI1  | 57.9 | 55 | 2749 | 6.00 | 5.96 | 3.46 | 3076.752 | 6445.12 |\n",
       "| 0.56 | Ideal     | E | VVS1 | 62.1 | 56 | 2750 | 5.28 | 5.29 | 3.28 | 3076.752 | 6445.12 |\n",
       "| 0.57 | Premium   | E | VS1  | 61.6 | 58 | 2753 | 5.36 | 5.33 | 3.29 | 3076.752 | 6445.12 |\n",
       "| 0.77 | Very Good | E | SI2  | 59.9 | 61 | 2753 | 5.98 | 6.01 | 3.59 | 3076.752 | 6445.12 |\n",
       "| 0.75 | Very Good | E | SI1  | 62.9 | 57 | 2753 | 5.79 | 5.84 | 3.66 | 3076.752 | 6445.12 |\n",
       "| 0.70 | Premium   | E | SI1  | 61.3 | 58 | 2753 | 5.68 | 5.71 | 3.49 | 3076.752 | 6445.12 |\n",
       "| 0.70 | Premium   | E | SI1  | 60.0 | 59 | 2753 | 5.75 | 5.79 | 3.46 | 3076.752 | 6445.12 |\n",
       "| 0.75 | Very Good | E | SI1  | 63.0 | 55 | 2753 | 5.76 | 5.79 | 3.64 | 3076.752 | 6445.12 |\n",
       "| 0.70 | Very Good | E | SI1  | 61.0 | 57 | 2753 | 5.68 | 5.73 | 3.48 | 3076.752 | 6445.12 |\n",
       "| 0.70 | Very Good | E | SI1  | 61.2 | 57 | 2753 | 5.68 | 5.73 | 3.49 | 3076.752 | 6445.12 |\n",
       "| 0.70 | Very Good | E | SI1  | 62.7 | 59 | 2753 | 5.63 | 5.67 | 3.54 | 3076.752 | 6445.12 |\n",
       "| 0.70 | Premium   | E | SI1  | 60.5 | 58 | 2753 | 5.74 | 5.77 | 3.48 | 3076.752 | 6445.12 |\n",
       "| 0.57 | Premium   | E | IF   | 59.8 | 60 | 2753 | 5.43 | 5.38 | 3.23 | 3076.752 | 6445.12 |\n",
       "| 0.77 | Ideal     | E | SI2  | 62.1 | 56 | 2753 | 5.84 | 5.86 | 3.63 | 3076.752 | 6445.12 |\n",
       "| 0.70 | Very Good | E | VS2  | 62.4 | 60 | 2755 | 5.57 | 5.61 | 3.49 | 3076.752 | 6445.12 |\n",
       "| 0.70 | Very Good | E | VS2  | 62.8 | 60 | 2755 | 5.59 | 5.65 | 3.53 | 3076.752 | 6445.12 |\n",
       "| 0.71 | Ideal     | E | SI1  | 61.9 | 56 | 2756 | 5.71 | 5.73 | 3.54 | 3076.752 | 6445.12 |\n",
       "| 0.79 | Premium   | E | SI2  | 61.4 | 58 | 2756 | 6.03 | 5.96 | 3.68 | 3076.752 | 6445.12 |\n",
       "| 0.71 | Premium   | E | SI1  | 60.5 | 55 | 2756 | 5.79 | 5.74 | 3.49 | 3076.752 | 6445.12 |\n",
       "| 0.70 | Very Good | E | VS2  | 60.5 | 59 | 2757 | 5.71 | 5.76 | 3.47 | 3076.752 | 6445.12 |\n",
       "| 0.70 | Very Good | E | VS2  | 61.2 | 59 | 2757 | 5.69 | 5.72 | 3.49 | 3076.752 | 6445.12 |\n",
       "\n"
      ],
      "text/plain": [
       "      carat cut       color clarity depth table price x    y    z    avgPrice\n",
       "1     0.31  Good      J     SI2     63.3  58     335  4.34 4.35 2.75 5323.818\n",
       "2     0.24  Very Good J     VVS2    62.8  57     336  3.94 3.96 2.48 5323.818\n",
       "3     0.30  Good      J     SI1     64.0  55     339  4.25 4.28 2.73 5323.818\n",
       "4     0.23  Ideal     J     VS1     62.8  56     340  3.93 3.90 2.46 5323.818\n",
       "5     0.31  Ideal     J     SI2     62.2  54     344  4.35 4.37 2.71 5323.818\n",
       "6     0.30  Good      J     SI1     63.4  54     351  4.23 4.29 2.70 5323.818\n",
       "7     0.30  Good      J     SI1     63.8  56     351  4.23 4.26 2.71 5323.818\n",
       "8     0.30  Very Good J     SI1     62.7  59     351  4.21 4.27 2.66 5323.818\n",
       "9     0.31  Very Good J     SI1     59.4  62     353  4.39 4.43 2.62 5323.818\n",
       "10    0.31  Very Good J     SI1     58.1  62     353  4.44 4.47 2.59 5323.818\n",
       "11    0.30  Very Good J     VS2     62.2  57     357  4.28 4.30 2.67 5323.818\n",
       "12    0.33  Ideal     J     SI1     61.1  56     403  4.49 4.55 2.76 5323.818\n",
       "13    0.30  Premium   J     SI2     59.3  61     405  4.43 4.38 2.61 5323.818\n",
       "14    1.17  Very Good J     I1      60.2  61    2774  6.83 6.90 4.13 5323.818\n",
       "15    1.05  Very Good J     SI2     63.2  56    2789  6.49 6.45 4.09 5323.818\n",
       "16    1.05  Fair      J     SI2     65.8  59    2789  6.41 6.27 4.18 5323.818\n",
       "17    1.00  Premium   J     SI2     62.3  58    2801  6.45 6.34 3.98 5323.818\n",
       "18    0.93  Premium   J     SI2     61.9  57    2807  6.21 6.19 3.84 5323.818\n",
       "19    1.00  Fair      J     VS2     65.7  59    2811  6.14 6.07 4.01 5323.818\n",
       "20    0.99  Fair      J     SI1     55.0  61    2812  6.72 6.67 3.68 5323.818\n",
       "21    0.90  Fair      J     VS2     65.0  56    2815  6.08 6.04 3.94 5323.818\n",
       "22    0.90  Ideal     J     VS2     62.8  55    2817  6.20 6.16 3.88 5323.818\n",
       "23    0.90  Good      J     VS2     64.0  61    2822  6.04 6.03 3.86 5323.818\n",
       "24    1.17  Premium   J     I1      60.2  61    2825  6.90 6.83 4.13 5323.818\n",
       "25    0.90  Good      J     SI1     64.3  63    2832  6.05 6.01 3.88 5323.818\n",
       "26    0.90  Very Good J     SI1     63.4  54    2834  6.17 6.14 3.90 5323.818\n",
       "27    0.75  Ideal     J     SI1     61.5  56    2850  5.83 5.87 3.60 5323.818\n",
       "28    0.91  Fair      J     VS2     64.4  62    2854  6.06 6.03 3.89 5323.818\n",
       "29    0.91  Fair      J     VS2     65.4  60    2854  6.04 6.00 3.94 5323.818\n",
       "30    0.91  Good      J     VS2     64.2  58    2854  6.12 6.09 3.92 5323.818\n",
       "⋮     ⋮     ⋮         ⋮     ⋮       ⋮     ⋮     ⋮     ⋮    ⋮    ⋮    ⋮       \n",
       "53911 0.70  Premium   E     VS2     62.3  59    2737  5.70 5.64 3.53 3076.752\n",
       "53912 0.70  Very Good E     VS2     60.5  63    2737  5.74 5.70 3.46 3076.752\n",
       "53913 0.70  Premium   E     VS2     62.5  59    2737  5.65 5.62 3.52 3076.752\n",
       "53914 0.57  Ideal     E     VVS1    61.8  56    2739  5.33 5.35 3.30 3076.752\n",
       "53915 0.82  Very Good E     SI1     63.2  57    2741  5.92 5.97 3.76 3076.752\n",
       "53916 0.71  Premium   E     SI1     62.2  58    2743  5.74 5.67 3.55 3076.752\n",
       "53917 0.71  Premium   E     SI1     62.7  56    2743  5.71 5.64 3.56 3076.752\n",
       "53918 0.70  Ideal     E     SI1     61.7  55    2745  5.71 5.74 3.53 3076.752\n",
       "53919 0.51  Ideal     E     VVS1    61.9  54    2745  5.17 5.11 3.18 3076.752\n",
       "53920 0.73  Good      E     SI1     57.9  55    2749  6.00 5.96 3.46 3076.752\n",
       "53921 0.56  Ideal     E     VVS1    62.1  56    2750  5.28 5.29 3.28 3076.752\n",
       "53922 0.57  Premium   E     VS1     61.6  58    2753  5.36 5.33 3.29 3076.752\n",
       "53923 0.77  Very Good E     SI2     59.9  61    2753  5.98 6.01 3.59 3076.752\n",
       "53924 0.75  Very Good E     SI1     62.9  57    2753  5.79 5.84 3.66 3076.752\n",
       "53925 0.70  Premium   E     SI1     61.3  58    2753  5.68 5.71 3.49 3076.752\n",
       "53926 0.70  Premium   E     SI1     60.0  59    2753  5.75 5.79 3.46 3076.752\n",
       "53927 0.75  Very Good E     SI1     63.0  55    2753  5.76 5.79 3.64 3076.752\n",
       "53928 0.70  Very Good E     SI1     61.0  57    2753  5.68 5.73 3.48 3076.752\n",
       "53929 0.70  Very Good E     SI1     61.2  57    2753  5.68 5.73 3.49 3076.752\n",
       "53930 0.70  Very Good E     SI1     62.7  59    2753  5.63 5.67 3.54 3076.752\n",
       "53931 0.70  Premium   E     SI1     60.5  58    2753  5.74 5.77 3.48 3076.752\n",
       "53932 0.57  Premium   E     IF      59.8  60    2753  5.43 5.38 3.23 3076.752\n",
       "53933 0.77  Ideal     E     SI2     62.1  56    2753  5.84 5.86 3.63 3076.752\n",
       "53934 0.70  Very Good E     VS2     62.4  60    2755  5.57 5.61 3.49 3076.752\n",
       "53935 0.70  Very Good E     VS2     62.8  60    2755  5.59 5.65 3.53 3076.752\n",
       "53936 0.71  Ideal     E     SI1     61.9  56    2756  5.71 5.73 3.54 3076.752\n",
       "53937 0.79  Premium   E     SI2     61.4  58    2756  6.03 5.96 3.68 3076.752\n",
       "53938 0.71  Premium   E     SI1     60.5  55    2756  5.79 5.74 3.49 3076.752\n",
       "53939 0.70  Very Good E     VS2     60.5  59    2757  5.71 5.76 3.47 3076.752\n",
       "53940 0.70  Very Good E     VS2     61.2  59    2757  5.69 5.72 3.49 3076.752\n",
       "      sumCarat\n",
       "1     3263.28 \n",
       "2     3263.28 \n",
       "3     3263.28 \n",
       "4     3263.28 \n",
       "5     3263.28 \n",
       "6     3263.28 \n",
       "7     3263.28 \n",
       "8     3263.28 \n",
       "9     3263.28 \n",
       "10    3263.28 \n",
       "11    3263.28 \n",
       "12    3263.28 \n",
       "13    3263.28 \n",
       "14    3263.28 \n",
       "15    3263.28 \n",
       "16    3263.28 \n",
       "17    3263.28 \n",
       "18    3263.28 \n",
       "19    3263.28 \n",
       "20    3263.28 \n",
       "21    3263.28 \n",
       "22    3263.28 \n",
       "23    3263.28 \n",
       "24    3263.28 \n",
       "25    3263.28 \n",
       "26    3263.28 \n",
       "27    3263.28 \n",
       "28    3263.28 \n",
       "29    3263.28 \n",
       "30    3263.28 \n",
       "⋮     ⋮       \n",
       "53911 6445.12 \n",
       "53912 6445.12 \n",
       "53913 6445.12 \n",
       "53914 6445.12 \n",
       "53915 6445.12 \n",
       "53916 6445.12 \n",
       "53917 6445.12 \n",
       "53918 6445.12 \n",
       "53919 6445.12 \n",
       "53920 6445.12 \n",
       "53921 6445.12 \n",
       "53922 6445.12 \n",
       "53923 6445.12 \n",
       "53924 6445.12 \n",
       "53925 6445.12 \n",
       "53926 6445.12 \n",
       "53927 6445.12 \n",
       "53928 6445.12 \n",
       "53929 6445.12 \n",
       "53930 6445.12 \n",
       "53931 6445.12 \n",
       "53932 6445.12 \n",
       "53933 6445.12 \n",
       "53934 6445.12 \n",
       "53935 6445.12 \n",
       "53936 6445.12 \n",
       "53937 6445.12 \n",
       "53938 6445.12 \n",
       "53939 6445.12 \n",
       "53940 6445.12 "
      ]
     },
     "metadata": {},
     "output_type": "display_data"
    }
   ],
   "source": [
    "\n",
    "diamonds %>% group_by(color) %>%\n",
    "\n",
    "    mutate(avgPrice=mean(price),\n",
    "\n",
    "              sumCarat=sum(carat)) %>%\n",
    "\n",
    "    arrange(desc(avgPrice), sumCarat)\n"
   ]
  },
  {
   "cell_type": "code",
   "execution_count": null,
   "id": "85be35ad-9980-4371-a688-0c572da12ccd",
   "metadata": {},
   "outputs": [],
   "source": []
  },
  {
   "cell_type": "code",
   "execution_count": null,
   "id": "3d990fb5-9305-47b4-9cc7-b3fa36a2d006",
   "metadata": {},
   "outputs": [],
   "source": []
  },
  {
   "cell_type": "code",
   "execution_count": null,
   "id": "4f33d57d-6075-4816-a164-11d42081ead0",
   "metadata": {},
   "outputs": [],
   "source": []
  },
  {
   "cell_type": "code",
   "execution_count": null,
   "id": "da25021e-43d6-430a-a413-c71f6f6711e3",
   "metadata": {},
   "outputs": [],
   "source": []
  },
  {
   "cell_type": "code",
   "execution_count": null,
   "id": "95bc2dc4-3e95-45fa-8956-7bf1776d39e1",
   "metadata": {},
   "outputs": [],
   "source": []
  }
 ],
 "metadata": {
  "kernelspec": {
   "display_name": "R",
   "language": "R",
   "name": "ir"
  },
  "language_info": {
   "codemirror_mode": "r",
   "file_extension": ".r",
   "mimetype": "text/x-r-source",
   "name": "R",
   "pygments_lexer": "r",
   "version": "3.6.3"
  }
 },
 "nbformat": 4,
 "nbformat_minor": 5
}
