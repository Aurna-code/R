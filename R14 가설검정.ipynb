{
 "cells": [
  {
   "cell_type": "markdown",
   "id": "f3ddb15b-aa9b-4c90-aa3e-6bfcda93a94b",
   "metadata": {},
   "source": [
    "\n",
    "### 짝paired 표본을 이용한 가설검정\n",
    "\n",
    "+ 동일한 집단의 전/후 차이를 비교하기 위해 사용\n",
    "\n",
    "+ 짝paired 표본 : 동일한 모집단으로 부터 추출된 서로 연관있는 2개의 표본을 의미\n",
    "\n",
    "+ 주의점 : 짝paired 표본의 갯수는 서로 동일해야 함\n",
    "\n",
    "+ t.test(표본1, 표본2, 짝표본여부, 검정유형)"
   ]
  },
  {
   "cell_type": "code",
   "execution_count": 2,
   "id": "0232e1c3-83dc-4c69-9221-807127706397",
   "metadata": {},
   "outputs": [],
   "source": [
    "# ex) 10명 학생의 과외 받기 전/후 수학\n",
    "\n",
    "# 성적차이를 비교하시오 (유의수준 0.05)\n",
    "\n",
    "\n",
    "before <- c(16,20,21,22,23,22,27,25,27,28)\n",
    "\n",
    "after <- c(19,22,24,24,25,25,26,26,28,32)\n",
    "\n"
   ]
  },
  {
   "cell_type": "code",
   "execution_count": 6,
   "id": "eaeff992-7caf-48d4-9384-5614a864b602",
   "metadata": {},
   "outputs": [],
   "source": [
    "# 귀무가설 : 과외 전후 성적차이가 별로 없다\n",
    "# 대립가설 : 과외 전후 성적차이가 있다\n",
    "# 양측검정"
   ]
  },
  {
   "cell_type": "code",
   "execution_count": 7,
   "id": "bf6eba16-1b59-4868-8b39-517d5a20341b",
   "metadata": {},
   "outputs": [
    {
     "data": {
      "text/plain": [
       "\n",
       "\tShapiro-Wilk normality test\n",
       "\n",
       "data:  before\n",
       "W = 0.94809, p-value = 0.6459\n"
      ]
     },
     "metadata": {},
     "output_type": "display_data"
    },
    {
     "data": {
      "text/plain": [
       "\n",
       "\tShapiro-Wilk normality test\n",
       "\n",
       "data:  after\n",
       "W = 0.95546, p-value = 0.7332\n"
      ]
     },
     "metadata": {},
     "output_type": "display_data"
    }
   ],
   "source": [
    "shapiro.test(before)\n",
    "shapiro.test(after) # 둘 다 0.05 이상이므로 정규성 만족"
   ]
  },
  {
   "cell_type": "code",
   "execution_count": 8,
   "id": "e1d7861a-693f-4f2c-b6b0-be4a158cef9d",
   "metadata": {},
   "outputs": [
    {
     "data": {
      "text/plain": [
       "\n",
       "\tF test to compare two variances\n",
       "\n",
       "data:  before and after\n",
       "F = 1.1684, num df = 9, denom df = 9, p-value = 0.8205\n",
       "alternative hypothesis: true ratio of variances is not equal to 1\n",
       "95 percent confidence interval:\n",
       " 0.2902095 4.7038978\n",
       "sample estimates:\n",
       "ratio of variances \n",
       "          1.168382 \n"
      ]
     },
     "metadata": {},
     "output_type": "display_data"
    }
   ],
   "source": [
    "var.test(before, after) # 0.05 이상이므로 등분산성 만족"
   ]
  },
  {
   "cell_type": "code",
   "execution_count": 9,
   "id": "5682f111-b7c4-45c7-853d-f0700a1c3cee",
   "metadata": {},
   "outputs": [
    {
     "data": {
      "text/plain": [
       "\n",
       "\tPaired t-test\n",
       "\n",
       "data:  before and after\n",
       "t = -4.4721, df = 9, p-value = 0.00155\n",
       "alternative hypothesis: true difference in means is not equal to 0\n",
       "95 percent confidence interval:\n",
       " -3.0116674 -0.9883326\n",
       "sample estimates:\n",
       "mean of the differences \n",
       "                     -2 \n"
      ]
     },
     "metadata": {},
     "output_type": "display_data"
    }
   ],
   "source": [
    "t.test(before, after, paired=T, alternative=('two.sided'))"
   ]
  },
  {
   "cell_type": "code",
   "execution_count": 10,
   "id": "441f522b-49e4-468b-9be0-d83a00b1c9de",
   "metadata": {},
   "outputs": [],
   "source": [
    "# t통계량 -4.4721가 임계값 -2.626보다 바깥쪽에 있고, p밸류 0.00155가 유의수준 0.05보다 안에 있으므로 귀무가설 기각"
   ]
  },
  {
   "cell_type": "code",
   "execution_count": 23,
   "id": "542bd42f-e288-4a22-a0db-3b3d068bc211",
   "metadata": {},
   "outputs": [],
   "source": [
    "# ex) 상호금융회사는 부동산 가치 평가를 위해 2개의 평가회사를 고용했음\n",
    "\n",
    "# 임의로 10채의 주택을 추출해서 각 회사에 주택 가치평가 의뢰\n",
    "\n",
    "# 평가 회사별 가치 평가 차이가 있는가? 유의수준 0.05로 검정하시오  \n",
    "\n",
    "\n",
    "woori <-c(235, 210, 231, 242, 205, 230, 231, 210, 225, 249)\n",
    "\n",
    "shinhan <-c(228, 205, 219, 240, 198, 223, 227, 215, 222, 245)\n",
    "\n"
   ]
  },
  {
   "cell_type": "code",
   "execution_count": 24,
   "id": "96d41969-5b0d-48f5-9f2d-2ee94ca10621",
   "metadata": {},
   "outputs": [
    {
     "data": {
      "text/plain": [
       "\n",
       "\tShapiro-Wilk normality test\n",
       "\n",
       "data:  woori\n",
       "W = 0.9343, p-value = 0.4915\n"
      ]
     },
     "metadata": {},
     "output_type": "display_data"
    },
    {
     "data": {
      "text/plain": [
       "\n",
       "\tShapiro-Wilk normality test\n",
       "\n",
       "data:  shinhan\n",
       "W = 0.97313, p-value = 0.9183\n"
      ]
     },
     "metadata": {},
     "output_type": "display_data"
    }
   ],
   "source": [
    "shapiro.test(woori)\n",
    "shapiro.test(shinhan)"
   ]
  },
  {
   "cell_type": "code",
   "execution_count": 25,
   "id": "9ad75ae0-94ac-4c0e-a5c9-5f359fe3e24d",
   "metadata": {},
   "outputs": [
    {
     "data": {
      "text/plain": [
       "\n",
       "\tF test to compare two variances\n",
       "\n",
       "data:  woori and shinhan\n",
       "F = 1.0229, num df = 9, denom df = 9, p-value = 0.9737\n",
       "alternative hypothesis: true ratio of variances is not equal to 1\n",
       "95 percent confidence interval:\n",
       " 0.2540629 4.1180119\n",
       "sample estimates:\n",
       "ratio of variances \n",
       "          1.022856 \n"
      ]
     },
     "metadata": {},
     "output_type": "display_data"
    }
   ],
   "source": [
    "var.test(woori, shinhan)"
   ]
  },
  {
   "cell_type": "code",
   "execution_count": 26,
   "id": "2b5ab15c-58fa-460e-bb0a-b25edea886c0",
   "metadata": {},
   "outputs": [
    {
     "data": {
      "text/plain": [
       "\n",
       "\tPaired t-test\n",
       "\n",
       "data:  woori and shinhan\n",
       "t = 3.3045, df = 9, p-value = 0.009164\n",
       "alternative hypothesis: true difference in means is not equal to 0\n",
       "95 percent confidence interval:\n",
       " 1.450985 7.749015\n",
       "sample estimates:\n",
       "mean of the differences \n",
       "                    4.6 \n"
      ]
     },
     "metadata": {},
     "output_type": "display_data"
    }
   ],
   "source": [
    "t.test(woori, shinhan, paired=T, alternative=('two.sided'))"
   ]
  },
  {
   "cell_type": "code",
   "execution_count": null,
   "id": "ab798b5d-09ea-40ef-b948-74359496c85c",
   "metadata": {},
   "outputs": [],
   "source": [
    "# t통계랑 3.3045가 임계값 2.262보다 바깥에 있고 p밸류 0.009164가 유의수준 0.05보다 안에 있으므로 귀무가설 기각\n",
    "# 귀무가설 : 평가회사별 가치 차이가 없다 (기각)\n",
    "# 대립가설 : 평가회사별 가치 차이가 있다 (기각할 수 없음)"
   ]
  },
  {
   "cell_type": "code",
   "execution_count": null,
   "id": "c60d9b37-1206-4103-84f6-07d351f55c8e",
   "metadata": {},
   "outputs": [],
   "source": [
    "\n",
    "# ex) 신발 밑창 원재료에 따라 소모정도가 다른가?\n",
    "#10명의 아이들에게 A/B사 밑창재료로 만든 신발을 신기고 각각의 소모정도를 조사하였을때\n",
    "# 유의수준 5%에서 각 원재료 소모정도는 차이가 있는가를 검정하시오\n",
    "#library(MASS)\n",
    "# ?shoes"
   ]
  },
  {
   "cell_type": "code",
   "execution_count": 27,
   "id": "1d9cdc6b-ecf8-404b-9c07-1a56df3e3fb3",
   "metadata": {},
   "outputs": [],
   "source": [
    "library(MASS)"
   ]
  },
  {
   "cell_type": "code",
   "execution_count": null,
   "id": "4b15aec8-e9ee-4a84-9e40-3c879e053e59",
   "metadata": {},
   "outputs": [],
   "source": [
    "?shoes"
   ]
  },
  {
   "cell_type": "code",
   "execution_count": 29,
   "id": "e023328a-e945-4492-baff-dd287fe5b574",
   "metadata": {},
   "outputs": [
    {
     "data": {
      "text/html": [
       "<dl>\n",
       "\t<dt>$A</dt>\n",
       "\t\t<dd><style>\n",
       ".list-inline {list-style: none; margin:0; padding: 0}\n",
       ".list-inline>li {display: inline-block}\n",
       ".list-inline>li:not(:last-child)::after {content: \"\\00b7\"; padding: 0 .5ex}\n",
       "</style>\n",
       "<ol class=list-inline><li>13.2</li><li>8.2</li><li>10.9</li><li>14.3</li><li>10.7</li><li>6.6</li><li>9.5</li><li>10.8</li><li>8.8</li><li>13.3</li></ol>\n",
       "</dd>\n",
       "\t<dt>$B</dt>\n",
       "\t\t<dd><style>\n",
       ".list-inline {list-style: none; margin:0; padding: 0}\n",
       ".list-inline>li {display: inline-block}\n",
       ".list-inline>li:not(:last-child)::after {content: \"\\00b7\"; padding: 0 .5ex}\n",
       "</style>\n",
       "<ol class=list-inline><li>14</li><li>8.8</li><li>11.2</li><li>14.2</li><li>11.8</li><li>6.4</li><li>9.8</li><li>11.3</li><li>9.3</li><li>13.6</li></ol>\n",
       "</dd>\n",
       "</dl>\n"
      ],
      "text/latex": [
       "\\begin{description}\n",
       "\\item[\\$A] \\begin{enumerate*}\n",
       "\\item 13.2\n",
       "\\item 8.2\n",
       "\\item 10.9\n",
       "\\item 14.3\n",
       "\\item 10.7\n",
       "\\item 6.6\n",
       "\\item 9.5\n",
       "\\item 10.8\n",
       "\\item 8.8\n",
       "\\item 13.3\n",
       "\\end{enumerate*}\n",
       "\n",
       "\\item[\\$B] \\begin{enumerate*}\n",
       "\\item 14\n",
       "\\item 8.8\n",
       "\\item 11.2\n",
       "\\item 14.2\n",
       "\\item 11.8\n",
       "\\item 6.4\n",
       "\\item 9.8\n",
       "\\item 11.3\n",
       "\\item 9.3\n",
       "\\item 13.6\n",
       "\\end{enumerate*}\n",
       "\n",
       "\\end{description}\n"
      ],
      "text/markdown": [
       "$A\n",
       ":   1. 13.2\n",
       "2. 8.2\n",
       "3. 10.9\n",
       "4. 14.3\n",
       "5. 10.7\n",
       "6. 6.6\n",
       "7. 9.5\n",
       "8. 10.8\n",
       "9. 8.8\n",
       "10. 13.3\n",
       "\n",
       "\n",
       "\n",
       "$B\n",
       ":   1. 14\n",
       "2. 8.8\n",
       "3. 11.2\n",
       "4. 14.2\n",
       "5. 11.8\n",
       "6. 6.4\n",
       "7. 9.8\n",
       "8. 11.3\n",
       "9. 9.3\n",
       "10. 13.6\n",
       "\n",
       "\n",
       "\n",
       "\n",
       "\n"
      ],
      "text/plain": [
       "$A\n",
       " [1] 13.2  8.2 10.9 14.3 10.7  6.6  9.5 10.8  8.8 13.3\n",
       "\n",
       "$B\n",
       " [1] 14.0  8.8 11.2 14.2 11.8  6.4  9.8 11.3  9.3 13.6\n"
      ]
     },
     "metadata": {},
     "output_type": "display_data"
    }
   ],
   "source": [
    "head(shoes)"
   ]
  },
  {
   "cell_type": "code",
   "execution_count": 31,
   "id": "d62ac0e9-080e-4e41-a583-18ddd5358a03",
   "metadata": {},
   "outputs": [
    {
     "data": {
      "text/plain": [
       "\n",
       "\tShapiro-Wilk normality test\n",
       "\n",
       "data:  shoes$A\n",
       "W = 0.9624, p-value = 0.8129\n"
      ]
     },
     "metadata": {},
     "output_type": "display_data"
    }
   ],
   "source": [
    "shapiro.test(shoes$A)"
   ]
  },
  {
   "cell_type": "code",
   "execution_count": 33,
   "id": "e2c92f8a-c0d8-43e4-9c27-fa029142c4d5",
   "metadata": {},
   "outputs": [
    {
     "data": {
      "text/plain": [
       "\n",
       "\tShapiro-Wilk normality test\n",
       "\n",
       "data:  shoes$B\n",
       "W = 0.94815, p-value = 0.6467\n"
      ]
     },
     "metadata": {},
     "output_type": "display_data"
    }
   ],
   "source": [
    "shapiro.test(shoes$B)"
   ]
  },
  {
   "cell_type": "code",
   "execution_count": 35,
   "id": "f6da7a8c-81a9-4f63-9407-a11103ed5881",
   "metadata": {},
   "outputs": [
    {
     "data": {
      "text/plain": [
       "\n",
       "\tF test to compare two variances\n",
       "\n",
       "data:  shoes$A and shoes$B\n",
       "F = 0.94739, num df = 9, denom df = 9, p-value = 0.9372\n",
       "alternative hypothesis: true ratio of variances is not equal to 1\n",
       "95 percent confidence interval:\n",
       " 0.2353191 3.8142000\n",
       "sample estimates:\n",
       "ratio of variances \n",
       "         0.9473933 \n"
      ]
     },
     "metadata": {},
     "output_type": "display_data"
    }
   ],
   "source": [
    "var.test(shoes$A, shoes$B)"
   ]
  },
  {
   "cell_type": "code",
   "execution_count": 36,
   "id": "4064262c-deaf-4f2e-808b-53d41ca2d5bb",
   "metadata": {},
   "outputs": [
    {
     "data": {
      "text/plain": [
       "\n",
       "\tPaired t-test\n",
       "\n",
       "data:  shoes$A and shoes$B\n",
       "t = -3.3489, df = 9, p-value = 0.008539\n",
       "alternative hypothesis: true difference in means is not equal to 0\n",
       "95 percent confidence interval:\n",
       " -0.6869539 -0.1330461\n",
       "sample estimates:\n",
       "mean of the differences \n",
       "                  -0.41 \n"
      ]
     },
     "metadata": {},
     "output_type": "display_data"
    }
   ],
   "source": [
    "t.test(shoes$A, shoes$B, paired=T, alternatives=('two.sided'))"
   ]
  },
  {
   "cell_type": "code",
   "execution_count": null,
   "id": "e12285e4-2b92-4111-9453-0b8bad826a7e",
   "metadata": {},
   "outputs": [],
   "source": [
    "# 임계값 : 2.262\n",
    "# t < -2.262, pvalue < 0.05 귀무가설 기각\n",
    "# 신발 밑창 원재료에 따라 소모정도가 다름"
   ]
  },
  {
   "cell_type": "code",
   "execution_count": 51,
   "id": "847f6805-4206-4abf-b578-14289ebcfbb8",
   "metadata": {},
   "outputs": [
    {
     "data": {
      "text/plain": [
       "\n",
       "\tTwo Sample t-test\n",
       "\n",
       "data:  shoes$A and shoes$B\n",
       "t = -0.36891, df = 18, p-value = 0.7165\n",
       "alternative hypothesis: true difference in means is not equal to 0\n",
       "95 percent confidence interval:\n",
       " -2.744924  1.924924\n",
       "sample estimates:\n",
       "mean of x mean of y \n",
       "    10.63     11.04 \n"
      ]
     },
     "metadata": {},
     "output_type": "display_data"
    }
   ],
   "source": [
    "t.test(shoes$A, shoes$B, var.equal=T, alternatives=('two.sided'))"
   ]
  },
  {
   "cell_type": "code",
   "execution_count": null,
   "id": "b1c1a261-8adc-4c4d-8173-8e28af531556",
   "metadata": {},
   "outputs": [],
   "source": [
    "# 2.101\n",
    "# -0.36891 > - 2.101        0.7165 > 0.05\n",
    "# 귀무가설 채택"
   ]
  },
  {
   "cell_type": "code",
   "execution_count": null,
   "id": "49bc0391-1c54-4bd6-b1df-60fe956b2249",
   "metadata": {},
   "outputs": [],
   "source": []
  },
  {
   "cell_type": "code",
   "execution_count": null,
   "id": "b8f0da02-1232-48be-bdf7-f2ea38c05284",
   "metadata": {},
   "outputs": [],
   "source": [
    "# 12명의 영업사원에게 인센티브 지급 전/후 주급 증가여부 확인하려 한다\n",
    "\n",
    "# 인센티브 지급 후 주급은 증가했는지를 유의수준 0.05로 검정하시오\n",
    "\n",
    "\n",
    "bef <-c(320, 290, 421, 510, 210, 402, 625,\n",
    "\n",
    "       560, 360, 431, 506, 505)\n",
    "\n",
    "aft <- c(340, 285, 475, 510, 210, 500, 631,\n",
    "\n",
    "       560, 365, 431, 525, 619)"
   ]
  },
  {
   "cell_type": "code",
   "execution_count": 39,
   "id": "0e6e0456-7a34-43eb-88dd-1fe6156763eb",
   "metadata": {},
   "outputs": [
    {
     "data": {
      "text/plain": [
       "\n",
       "\tShapiro-Wilk normality test\n",
       "\n",
       "data:  bef\n",
       "W = 0.98183, p-value = 0.9899\n"
      ]
     },
     "metadata": {},
     "output_type": "display_data"
    },
    {
     "data": {
      "text/plain": [
       "\n",
       "\tShapiro-Wilk normality test\n",
       "\n",
       "data:  aft\n",
       "W = 0.95762, p-value = 0.7493\n"
      ]
     },
     "metadata": {},
     "output_type": "display_data"
    }
   ],
   "source": [
    "shapiro.test(bef)\n",
    "shapiro.test(aft)"
   ]
  },
  {
   "cell_type": "code",
   "execution_count": 40,
   "id": "278eb438-60b8-431b-ad86-018719cd4c9b",
   "metadata": {},
   "outputs": [
    {
     "data": {
      "text/plain": [
       "\n",
       "\tPaired t-test\n",
       "\n",
       "data:  bef and aft\n",
       "t = -2.2009, df = 11, p-value = 0.975\n",
       "alternative hypothesis: true difference in means is greater than 0\n",
       "95 percent confidence interval:\n",
       " -47.06381       Inf\n",
       "sample estimates:\n",
       "mean of the differences \n",
       "              -25.91667 \n"
      ]
     },
     "metadata": {},
     "output_type": "display_data"
    }
   ],
   "source": [
    "t.test(bef, aft, paired=T, alternative=('greater'))"
   ]
  },
  {
   "cell_type": "code",
   "execution_count": null,
   "id": "91118143-19a4-418e-8282-254fe0b6e5e3",
   "metadata": {},
   "outputs": [],
   "source": [
    "# 임계값 1.796\n",
    "# t < 1.796, pvalue > 0.05\n",
    "# 귀무가설 기각불가 "
   ]
  },
  {
   "cell_type": "code",
   "execution_count": 56,
   "id": "dda9f1a4-3dc1-4b45-bd35-4560eaceff94",
   "metadata": {},
   "outputs": [
    {
     "data": {
      "image/png": "[encoded data removed]",
      "text/plain": [
       "Plot with title “Histogram of bef”"
      ]
     },
     "metadata": {
      "image/png": {
       "height": 420,
       "width": 420
      }
     },
     "output_type": "display_data"
    },
    {
     "data": {
      "image/png": "[encoded data removed]",
      "text/plain": [
       "Plot with title “Histogram of aft”"
      ]
     },
     "metadata": {
      "image/png": {
       "height": 420,
       "width": 420
      }
     },
     "output_type": "display_data"
    }
   ],
   "source": [
    "hist(bef)\n",
    "hist(aft)"
   ]
  },
  {
   "cell_type": "code",
   "execution_count": 57,
   "id": "7a0fe10f-3b19-4a03-a888-4cc52595e068",
   "metadata": {},
   "outputs": [
    {
     "data": {
      "image/png": "[encoded data removed]",
      "text/plain": [
       "plot without title"
      ]
     },
     "metadata": {
      "image/png": {
       "height": 420,
       "width": 420
      }
     },
     "output_type": "display_data"
    }
   ],
   "source": [
    "boxplot(bef, aft)"
   ]
  },
  {
   "cell_type": "code",
   "execution_count": null,
   "id": "385c9dac-7f8b-4d9a-baa4-624a98263fef",
   "metadata": {},
   "outputs": [],
   "source": []
  },
  {
   "cell_type": "code",
   "execution_count": null,
   "id": "61a04681-322a-4310-9bf2-0d8ab618418e",
   "metadata": {},
   "outputs": [],
   "source": [
    "# t < -1.796,  p= 0.05\n",
    "# 귀무가설 기각"
   ]
  },
  {
   "cell_type": "code",
   "execution_count": 41,
   "id": "d2156488-92ba-43ae-ab59-c7c382bfc8e2",
   "metadata": {},
   "outputs": [],
   "source": [
    "# 새로운 당뇨병 치료제를 만든 제약회사에서 신약 효과를 알아보려 함. \n",
    "\n",
    "# 10명의 당뇨병 환자를 선별해서 혈당의 차이를 유의수준 5%에서 검정하시오\n",
    "\n",
    "old <-c( 51.4, 52.0, 45.5, 54.5, 52.3, 50.9, 52.7, 50.3, 53.8, 53.1)\n",
    "\n",
    "new <- c( 50.1, 51.5, 45.9, 53.1, 51.8, 50.3, 52.0, 49.9, 52.5, 53.0)\n",
    "\n"
   ]
  },
  {
   "cell_type": "code",
   "execution_count": 42,
   "id": "3954ec4b-f2df-47a9-b99a-a808fb504a7a",
   "metadata": {},
   "outputs": [
    {
     "data": {
      "text/plain": [
       "\n",
       "\tShapiro-Wilk normality test\n",
       "\n",
       "data:  old\n",
       "W = 0.85289, p-value = 0.06287\n"
      ]
     },
     "metadata": {},
     "output_type": "display_data"
    },
    {
     "data": {
      "text/plain": [
       "\n",
       "\tShapiro-Wilk normality test\n",
       "\n",
       "data:  new\n",
       "W = 0.84351, p-value = 0.04861\n"
      ]
     },
     "metadata": {},
     "output_type": "display_data"
    }
   ],
   "source": [
    "shapiro.test(old)\n",
    "shapiro.test(new)"
   ]
  },
  {
   "cell_type": "code",
   "execution_count": 46,
   "id": "168f17b2-3801-425d-8df2-209d5ebd3f61",
   "metadata": {},
   "outputs": [
    {
     "data": {
      "image/png": "[encoded data removed]",
      "text/plain": [
       "plot without title"
      ]
     },
     "metadata": {
      "image/png": {
       "height": 420,
       "width": 420
      }
     },
     "output_type": "display_data"
    }
   ],
   "source": [
    "boxplot(new, old)"
   ]
  },
  {
   "cell_type": "code",
   "execution_count": 55,
   "id": "f399546a-a0a2-4594-adfc-b231005665ce",
   "metadata": {},
   "outputs": [
    {
     "data": {
      "text/plain": [
       "\n",
       "\tPaired t-test\n",
       "\n",
       "data:  new and old\n",
       "t = -3.5507, df = 9, p-value = 0.006209\n",
       "alternative hypothesis: true difference in means is not equal to 0\n",
       "95 percent confidence interval:\n",
       " -1.0477465 -0.2322535\n",
       "sample estimates:\n",
       "mean of the differences \n",
       "                  -0.64 \n"
      ]
     },
     "metadata": {},
     "output_type": "display_data"
    }
   ],
   "source": [
    "t.test(new, old, paired=T, alternative=('two.sided'))"
   ]
  },
  {
   "cell_type": "code",
   "execution_count": null,
   "id": "019b2ca0-17e6-44b1-b07d-ff4c540cb2d2",
   "metadata": {},
   "outputs": [],
   "source": [
    "# 2.262"
   ]
  },
  {
   "cell_type": "code",
   "execution_count": null,
   "id": "6100636a-dd8d-438d-8093-6f7052d7eee4",
   "metadata": {},
   "outputs": [],
   "source": [
    "# 기각 - 혈당차이 있음"
   ]
  },
  {
   "cell_type": "code",
   "execution_count": null,
   "id": "8d9ab9cc-f50b-4943-becf-801428d2f087",
   "metadata": {},
   "outputs": [],
   "source": []
  },
  {
   "cell_type": "code",
   "execution_count": 48,
   "id": "3c57e337-d1e2-4f2a-9b1c-5b7050fd72d2",
   "metadata": {},
   "outputs": [],
   "source": [
    "# 정부에서는 범죄율을 줄이기 위한 프로그램에 막대한 예산을 지급하고 있음. \n",
    "\n",
    "# 각 지역에 프로그램 시행 전/후 범죄율이 다음과 같이 조사하였을때\n",
    "\n",
    "# 유의수준 0.01로 범죄수가 감소했는지 검정하시오\n",
    "\n",
    "form <- c( 14, 7, 4, 5, 17, 12, 8, 9)\n",
    "\n",
    "late <-c( 2, 7, 3, 6, 8, 13, 3, 5)"
   ]
  },
  {
   "cell_type": "code",
   "execution_count": 49,
   "id": "5ab7d405-b937-47a1-a25d-322b8588a648",
   "metadata": {},
   "outputs": [
    {
     "data": {
      "text/plain": [
       "\n",
       "\tShapiro-Wilk normality test\n",
       "\n",
       "data:  form\n",
       "W = 0.9549, p-value = 0.7603\n"
      ]
     },
     "metadata": {},
     "output_type": "display_data"
    },
    {
     "data": {
      "text/plain": [
       "\n",
       "\tShapiro-Wilk normality test\n",
       "\n",
       "data:  late\n",
       "W = 0.9102, p-value = 0.3555\n"
      ]
     },
     "metadata": {},
     "output_type": "display_data"
    }
   ],
   "source": [
    "shapiro.test(form)\n",
    "shapiro.test(late)"
   ]
  },
  {
   "cell_type": "code",
   "execution_count": 50,
   "id": "05e4e617-6e06-4e36-a15a-ec69ca2b87e1",
   "metadata": {},
   "outputs": [
    {
     "data": {
      "text/plain": [
       "\n",
       "\tPaired t-test\n",
       "\n",
       "data:  form and late\n",
       "t = 2.1191, df = 7, p-value = 0.9641\n",
       "alternative hypothesis: true difference in means is less than 0\n",
       "95 percent confidence interval:\n",
       "    -Inf 6.86597\n",
       "sample estimates:\n",
       "mean of the differences \n",
       "                  3.625 \n"
      ]
     },
     "metadata": {},
     "output_type": "display_data"
    }
   ],
   "source": [
    "t.test(form, late, paired=T, alternative=('less'))"
   ]
  },
  {
   "cell_type": "code",
   "execution_count": null,
   "id": "2e2a2ed6-f200-4e31-a09e-1653b395abae",
   "metadata": {},
   "outputs": [],
   "source": [
    "# 임계값 : 2.998\n",
    "# T < 임계값, pvalue > 유의수준\n",
    "# 귀무가설 채택"
   ]
  },
  {
   "cell_type": "code",
   "execution_count": null,
   "id": "4adbd527-ba79-4127-a1ce-e9859322e243",
   "metadata": {},
   "outputs": [],
   "source": []
  }
 ],
 "metadata": {
  "kernelspec": {
   "display_name": "R",
   "language": "R",
   "name": "ir"
  },
  "language_info": {
   "codemirror_mode": "r",
   "file_extension": ".r",
   "mimetype": "text/x-r-source",
   "name": "R",
   "pygments_lexer": "r",
   "version": "3.6.3"
  }
 },
 "nbformat": 4,
 "nbformat_minor": 5
}
