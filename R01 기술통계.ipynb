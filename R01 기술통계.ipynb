{
 "cells": [
  {
   "cell_type": "markdown",
   "id": "aa985e4d-9527-4923-9f42-4bf963b62214",
   "metadata": {},
   "source": [
    "## 통계\n",
    "### 1. 기술통계학\n",
    "    * 분석하고자 하는 집단과 관련해 조사나 실험의 결과로 얻는 자료 또는 이의 요약된 형태를 의미\n",
    "    * 통계학 : 좀더 효과적인 의사결정을 할 수 있도록 수치자료를 수집/정리, 표현, 분석하는 학문\n",
    "    * 통계는 항상 반례 가능성을 가지고 있음\n",
    "    * 관련 통계 분야 : 사회과학통계, 자연과학통계, 수학학통계"
   ]
  },
  {
   "cell_type": "markdown",
   "id": "b812fafa-21ab-4f31-a9df-ddb002e60f26",
   "metadata": {},
   "source": [
    "## 통계학의 유형\n",
    "### 2. 추론통계학\n",
    "* 예측 중심 통계 (중요도높음)\n",
    "* 수집된 데이터를 바탕으로 예측하는 통계기법\n",
    "* 관측된 자료를 이용해서 모집단 특성 추측\n",
    "    + 모수통계 \n",
    "        - 빈도분석\n",
    "        - 상관분석\n",
    "        - 세 집단이상 평균분석\n",
    "        - 회귀분석(!!!)\n",
    "    +비모수통계\n",
    "        - 적합도검증\n",
    "        - 변수간 상관분석"
   ]
  },
  {
   "cell_type": "markdown",
   "id": "3f6b33dd-7721-427b-b4e5-e161690a5174",
   "metadata": {},
   "source": [
    "## 자료의 종류\n",
    "### 질적자료 : 문자로 표현된 자료\n",
    "  + 명목자료 : 일반적인 범주형 데이터\n",
    "      - 남,여\n",
    "  + 순서자료 : 순서의 의미가 포함된 데이터\n",
    "     - 초등학교,중학교,고등학교,대학교\n"
   ]
  },
  {
   "cell_type": "markdown",
   "id": "43e3212f-8678-48b6-9427-f9c7b11124eb",
   "metadata": {},
   "source": [
    "## 양적자료 : 숫자로 표현된 자료\n",
    "  + 이산형 : 셈이 가능한 양적자료, 정수형데이터\n",
    "  + 연속형 : 셈이 불가능한 양적자료, 실수형 데이터\n",
    "  + 구간자료 : 양적자료를 구간별로 나누어 명목/순서의 의미를 포함시킨 데이터\n",
    "     - 수,우,미,양,가\n",
    "  + 비율자료 : 양적자료를 구간별로 나누어 서열/비율(산술)의 의미를 포함시킨 데이터\n",
    "     - 몸무게, 시간, 키 "
   ]
  },
  {
   "cell_type": "markdown",
   "id": "d3fe8170-b5da-48ed-af08-2d6027aa8098",
   "metadata": {},
   "source": [
    "## 데이터를 이해하는 마음가짐\n",
    "\n",
    "### 데이터가 숲이라고 가정한다면\n",
    "\n",
    "* 처음부터 숲의 나무를 보고 자세히 관찰한다기 보다는 개략적으로 숲의 모양을 보고 특징을 파악하고 나무를 관찰할 것!\n",
    "* 데이터도 이런식의 접근방식을 사용해야 함"
   ]
  },
  {
   "cell_type": "markdown",
   "id": "2dea7954-b5a6-438e-b006-07904444eba4",
   "metadata": {},
   "source": [
    "## 데이터의 특징이란\n",
    "\n",
    "* 말로 표현하기 보다는 숫자로 표현하여야 하고 주로 평균,편차 등등을 활용하는데\n",
    "* 이렇게 숫자로 데이터의 특징을 표현하는 과정을 \"요약summary\" 이라함"
   ]
  },
  {
   "cell_type": "markdown",
   "id": "73594deb-3083-4470-8eee-445112aba45f",
   "metadata": {},
   "source": [
    "## 데이터 분석 순서\n",
    "\n",
    "* 데이터를 처음 만나면 요약을 먼저 하고 데이터의 특징을 파악해서\n",
    "* 어떤 차이가 있는지 알아낸 다음 데이터 분석방향을 설정할 것!"
   ]
  },
  {
   "cell_type": "markdown",
   "id": "237b3dff-ed4b-4492-9779-95cf1f72f4bd",
   "metadata": {},
   "source": [
    "## 기술통계 분석관점\n",
    "1. 중심화 경향\n",
    "+ 수집한 데이터 전체를 대표하는 값이 무엇인지 나타내는 통계(대표값)\n",
    "    * 평균:\n",
    "    * 중앙값\n",
    "    * 최빈값\n",
    "2. 분산화 경향\n",
    "+ 데이터가 어떻게 분포되어 있는지 설명하는 통계치\n",
    "    * 범위\n",
    "    * 표준편차\n",
    "    * 분산\n",
    "    * 사분위수"
   ]
  },
  {
   "cell_type": "markdown",
   "id": "259f8c9b-91bf-4336-9797-ef66c99fea94",
   "metadata": {},
   "source": [
    "## 대표값\n",
    "### 평균 : 중심척도의 대표적인 통계값\n",
    "+ ** 정량적 자료의 대표값 **\n",
    "+ 평균은 유일하다\n",
    "+ 평균은 계산하기 쉽다\n",
    "+ 모든 측정값을 반영한다\n",
    "+ 단, 평균은 특이값(이상치)에 영향을 받는다\n",
    "## $ \\bar x = \\frac {\\Sigma x} {n} $"
   ]
  },
  {
   "cell_type": "markdown",
   "id": "39a0f79b-8534-4b43-b433-61a18954c1b1",
   "metadata": {},
   "source": [
    "## 중앙값(median)\n",
    "* 오름차순으로 나열된 자료 중 가운데 수\n",
    "* 평균에서 특이값의 영향을 보완한 수치\n",
    "* 자료 수가 짝수인 경우와 홀수인 경우 계산방법이 다름\n",
    "    + 데이터 개수 $n$이 홀수라면 $(n+1)/2$번째 데이터가 중앙값\n",
    "    + 데이터 개수 $n$이 짝수라면 $n \\over 2$번째 데이터와 $ {n \\over2} + 1$번째 데이터의 평균이 중앙값"
   ]
  },
  {
   "cell_type": "markdown",
   "id": "448c937a-e0a3-4781-a676-c028e58ce910",
   "metadata": {},
   "source": [
    "## 최빈값\n",
    "+ 명목자료의 대표값\n",
    "+ 데이터들 중에서 도수가 가장 큰 값(들)\n",
    "+ 두번 이상 발생하는 자료 중에서 자주 나타나는 자료값\n",
    "+ 극단값에 전혀 영향을 받지 않음\n",
    "+ 존재하지 않거나 여러개 존재할 수 있음\n",
    "+ R에서는 최빈값 기본함수가 없음"
   ]
  },
  {
   "cell_type": "markdown",
   "id": "38771a9c-484d-4c04-9d3b-e47a653d6367",
   "metadata": {},
   "source": [
    "### R의 1차원 배열 : vector\n",
    "### c(값, 값, 값)\n"
   ]
  },
  {
   "cell_type": "markdown",
   "id": "c661c4fd-95e7-492b-a34e-b3af086e319c",
   "metadata": {},
   "source": [
    "### 총합 : sum(벡터), 백터의 요소 개수 : length"
   ]
  },
  {
   "cell_type": "code",
   "execution_count": 14,
   "id": "bace2c42-ab75-43fb-a306-087297ba1782",
   "metadata": {},
   "outputs": [],
   "source": [
    "num1 <- c(1,2,3,4,5,6,7,8,9,10)"
   ]
  },
  {
   "cell_type": "code",
   "execution_count": 15,
   "id": "6aab0436-0988-4752-9c52-b203fbc827f2",
   "metadata": {},
   "outputs": [
    {
     "data": {
      "text/html": [
       "5.5"
      ],
      "text/latex": [
       "5.5"
      ],
      "text/markdown": [
       "5.5"
      ],
      "text/plain": [
       "[1] 5.5"
      ]
     },
     "metadata": {},
     "output_type": "display_data"
    }
   ],
   "source": [
    "mean1 <- sum(num1) / 10\n",
    "mean1"
   ]
  },
  {
   "cell_type": "code",
   "execution_count": 16,
   "id": "a91209fa-f2bc-4d93-ad0a-8ff76c9fb989",
   "metadata": {},
   "outputs": [
    {
     "data": {
      "text/html": [
       "5.5"
      ],
      "text/latex": [
       "5.5"
      ],
      "text/markdown": [
       "5.5"
      ],
      "text/plain": [
       "[1] 5.5"
      ]
     },
     "metadata": {},
     "output_type": "display_data"
    }
   ],
   "source": [
    "mean1 <- sum(num1) / length(num1)\n",
    "mean1"
   ]
  },
  {
   "cell_type": "markdown",
   "id": "9fcab6d8-32fd-4a13-812f-76dbeb64548b",
   "metadata": {},
   "source": [
    "### 평균 계산 : mean(벡터)"
   ]
  },
  {
   "cell_type": "code",
   "execution_count": 17,
   "id": "2ff93851-ba7c-4b66-b203-8dc509d10504",
   "metadata": {},
   "outputs": [
    {
     "data": {
      "text/html": [
       "46.037037037037"
      ],
      "text/latex": [
       "46.037037037037"
      ],
      "text/markdown": [
       "46.037037037037"
      ],
      "text/plain": [
       "[1] 46.03704"
      ]
     },
     "metadata": {},
     "output_type": "display_data"
    },
    {
     "data": {
      "text/html": [
       "46.04"
      ],
      "text/latex": [
       "46.04"
      ],
      "text/markdown": [
       "46.04"
      ],
      "text/plain": [
       "[1] 46.04"
      ]
     },
     "metadata": {},
     "output_type": "display_data"
    }
   ],
   "source": [
    "life1 <- c(73,62,45,53,38,16,51,28,37,30,56,30,33,56,66,54,40,33,59,36,82,48,44,22,32,67,52)\n",
    "lifemean <- sum(life1) / length(life1)\n",
    "lifemean\n",
    "round(lifemean, 2)"
   ]
  },
  {
   "cell_type": "markdown",
   "id": "1c04212f-306d-4779-9ecd-ad32ab96d300",
   "metadata": {},
   "source": [
    "## 외부 파일 읽기 : read.csv(경로, 옵션)"
   ]
  },
  {
   "cell_type": "code",
   "execution_count": 18,
   "id": "c9222be0-e6e0-4ccd-ae4a-cf98a81dc44d",
   "metadata": {},
   "outputs": [],
   "source": [
    "exams <- read.csv('exams.csv')"
   ]
  },
  {
   "cell_type": "markdown",
   "id": "524aa659-32e6-49f2-a754-1c938ff6a1dd",
   "metadata": {},
   "source": [
    "### 데이터 구조 : str(객체명) (structure)"
   ]
  },
  {
   "cell_type": "code",
   "execution_count": 19,
   "id": "71cc5fd9-606b-443a-86f8-651f4679bd8d",
   "metadata": {},
   "outputs": [
    {
     "name": "stdout",
     "output_type": "stream",
     "text": [
      "'data.frame':\t50 obs. of  3 variables:\n",
      " $ student.number: int  1 2 3 4 5 6 7 8 9 10 ...\n",
      " $ english       : int  42 69 56 41 57 48 65 49 65 58 ...\n",
      " $ mathematics   : int  65 80 63 63 76 60 81 66 78 82 ...\n"
     ]
    }
   ],
   "source": [
    "str(exams)"
   ]
  },
  {
   "cell_type": "markdown",
   "id": "b374ee81-c3ff-428a-ab87-b8d83aaf2164",
   "metadata": {},
   "source": [
    "### 데이터 요약 : summary(객체명)"
   ]
  },
  {
   "cell_type": "code",
   "execution_count": 22,
   "id": "fee87827-7d70-4ed8-8aaf-51f988b4a34c",
   "metadata": {},
   "outputs": [
    {
     "data": {
      "text/plain": [
       " student.number     english       mathematics   \n",
       " Min.   : 1.00   Min.   :37.00   Min.   :57.00  \n",
       " 1st Qu.:13.25   1st Qu.:54.00   1st Qu.:76.00  \n",
       " Median :25.50   Median :57.50   Median :80.00  \n",
       " Mean   :25.50   Mean   :58.38   Mean   :78.88  \n",
       " 3rd Qu.:37.75   3rd Qu.:65.00   3rd Qu.:84.00  \n",
       " Max.   :50.00   Max.   :79.00   Max.   :94.00  "
      ]
     },
     "metadata": {},
     "output_type": "display_data"
    }
   ],
   "source": [
    "summary(exams)"
   ]
  },
  {
   "cell_type": "markdown",
   "id": "9f50b5fd-d689-4a03-b269-44b1f8cb90f8",
   "metadata": {},
   "source": [
    "### 각 과목들 평균\n",
    "* 변수지정 : 객체명$변수명"
   ]
  },
  {
   "cell_type": "code",
   "execution_count": 23,
   "id": "05ad926e-2451-4fc8-adde-87d4c5d127f9",
   "metadata": {},
   "outputs": [
    {
     "data": {
      "text/html": [
       "58.38"
      ],
      "text/latex": [
       "58.38"
      ],
      "text/markdown": [
       "58.38"
      ],
      "text/plain": [
       "[1] 58.38"
      ]
     },
     "metadata": {},
     "output_type": "display_data"
    },
    {
     "data": {
      "text/html": [
       "78.88"
      ],
      "text/latex": [
       "78.88"
      ],
      "text/markdown": [
       "78.88"
      ],
      "text/plain": [
       "[1] 78.88"
      ]
     },
     "metadata": {},
     "output_type": "display_data"
    }
   ],
   "source": [
    "mean(exams$english)\n",
    "mean(exams$mathematics)"
   ]
  },
  {
   "cell_type": "markdown",
   "id": "92c24315-d488-4c57-9ce4-16e53e8f6c33",
   "metadata": {},
   "source": [
    "### R 맛보기 - 벡터와 시각화"
   ]
  },
  {
   "cell_type": "markdown",
   "id": "4a5f5f1d-3075-45d8-a416-b1d87ec55029",
   "metadata": {},
   "source": [
    "#### 신생와 월별 몸무게 변화 추이"
   ]
  },
  {
   "cell_type": "code",
   "execution_count": 50,
   "id": "32f9d9d5-8803-4e0d-8b71-a2c0a79feb21",
   "metadata": {},
   "outputs": [],
   "source": [
    "age <- c(01, 03, 05, 02, 11, 09, 03, 09, 12, 03)\n",
    "Weight <- c(4.4, 5.3, 7.2, 5.2, 8.5, 7.3, 6.0, 10.4, 10.2, 6.1)"
   ]
  },
  {
   "cell_type": "code",
   "execution_count": 26,
   "id": "4bc51a30-72c8-45c3-bdf7-c058a4821cb2",
   "metadata": {},
   "outputs": [
    {
     "data": {
      "text/html": [
       "7.06"
      ],
      "text/latex": [
       "7.06"
      ],
      "text/markdown": [
       "7.06"
      ],
      "text/plain": [
       "[1] 7.06"
      ]
     },
     "metadata": {},
     "output_type": "display_data"
    }
   ],
   "source": [
    "mean(Weight)"
   ]
  },
  {
   "cell_type": "markdown",
   "id": "453f40bb-26c1-40ca-9528-f8ad858a429f",
   "metadata": {},
   "source": [
    "#### 시각화"
   ]
  },
  {
   "cell_type": "code",
   "execution_count": 28,
   "id": "6227632e-2a9d-4fa2-8a9c-25a92db98941",
   "metadata": {},
   "outputs": [
    {
     "data": {
      "image/png": "[encoded data removed]",
      "text/plain": [
       "plot without title"
      ]
     },
     "metadata": {
      "image/png": {
       "height": 420,
       "width": 420
      }
     },
     "output_type": "display_data"
    }
   ],
   "source": [
    "plot(x=age, y=Weight)\n"
   ]
  },
  {
   "cell_type": "markdown",
   "id": "36c08475-7741-4ba0-abc5-3b4013d5104d",
   "metadata": {},
   "source": [
    "### 회귀분석 : lm"
   ]
  },
  {
   "cell_type": "code",
   "execution_count": 29,
   "id": "325ad22b-cb81-47a1-9ae0-129f8336025c",
   "metadata": {},
   "outputs": [
    {
     "data": {
      "image/png": "[encoded data removed]",
      "text/plain": [
       "plot without title"
      ]
     },
     "metadata": {
      "image/png": {
       "height": 420,
       "width": 420
      }
     },
     "output_type": "display_data"
    }
   ],
   "source": [
    "plot(age, Weight)\n",
    "m <- lm(Weight~age)\n",
    "abline(m, col='red')"
   ]
  },
  {
   "cell_type": "markdown",
   "id": "3b16e664-4585-40ec-8636-2fe3cca06758",
   "metadata": {},
   "source": [
    "#### 매니저 평점 분석 데이터"
   ]
  },
  {
   "cell_type": "code",
   "execution_count": 55,
   "id": "6d79085e-4117-479d-b414-c37a399a3f42",
   "metadata": {},
   "outputs": [],
   "source": [
    "manager <- c(1, 2, 3, 4, 5)\n",
    "date <- c('10/24/14', '10/28/14', '10/01/14', '10/12/14', '05/01/14')\n",
    "mgrage <- c(32, 45, 25, 39, 99)\n",
    "q1 <- c(5, 3, 3, 3, 2)\n",
    "q2 <- c(4, 5, 5, 3, 2)\n",
    "q3 <- c(5, 2, 5, 4, 1)\n",
    "q4 <- c(5, 5, 5, NA, 2)\n",
    "q5 <- c(5, 5, 2, NA, 1)"
   ]
  },
  {
   "cell_type": "code",
   "execution_count": 44,
   "id": "bfbeed3d-9e47-4bf3-baf2-8fda271d6ba8",
   "metadata": {},
   "outputs": [],
   "source": [
    "country <- c('US', 'US', 'UK', 'UK', 'UK')"
   ]
  },
  {
   "cell_type": "code",
   "execution_count": 43,
   "id": "d360636b-2111-4e52-9fa3-6370983352c8",
   "metadata": {},
   "outputs": [],
   "source": [
    "gender <- c('M', 'F', 'F', 'M', 'F')"
   ]
  },
  {
   "cell_type": "markdown",
   "id": "0878cfe4-0df8-4fb4-911e-ad3896d2a5e9",
   "metadata": {},
   "source": [
    "### 명목형 변수 기술통계 - 빈도"
   ]
  },
  {
   "cell_type": "code",
   "execution_count": 48,
   "id": "239fcddb-6bcb-4bf0-af1b-1f1d734b2f08",
   "metadata": {},
   "outputs": [
    {
     "data": {
      "text/plain": [
       "country\n",
       "UK US \n",
       " 3  2 "
      ]
     },
     "metadata": {},
     "output_type": "display_data"
    },
    {
     "data": {
      "text/plain": [
       "gender\n",
       "F M \n",
       "3 2 "
      ]
     },
     "metadata": {},
     "output_type": "display_data"
    }
   ],
   "source": [
    "table(country)\n",
    "table(gender)"
   ]
  },
  {
   "cell_type": "markdown",
   "id": "b9c6887c-57ed-4162-9d3e-b071e357163e",
   "metadata": {},
   "source": [
    "### 연속형 변수 기술통계 - 평균"
   ]
  },
  {
   "cell_type": "code",
   "execution_count": 52,
   "id": "1fc03714-f49a-4a43-bada-ded1b793bc06",
   "metadata": {},
   "outputs": [
    {
     "data": {
      "text/html": [
       "48"
      ],
      "text/latex": [
       "48"
      ],
      "text/markdown": [
       "48"
      ],
      "text/plain": [
       "[1] 48"
      ]
     },
     "metadata": {},
     "output_type": "display_data"
    },
    {
     "data": {
      "text/html": [
       "3.2"
      ],
      "text/latex": [
       "3.2"
      ],
      "text/markdown": [
       "3.2"
      ],
      "text/plain": [
       "[1] 3.2"
      ]
     },
     "metadata": {},
     "output_type": "display_data"
    }
   ],
   "source": [
    "mean(mgrage)\n",
    "mean(q1)"
   ]
  },
  {
   "cell_type": "code",
   "execution_count": 56,
   "id": "d37ec51b-b2c2-4432-9a5c-24ab167cd6cc",
   "metadata": {},
   "outputs": [
    {
     "data": {
      "text/html": [
       "&lt;NA&gt;"
      ],
      "text/latex": [
       "<NA>"
      ],
      "text/markdown": [
       "&lt;NA&gt;"
      ],
      "text/plain": [
       "[1] NA"
      ]
     },
     "metadata": {},
     "output_type": "display_data"
    }
   ],
   "source": [
    "mean(q4)  # 결측치가 포함된 벡터에 통계함수 적용 : NA"
   ]
  },
  {
   "cell_type": "code",
   "execution_count": 58,
   "id": "fe69e440-eccc-47db-9dbf-1d966d7a641c",
   "metadata": {},
   "outputs": [
    {
     "data": {
      "text/html": [
       "4.25"
      ],
      "text/latex": [
       "4.25"
      ],
      "text/markdown": [
       "4.25"
      ],
      "text/plain": [
       "[1] 4.25"
      ]
     },
     "metadata": {},
     "output_type": "display_data"
    }
   ],
   "source": [
    "mean(q4, na.rm=TRUE)  # 결측치 제외 후 평균계산"
   ]
  },
  {
   "cell_type": "markdown",
   "id": "88e49806-e470-4376-a6fc-49845da10b62",
   "metadata": {},
   "source": []
  },
  {
   "cell_type": "markdown",
   "id": "4b2c70ff-7dd4-4725-8c9f-c6a37d590adf",
   "metadata": {},
   "source": [
    "#### 조선 왕들의 수명 중앙값"
   ]
  },
  {
   "cell_type": "code",
   "execution_count": 59,
   "id": "151f21b3-ca37-4561-81be-bba2d81f868d",
   "metadata": {},
   "outputs": [
    {
     "data": {
      "text/html": [
       "45"
      ],
      "text/latex": [
       "45"
      ],
      "text/markdown": [
       "45"
      ],
      "text/plain": [
       "[1] 45"
      ]
     },
     "metadata": {},
     "output_type": "display_data"
    }
   ],
   "source": [
    "median(life1)"
   ]
  },
  {
   "cell_type": "markdown",
   "id": "f61ec5ba-118a-48c3-b3d8-15df8cbc2cda",
   "metadata": {},
   "source": [
    "#### 벡터 각 요소 정렬 : sort\n",
    "* sort(객체, decreasing)"
   ]
  },
  {
   "cell_type": "code",
   "execution_count": 60,
   "id": "b6ac9028-8c82-446b-ba54-99c8e24e0497",
   "metadata": {},
   "outputs": [
    {
     "data": {
      "text/html": [
       "<style>\n",
       ".list-inline {list-style: none; margin:0; padding: 0}\n",
       ".list-inline>li {display: inline-block}\n",
       ".list-inline>li:not(:last-child)::after {content: \"\\00b7\"; padding: 0 .5ex}\n",
       "</style>\n",
       "<ol class=list-inline><li>16</li><li>22</li><li>28</li><li>30</li><li>30</li><li>32</li><li>33</li><li>33</li><li>36</li><li>37</li><li>38</li><li>40</li><li>44</li><li>45</li><li>48</li><li>51</li><li>52</li><li>53</li><li>54</li><li>56</li><li>56</li><li>59</li><li>62</li><li>66</li><li>67</li><li>73</li><li>82</li></ol>\n"
      ],
      "text/latex": [
       "\\begin{enumerate*}\n",
       "\\item 16\n",
       "\\item 22\n",
       "\\item 28\n",
       "\\item 30\n",
       "\\item 30\n",
       "\\item 32\n",
       "\\item 33\n",
       "\\item 33\n",
       "\\item 36\n",
       "\\item 37\n",
       "\\item 38\n",
       "\\item 40\n",
       "\\item 44\n",
       "\\item 45\n",
       "\\item 48\n",
       "\\item 51\n",
       "\\item 52\n",
       "\\item 53\n",
       "\\item 54\n",
       "\\item 56\n",
       "\\item 56\n",
       "\\item 59\n",
       "\\item 62\n",
       "\\item 66\n",
       "\\item 67\n",
       "\\item 73\n",
       "\\item 82\n",
       "\\end{enumerate*}\n"
      ],
      "text/markdown": [
       "1. 16\n",
       "2. 22\n",
       "3. 28\n",
       "4. 30\n",
       "5. 30\n",
       "6. 32\n",
       "7. 33\n",
       "8. 33\n",
       "9. 36\n",
       "10. 37\n",
       "11. 38\n",
       "12. 40\n",
       "13. 44\n",
       "14. 45\n",
       "15. 48\n",
       "16. 51\n",
       "17. 52\n",
       "18. 53\n",
       "19. 54\n",
       "20. 56\n",
       "21. 56\n",
       "22. 59\n",
       "23. 62\n",
       "24. 66\n",
       "25. 67\n",
       "26. 73\n",
       "27. 82\n",
       "\n",
       "\n"
      ],
      "text/plain": [
       " [1] 16 22 28 30 30 32 33 33 36 37 38 40 44 45 48 51 52 53 54 56 56 59 62 66 67\n",
       "[26] 73 82"
      ]
     },
     "metadata": {},
     "output_type": "display_data"
    }
   ],
   "source": [
    "sort(life1)"
   ]
  },
  {
   "cell_type": "code",
   "execution_count": 61,
   "id": "5496df58-1795-4b91-985f-33f0fcb55d27",
   "metadata": {},
   "outputs": [
    {
     "data": {
      "text/html": [
       "27"
      ],
      "text/latex": [
       "27"
      ],
      "text/markdown": [
       "27"
      ],
      "text/plain": [
       "[1] 27"
      ]
     },
     "metadata": {},
     "output_type": "display_data"
    }
   ],
   "source": [
    "length(life1)"
   ]
  },
  {
   "cell_type": "code",
   "execution_count": 62,
   "id": "5bad6de8-043c-4e28-9c3b-9d8a023c649f",
   "metadata": {},
   "outputs": [
    {
     "data": {
      "text/html": [
       "<style>\n",
       ".list-inline {list-style: none; margin:0; padding: 0}\n",
       ".list-inline>li {display: inline-block}\n",
       ".list-inline>li:not(:last-child)::after {content: \"\\00b7\"; padding: 0 .5ex}\n",
       "</style>\n",
       "<ol class=list-inline><li>4.4</li><li>5.2</li><li>5.3</li><li>6</li><li>6.1</li><li>7.2</li><li>7.3</li><li>8.5</li><li>10.2</li><li>10.4</li></ol>\n"
      ],
      "text/latex": [
       "\\begin{enumerate*}\n",
       "\\item 4.4\n",
       "\\item 5.2\n",
       "\\item 5.3\n",
       "\\item 6\n",
       "\\item 6.1\n",
       "\\item 7.2\n",
       "\\item 7.3\n",
       "\\item 8.5\n",
       "\\item 10.2\n",
       "\\item 10.4\n",
       "\\end{enumerate*}\n"
      ],
      "text/markdown": [
       "1. 4.4\n",
       "2. 5.2\n",
       "3. 5.3\n",
       "4. 6\n",
       "5. 6.1\n",
       "6. 7.2\n",
       "7. 7.3\n",
       "8. 8.5\n",
       "9. 10.2\n",
       "10. 10.4\n",
       "\n",
       "\n"
      ],
      "text/plain": [
       " [1]  4.4  5.2  5.3  6.0  6.1  7.2  7.3  8.5 10.2 10.4"
      ]
     },
     "metadata": {},
     "output_type": "display_data"
    }
   ],
   "source": [
    "sort(Weight)"
   ]
  },
  {
   "cell_type": "code",
   "execution_count": 63,
   "id": "4f7c4450-2073-4a59-bc76-9d3f568f687e",
   "metadata": {},
   "outputs": [
    {
     "data": {
      "text/html": [
       "6.65"
      ],
      "text/latex": [
       "6.65"
      ],
      "text/markdown": [
       "6.65"
      ],
      "text/plain": [
       "[1] 6.65"
      ]
     },
     "metadata": {},
     "output_type": "display_data"
    }
   ],
   "source": [
    "median(Weight)"
   ]
  },
  {
   "cell_type": "code",
   "execution_count": 64,
   "id": "7de20004-b18e-48e6-bcec-b1c5c327d98e",
   "metadata": {},
   "outputs": [
    {
     "data": {
      "text/html": [
       "10"
      ],
      "text/latex": [
       "10"
      ],
      "text/markdown": [
       "10"
      ],
      "text/plain": [
       "[1] 10"
      ]
     },
     "metadata": {},
     "output_type": "display_data"
    }
   ],
   "source": [
    "length(Weight)"
   ]
  },
  {
   "cell_type": "code",
   "execution_count": 73,
   "id": "62821ec9-909e-4178-80b3-ba3da25cbb00",
   "metadata": {},
   "outputs": [
    {
     "data": {
      "text/html": [
       "6.65"
      ],
      "text/latex": [
       "6.65"
      ],
      "text/markdown": [
       "6.65"
      ],
      "text/plain": [
       "[1] 6.65"
      ]
     },
     "metadata": {},
     "output_type": "display_data"
    }
   ],
   "source": [
    "med = length(Weight)/2\n",
    "(sort(Weight)[med] + sort(Weight)[med+1])/2"
   ]
  },
  {
   "cell_type": "code",
   "execution_count": null,
   "id": "9d6c9502-a496-4d16-91c2-142240510eb3",
   "metadata": {},
   "outputs": [],
   "source": []
  },
  {
   "cell_type": "markdown",
   "id": "b49a8639-7594-4ff7-ad9c-b4c040a79352",
   "metadata": {},
   "source": [
    "#### 수식을 이용한 중앙값 계산"
   ]
  },
  {
   "cell_type": "code",
   "execution_count": 68,
   "id": "1d95d0da-91b9-4711-8396-8b27fb30003c",
   "metadata": {},
   "outputs": [
    {
     "data": {
      "text/html": [
       "27"
      ],
      "text/latex": [
       "27"
      ],
      "text/markdown": [
       "27"
      ],
      "text/plain": [
       "[1] 27"
      ]
     },
     "metadata": {},
     "output_type": "display_data"
    }
   ],
   "source": [
    "length(life1)"
   ]
  },
  {
   "cell_type": "code",
   "execution_count": 66,
   "id": "e66ef622-7693-4a4e-8b86-021f73c51b88",
   "metadata": {},
   "outputs": [],
   "source": [
    "pos = (length(life1) + 1) /2"
   ]
  },
  {
   "cell_type": "code",
   "execution_count": 67,
   "id": "15e5e76f-a76b-412a-aa71-8ddbb2bccb27",
   "metadata": {},
   "outputs": [
    {
     "data": {
      "text/html": [
       "45"
      ],
      "text/latex": [
       "45"
      ],
      "text/markdown": [
       "45"
      ],
      "text/plain": [
       "[1] 45"
      ]
     },
     "metadata": {},
     "output_type": "display_data"
    }
   ],
   "source": [
    "sort(life1)[pos]"
   ]
  },
  {
   "cell_type": "code",
   "execution_count": 69,
   "id": "b871bfa0-924c-41b6-ade7-ab0cd82c008e",
   "metadata": {},
   "outputs": [
    {
     "data": {
      "text/html": [
       "45"
      ],
      "text/latex": [
       "45"
      ],
      "text/markdown": [
       "45"
      ],
      "text/plain": [
       "[1] 45"
      ]
     },
     "metadata": {},
     "output_type": "display_data"
    }
   ],
   "source": [
    "median(life1)"
   ]
  },
  {
   "cell_type": "markdown",
   "id": "cade20b1-58a4-4266-9d53-e2b0b1f5ae91",
   "metadata": {},
   "source": [
    "### 조선 왕들의 수명 최빈값 조사"
   ]
  },
  {
   "cell_type": "code",
   "execution_count": 77,
   "id": "02406475-8041-4b3b-80b7-d0d29abd1998",
   "metadata": {},
   "outputs": [
    {
     "data": {
      "text/plain": [
       "life1\n",
       "30 33 56 16 22 28 32 36 37 38 40 44 45 48 51 52 53 54 59 62 66 67 73 82 \n",
       " 2  2  2  1  1  1  1  1  1  1  1  1  1  1  1  1  1  1  1  1  1  1  1  1 "
      ]
     },
     "metadata": {},
     "output_type": "display_data"
    }
   ],
   "source": [
    "sort(table(life1), decreasing=T)"
   ]
  },
  {
   "cell_type": "markdown",
   "id": "4c63855a-d9ad-4bc8-9440-54b443b47f01",
   "metadata": {},
   "source": [
    "#### 빈도표에서 헤더만 출력하고 싶을 때"
   ]
  },
  {
   "cell_type": "code",
   "execution_count": 80,
   "id": "c59e28a9-a81b-4754-b924-60b18506b3a8",
   "metadata": {},
   "outputs": [
    {
     "data": {
      "text/html": [
       "'30'"
      ],
      "text/latex": [
       "'30'"
      ],
      "text/markdown": [
       "'30'"
      ],
      "text/plain": [
       "[1] \"30\""
      ]
     },
     "metadata": {},
     "output_type": "display_data"
    }
   ],
   "source": [
    "names(sort(table(life1), decreasing=T))[1]"
   ]
  },
  {
   "cell_type": "markdown",
   "id": "f04fd289-9611-4aac-9bf9-7c80f593cd9e",
   "metadata": {},
   "source": [
    "### 최빈값을 구하는 사용자 정의 함수"
   ]
  },
  {
   "cell_type": "code",
   "execution_count": 83,
   "id": "aa252c13-6fad-4167-8f5d-031924202a78",
   "metadata": {},
   "outputs": [],
   "source": [
    "Modes <- function(x){\n",
    "  ux <- unique(x)\n",
    "  tab <- tabulate(match(x, ux))\n",
    "  ux[tab == max(tab)]\n",
    "}"
   ]
  },
  {
   "cell_type": "code",
   "execution_count": 84,
   "id": "64a25cf9-95d3-44f4-b21d-3256aa164c4d",
   "metadata": {},
   "outputs": [
    {
     "data": {
      "text/html": [
       "<style>\n",
       ".list-inline {list-style: none; margin:0; padding: 0}\n",
       ".list-inline>li {display: inline-block}\n",
       ".list-inline>li:not(:last-child)::after {content: \"\\00b7\"; padding: 0 .5ex}\n",
       "</style>\n",
       "<ol class=list-inline><li>30</li><li>56</li><li>33</li></ol>\n"
      ],
      "text/latex": [
       "\\begin{enumerate*}\n",
       "\\item 30\n",
       "\\item 56\n",
       "\\item 33\n",
       "\\end{enumerate*}\n"
      ],
      "text/markdown": [
       "1. 30\n",
       "2. 56\n",
       "3. 33\n",
       "\n",
       "\n"
      ],
      "text/plain": [
       "[1] 30 56 33"
      ]
     },
     "metadata": {},
     "output_type": "display_data"
    }
   ],
   "source": [
    "Modes(life1)"
   ]
  },
  {
   "cell_type": "markdown",
   "id": "bc5a3297-68c1-4aa2-a9b1-c45e517051e1",
   "metadata": {},
   "source": [
    "### 벡터에서 중복값 제외 후 객체 생성 : unique"
   ]
  },
  {
   "cell_type": "code",
   "execution_count": 86,
   "id": "2d35c7ba-8676-4881-b208-755a9b9a8064",
   "metadata": {},
   "outputs": [
    {
     "data": {
      "text/html": [
       "<style>\n",
       ".list-inline {list-style: none; margin:0; padding: 0}\n",
       ".list-inline>li {display: inline-block}\n",
       ".list-inline>li:not(:last-child)::after {content: \"\\00b7\"; padding: 0 .5ex}\n",
       "</style>\n",
       "<ol class=list-inline><li>73</li><li>62</li><li>45</li><li>53</li><li>38</li><li>16</li><li>51</li><li>28</li><li>37</li><li>30</li><li>56</li><li>33</li><li>66</li><li>54</li><li>40</li><li>59</li><li>36</li><li>82</li><li>48</li><li>44</li><li>22</li><li>32</li><li>67</li><li>52</li></ol>\n"
      ],
      "text/latex": [
       "\\begin{enumerate*}\n",
       "\\item 73\n",
       "\\item 62\n",
       "\\item 45\n",
       "\\item 53\n",
       "\\item 38\n",
       "\\item 16\n",
       "\\item 51\n",
       "\\item 28\n",
       "\\item 37\n",
       "\\item 30\n",
       "\\item 56\n",
       "\\item 33\n",
       "\\item 66\n",
       "\\item 54\n",
       "\\item 40\n",
       "\\item 59\n",
       "\\item 36\n",
       "\\item 82\n",
       "\\item 48\n",
       "\\item 44\n",
       "\\item 22\n",
       "\\item 32\n",
       "\\item 67\n",
       "\\item 52\n",
       "\\end{enumerate*}\n"
      ],
      "text/markdown": [
       "1. 73\n",
       "2. 62\n",
       "3. 45\n",
       "4. 53\n",
       "5. 38\n",
       "6. 16\n",
       "7. 51\n",
       "8. 28\n",
       "9. 37\n",
       "10. 30\n",
       "11. 56\n",
       "12. 33\n",
       "13. 66\n",
       "14. 54\n",
       "15. 40\n",
       "16. 59\n",
       "17. 36\n",
       "18. 82\n",
       "19. 48\n",
       "20. 44\n",
       "21. 22\n",
       "22. 32\n",
       "23. 67\n",
       "24. 52\n",
       "\n",
       "\n"
      ],
      "text/plain": [
       " [1] 73 62 45 53 38 16 51 28 37 30 56 33 66 54 40 59 36 82 48 44 22 32 67 52"
      ]
     },
     "metadata": {},
     "output_type": "display_data"
    }
   ],
   "source": [
    "unique(life1)"
   ]
  },
  {
   "cell_type": "markdown",
   "id": "3624a296-0237-4aec-aa15-d48d74fcdf42",
   "metadata": {},
   "source": [
    "### 특정값에 대한 빈도를 계산 : tabulate(match(객체, 값))"
   ]
  },
  {
   "cell_type": "markdown",
   "id": "5424de2d-6efa-465a-bf5d-0f59ff154708",
   "metadata": {},
   "source": [
    "#### life1의 첫번째 요소인 73이 몇번 출현하는지 조사"
   ]
  },
  {
   "cell_type": "code",
   "execution_count": 87,
   "id": "81182f9a-512d-4f13-91cc-02db5891137c",
   "metadata": {},
   "outputs": [
    {
     "data": {
      "text/html": [
       "1"
      ],
      "text/latex": [
       "1"
      ],
      "text/markdown": [
       "1"
      ],
      "text/plain": [
       "[1] 1"
      ]
     },
     "metadata": {},
     "output_type": "display_data"
    }
   ],
   "source": [
    "tabulate(match(life1, life1[1]))"
   ]
  },
  {
   "cell_type": "markdown",
   "id": "68e6cfdb-edeb-4dfa-a6e8-19658bcf8f8a",
   "metadata": {},
   "source": [
    "### 사원 데이터의 기술통계1 (대표값)"
   ]
  },
  {
   "cell_type": "code",
   "execution_count": 89,
   "id": "b58e634d-b438-48e4-86ea-fb330593f15d",
   "metadata": {},
   "outputs": [],
   "source": [
    "emp <- read.csv('employees.csv')"
   ]
  },
  {
   "cell_type": "markdown",
   "id": "aee0ce6e-0708-40da-96aa-33308287fd06",
   "metadata": {},
   "source": [
    "### 데이터 구조 파악"
   ]
  },
  {
   "cell_type": "code",
   "execution_count": 111,
   "id": "b7dfe6a7-9492-4506-a810-2a5f663d3129",
   "metadata": {},
   "outputs": [
    {
     "name": "stdout",
     "output_type": "stream",
     "text": [
      "'data.frame':\t107 obs. of  11 variables:\n",
      " $ EMPLOYEE_ID   : int  100 101 102 103 104 105 106 107 108 109 ...\n",
      " $ FIRST_NAME    : Factor w/ 91 levels \"Adam\",\"Alana\",..: 80 64 51 4 11 18 88 20 61 16 ...\n",
      " $ LAST_NAME     : Factor w/ 102 levels \"Abel\",\"Ande\",..: 50 51 20 44 24 4 74 57 38 27 ...\n",
      " $ EMAIL         : Factor w/ 107 levels \"ABANDA\",\"ABULL\",..: 90 74 61 6 11 17 104 23 73 19 ...\n",
      " $ PHONE_NUMBER  : Factor w/ 107 levels \"011.44.1343.329268\",..: 37 38 39 58 59 60 57 61 50 45 ...\n",
      " $ HIRE_DATE     : Factor w/ 98 levels \"2001-01-13\",\"2002-06-07\",..: 8 40 1 49 79 34 51 73 4 3 ...\n",
      " $ JOB_ID        : Factor w/ 19 levels \"AC_ACCOUNT\",\"AC_MGR\",..: 4 5 5 9 9 9 9 9 7 6 ...\n",
      " $ SALARY        : int  24000 17000 17000 9000 6000 4800 4800 4200 12008 9000 ...\n",
      " $ COMMISSION_PCT: num  NA NA NA NA NA NA NA NA NA NA ...\n",
      " $ MANAGER_ID    : int  NA 100 100 102 103 103 103 103 101 108 ...\n",
      " $ DEPARTMENT_ID : int  90 90 90 60 60 60 60 60 100 100 ...\n"
     ]
    }
   ],
   "source": [
    "str(emp)"
   ]
  },
  {
   "cell_type": "code",
   "execution_count": 118,
   "id": "789e84ef-97e5-4f4e-8fca-61d13cca054a",
   "metadata": {},
   "outputs": [],
   "source": [
    "emp <- read.csv('employees.csv', stringsAsFactors=F) # 데이터프레임 factor 요소 보완 - 문자형 데이터를 무조건 범주형으로 바꾸는 것을 방지"
   ]
  },
  {
   "cell_type": "code",
   "execution_count": 115,
   "id": "9e3b53fe-e9ea-473a-b9b4-4831dc53cff6",
   "metadata": {},
   "outputs": [
    {
     "name": "stdout",
     "output_type": "stream",
     "text": [
      "'data.frame':\t107 obs. of  11 variables:\n",
      " $ EMPLOYEE_ID   : int  100 101 102 103 104 105 106 107 108 109 ...\n",
      " $ FIRST_NAME    : chr  \"Steven\" \"Neena\" \"Lex\" \"Alexander\" ...\n",
      " $ LAST_NAME     : chr  \"King\" \"Kochhar\" \"De Haan\" \"Hunold\" ...\n",
      " $ EMAIL         : chr  \"SKING\" \"NKOCHHAR\" \"LDEHAAN\" \"AHUNOLD\" ...\n",
      " $ PHONE_NUMBER  : chr  \"515.123.4567\" \"515.123.4568\" \"515.123.4569\" \"590.423.4567\" ...\n",
      " $ HIRE_DATE     : chr  \"2003-06-17\" \"2005-09-21\" \"2001-01-13\" \"2006-01-03\" ...\n",
      " $ JOB_ID        : chr  \"AD_PRES\" \"AD_VP\" \"AD_VP\" \"IT_PROG\" ...\n",
      " $ SALARY        : int  24000 17000 17000 9000 6000 4800 4800 4200 12008 9000 ...\n",
      " $ COMMISSION_PCT: num  NA NA NA NA NA NA NA NA NA NA ...\n",
      " $ MANAGER_ID    : int  NA 100 100 102 103 103 103 103 101 108 ...\n",
      " $ DEPARTMENT_ID : int  90 90 90 60 60 60 60 60 100 100 ...\n"
     ]
    }
   ],
   "source": [
    "str(emp)"
   ]
  },
  {
   "cell_type": "markdown",
   "id": "29e1171b-6fe3-4f3e-a914-45c964be11eb",
   "metadata": {},
   "source": [
    "### 데이터 형식 변경 : as.~\n",
    "*  객체명$변수명 <- 형식변경"
   ]
  },
  {
   "cell_type": "markdown",
   "id": "ba706301-f26f-4b11-aec4-c1c11b1b1280",
   "metadata": {},
   "source": [
    "#### 직책, 상사번호, 부서번호 컬럼을 문자형에서 범주형으로 변경"
   ]
  },
  {
   "cell_type": "code",
   "execution_count": 120,
   "id": "0b024562-35e6-45ce-8dfe-f234773ca107",
   "metadata": {},
   "outputs": [],
   "source": [
    "emp$JOB_ID <- as.factor(emp$JOB_ID)\n",
    "emp$MANAGER_ID <- as.factor(emp$MANAGER_ID)\n",
    "emp$DEPARTMENT_ID <- as.factor(emp$DEPARTMENT_ID)"
   ]
  },
  {
   "cell_type": "code",
   "execution_count": null,
   "id": "2c3ff127-9b2a-4d34-829b-6398f4a2fec5",
   "metadata": {},
   "outputs": [],
   "source": []
  },
  {
   "cell_type": "code",
   "execution_count": 121,
   "id": "133eb697-55a5-4a02-a460-ed50a5a0113a",
   "metadata": {},
   "outputs": [
    {
     "data": {
      "text/plain": [
       "  EMPLOYEE_ID     FIRST_NAME         LAST_NAME            EMAIL          \n",
       " Min.   :100.0   Length:107         Length:107         Length:107        \n",
       " 1st Qu.:126.5   Class :character   Class :character   Class :character  \n",
       " Median :153.0   Mode  :character   Mode  :character   Mode  :character  \n",
       " Mean   :153.0                                                           \n",
       " 3rd Qu.:179.5                                                           \n",
       " Max.   :206.0                                                           \n",
       "                                                                         \n",
       " PHONE_NUMBER        HIRE_DATE                JOB_ID       SALARY     \n",
       " Length:107         Length:107         SA_REP    :30   Min.   : 2100  \n",
       " Class :character   Class :character   SH_CLERK  :20   1st Qu.: 3100  \n",
       " Mode  :character   Mode  :character   ST_CLERK  :20   Median : 6200  \n",
       "                                       FI_ACCOUNT: 5   Mean   : 6462  \n",
       "                                       IT_PROG   : 5   3rd Qu.: 8900  \n",
       "                                       PU_CLERK  : 5   Max.   :24000  \n",
       "                                       (Other)   :22                  \n",
       " COMMISSION_PCT     MANAGER_ID DEPARTMENT_ID\n",
       " Min.   :0.1000   100    :14   50     :45   \n",
       " 1st Qu.:0.1500   120    : 8   80     :34   \n",
       " Median :0.2000   121    : 8   30     : 6   \n",
       " Mean   :0.2229   122    : 8   100    : 6   \n",
       " 3rd Qu.:0.3000   123    : 8   60     : 5   \n",
       " Max.   :0.4000   (Other):60   (Other):10   \n",
       " NA's   :72       NA's   : 1   NA's   : 1   "
      ]
     },
     "metadata": {},
     "output_type": "display_data"
    }
   ],
   "source": [
    "summary(emp)"
   ]
  },
  {
   "cell_type": "code",
   "execution_count": 117,
   "id": "616ddc11-e0d9-48ce-9709-754501ee8b78",
   "metadata": {},
   "outputs": [
    {
     "data": {
      "text/html": [
       "<table class=\"dataframe\">\n",
       "<caption>A data.frame: 6 × 11</caption>\n",
       "<thead>\n",
       "\t<tr><th></th><th scope=col>EMPLOYEE_ID</th><th scope=col>FIRST_NAME</th><th scope=col>LAST_NAME</th><th scope=col>EMAIL</th><th scope=col>PHONE_NUMBER</th><th scope=col>HIRE_DATE</th><th scope=col>JOB_ID</th><th scope=col>SALARY</th><th scope=col>COMMISSION_PCT</th><th scope=col>MANAGER_ID</th><th scope=col>DEPARTMENT_ID</th></tr>\n",
       "\t<tr><th></th><th scope=col>&lt;int&gt;</th><th scope=col>&lt;chr&gt;</th><th scope=col>&lt;chr&gt;</th><th scope=col>&lt;chr&gt;</th><th scope=col>&lt;chr&gt;</th><th scope=col>&lt;chr&gt;</th><th scope=col>&lt;chr&gt;</th><th scope=col>&lt;int&gt;</th><th scope=col>&lt;dbl&gt;</th><th scope=col>&lt;int&gt;</th><th scope=col>&lt;int&gt;</th></tr>\n",
       "</thead>\n",
       "<tbody>\n",
       "\t<tr><th scope=row>1</th><td>100</td><td>Steven   </td><td>King   </td><td>SKING   </td><td>515.123.4567</td><td>2003-06-17</td><td>AD_PRES</td><td>24000</td><td>NA</td><td> NA</td><td>90</td></tr>\n",
       "\t<tr><th scope=row>2</th><td>101</td><td>Neena    </td><td>Kochhar</td><td>NKOCHHAR</td><td>515.123.4568</td><td>2005-09-21</td><td>AD_VP  </td><td>17000</td><td>NA</td><td>100</td><td>90</td></tr>\n",
       "\t<tr><th scope=row>3</th><td>102</td><td>Lex      </td><td>De Haan</td><td>LDEHAAN </td><td>515.123.4569</td><td>2001-01-13</td><td>AD_VP  </td><td>17000</td><td>NA</td><td>100</td><td>90</td></tr>\n",
       "\t<tr><th scope=row>4</th><td>103</td><td>Alexander</td><td>Hunold </td><td>AHUNOLD </td><td>590.423.4567</td><td>2006-01-03</td><td>IT_PROG</td><td> 9000</td><td>NA</td><td>102</td><td>60</td></tr>\n",
       "\t<tr><th scope=row>5</th><td>104</td><td>Bruce    </td><td>Ernst  </td><td>BERNST  </td><td>590.423.4568</td><td>2007-05-21</td><td>IT_PROG</td><td> 6000</td><td>NA</td><td>103</td><td>60</td></tr>\n",
       "\t<tr><th scope=row>6</th><td>105</td><td>David    </td><td>Austin </td><td>DAUSTIN </td><td>590.423.4569</td><td>2005-06-25</td><td>IT_PROG</td><td> 4800</td><td>NA</td><td>103</td><td>60</td></tr>\n",
       "</tbody>\n",
       "</table>\n"
      ],
      "text/latex": [
       "A data.frame: 6 × 11\n",
       "\\begin{tabular}{r|lllllllllll}\n",
       "  & EMPLOYEE\\_ID & FIRST\\_NAME & LAST\\_NAME & EMAIL & PHONE\\_NUMBER & HIRE\\_DATE & JOB\\_ID & SALARY & COMMISSION\\_PCT & MANAGER\\_ID & DEPARTMENT\\_ID\\\\\n",
       "  & <int> & <chr> & <chr> & <chr> & <chr> & <chr> & <chr> & <int> & <dbl> & <int> & <int>\\\\\n",
       "\\hline\n",
       "\t1 & 100 & Steven    & King    & SKING    & 515.123.4567 & 2003-06-17 & AD\\_PRES & 24000 & NA &  NA & 90\\\\\n",
       "\t2 & 101 & Neena     & Kochhar & NKOCHHAR & 515.123.4568 & 2005-09-21 & AD\\_VP   & 17000 & NA & 100 & 90\\\\\n",
       "\t3 & 102 & Lex       & De Haan & LDEHAAN  & 515.123.4569 & 2001-01-13 & AD\\_VP   & 17000 & NA & 100 & 90\\\\\n",
       "\t4 & 103 & Alexander & Hunold  & AHUNOLD  & 590.423.4567 & 2006-01-03 & IT\\_PROG &  9000 & NA & 102 & 60\\\\\n",
       "\t5 & 104 & Bruce     & Ernst   & BERNST   & 590.423.4568 & 2007-05-21 & IT\\_PROG &  6000 & NA & 103 & 60\\\\\n",
       "\t6 & 105 & David     & Austin  & DAUSTIN  & 590.423.4569 & 2005-06-25 & IT\\_PROG &  4800 & NA & 103 & 60\\\\\n",
       "\\end{tabular}\n"
      ],
      "text/markdown": [
       "\n",
       "A data.frame: 6 × 11\n",
       "\n",
       "| <!--/--> | EMPLOYEE_ID &lt;int&gt; | FIRST_NAME &lt;chr&gt; | LAST_NAME &lt;chr&gt; | EMAIL &lt;chr&gt; | PHONE_NUMBER &lt;chr&gt; | HIRE_DATE &lt;chr&gt; | JOB_ID &lt;chr&gt; | SALARY &lt;int&gt; | COMMISSION_PCT &lt;dbl&gt; | MANAGER_ID &lt;int&gt; | DEPARTMENT_ID &lt;int&gt; |\n",
       "|---|---|---|---|---|---|---|---|---|---|---|---|\n",
       "| 1 | 100 | Steven    | King    | SKING    | 515.123.4567 | 2003-06-17 | AD_PRES | 24000 | NA |  NA | 90 |\n",
       "| 2 | 101 | Neena     | Kochhar | NKOCHHAR | 515.123.4568 | 2005-09-21 | AD_VP   | 17000 | NA | 100 | 90 |\n",
       "| 3 | 102 | Lex       | De Haan | LDEHAAN  | 515.123.4569 | 2001-01-13 | AD_VP   | 17000 | NA | 100 | 90 |\n",
       "| 4 | 103 | Alexander | Hunold  | AHUNOLD  | 590.423.4567 | 2006-01-03 | IT_PROG |  9000 | NA | 102 | 60 |\n",
       "| 5 | 104 | Bruce     | Ernst   | BERNST   | 590.423.4568 | 2007-05-21 | IT_PROG |  6000 | NA | 103 | 60 |\n",
       "| 6 | 105 | David     | Austin  | DAUSTIN  | 590.423.4569 | 2005-06-25 | IT_PROG |  4800 | NA | 103 | 60 |\n",
       "\n"
      ],
      "text/plain": [
       "  EMPLOYEE_ID FIRST_NAME LAST_NAME EMAIL    PHONE_NUMBER HIRE_DATE  JOB_ID \n",
       "1 100         Steven     King      SKING    515.123.4567 2003-06-17 AD_PRES\n",
       "2 101         Neena      Kochhar   NKOCHHAR 515.123.4568 2005-09-21 AD_VP  \n",
       "3 102         Lex        De Haan   LDEHAAN  515.123.4569 2001-01-13 AD_VP  \n",
       "4 103         Alexander  Hunold    AHUNOLD  590.423.4567 2006-01-03 IT_PROG\n",
       "5 104         Bruce      Ernst     BERNST   590.423.4568 2007-05-21 IT_PROG\n",
       "6 105         David      Austin    DAUSTIN  590.423.4569 2005-06-25 IT_PROG\n",
       "  SALARY COMMISSION_PCT MANAGER_ID DEPARTMENT_ID\n",
       "1 24000  NA              NA        90           \n",
       "2 17000  NA             100        90           \n",
       "3 17000  NA             100        90           \n",
       "4  9000  NA             102        60           \n",
       "5  6000  NA             103        60           \n",
       "6  4800  NA             103        60           "
      ]
     },
     "metadata": {},
     "output_type": "display_data"
    }
   ],
   "source": [
    "head(emp)"
   ]
  },
  {
   "cell_type": "code",
   "execution_count": 92,
   "id": "32aa2627-20ee-4d56-87f6-497e14486e25",
   "metadata": {},
   "outputs": [
    {
     "data": {
      "text/html": [
       "6461.83177570093"
      ],
      "text/latex": [
       "6461.83177570093"
      ],
      "text/markdown": [
       "6461.83177570093"
      ],
      "text/plain": [
       "[1] 6461.832"
      ]
     },
     "metadata": {},
     "output_type": "display_data"
    }
   ],
   "source": [
    "mean(emp$SALARY)"
   ]
  },
  {
   "cell_type": "code",
   "execution_count": 93,
   "id": "3001b8ec-29b1-4281-b345-cf15b99b6904",
   "metadata": {},
   "outputs": [
    {
     "data": {
      "text/html": [
       "6200"
      ],
      "text/latex": [
       "6200"
      ],
      "text/markdown": [
       "6200"
      ],
      "text/plain": [
       "[1] 6200"
      ]
     },
     "metadata": {},
     "output_type": "display_data"
    }
   ],
   "source": [
    "median(emp$SALARY)"
   ]
  },
  {
   "cell_type": "code",
   "execution_count": 100,
   "id": "9a0a6ba0-1084-4f65-b8f9-30dbfe65557c",
   "metadata": {},
   "outputs": [
    {
     "data": {
      "text/html": [
       "107"
      ],
      "text/latex": [
       "107"
      ],
      "text/markdown": [
       "107"
      ],
      "text/plain": [
       "[1] 107"
      ]
     },
     "metadata": {},
     "output_type": "display_data"
    }
   ],
   "source": [
    "length(emp$SALARY)"
   ]
  },
  {
   "cell_type": "code",
   "execution_count": 101,
   "id": "2aca3014-3df9-4c4b-b9e1-923ad593865d",
   "metadata": {},
   "outputs": [
    {
     "data": {
      "text/html": [
       "6200"
      ],
      "text/latex": [
       "6200"
      ],
      "text/markdown": [
       "6200"
      ],
      "text/plain": [
       "[1] 6200"
      ]
     },
     "metadata": {},
     "output_type": "display_data"
    }
   ],
   "source": [
    "med1 = (length(emp$SALARY) + 1) /2\n",
    "sort(emp$SALARY)[med1]"
   ]
  },
  {
   "cell_type": "code",
   "execution_count": 98,
   "id": "aa5641f5-6f27-42e6-99c7-cba2415c7647",
   "metadata": {},
   "outputs": [],
   "source": [
    "Modes1 <- function(x) {\n",
    "    ux1 <- unique(x)\n",
    "    tab1 <- tabulate(match(x, ux1))\n",
    "    ux1[tab1 == max(tab1)]\n",
    "}"
   ]
  },
  {
   "cell_type": "code",
   "execution_count": 99,
   "id": "d42fb27e-96b5-4f6d-9d64-087a15dc8ff0",
   "metadata": {},
   "outputs": [
    {
     "data": {
      "text/html": [
       "2500"
      ],
      "text/latex": [
       "2500"
      ],
      "text/markdown": [
       "2500"
      ],
      "text/plain": [
       "[1] 2500"
      ]
     },
     "metadata": {},
     "output_type": "display_data"
    }
   ],
   "source": [
    "Modes1(emp$SALARY)"
   ]
  },
  {
   "cell_type": "code",
   "execution_count": 102,
   "id": "3e9c83bb-f110-4d9c-8821-434229c6d80f",
   "metadata": {},
   "outputs": [],
   "source": [
    "hot <- read.csv('hotdog-winners.csv')"
   ]
  },
  {
   "cell_type": "code",
   "execution_count": 126,
   "id": "a8cedcbb-5ec8-41c2-8cd2-fac324de3a1f",
   "metadata": {},
   "outputs": [],
   "source": [
    "hotdog = read.csv('hotdog-winners.csv', stringsAsFactors =F)"
   ]
  },
  {
   "cell_type": "code",
   "execution_count": 127,
   "id": "8e5490a5-b83a-494d-9ea2-5f55f25d5c8b",
   "metadata": {},
   "outputs": [
    {
     "name": "stdout",
     "output_type": "stream",
     "text": [
      "'data.frame':\t31 obs. of  5 variables:\n",
      " $ Year      : int  1980 1981 1982 1983 1984 1985 1986 1987 1988 1989 ...\n",
      " $ Winner    : chr  \"Paul Siederman & Joe Baldini\" \"Thomas DeBerry \" \"Steven Abrams \" \"Luis Llamas \" ...\n",
      " $ Dogs.eaten: num  9.1 11 11 19.5 9.5 ...\n",
      " $ Country   : chr  \"United States\" \"United States\" \"United States\" \"Mexico\" ...\n",
      " $ New.record: int  0 0 0 0 0 0 0 0 0 0 ...\n"
     ]
    }
   ],
   "source": [
    "str(hotdog)"
   ]
  },
  {
   "cell_type": "code",
   "execution_count": 128,
   "id": "216a25e1-d83f-429e-be74-75ebdc97a0a8",
   "metadata": {},
   "outputs": [
    {
     "data": {
      "text/plain": [
       "      Year         Winner            Dogs.eaten      Country         \n",
       " Min.   :1980   Length:31          Min.   : 9.10   Length:31         \n",
       " 1st Qu.:1988   Class :character   1st Qu.:14.75   Class :character  \n",
       " Median :1995   Mode  :character   Median :20.00   Mode  :character  \n",
       " Mean   :1995                      Mean   :28.99                     \n",
       " 3rd Qu.:2002                      3rd Qu.:49.50                     \n",
       " Max.   :2010                      Max.   :68.00                     \n",
       "   New.record    \n",
       " Min.   :0.0000  \n",
       " 1st Qu.:0.0000  \n",
       " Median :0.0000  \n",
       " Mean   :0.3226  \n",
       " 3rd Qu.:1.0000  \n",
       " Max.   :1.0000  "
      ]
     },
     "metadata": {},
     "output_type": "display_data"
    }
   ],
   "source": [
    "summary(hotdog)"
   ]
  },
  {
   "cell_type": "code",
   "execution_count": null,
   "id": "61335072-388a-41cf-9231-84c9c492bb98",
   "metadata": {},
   "outputs": [],
   "source": []
  },
  {
   "cell_type": "code",
   "execution_count": 103,
   "id": "1fb47d77-0ddf-4707-9921-627d3c3fe7db",
   "metadata": {},
   "outputs": [
    {
     "data": {
      "text/html": [
       "<table class=\"dataframe\">\n",
       "<caption>A data.frame: 6 × 5</caption>\n",
       "<thead>\n",
       "\t<tr><th></th><th scope=col>Year</th><th scope=col>Winner</th><th scope=col>Dogs.eaten</th><th scope=col>Country</th><th scope=col>New.record</th></tr>\n",
       "\t<tr><th></th><th scope=col>&lt;int&gt;</th><th scope=col>&lt;fct&gt;</th><th scope=col>&lt;dbl&gt;</th><th scope=col>&lt;fct&gt;</th><th scope=col>&lt;int&gt;</th></tr>\n",
       "</thead>\n",
       "<tbody>\n",
       "\t<tr><th scope=row>1</th><td>1980</td><td>Paul Siederman &amp; Joe Baldini</td><td> 9.10</td><td>United States</td><td>0</td></tr>\n",
       "\t<tr><th scope=row>2</th><td>1981</td><td>Thomas DeBerry              </td><td>11.00</td><td>United States</td><td>0</td></tr>\n",
       "\t<tr><th scope=row>3</th><td>1982</td><td>Steven Abrams               </td><td>11.00</td><td>United States</td><td>0</td></tr>\n",
       "\t<tr><th scope=row>4</th><td>1983</td><td>Luis Llamas                 </td><td>19.50</td><td>Mexico       </td><td>0</td></tr>\n",
       "\t<tr><th scope=row>5</th><td>1984</td><td>Birgit Felden               </td><td> 9.50</td><td>Germany      </td><td>0</td></tr>\n",
       "\t<tr><th scope=row>6</th><td>1985</td><td>Oscar Rodriguez             </td><td>11.75</td><td>United States</td><td>0</td></tr>\n",
       "</tbody>\n",
       "</table>\n"
      ],
      "text/latex": [
       "A data.frame: 6 × 5\n",
       "\\begin{tabular}{r|lllll}\n",
       "  & Year & Winner & Dogs.eaten & Country & New.record\\\\\n",
       "  & <int> & <fct> & <dbl> & <fct> & <int>\\\\\n",
       "\\hline\n",
       "\t1 & 1980 & Paul Siederman \\& Joe Baldini &  9.10 & United States & 0\\\\\n",
       "\t2 & 1981 & Thomas DeBerry               & 11.00 & United States & 0\\\\\n",
       "\t3 & 1982 & Steven Abrams                & 11.00 & United States & 0\\\\\n",
       "\t4 & 1983 & Luis Llamas                  & 19.50 & Mexico        & 0\\\\\n",
       "\t5 & 1984 & Birgit Felden                &  9.50 & Germany       & 0\\\\\n",
       "\t6 & 1985 & Oscar Rodriguez              & 11.75 & United States & 0\\\\\n",
       "\\end{tabular}\n"
      ],
      "text/markdown": [
       "\n",
       "A data.frame: 6 × 5\n",
       "\n",
       "| <!--/--> | Year &lt;int&gt; | Winner &lt;fct&gt; | Dogs.eaten &lt;dbl&gt; | Country &lt;fct&gt; | New.record &lt;int&gt; |\n",
       "|---|---|---|---|---|---|\n",
       "| 1 | 1980 | Paul Siederman &amp; Joe Baldini |  9.10 | United States | 0 |\n",
       "| 2 | 1981 | Thomas DeBerry               | 11.00 | United States | 0 |\n",
       "| 3 | 1982 | Steven Abrams                | 11.00 | United States | 0 |\n",
       "| 4 | 1983 | Luis Llamas                  | 19.50 | Mexico        | 0 |\n",
       "| 5 | 1984 | Birgit Felden                |  9.50 | Germany       | 0 |\n",
       "| 6 | 1985 | Oscar Rodriguez              | 11.75 | United States | 0 |\n",
       "\n"
      ],
      "text/plain": [
       "  Year Winner                       Dogs.eaten Country       New.record\n",
       "1 1980 Paul Siederman & Joe Baldini  9.10      United States 0         \n",
       "2 1981 Thomas DeBerry               11.00      United States 0         \n",
       "3 1982 Steven Abrams                11.00      United States 0         \n",
       "4 1983 Luis Llamas                  19.50      Mexico        0         \n",
       "5 1984 Birgit Felden                 9.50      Germany       0         \n",
       "6 1985 Oscar Rodriguez              11.75      United States 0         "
      ]
     },
     "metadata": {},
     "output_type": "display_data"
    }
   ],
   "source": [
    "head(hot)"
   ]
  },
  {
   "cell_type": "code",
   "execution_count": 104,
   "id": "53ef1086-2bf0-411e-b78e-62cde938156e",
   "metadata": {},
   "outputs": [
    {
     "data": {
      "text/html": [
       "28.9912903225806"
      ],
      "text/latex": [
       "28.9912903225806"
      ],
      "text/markdown": [
       "28.9912903225806"
      ],
      "text/plain": [
       "[1] 28.99129"
      ]
     },
     "metadata": {},
     "output_type": "display_data"
    }
   ],
   "source": [
    "mean(hot$Dogs.eaten)"
   ]
  },
  {
   "cell_type": "code",
   "execution_count": 106,
   "id": "ee721f42-3b3e-43da-83e7-c2113dd98dde",
   "metadata": {},
   "outputs": [
    {
     "data": {
      "text/html": [
       "20"
      ],
      "text/latex": [
       "20"
      ],
      "text/markdown": [
       "20"
      ],
      "text/plain": [
       "[1] 20"
      ]
     },
     "metadata": {},
     "output_type": "display_data"
    }
   ],
   "source": [
    "median(hot$Dogs.eaten)"
   ]
  },
  {
   "cell_type": "code",
   "execution_count": 107,
   "id": "64f574da-3a85-40d6-b060-f38a568d8d9d",
   "metadata": {},
   "outputs": [
    {
     "data": {
      "text/html": [
       "31"
      ],
      "text/latex": [
       "31"
      ],
      "text/markdown": [
       "31"
      ],
      "text/plain": [
       "[1] 31"
      ]
     },
     "metadata": {},
     "output_type": "display_data"
    }
   ],
   "source": [
    "length(hot$Dogs.eaten)"
   ]
  },
  {
   "cell_type": "code",
   "execution_count": 108,
   "id": "a9e80e57-c312-4744-b334-e49da04d59f9",
   "metadata": {},
   "outputs": [
    {
     "data": {
      "text/html": [
       "20"
      ],
      "text/latex": [
       "20"
      ],
      "text/markdown": [
       "20"
      ],
      "text/plain": [
       "[1] 20"
      ]
     },
     "metadata": {},
     "output_type": "display_data"
    }
   ],
   "source": [
    "med2 <- (length(hot$Dogs.eaten) +1) /2\n",
    "sort(hot$Dogs.eaten)[med2]"
   ]
  },
  {
   "cell_type": "code",
   "execution_count": 109,
   "id": "d5ff565f-f04f-4a4c-adaf-d01a4e302d99",
   "metadata": {},
   "outputs": [],
   "source": [
    "Modes2 <- function(x) {\n",
    "    ux2 <- unique(x)\n",
    "    tab2 <- tabulate(match(x, ux2))\n",
    "    ux2[tab2 == max(tab2)]\n",
    "}"
   ]
  },
  {
   "cell_type": "code",
   "execution_count": 110,
   "id": "4e4763c2-8584-40b6-a8ae-7d63c2b91f6a",
   "metadata": {},
   "outputs": [
    {
     "data": {
      "text/html": [
       "<style>\n",
       ".list-inline {list-style: none; margin:0; padding: 0}\n",
       ".list-inline>li {display: inline-block}\n",
       ".list-inline>li:not(:last-child)::after {content: \"\\00b7\"; padding: 0 .5ex}\n",
       "</style>\n",
       "<ol class=list-inline><li>11</li><li>19.5</li><li>19</li></ol>\n"
      ],
      "text/latex": [
       "\\begin{enumerate*}\n",
       "\\item 11\n",
       "\\item 19.5\n",
       "\\item 19\n",
       "\\end{enumerate*}\n"
      ],
      "text/markdown": [
       "1. 11\n",
       "2. 19.5\n",
       "3. 19\n",
       "\n",
       "\n"
      ],
      "text/plain": [
       "[1] 11.0 19.5 19.0"
      ]
     },
     "metadata": {},
     "output_type": "display_data"
    }
   ],
   "source": [
    "Modes2(hot$Dogs.eaten)"
   ]
  },
  {
   "cell_type": "code",
   "execution_count": 129,
   "id": "6e1cf812-372d-4bc9-a994-d5c2655d9b0c",
   "metadata": {},
   "outputs": [
    {
     "data": {
      "text/html": [
       "'United States'"
      ],
      "text/latex": [
       "'United States'"
      ],
      "text/markdown": [
       "'United States'"
      ],
      "text/plain": [
       "[1] \"United States\""
      ]
     },
     "metadata": {},
     "output_type": "display_data"
    }
   ],
   "source": [
    "Modes(hotdog$Country)"
   ]
  },
  {
   "cell_type": "code",
   "execution_count": 131,
   "id": "13df4efe-48da-453b-a80e-f255c9d9586a",
   "metadata": {},
   "outputs": [
    {
     "data": {
      "text/plain": [
       "\n",
       "United States         Japan       Germany        Mexico \n",
       "           20             9             1             1 "
      ]
     },
     "metadata": {},
     "output_type": "display_data"
    }
   ],
   "source": [
    "sort(table(hotdog$Country), decreasing = T)"
   ]
  },
  {
   "cell_type": "markdown",
   "id": "8b2bf87b-ecc9-463e-974f-1f932f09e77c",
   "metadata": {},
   "source": [
    "### 직책별 사원 현황"
   ]
  },
  {
   "cell_type": "code",
   "execution_count": 122,
   "id": "8c344413-896b-4451-83a6-41a5f38e849b",
   "metadata": {},
   "outputs": [
    {
     "data": {
      "text/plain": [
       "\n",
       "    SA_REP   SH_CLERK   ST_CLERK FI_ACCOUNT    IT_PROG   PU_CLERK     SA_MAN \n",
       "        30         20         20          5          5          5          5 \n",
       "    ST_MAN      AD_VP AC_ACCOUNT     AC_MGR    AD_ASST    AD_PRES     FI_MGR \n",
       "         5          2          1          1          1          1          1 \n",
       "    HR_REP     MK_MAN     MK_REP     PR_REP     PU_MAN \n",
       "         1          1          1          1          1 "
      ]
     },
     "metadata": {},
     "output_type": "display_data"
    }
   ],
   "source": [
    "sort(table(emp$JOB_ID), decreasing=T)"
   ]
  },
  {
   "cell_type": "markdown",
   "id": "21b3fa38-0793-4536-b394-85dea5363c87",
   "metadata": {},
   "source": [
    "### 부서별 사원 현황"
   ]
  },
  {
   "cell_type": "code",
   "execution_count": 123,
   "id": "27ccebee-5a0c-4c4e-a02d-e55c68f31abe",
   "metadata": {},
   "outputs": [
    {
     "data": {
      "text/plain": [
       "\n",
       " 50  80  30 100  60  90  20 110  10  40  70 \n",
       " 45  34   6   6   5   3   2   2   1   1   1 "
      ]
     },
     "metadata": {},
     "output_type": "display_data"
    }
   ],
   "source": [
    "sort(table(emp$DEPARTMENT_ID), decreasing=T)"
   ]
  },
  {
   "cell_type": "markdown",
   "id": "114c7b58-9deb-4dcf-b791-03a5b2b9ccc0",
   "metadata": {},
   "source": [
    "### 급여에 대한 중심화 경향 "
   ]
  },
  {
   "cell_type": "code",
   "execution_count": null,
   "id": "70ae90e1-1766-4b77-bcbc-269cbb922317",
   "metadata": {},
   "outputs": [],
   "source": []
  },
  {
   "cell_type": "code",
   "execution_count": null,
   "id": "7085e247-2c2d-43ef-a0d6-3d3f4fee446c",
   "metadata": {},
   "outputs": [],
   "source": []
  },
  {
   "cell_type": "code",
   "execution_count": null,
   "id": "70f6d299-638b-4d96-a97b-7c014216f758",
   "metadata": {},
   "outputs": [],
   "source": []
  },
  {
   "cell_type": "code",
   "execution_count": null,
   "id": "96d17506-8127-4b05-bf3a-b7376ed13cf3",
   "metadata": {},
   "outputs": [],
   "source": []
  },
  {
   "cell_type": "code",
   "execution_count": null,
   "id": "3fb77d16-29f1-4a21-a480-17d6763e2dd2",
   "metadata": {},
   "outputs": [],
   "source": []
  },
  {
   "cell_type": "code",
   "execution_count": null,
   "id": "81e1186d-482d-4645-b303-65130c6f1428",
   "metadata": {},
   "outputs": [],
   "source": []
  }
 ],
 "metadata": {
  "kernelspec": {
   "display_name": "R",
   "language": "R",
   "name": "ir"
  },
  "language_info": {
   "codemirror_mode": "r",
   "file_extension": ".r",
   "mimetype": "text/x-r-source",
   "name": "R",
   "pygments_lexer": "r",
   "version": "3.6.3"
  }
 },
 "nbformat": 4,
 "nbformat_minor": 5
}
