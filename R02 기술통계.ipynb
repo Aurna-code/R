{
 "cells": [
  {
   "cell_type": "code",
   "execution_count": null,
   "id": "b54f1b4a-c0d1-4f31-a6d7-f6eaac6b532d",
   "metadata": {},
   "outputs": [],
   "source": []
  },
  {
   "cell_type": "markdown",
   "id": "0f67ca13-58aa-49eb-8a67-ddb0bc8580b2",
   "metadata": {},
   "source": [
    "### 기술통계의 또 다른 관점 : 분산, 산포\n",
    "+ 자료의 흩어지거나 밀집되는 정도를 나타내는 정도\n",
    "+ 범위, 사분위수, 분산, 표준편차등으로 표현"
   ]
  },
  {
   "cell_type": "markdown",
   "id": "4704aa3b-0e89-4509-a280-90eedb6a0ac4",
   "metadata": {},
   "source": [
    "### 범위\n",
    "+ 수집한 자료의 가장 큰 값과 작은 값의 차이\n",
    "+ 수집한 자료가 어느정도 흩어져 있는지 살펴볼 수 있는 통계치\n",
    "+ 계산하기 쉽다\n",
    "+ 특이값에 영향을 많이 받는다\n",
    "+ 범위가 동일해도 분산정도는 크게 다를 수 있다\n",
    "> $ r = h - l $ <br>\n",
    "> $ R = x_{(n)} - x_{(1)} $"
   ]
  },
  {
   "cell_type": "markdown",
   "id": "f068419a-38e2-40e5-950a-02215cd11eb3",
   "metadata": {},
   "source": [
    "### 변동성 이해하기\n",
    "+ 값들이 얼마나 서로 다른지 여부 파악"
   ]
  },
  {
   "cell_type": "code",
   "execution_count": 1,
   "id": "8a99be23-2dac-4533-954d-ebacecdbbadc",
   "metadata": {},
   "outputs": [],
   "source": [
    "num1 <- c(7,6,3,3,1)\n",
    "num2 <- c(3,4,4,5,4)\n",
    "num3 <- c(4,4,4,4,4)"
   ]
  },
  {
   "cell_type": "markdown",
   "id": "d9a82114-49e1-4185-b25d-a4c45cb20167",
   "metadata": {},
   "source": [
    "### 형식화된 문자열 형태로 출력 : sprintf\n",
    "* sprintf(형식문자열, 변수들)"
   ]
  },
  {
   "cell_type": "code",
   "execution_count": 3,
   "id": "6f3f7192-a72d-4a86-88c4-824233074a88",
   "metadata": {},
   "outputs": [
    {
     "data": {
      "text/html": [
       "'4 4 4'"
      ],
      "text/latex": [
       "'4 4 4'"
      ],
      "text/markdown": [
       "'4 4 4'"
      ],
      "text/plain": [
       "[1] \"4 4 4\""
      ]
     },
     "metadata": {},
     "output_type": "display_data"
    }
   ],
   "source": [
    "sprintf('%d %d %d', mean(num1), mean(num2), mean(num3))"
   ]
  },
  {
   "cell_type": "code",
   "execution_count": 4,
   "id": "b9843424-c907-499c-935d-7ba58ff9ce0f",
   "metadata": {},
   "outputs": [],
   "source": [
    "kings <- c(73,62,45,53,38,16,51,28,37,30,56,30,33,56,66,54,40,33,59,36,82,48,44,22,32,67,52)"
   ]
  },
  {
   "cell_type": "code",
   "execution_count": 5,
   "id": "e4552a35-757b-43a0-8505-00521062d4f4",
   "metadata": {},
   "outputs": [
    {
     "data": {
      "text/html": [
       "<style>\n",
       ".list-inline {list-style: none; margin:0; padding: 0}\n",
       ".list-inline>li {display: inline-block}\n",
       ".list-inline>li:not(:last-child)::after {content: \"\\00b7\"; padding: 0 .5ex}\n",
       "</style>\n",
       "<ol class=list-inline><li>16</li><li>82</li></ol>\n"
      ],
      "text/latex": [
       "\\begin{enumerate*}\n",
       "\\item 16\n",
       "\\item 82\n",
       "\\end{enumerate*}\n"
      ],
      "text/markdown": [
       "1. 16\n",
       "2. 82\n",
       "\n",
       "\n"
      ],
      "text/plain": [
       "[1] 16 82"
      ]
     },
     "metadata": {},
     "output_type": "display_data"
    }
   ],
   "source": [
    "range(kings)"
   ]
  },
  {
   "cell_type": "code",
   "execution_count": 6,
   "id": "efbe11dc-3c38-433f-ab55-e6597914a70b",
   "metadata": {},
   "outputs": [
    {
     "data": {
      "text/html": [
       "66"
      ],
      "text/latex": [
       "66"
      ],
      "text/markdown": [
       "66"
      ],
      "text/plain": [
       "[1] 66"
      ]
     },
     "metadata": {},
     "output_type": "display_data"
    }
   ],
   "source": [
    "range(kings)[2] - range(kings)[1]"
   ]
  },
  {
   "cell_type": "code",
   "execution_count": 8,
   "id": "5b3e7536-e1d5-4e2d-a837-35853a3fc6a7",
   "metadata": {},
   "outputs": [
    {
     "data": {
      "text/html": [
       "66"
      ],
      "text/latex": [
       "66"
      ],
      "text/markdown": [
       "66"
      ],
      "text/plain": [
       "[1] 66"
      ]
     },
     "metadata": {},
     "output_type": "display_data"
    }
   ],
   "source": [
    "max = max(kings)\n",
    "min = min(kings)\n",
    "range = max - min\n",
    "range"
   ]
  },
  {
   "cell_type": "markdown",
   "id": "49abd0b8-34a1-446a-9915-de3e23aff3e5",
   "metadata": {},
   "source": [
    "## 분산\n",
    "* 평균을 중심으로 밀집되거나 퍼짐 정도를 나타내는 척도\n",
    "* 모분산 $ \\sigma ^2 $ : 모집단을 구성하는 모든 자료값과 모평균의 편차제곱에 대한 평균\n",
    "* 표본분산 $ s^2 $ : 표본을 구성하는 모든 자료값과 표본평균의 편차의 제곱합을 n-1로 나눈 수치\n",
    "* 편차\n",
    "> ### $ \\sum(x_{i} - \\bar {x})^2 $\n",
    "* 모분산\n",
    "> ## $ \\sum{(x_{i} - \\bar {x})^2} \\over {n} $\n",
    "* 표본분산\n",
    "* 모분산 vs 표본분산"
   ]
  },
  {
   "cell_type": "code",
   "execution_count": 10,
   "id": "f7f6f484-dda9-4797-b678-4410e4a534b1",
   "metadata": {},
   "outputs": [],
   "source": [
    "nums <- c(5, 8, 5, 4, 6, 7, 8, 8, 3, 6)"
   ]
  },
  {
   "cell_type": "code",
   "execution_count": 12,
   "id": "bba988d6-e0bb-4bb1-86b1-c78a109c1b0c",
   "metadata": {},
   "outputs": [],
   "source": [
    "m <- mean(nums) # 평균"
   ]
  },
  {
   "cell_type": "code",
   "execution_count": 13,
   "id": "31209b37-1f64-4a30-a928-aeba99cbc4f6",
   "metadata": {},
   "outputs": [
    {
     "data": {
      "text/html": [
       "6"
      ],
      "text/latex": [
       "6"
      ],
      "text/markdown": [
       "6"
      ],
      "text/plain": [
       "[1] 6"
      ]
     },
     "metadata": {},
     "output_type": "display_data"
    }
   ],
   "source": [
    "m "
   ]
  },
  {
   "cell_type": "code",
   "execution_count": 15,
   "id": "66de712d-d732-47dc-99e2-d7a91921393d",
   "metadata": {},
   "outputs": [],
   "source": [
    "devi <- (nums - m) # 편차"
   ]
  },
  {
   "cell_type": "code",
   "execution_count": 16,
   "id": "2263ade4-a299-444b-af6f-37cfd7b206db",
   "metadata": {},
   "outputs": [
    {
     "data": {
      "text/html": [
       "<style>\n",
       ".list-inline {list-style: none; margin:0; padding: 0}\n",
       ".list-inline>li {display: inline-block}\n",
       ".list-inline>li:not(:last-child)::after {content: \"\\00b7\"; padding: 0 .5ex}\n",
       "</style>\n",
       "<ol class=list-inline><li>-1</li><li>2</li><li>-1</li><li>-2</li><li>0</li><li>1</li><li>2</li><li>2</li><li>-3</li><li>0</li></ol>\n"
      ],
      "text/latex": [
       "\\begin{enumerate*}\n",
       "\\item -1\n",
       "\\item 2\n",
       "\\item -1\n",
       "\\item -2\n",
       "\\item 0\n",
       "\\item 1\n",
       "\\item 2\n",
       "\\item 2\n",
       "\\item -3\n",
       "\\item 0\n",
       "\\end{enumerate*}\n"
      ],
      "text/markdown": [
       "1. -1\n",
       "2. 2\n",
       "3. -1\n",
       "4. -2\n",
       "5. 0\n",
       "6. 1\n",
       "7. 2\n",
       "8. 2\n",
       "9. -3\n",
       "10. 0\n",
       "\n",
       "\n"
      ],
      "text/plain": [
       " [1] -1  2 -1 -2  0  1  2  2 -3  0"
      ]
     },
     "metadata": {},
     "output_type": "display_data"
    }
   ],
   "source": [
    "devi"
   ]
  },
  {
   "cell_type": "code",
   "execution_count": 17,
   "id": "9d4f458c-6573-47ad-9bdd-f494ff6d0ffb",
   "metadata": {},
   "outputs": [
    {
     "data": {
      "text/html": [
       "0"
      ],
      "text/latex": [
       "0"
      ],
      "text/markdown": [
       "0"
      ],
      "text/plain": [
       "[1] 0"
      ]
     },
     "metadata": {},
     "output_type": "display_data"
    }
   ],
   "source": [
    "sum(devi)"
   ]
  },
  {
   "cell_type": "code",
   "execution_count": 20,
   "id": "45fc60ab-625b-4173-af26-0fe87668263b",
   "metadata": {},
   "outputs": [
    {
     "data": {
      "text/html": [
       "28"
      ],
      "text/latex": [
       "28"
      ],
      "text/markdown": [
       "28"
      ],
      "text/plain": [
       "[1] 28"
      ]
     },
     "metadata": {},
     "output_type": "display_data"
    }
   ],
   "source": [
    "sum(devi^2) #편차제곱의 합"
   ]
  },
  {
   "cell_type": "code",
   "execution_count": 36,
   "id": "da524a84-7a0c-4278-9e3d-7a8951528b71",
   "metadata": {},
   "outputs": [
    {
     "data": {
      "text/html": [
       "3.11111111111111"
      ],
      "text/latex": [
       "3.11111111111111"
      ],
      "text/markdown": [
       "3.11111111111111"
      ],
      "text/plain": [
       "[1] 3.111111"
      ]
     },
     "metadata": {},
     "output_type": "display_data"
    }
   ],
   "source": [
    "sum(devi**2) / (length(nums) -1) #모분산"
   ]
  },
  {
   "cell_type": "code",
   "execution_count": 25,
   "id": "919f8721-7446-4344-a0b3-ef72d93e798d",
   "metadata": {},
   "outputs": [
    {
     "data": {
      "text/html": [
       "3.11111111111111"
      ],
      "text/latex": [
       "3.11111111111111"
      ],
      "text/markdown": [
       "3.11111111111111"
      ],
      "text/plain": [
       "[1] 3.111111"
      ]
     },
     "metadata": {},
     "output_type": "display_data"
    }
   ],
   "source": [
    "var(nums) "
   ]
  },
  {
   "cell_type": "code",
   "execution_count": 26,
   "id": "43844fda-dc10-41fb-9029-af3ae708ebeb",
   "metadata": {},
   "outputs": [],
   "source": [
    "a <- c(30, 26, 40, 28, 26)\n",
    "b <- c(35, 20, 60, 15, 20)"
   ]
  },
  {
   "cell_type": "code",
   "execution_count": 27,
   "id": "9c4b0bae-d18b-4dfa-bf06-d5f94a4ded69",
   "metadata": {},
   "outputs": [],
   "source": [
    "am <- mean(a)\n",
    "bm <- mean(b)"
   ]
  },
  {
   "cell_type": "code",
   "execution_count": 28,
   "id": "4b831423-0249-4efb-8d4e-3d8e5039b100",
   "metadata": {},
   "outputs": [],
   "source": [
    "devia <- (a - am)\n",
    "devib <- (b - bm)"
   ]
  },
  {
   "cell_type": "code",
   "execution_count": 37,
   "id": "17e0b9be-8af6-44b5-b642-a44eafacbf76",
   "metadata": {},
   "outputs": [
    {
     "data": {
      "text/html": [
       "34"
      ],
      "text/latex": [
       "34"
      ],
      "text/markdown": [
       "34"
      ],
      "text/plain": [
       "[1] 34"
      ]
     },
     "metadata": {},
     "output_type": "display_data"
    },
    {
     "data": {
      "text/html": [
       "337.5"
      ],
      "text/latex": [
       "337.5"
      ],
      "text/markdown": [
       "337.5"
      ],
      "text/plain": [
       "[1] 337.5"
      ]
     },
     "metadata": {},
     "output_type": "display_data"
    }
   ],
   "source": [
    "sum(devia^2) / (length(a) -1)\n",
    "sum(devib^2) / (length(b) -1)"
   ]
  },
  {
   "cell_type": "code",
   "execution_count": 38,
   "id": "2c45a2fd-d38b-4aa8-900d-d12577c541ac",
   "metadata": {},
   "outputs": [
    {
     "data": {
      "text/html": [
       "34"
      ],
      "text/latex": [
       "34"
      ],
      "text/markdown": [
       "34"
      ],
      "text/plain": [
       "[1] 34"
      ]
     },
     "metadata": {},
     "output_type": "display_data"
    },
    {
     "data": {
      "text/html": [
       "337.5"
      ],
      "text/latex": [
       "337.5"
      ],
      "text/markdown": [
       "337.5"
      ],
      "text/plain": [
       "[1] 337.5"
      ]
     },
     "metadata": {},
     "output_type": "display_data"
    }
   ],
   "source": [
    "var(a)\n",
    "var(b)"
   ]
  },
  {
   "cell_type": "code",
   "execution_count": 31,
   "id": "b597e0e8-ac59-4905-ad4f-67b2bccf8a35",
   "metadata": {},
   "outputs": [],
   "source": [
    "km <- mean(kings)"
   ]
  },
  {
   "cell_type": "code",
   "execution_count": 32,
   "id": "6fbd718d-3dbd-4328-867d-b43bccf1a774",
   "metadata": {},
   "outputs": [],
   "source": [
    "devik <- (kings - km)"
   ]
  },
  {
   "cell_type": "code",
   "execution_count": 35,
   "id": "d6056b82-489d-4052-85bf-678ab08700d5",
   "metadata": {},
   "outputs": [
    {
     "data": {
      "text/html": [
       "261.575498575499"
      ],
      "text/latex": [
       "261.575498575499"
      ],
      "text/markdown": [
       "261.575498575499"
      ],
      "text/plain": [
       "[1] 261.5755"
      ]
     },
     "metadata": {},
     "output_type": "display_data"
    }
   ],
   "source": [
    "sum(devik^2) / (length(kings) -1)"
   ]
  },
  {
   "cell_type": "code",
   "execution_count": 34,
   "id": "c16432cf-cd93-48b4-a334-63357543e40d",
   "metadata": {},
   "outputs": [
    {
     "data": {
      "text/html": [
       "261.575498575499"
      ],
      "text/latex": [
       "261.575498575499"
      ],
      "text/markdown": [
       "261.575498575499"
      ],
      "text/plain": [
       "[1] 261.5755"
      ]
     },
     "metadata": {},
     "output_type": "display_data"
    }
   ],
   "source": [
    "var(kings)\n"
   ]
  },
  {
   "cell_type": "markdown",
   "id": "dac6d863-6084-4def-be29-5816b90a1bac",
   "metadata": {},
   "source": [
    "## 표준편차\n",
    "+ 분산값에 제곱근을 취한 값\n",
    "+ 분산은 편차를 제곱했기 때문에 결과값의 단위 역시 제곱이 됨\n",
    "+ 분산의 단위를 원래 자료의 단위로 전환하기 위해 만든 \n",
    "+ 모표준편차 $ \\sigma $\n",
    "> ## $ \\sqrt {\\sum{(x_{i} - \\bar {x})^2} \\over {n}} $\n",
    "+ 표본표준편차 $ s $\n",
    "## $ \\sqrt {\\sum{(x_{i} - \\bar {x})^2} \\over {n-1}} $\n",
    "+ 함수 : sd() or sqrt(var())"
   ]
  },
  {
   "cell_type": "code",
   "execution_count": 42,
   "id": "cf5b552c-4bf1-454a-b27b-90d01cd87d0d",
   "metadata": {},
   "outputs": [],
   "source": [
    "A <- c(20, 40, 50, 60, 80)\n",
    "B <- c(20, 45, 50, 55, 80)"
   ]
  },
  {
   "cell_type": "code",
   "execution_count": 43,
   "id": "c1c1cdb9-a16e-455d-bc36-45ad230105eb",
   "metadata": {},
   "outputs": [],
   "source": [
    "Am <- mean(A)\n",
    "Bm <- mean(B)"
   ]
  },
  {
   "cell_type": "code",
   "execution_count": 44,
   "id": "e022a0e2-4699-41ac-a967-f10429b385fe",
   "metadata": {},
   "outputs": [],
   "source": [
    "deviA <- (A - Am)\n",
    "deviB <- (B - Bm)"
   ]
  },
  {
   "cell_type": "code",
   "execution_count": 50,
   "id": "d1a4a16b-14c8-4bd8-bb74-6b811c6d0ffe",
   "metadata": {},
   "outputs": [
    {
     "data": {
      "text/html": [
       "22.3606797749979"
      ],
      "text/latex": [
       "22.3606797749979"
      ],
      "text/markdown": [
       "22.3606797749979"
      ],
      "text/plain": [
       "[1] 22.36068"
      ]
     },
     "metadata": {},
     "output_type": "display_data"
    },
    {
     "data": {
      "text/html": [
       "21.5058131676066"
      ],
      "text/latex": [
       "21.5058131676066"
      ],
      "text/markdown": [
       "21.5058131676066"
      ],
      "text/plain": [
       "[1] 21.50581"
      ]
     },
     "metadata": {},
     "output_type": "display_data"
    }
   ],
   "source": [
    "sqrt(sum(deviA^2) / (length(A) -1))\n",
    "sqrt(sum(deviB^2) / (length(B) -1))"
   ]
  },
  {
   "cell_type": "code",
   "execution_count": 51,
   "id": "0fc1a2bc-10d1-4f68-8e7c-5ddc61ec3f06",
   "metadata": {},
   "outputs": [
    {
     "data": {
      "text/html": [
       "22.3606797749979"
      ],
      "text/latex": [
       "22.3606797749979"
      ],
      "text/markdown": [
       "22.3606797749979"
      ],
      "text/plain": [
       "[1] 22.36068"
      ]
     },
     "metadata": {},
     "output_type": "display_data"
    },
    {
     "data": {
      "text/html": [
       "21.5058131676066"
      ],
      "text/latex": [
       "21.5058131676066"
      ],
      "text/markdown": [
       "21.5058131676066"
      ],
      "text/plain": [
       "[1] 21.50581"
      ]
     },
     "metadata": {},
     "output_type": "display_data"
    }
   ],
   "source": [
    "sqrt(var(A))\n",
    "sqrt(var(B))"
   ]
  },
  {
   "cell_type": "code",
   "execution_count": 49,
   "id": "513b9853-0384-4828-8137-9cb7fb668b01",
   "metadata": {},
   "outputs": [
    {
     "data": {
      "text/html": [
       "22.3606797749979"
      ],
      "text/latex": [
       "22.3606797749979"
      ],
      "text/markdown": [
       "22.3606797749979"
      ],
      "text/plain": [
       "[1] 22.36068"
      ]
     },
     "metadata": {},
     "output_type": "display_data"
    },
    {
     "data": {
      "text/html": [
       "21.5058131676066"
      ],
      "text/latex": [
       "21.5058131676066"
      ],
      "text/markdown": [
       "21.5058131676066"
      ],
      "text/plain": [
       "[1] 21.50581"
      ]
     },
     "metadata": {},
     "output_type": "display_data"
    }
   ],
   "source": [
    "sd(A)\n",
    "sd(B)"
   ]
  },
  {
   "cell_type": "markdown",
   "id": "e025ead7-9c33-441f-ba89-cdc385f2feba",
   "metadata": {},
   "source": [
    "#### 중심화 경향"
   ]
  },
  {
   "cell_type": "code",
   "execution_count": 55,
   "id": "fc9d0f80-5c0f-4fc7-90b3-e51ef24b65cd",
   "metadata": {},
   "outputs": [
    {
     "data": {
      "text/html": [
       "'50.0 50.0'"
      ],
      "text/latex": [
       "'50.0 50.0'"
      ],
      "text/markdown": [
       "'50.0 50.0'"
      ],
      "text/plain": [
       "[1] \"50.0 50.0\""
      ]
     },
     "metadata": {},
     "output_type": "display_data"
    },
    {
     "data": {
      "text/html": [
       "'500.0 462.5'"
      ],
      "text/latex": [
       "'500.0 462.5'"
      ],
      "text/markdown": [
       "'500.0 462.5'"
      ],
      "text/plain": [
       "[1] \"500.0 462.5\""
      ]
     },
     "metadata": {},
     "output_type": "display_data"
    },
    {
     "data": {
      "text/html": [
       "'22.4 21.5'"
      ],
      "text/latex": [
       "'22.4 21.5'"
      ],
      "text/markdown": [
       "'22.4 21.5'"
      ],
      "text/plain": [
       "[1] \"22.4 21.5\""
      ]
     },
     "metadata": {},
     "output_type": "display_data"
    }
   ],
   "source": [
    "sprintf('%.1f %.1f', mean(A), mean(B))\n",
    "sprintf('%.1f %.1f', var(A), var(B))\n",
    "sprintf('%.1f %.1f', sd(A), sd(B))"
   ]
  },
  {
   "cell_type": "code",
   "execution_count": 57,
   "id": "db2db568-ec65-4cc3-9155-6dabb5f00a31",
   "metadata": {},
   "outputs": [
    {
     "data": {
      "text/html": [
       "3380"
      ],
      "text/latex": [
       "3380"
      ],
      "text/markdown": [
       "3380"
      ],
      "text/plain": [
       "[1] 3380"
      ]
     },
     "metadata": {},
     "output_type": "display_data"
    },
    {
     "data": {
      "text/html": [
       "222.17898190423"
      ],
      "text/latex": [
       "222.17898190423"
      ],
      "text/markdown": [
       "222.17898190423"
      ],
      "text/plain": [
       "[1] 222.179"
      ]
     },
     "metadata": {},
     "output_type": "display_data"
    }
   ],
   "source": [
    "sal <- c(3536, 3173, 3448, 3121, 3622)\n",
    "mean(sal)\n",
    "sd(sal)"
   ]
  },
  {
   "cell_type": "code",
   "execution_count": 60,
   "id": "28006d2d-3a3a-484c-a883-84b75f4730e3",
   "metadata": {},
   "outputs": [
    {
     "data": {
      "text/html": [
       "222.17898190423"
      ],
      "text/latex": [
       "222.17898190423"
      ],
      "text/markdown": [
       "222.17898190423"
      ],
      "text/plain": [
       "[1] 222.179"
      ]
     },
     "metadata": {},
     "output_type": "display_data"
    }
   ],
   "source": [
    "sqrt((sum((sal -(sum(sal) / length(sal)))^2)) / (length(sal) - 1))"
   ]
  },
  {
   "cell_type": "markdown",
   "id": "cee6fb24-2f86-4288-9397-a2e113dc80b1",
   "metadata": {},
   "source": [
    "## 사분위수\n",
    "+ 데이터를 가장 작은수부터 가장 큰수까지 정렬하였을때 1/4, 2/4, 3/4 위치에 있는 수를 의미\n",
    "+ 이 각각의 수를 1사분위수, 2사분위수, 3사분위수라고 하는데 2사분위수는 **중앙값**과 같음\n",
    "    * $ Q_1 $ : 25% 지점\n",
    "    * $ Q_2 $ : 50% 지점\n",
    "    * $ Q_3 $ : 75% 지점\n",
    "+ 때로 위치를 1/100단위로 나눈 경우도 있는데, 이때 백분위수를 사용함\n",
    "+ 한편, 사분위수를 구하는 방법은 크게 **9가지**가 존재하는데 대상 데이터의 **유형**에 따라 적용방법이 다름\n",
    "+ 사분위 범위(IQR) 사이의 구간에 항상 전체 데이터의 50%가 포함됨\n",
    "    * 사분위 범위는 3사분위수에서 1사분위수 간의 범위를 의미"
   ]
  },
  {
   "cell_type": "markdown",
   "id": "171a23ef-c961-4355-82b7-84de25d0391a",
   "metadata": {},
   "source": [
    "### 사분위수 : quantile(객체, 사분위)"
   ]
  },
  {
   "cell_type": "code",
   "execution_count": 62,
   "id": "a5d85b1c-48ae-469d-b2e4-bea3550f7cf1",
   "metadata": {},
   "outputs": [
    {
     "data": {
      "text/html": [
       "<style>\n",
       ".dl-inline {width: auto; margin:0; padding: 0}\n",
       ".dl-inline>dt, .dl-inline>dd {float: none; width: auto; display: inline-block}\n",
       ".dl-inline>dt::after {content: \":\\0020\"; padding-right: .5ex}\n",
       ".dl-inline>dt:not(:first-of-type) {padding-left: .5ex}\n",
       "</style><dl class=dl-inline><dt>0%</dt><dd>16</dd><dt>25%</dt><dd>33</dd><dt>50%</dt><dd>45</dd><dt>75%</dt><dd>56</dd><dt>100%</dt><dd>82</dd></dl>\n"
      ],
      "text/latex": [
       "\\begin{description*}\n",
       "\\item[0\\textbackslash{}\\%] 16\n",
       "\\item[25\\textbackslash{}\\%] 33\n",
       "\\item[50\\textbackslash{}\\%] 45\n",
       "\\item[75\\textbackslash{}\\%] 56\n",
       "\\item[100\\textbackslash{}\\%] 82\n",
       "\\end{description*}\n"
      ],
      "text/markdown": [
       "0%\n",
       ":   1625%\n",
       ":   3350%\n",
       ":   4575%\n",
       ":   56100%\n",
       ":   82\n",
       "\n"
      ],
      "text/plain": [
       "  0%  25%  50%  75% 100% \n",
       "  16   33   45   56   82 "
      ]
     },
     "metadata": {},
     "output_type": "display_data"
    }
   ],
   "source": [
    "quantile(kings)"
   ]
  },
  {
   "cell_type": "markdown",
   "id": "74580dd6-b37d-41c3-9390-8e6f03a9b179",
   "metadata": {},
   "source": [
    "### 하위 25%를 나누는 기준 계산 : 1사분위"
   ]
  },
  {
   "cell_type": "code",
   "execution_count": 63,
   "id": "c6a9df27-28b2-4ff8-8cab-e4d61fe886e1",
   "metadata": {},
   "outputs": [
    {
     "data": {
      "text/html": [
       "<strong>25%:</strong> 33"
      ],
      "text/latex": [
       "\\textbf{25\\textbackslash{}\\%:} 33"
      ],
      "text/markdown": [
       "**25%:** 33"
      ],
      "text/plain": [
       "25% \n",
       " 33 "
      ]
     },
     "metadata": {},
     "output_type": "display_data"
    }
   ],
   "source": [
    "quantile(kings, 0.25)"
   ]
  },
  {
   "cell_type": "markdown",
   "id": "7891f86b-6afc-4e76-aee8-6e1abb202191",
   "metadata": {},
   "source": [
    "#### 사분위범위 IQR 계산 : Q3 -Q1\n",
    "#### IQR(객체)"
   ]
  },
  {
   "cell_type": "code",
   "execution_count": null,
   "id": "edacbc47-6b7d-45ef-b977-90b82c40902b",
   "metadata": {},
   "outputs": [],
   "source": [
    "quantile(kings, 0.75) - quantile(kings, 0.25)"
   ]
  },
  {
   "cell_type": "code",
   "execution_count": 66,
   "id": "a44c3392-55d1-45a7-8fd7-9098ea7c306a",
   "metadata": {},
   "outputs": [
    {
     "data": {
      "text/html": [
       "23"
      ],
      "text/latex": [
       "23"
      ],
      "text/markdown": [
       "23"
      ],
      "text/plain": [
       "[1] 23"
      ]
     },
     "metadata": {},
     "output_type": "display_data"
    }
   ],
   "source": [
    "IQR(kings)"
   ]
  },
  {
   "cell_type": "code",
   "execution_count": null,
   "id": "a3758c0c-049c-4681-a24a-55039e511ee6",
   "metadata": {},
   "outputs": [],
   "source": []
  },
  {
   "cell_type": "markdown",
   "id": "77563a68-7e9c-47ae-874c-827e4cf3ef21",
   "metadata": {},
   "source": [
    "### 사원 데이터의 기술통계2 (분산화 경향)"
   ]
  },
  {
   "cell_type": "code",
   "execution_count": 67,
   "id": "d6ccf49c-faf5-4529-9162-538024d6787b",
   "metadata": {},
   "outputs": [],
   "source": [
    "emp = read.csv('employees.csv', stringsAsFactors =F)"
   ]
  },
  {
   "cell_type": "code",
   "execution_count": 68,
   "id": "e4bab1d7-89b7-4a67-b851-846444839320",
   "metadata": {},
   "outputs": [
    {
     "data": {
      "text/html": [
       "<table class=\"dataframe\">\n",
       "<caption>A data.frame: 6 × 11</caption>\n",
       "<thead>\n",
       "\t<tr><th></th><th scope=col>EMPLOYEE_ID</th><th scope=col>FIRST_NAME</th><th scope=col>LAST_NAME</th><th scope=col>EMAIL</th><th scope=col>PHONE_NUMBER</th><th scope=col>HIRE_DATE</th><th scope=col>JOB_ID</th><th scope=col>SALARY</th><th scope=col>COMMISSION_PCT</th><th scope=col>MANAGER_ID</th><th scope=col>DEPARTMENT_ID</th></tr>\n",
       "\t<tr><th></th><th scope=col>&lt;int&gt;</th><th scope=col>&lt;chr&gt;</th><th scope=col>&lt;chr&gt;</th><th scope=col>&lt;chr&gt;</th><th scope=col>&lt;chr&gt;</th><th scope=col>&lt;chr&gt;</th><th scope=col>&lt;chr&gt;</th><th scope=col>&lt;int&gt;</th><th scope=col>&lt;dbl&gt;</th><th scope=col>&lt;int&gt;</th><th scope=col>&lt;int&gt;</th></tr>\n",
       "</thead>\n",
       "<tbody>\n",
       "\t<tr><th scope=row>1</th><td>100</td><td>Steven   </td><td>King   </td><td>SKING   </td><td>515.123.4567</td><td>2003-06-17</td><td>AD_PRES</td><td>24000</td><td>NA</td><td> NA</td><td>90</td></tr>\n",
       "\t<tr><th scope=row>2</th><td>101</td><td>Neena    </td><td>Kochhar</td><td>NKOCHHAR</td><td>515.123.4568</td><td>2005-09-21</td><td>AD_VP  </td><td>17000</td><td>NA</td><td>100</td><td>90</td></tr>\n",
       "\t<tr><th scope=row>3</th><td>102</td><td>Lex      </td><td>De Haan</td><td>LDEHAAN </td><td>515.123.4569</td><td>2001-01-13</td><td>AD_VP  </td><td>17000</td><td>NA</td><td>100</td><td>90</td></tr>\n",
       "\t<tr><th scope=row>4</th><td>103</td><td>Alexander</td><td>Hunold </td><td>AHUNOLD </td><td>590.423.4567</td><td>2006-01-03</td><td>IT_PROG</td><td> 9000</td><td>NA</td><td>102</td><td>60</td></tr>\n",
       "\t<tr><th scope=row>5</th><td>104</td><td>Bruce    </td><td>Ernst  </td><td>BERNST  </td><td>590.423.4568</td><td>2007-05-21</td><td>IT_PROG</td><td> 6000</td><td>NA</td><td>103</td><td>60</td></tr>\n",
       "\t<tr><th scope=row>6</th><td>105</td><td>David    </td><td>Austin </td><td>DAUSTIN </td><td>590.423.4569</td><td>2005-06-25</td><td>IT_PROG</td><td> 4800</td><td>NA</td><td>103</td><td>60</td></tr>\n",
       "</tbody>\n",
       "</table>\n"
      ],
      "text/latex": [
       "A data.frame: 6 × 11\n",
       "\\begin{tabular}{r|lllllllllll}\n",
       "  & EMPLOYEE\\_ID & FIRST\\_NAME & LAST\\_NAME & EMAIL & PHONE\\_NUMBER & HIRE\\_DATE & JOB\\_ID & SALARY & COMMISSION\\_PCT & MANAGER\\_ID & DEPARTMENT\\_ID\\\\\n",
       "  & <int> & <chr> & <chr> & <chr> & <chr> & <chr> & <chr> & <int> & <dbl> & <int> & <int>\\\\\n",
       "\\hline\n",
       "\t1 & 100 & Steven    & King    & SKING    & 515.123.4567 & 2003-06-17 & AD\\_PRES & 24000 & NA &  NA & 90\\\\\n",
       "\t2 & 101 & Neena     & Kochhar & NKOCHHAR & 515.123.4568 & 2005-09-21 & AD\\_VP   & 17000 & NA & 100 & 90\\\\\n",
       "\t3 & 102 & Lex       & De Haan & LDEHAAN  & 515.123.4569 & 2001-01-13 & AD\\_VP   & 17000 & NA & 100 & 90\\\\\n",
       "\t4 & 103 & Alexander & Hunold  & AHUNOLD  & 590.423.4567 & 2006-01-03 & IT\\_PROG &  9000 & NA & 102 & 60\\\\\n",
       "\t5 & 104 & Bruce     & Ernst   & BERNST   & 590.423.4568 & 2007-05-21 & IT\\_PROG &  6000 & NA & 103 & 60\\\\\n",
       "\t6 & 105 & David     & Austin  & DAUSTIN  & 590.423.4569 & 2005-06-25 & IT\\_PROG &  4800 & NA & 103 & 60\\\\\n",
       "\\end{tabular}\n"
      ],
      "text/markdown": [
       "\n",
       "A data.frame: 6 × 11\n",
       "\n",
       "| <!--/--> | EMPLOYEE_ID &lt;int&gt; | FIRST_NAME &lt;chr&gt; | LAST_NAME &lt;chr&gt; | EMAIL &lt;chr&gt; | PHONE_NUMBER &lt;chr&gt; | HIRE_DATE &lt;chr&gt; | JOB_ID &lt;chr&gt; | SALARY &lt;int&gt; | COMMISSION_PCT &lt;dbl&gt; | MANAGER_ID &lt;int&gt; | DEPARTMENT_ID &lt;int&gt; |\n",
       "|---|---|---|---|---|---|---|---|---|---|---|---|\n",
       "| 1 | 100 | Steven    | King    | SKING    | 515.123.4567 | 2003-06-17 | AD_PRES | 24000 | NA |  NA | 90 |\n",
       "| 2 | 101 | Neena     | Kochhar | NKOCHHAR | 515.123.4568 | 2005-09-21 | AD_VP   | 17000 | NA | 100 | 90 |\n",
       "| 3 | 102 | Lex       | De Haan | LDEHAAN  | 515.123.4569 | 2001-01-13 | AD_VP   | 17000 | NA | 100 | 90 |\n",
       "| 4 | 103 | Alexander | Hunold  | AHUNOLD  | 590.423.4567 | 2006-01-03 | IT_PROG |  9000 | NA | 102 | 60 |\n",
       "| 5 | 104 | Bruce     | Ernst   | BERNST   | 590.423.4568 | 2007-05-21 | IT_PROG |  6000 | NA | 103 | 60 |\n",
       "| 6 | 105 | David     | Austin  | DAUSTIN  | 590.423.4569 | 2005-06-25 | IT_PROG |  4800 | NA | 103 | 60 |\n",
       "\n"
      ],
      "text/plain": [
       "  EMPLOYEE_ID FIRST_NAME LAST_NAME EMAIL    PHONE_NUMBER HIRE_DATE  JOB_ID \n",
       "1 100         Steven     King      SKING    515.123.4567 2003-06-17 AD_PRES\n",
       "2 101         Neena      Kochhar   NKOCHHAR 515.123.4568 2005-09-21 AD_VP  \n",
       "3 102         Lex        De Haan   LDEHAAN  515.123.4569 2001-01-13 AD_VP  \n",
       "4 103         Alexander  Hunold    AHUNOLD  590.423.4567 2006-01-03 IT_PROG\n",
       "5 104         Bruce      Ernst     BERNST   590.423.4568 2007-05-21 IT_PROG\n",
       "6 105         David      Austin    DAUSTIN  590.423.4569 2005-06-25 IT_PROG\n",
       "  SALARY COMMISSION_PCT MANAGER_ID DEPARTMENT_ID\n",
       "1 24000  NA              NA        90           \n",
       "2 17000  NA             100        90           \n",
       "3 17000  NA             100        90           \n",
       "4  9000  NA             102        60           \n",
       "5  6000  NA             103        60           \n",
       "6  4800  NA             103        60           "
      ]
     },
     "metadata": {},
     "output_type": "display_data"
    }
   ],
   "source": [
    "head(emp)"
   ]
  },
  {
   "cell_type": "code",
   "execution_count": 70,
   "id": "77851435-f4cf-40d2-9c73-4cb516f608ea",
   "metadata": {},
   "outputs": [
    {
     "data": {
      "text/html": [
       "3909.57973055248"
      ],
      "text/latex": [
       "3909.57973055248"
      ],
      "text/markdown": [
       "3909.57973055248"
      ],
      "text/plain": [
       "[1] 3909.58"
      ]
     },
     "metadata": {},
     "output_type": "display_data"
    }
   ],
   "source": [
    "sd(emp$SALARY)"
   ]
  },
  {
   "cell_type": "code",
   "execution_count": 81,
   "id": "5107e6e6-35d0-44db-9256-360eb6c631b9",
   "metadata": {},
   "outputs": [
    {
     "data": {
      "text/html": [
       "3909.57973055248"
      ],
      "text/latex": [
       "3909.57973055248"
      ],
      "text/markdown": [
       "3909.57973055248"
      ],
      "text/plain": [
       "[1] 3909.58"
      ]
     },
     "metadata": {},
     "output_type": "display_data"
    }
   ],
   "source": [
    "sqrt(sum(((emp$SALARY - sum(emp$SALARY) / length(emp$SALARY))^2) / (length(emp$SALARY) -1)))"
   ]
  },
  {
   "cell_type": "code",
   "execution_count": 85,
   "id": "08ad8598-107f-4eae-91a4-348afe2474d0",
   "metadata": {},
   "outputs": [
    {
     "data": {
      "text/html": [
       "<strong>75%:</strong> 5800"
      ],
      "text/latex": [
       "\\textbf{75\\textbackslash{}\\%:} 5800"
      ],
      "text/markdown": [
       "**75%:** 5800"
      ],
      "text/plain": [
       " 75% \n",
       "5800 "
      ]
     },
     "metadata": {},
     "output_type": "display_data"
    }
   ],
   "source": [
    "quantile(emp$SALARY, 0.75) - quantile(emp$SALARY, 0.25)"
   ]
  },
  {
   "cell_type": "markdown",
   "id": "ecb60457-7a4b-4fdb-b7b8-02276ab11518",
   "metadata": {},
   "source": [
    "### 교통사고 현황 데이터의 기술통계2 (분산화 경향)"
   ]
  },
  {
   "cell_type": "code",
   "execution_count": 107,
   "id": "c2aaa787-99e6-42c8-8b79-bdecdea45b61",
   "metadata": {},
   "outputs": [],
   "source": [
    "acc = read.csv('accident2016.csv',) # 명목형 자료가 많으므로 stringAsFactors=F 사용 x"
   ]
  },
  {
   "cell_type": "code",
   "execution_count": 108,
   "id": "9a1b0510-0751-4762-970e-bf88627f18b1",
   "metadata": {},
   "outputs": [
    {
     "data": {
      "text/plain": [
       "     발생년      발생년월일시           발생분        주야      요일    \n",
       " Min.   :2016   Min.   :2.016e+09   Min.   : 0.00   야간:2072   금:666  \n",
       " 1st Qu.:2016   1st Qu.:2.016e+09   1st Qu.:10.00   주간:2047   목:596  \n",
       " Median :2016   Median :2.016e+09   Median :27.00               수:565  \n",
       " Mean   :2016   Mean   :2.016e+09   Mean   :26.94               월:584  \n",
       " 3rd Qu.:2016   3rd Qu.:2.016e+09   3rd Qu.:40.00               일:513  \n",
       " Max.   :2016   Max.   :2.016e+09   Max.   :59.00               토:635  \n",
       "                                                                화:560  \n",
       "    사망자수         사상자수         중상자수         경상자수      \n",
       " Min.   : 1.000   Min.   : 1.000   Min.   : 0.000   Min.   : 0.0000  \n",
       " 1st Qu.: 1.000   1st Qu.: 1.000   1st Qu.: 0.000   1st Qu.: 0.0000  \n",
       " Median : 1.000   Median : 1.000   Median : 0.000   Median : 0.0000  \n",
       " Mean   : 1.042   Mean   : 1.576   Mean   : 0.252   Mean   : 0.2595  \n",
       " 3rd Qu.: 1.000   3rd Qu.: 1.000   3rd Qu.: 0.000   3rd Qu.: 0.0000  \n",
       " Max.   :10.000   Max.   :67.000   Max.   :22.000   Max.   :62.0000  \n",
       "                                                                     \n",
       "  부상신고자수       발생지시도         발생지시군구  사고유형_대분류\n",
       " Min.   :0.00000   경기   : 749   서구        :  78   차대사람:1647  \n",
       " 1st Qu.:0.00000   경북   : 477   남구        :  76   차대차  :1646  \n",
       " Median :0.00000   충남   : 372   창원시(통합):  75   차량단독: 826  \n",
       " Mean   :0.02282   경남   : 359   청주시      :  74                  \n",
       " 3rd Qu.:0.00000   서울   : 342   북구        :  69                  \n",
       " Max.   :5.00000   전남   : 327   동구        :  58                  \n",
       "                   (Other):1493   (Other)     :3689                  \n",
       "     사고유형_중분류         사고유형          법규위반_대분류\n",
       " 횡단중      :1078   횡단중      :1078   운전자법규위반:4119  \n",
       " 기타        : 665   기타        : 665                        \n",
       " 측면직각충돌: 619   측면직각충돌: 619                        \n",
       " 전도전복    : 480   전도전복    : 480                        \n",
       " 추돌        : 436   진행중 추돌 : 436                        \n",
       " 정면충돌    : 323   정면충돌    : 323                        \n",
       " (Other)     : 518   (Other)     : 518                        \n",
       "                 법규위반      도로형태_대분류       도로형태   \n",
       " 안전운전 의무 불이행:2856   고가도로위:  14   기타단일로:2427  \n",
       " 신호위반            : 333   교차로    :1285   교차로내  : 817  \n",
       " 중앙선 침범         : 314   기타/불명 : 103   교차로부근: 468  \n",
       " 과속                : 178   단일로    :2704   횡단보도상: 170  \n",
       " 보행자 보호의무 위반: 174   지하도로내:  13   기타/불명 : 103  \n",
       " 교차로 통행방법 위반:  68                     교량위    :  49  \n",
       " (Other)             : 196                     (Other)   :  85  \n",
       "      당사자종별_1당_대분류          당사자종별_1당 당사자종별_2당_대분류\n",
       " 승용차          :2023      소형            :1265   보행자 :1642         \n",
       " 화물차          : 914      중형            :1206          : 825         \n",
       " 이륜차          : 415      경형            : 660   승용차 : 548         \n",
       " 승합차          : 261      대형            : 478   화물차 : 408         \n",
       " 원동기장치자전거: 184      원동기장치자전거: 184   이륜차 : 210         \n",
       " 자전거          : 113      자전거          : 113   자전거 : 148         \n",
       " (Other)         : 209      (Other)         : 213   (Other): 338         \n",
       " 당사자종별_2당 발생위치X_UTMK    발생위치Y_UTMK         경도      \n",
       " 보행자 :1642   Min.   :      0   Min.   :      0   Min.   :118.0  \n",
       "        : 825   1st Qu.: 946505   1st Qu.:1725992   1st Qu.:126.9  \n",
       " 소형   : 465   Median : 977012   Median :1823659   Median :127.2  \n",
       " 중형   : 385   Mean   :1007249   Mean   :1818670   Mean   :127.6  \n",
       " 대형   : 239   3rd Qu.:1080134   3rd Qu.:1930029   3rd Qu.:128.4  \n",
       " 경형   : 195   Max.   :1296967   Max.   :2053766   Max.   :130.9  \n",
       " (Other): 368                                                      \n",
       "      위도      \n",
       " Min.   :19.69  \n",
       " 1st Qu.:35.52  \n",
       " Median :36.41  \n",
       " Mean   :36.36  \n",
       " 3rd Qu.:37.37  \n",
       " Max.   :38.48  \n",
       "                "
      ]
     },
     "metadata": {},
     "output_type": "display_data"
    }
   ],
   "source": [
    "summary(acc)"
   ]
  },
  {
   "cell_type": "code",
   "execution_count": 106,
   "id": "2b81c4b9-eecd-4851-8370-2c12b5ffcb67",
   "metadata": {},
   "outputs": [
    {
     "name": "stdout",
     "output_type": "stream",
     "text": [
      "'data.frame':\t4119 obs. of  27 variables:\n",
      " $ 발생년               : int  2016 2016 2016 2016 2016 2016 2016 2016 2016 2016 ...\n",
      " $ 발생년월일시         : int  2016122320 2016122517 2016122519 2016122610 2016122819 2016111207 2016110919 2016111005 2016110711 2016110818 ...\n",
      " $ 발생분               : int  35 48 5 40 40 34 25 0 5 0 ...\n",
      " $ 주야                 : Factor w/ 2 levels \"야간\",\"주간\": 1 2 1 2 1 2 1 1 2 1 ...\n",
      " $ 요일                 : Factor w/ 7 levels \"금\",\"목\",\"수\",..: 1 5 5 4 3 6 3 2 4 7 ...\n",
      " $ 사망자수             : int  1 1 1 1 1 1 1 1 1 1 ...\n",
      " $ 사상자수             : int  1 1 1 1 1 1 1 1 1 1 ...\n",
      " $ 중상자수             : int  0 0 0 0 0 0 0 0 0 0 ...\n",
      " $ 경상자수             : int  0 0 0 0 0 0 0 0 0 0 ...\n",
      " $ 부상신고자수         : int  0 0 0 0 0 0 0 0 0 0 ...\n",
      " $ 발생지시도           : Factor w/ 17 levels \"강원\",\"경기\",..: 2 9 17 4 3 3 2 12 16 13 ...\n",
      " $ 발생지시군구         : Factor w/ 205 levels \"가평군\",\"강남구\",..: 26 38 172 12 171 9 190 86 132 103 ...\n",
      " $ 사고유형_대분류      : Factor w/ 3 levels \"차대사람\",\"차대차\",..: 1 1 1 1 1 1 1 1 3 1 ...\n",
      " $ 사고유형_중분류      : Factor w/ 12 levels \"공작물충돌\",\"기타\",..: 2 12 9 12 12 12 2 12 6 9 ...\n",
      " $ 사고유형             : Factor w/ 13 levels \"공작물충돌\",\"기타\",..: 2 13 11 13 13 13 2 13 7 11 ...\n",
      " $ 법규위반_대분류      : Factor w/ 1 level \"운전자법규위반\": 1 1 1 1 1 1 1 1 1 1 ...\n",
      " $ 법규위반             : Factor w/ 14 levels \"과속\",\"교차로 통행방법 위반\",..: 9 9 9 9 4 9 9 4 9 9 ...\n",
      " $ 도로형태_대분류      : Factor w/ 5 levels \"고가도로위\",\"교차로\",..: 2 4 4 4 4 4 4 4 4 4 ...\n",
      " $ 도로형태             : Factor w/ 10 levels \"고가도로위\",\"교량위\",..: 3 6 6 6 6 6 6 6 6 6 ...\n",
      " $ 당사자종별_1당_대분류: Factor w/ 10 levels \"건설기계\",\"농기계\",..: 4 4 10 5 4 1 4 4 1 4 ...\n",
      " $ 당사자종별_1당       : Factor w/ 10 levels \"건설기계\",\"경형\",..: 10 10 7 2 7 1 10 2 1 10 ...\n",
      " $ 당사자종별_2당_대분류: Factor w/ 12 levels \"\",\"건설기계\",..: 4 4 4 4 4 4 4 4 1 4 ...\n",
      " $ 당사자종별_2당       : Factor w/ 12 levels \"\",\"건설기계\",..: 6 6 6 6 6 6 6 6 1 6 ...\n",
      " $ 발생위치X_UTMK       : num  981731 945989 993981 1161153 1056276 ...\n",
      " $ 발생위치Y_UTMK       : num  1932086 1942347 1879534 1751026 1686645 ...\n",
      " $ 경도                 : num  127 127 127 129 128 ...\n",
      " $ 위도                 : num  37.4 37.5 36.9 35.7 35.2 ...\n"
     ]
    }
   ],
   "source": [
    "str(acc)"
   ]
  },
  {
   "cell_type": "markdown",
   "id": "33eecd06-f3aa-4321-8d48-b7f94b44d3dc",
   "metadata": {},
   "source": [
    "### 주야별 교통사고 건수"
   ]
  },
  {
   "cell_type": "code",
   "execution_count": 109,
   "id": "6d735cd1-7e09-4b9f-ba48-1bfd7772735d",
   "metadata": {},
   "outputs": [
    {
     "data": {
      "text/plain": [
       "\n",
       "야간 주간 \n",
       "2072 2047 "
      ]
     },
     "metadata": {},
     "output_type": "display_data"
    }
   ],
   "source": [
    "table(acc$주야)"
   ]
  },
  {
   "cell_type": "code",
   "execution_count": 110,
   "id": "42accc4c-836e-4b8f-abf4-484f202a8458",
   "metadata": {},
   "outputs": [
    {
     "data": {
      "text/plain": [
       "\n",
       " 금  목  수  월  일  토  화 \n",
       "666 596 565 584 513 635 560 "
      ]
     },
     "metadata": {},
     "output_type": "display_data"
    }
   ],
   "source": [
    "table(acc$요일)"
   ]
  },
  {
   "cell_type": "code",
   "execution_count": 114,
   "id": "7d2bc9ff-3f70-42c7-bc1e-34e8c41745df",
   "metadata": {},
   "outputs": [
    {
     "data": {
      "text/plain": [
       "\n",
       " 금  토  목  월  수  화  일 \n",
       "666 635 596 584 565 560 513 "
      ]
     },
     "metadata": {},
     "output_type": "display_data"
    }
   ],
   "source": [
    "sort(table(acc$요일), decreasing = T)"
   ]
  },
  {
   "cell_type": "code",
   "execution_count": 117,
   "id": "b4866447-f692-46a0-91cb-374ce4858bc0",
   "metadata": {},
   "outputs": [
    {
     "data": {
      "text/plain": [
       "\n",
       "       안전운전 의무 불이행                    신호위반 \n",
       "                       2856                         333 \n",
       "                중앙선 침범                        과속 \n",
       "                        314                         178 \n",
       "       보행자 보호의무 위반        교차로 통행방법 위반 \n",
       "                        174                          68 \n",
       "            안전거리 미확보        기타(운전자법규위반) \n",
       "                         68                          44 \n",
       "직진 및 우회전차의 통행방해                 부당한 회전 \n",
       "                         37                          28 \n",
       "    차로위반(진로변경 위반)           앞지르기 금지위반 \n",
       "                         12                           3 \n",
       "       서행 및 일시정지위반           앞지르기 방법위반 \n",
       "                          2                           2 "
      ]
     },
     "metadata": {},
     "output_type": "display_data"
    }
   ],
   "source": [
    "sort(table(acc$법규위반), decreasing = T)"
   ]
  },
  {
   "cell_type": "code",
   "execution_count": 120,
   "id": "f4eef78a-050d-42bc-8eed-95e281e937a7",
   "metadata": {},
   "outputs": [
    {
     "data": {
      "text/plain": [
       "\n",
       "          승용차           화물차           이륜차           승합차 \n",
       "            2023              914              415              261 \n",
       "원동기장치자전거           자전거         건설기계           농기계 \n",
       "             184              113               94               72 \n",
       "          특수차             불명 \n",
       "              41                2 "
      ]
     },
     "metadata": {},
     "output_type": "display_data"
    }
   ],
   "source": [
    "sort(table(acc$당사자종별_1당_대분류), decreasing = T)"
   ]
  },
  {
   "cell_type": "code",
   "execution_count": 88,
   "id": "29650d2d-b8df-4a26-940f-b88c4b43a4dd",
   "metadata": {},
   "outputs": [
    {
     "data": {
      "text/html": [
       "1.5763534838553"
      ],
      "text/latex": [
       "1.5763534838553"
      ],
      "text/markdown": [
       "1.5763534838553"
      ],
      "text/plain": [
       "[1] 1.576353"
      ]
     },
     "metadata": {},
     "output_type": "display_data"
    }
   ],
   "source": [
    "mean(acc$사상자수)"
   ]
  },
  {
   "cell_type": "code",
   "execution_count": 90,
   "id": "3c93c5a5-b129-48f3-94f9-73f80a6cee7e",
   "metadata": {},
   "outputs": [
    {
     "data": {
      "text/html": [
       "2.01450162854134"
      ],
      "text/latex": [
       "2.01450162854134"
      ],
      "text/markdown": [
       "2.01450162854134"
      ],
      "text/plain": [
       "[1] 2.014502"
      ]
     },
     "metadata": {},
     "output_type": "display_data"
    }
   ],
   "source": [
    "sqrt(var(acc$사상자수))"
   ]
  },
  {
   "cell_type": "code",
   "execution_count": 92,
   "id": "1291b67a-5124-45dd-9329-77f4766392a0",
   "metadata": {},
   "outputs": [
    {
     "data": {
      "text/html": [
       "2.01450162854134"
      ],
      "text/latex": [
       "2.01450162854134"
      ],
      "text/markdown": [
       "2.01450162854134"
      ],
      "text/plain": [
       "[1] 2.014502"
      ]
     },
     "metadata": {},
     "output_type": "display_data"
    }
   ],
   "source": [
    "sd(acc$사상자수)"
   ]
  },
  {
   "cell_type": "code",
   "execution_count": 101,
   "id": "38665477-8509-40d8-9475-12f9a0b6c096",
   "metadata": {},
   "outputs": [
    {
     "data": {
      "text/html": [
       "2.01450162854134"
      ],
      "text/latex": [
       "2.01450162854134"
      ],
      "text/markdown": [
       "2.01450162854134"
      ],
      "text/plain": [
       "[1] 2.014502"
      ]
     },
     "metadata": {},
     "output_type": "display_data"
    }
   ],
   "source": [
    "sqrt(sum((acc$사상자수 - (sum(acc$사상자수) / length(acc$사상자수)))^2) / (length(acc$사상자수) -1))"
   ]
  },
  {
   "cell_type": "code",
   "execution_count": 93,
   "id": "ff2d389f-7b47-437b-8ea1-2d2e0f124cf1",
   "metadata": {},
   "outputs": [],
   "source": [
    "titan = read.csv('titanic.csv', stringsAsFactors =F)"
   ]
  },
  {
   "cell_type": "code",
   "execution_count": 94,
   "id": "4c94bd58-f63a-4f72-98a0-dd610df2fc46",
   "metadata": {},
   "outputs": [
    {
     "data": {
      "text/html": [
       "<table class=\"dataframe\">\n",
       "<caption>A data.frame: 6 × 13</caption>\n",
       "<thead>\n",
       "\t<tr><th></th><th scope=col>pclass</th><th scope=col>survived</th><th scope=col>name</th><th scope=col>sex</th><th scope=col>age</th><th scope=col>sibsp</th><th scope=col>parch</th><th scope=col>ticket</th><th scope=col>fare</th><th scope=col>embarked</th><th scope=col>life</th><th scope=col>seat</th><th scope=col>port</th></tr>\n",
       "\t<tr><th></th><th scope=col>&lt;int&gt;</th><th scope=col>&lt;int&gt;</th><th scope=col>&lt;chr&gt;</th><th scope=col>&lt;chr&gt;</th><th scope=col>&lt;dbl&gt;</th><th scope=col>&lt;int&gt;</th><th scope=col>&lt;int&gt;</th><th scope=col>&lt;chr&gt;</th><th scope=col>&lt;dbl&gt;</th><th scope=col>&lt;chr&gt;</th><th scope=col>&lt;chr&gt;</th><th scope=col>&lt;chr&gt;</th><th scope=col>&lt;chr&gt;</th></tr>\n",
       "</thead>\n",
       "<tbody>\n",
       "\t<tr><th scope=row>1</th><td>1</td><td>1</td><td>Allen, Miss. Elisabeth Walton                  </td><td>female</td><td>29.0000</td><td>0</td><td>0</td><td>24160 </td><td>211.3375</td><td>S</td><td>live</td><td>1st</td><td>southampthon</td></tr>\n",
       "\t<tr><th scope=row>2</th><td>1</td><td>1</td><td>Allison, Master. Hudson Trevor                 </td><td>male  </td><td> 0.9167</td><td>1</td><td>2</td><td>113781</td><td>151.5500</td><td>S</td><td>live</td><td>1st</td><td>southampthon</td></tr>\n",
       "\t<tr><th scope=row>3</th><td>1</td><td>0</td><td>Allison, Miss. Helen Loraine                   </td><td>female</td><td> 2.0000</td><td>1</td><td>2</td><td>113781</td><td>151.5500</td><td>S</td><td>dead</td><td>1st</td><td>southampthon</td></tr>\n",
       "\t<tr><th scope=row>4</th><td>1</td><td>0</td><td>Allison, Mr. Hudson Joshua Creighton           </td><td>male  </td><td>30.0000</td><td>1</td><td>2</td><td>113781</td><td>151.5500</td><td>S</td><td>dead</td><td>1st</td><td>southampthon</td></tr>\n",
       "\t<tr><th scope=row>5</th><td>1</td><td>0</td><td>Allison, Mrs. Hudson J C (Bessie Waldo Daniels)</td><td>female</td><td>25.0000</td><td>1</td><td>2</td><td>113781</td><td>151.5500</td><td>S</td><td>dead</td><td>1st</td><td>southampthon</td></tr>\n",
       "\t<tr><th scope=row>6</th><td>1</td><td>1</td><td>Anderson, Mr. Harry                            </td><td>male  </td><td>48.0000</td><td>0</td><td>0</td><td>19952 </td><td> 26.5500</td><td>S</td><td>live</td><td>1st</td><td>southampthon</td></tr>\n",
       "</tbody>\n",
       "</table>\n"
      ],
      "text/latex": [
       "A data.frame: 6 × 13\n",
       "\\begin{tabular}{r|lllllllllllll}\n",
       "  & pclass & survived & name & sex & age & sibsp & parch & ticket & fare & embarked & life & seat & port\\\\\n",
       "  & <int> & <int> & <chr> & <chr> & <dbl> & <int> & <int> & <chr> & <dbl> & <chr> & <chr> & <chr> & <chr>\\\\\n",
       "\\hline\n",
       "\t1 & 1 & 1 & Allen, Miss. Elisabeth Walton                   & female & 29.0000 & 0 & 0 & 24160  & 211.3375 & S & live & 1st & southampthon\\\\\n",
       "\t2 & 1 & 1 & Allison, Master. Hudson Trevor                  & male   &  0.9167 & 1 & 2 & 113781 & 151.5500 & S & live & 1st & southampthon\\\\\n",
       "\t3 & 1 & 0 & Allison, Miss. Helen Loraine                    & female &  2.0000 & 1 & 2 & 113781 & 151.5500 & S & dead & 1st & southampthon\\\\\n",
       "\t4 & 1 & 0 & Allison, Mr. Hudson Joshua Creighton            & male   & 30.0000 & 1 & 2 & 113781 & 151.5500 & S & dead & 1st & southampthon\\\\\n",
       "\t5 & 1 & 0 & Allison, Mrs. Hudson J C (Bessie Waldo Daniels) & female & 25.0000 & 1 & 2 & 113781 & 151.5500 & S & dead & 1st & southampthon\\\\\n",
       "\t6 & 1 & 1 & Anderson, Mr. Harry                             & male   & 48.0000 & 0 & 0 & 19952  &  26.5500 & S & live & 1st & southampthon\\\\\n",
       "\\end{tabular}\n"
      ],
      "text/markdown": [
       "\n",
       "A data.frame: 6 × 13\n",
       "\n",
       "| <!--/--> | pclass &lt;int&gt; | survived &lt;int&gt; | name &lt;chr&gt; | sex &lt;chr&gt; | age &lt;dbl&gt; | sibsp &lt;int&gt; | parch &lt;int&gt; | ticket &lt;chr&gt; | fare &lt;dbl&gt; | embarked &lt;chr&gt; | life &lt;chr&gt; | seat &lt;chr&gt; | port &lt;chr&gt; |\n",
       "|---|---|---|---|---|---|---|---|---|---|---|---|---|---|\n",
       "| 1 | 1 | 1 | Allen, Miss. Elisabeth Walton                   | female | 29.0000 | 0 | 0 | 24160  | 211.3375 | S | live | 1st | southampthon |\n",
       "| 2 | 1 | 1 | Allison, Master. Hudson Trevor                  | male   |  0.9167 | 1 | 2 | 113781 | 151.5500 | S | live | 1st | southampthon |\n",
       "| 3 | 1 | 0 | Allison, Miss. Helen Loraine                    | female |  2.0000 | 1 | 2 | 113781 | 151.5500 | S | dead | 1st | southampthon |\n",
       "| 4 | 1 | 0 | Allison, Mr. Hudson Joshua Creighton            | male   | 30.0000 | 1 | 2 | 113781 | 151.5500 | S | dead | 1st | southampthon |\n",
       "| 5 | 1 | 0 | Allison, Mrs. Hudson J C (Bessie Waldo Daniels) | female | 25.0000 | 1 | 2 | 113781 | 151.5500 | S | dead | 1st | southampthon |\n",
       "| 6 | 1 | 1 | Anderson, Mr. Harry                             | male   | 48.0000 | 0 | 0 | 19952  |  26.5500 | S | live | 1st | southampthon |\n",
       "\n"
      ],
      "text/plain": [
       "  pclass survived name                                            sex   \n",
       "1 1      1        Allen, Miss. Elisabeth Walton                   female\n",
       "2 1      1        Allison, Master. Hudson Trevor                  male  \n",
       "3 1      0        Allison, Miss. Helen Loraine                    female\n",
       "4 1      0        Allison, Mr. Hudson Joshua Creighton            male  \n",
       "5 1      0        Allison, Mrs. Hudson J C (Bessie Waldo Daniels) female\n",
       "6 1      1        Anderson, Mr. Harry                             male  \n",
       "  age     sibsp parch ticket fare     embarked life seat port        \n",
       "1 29.0000 0     0     24160  211.3375 S        live 1st  southampthon\n",
       "2  0.9167 1     2     113781 151.5500 S        live 1st  southampthon\n",
       "3  2.0000 1     2     113781 151.5500 S        dead 1st  southampthon\n",
       "4 30.0000 1     2     113781 151.5500 S        dead 1st  southampthon\n",
       "5 25.0000 1     2     113781 151.5500 S        dead 1st  southampthon\n",
       "6 48.0000 0     0     19952   26.5500 S        live 1st  southampthon"
      ]
     },
     "metadata": {},
     "output_type": "display_data"
    }
   ],
   "source": [
    "head(titan)"
   ]
  },
  {
   "cell_type": "code",
   "execution_count": 95,
   "id": "dbffe609-dfb3-4290-b2cc-771957030384",
   "metadata": {},
   "outputs": [
    {
     "data": {
      "text/html": [
       "12.8372894541093"
      ],
      "text/latex": [
       "12.8372894541093"
      ],
      "text/markdown": [
       "12.8372894541093"
      ],
      "text/plain": [
       "[1] 12.83729"
      ]
     },
     "metadata": {},
     "output_type": "display_data"
    }
   ],
   "source": [
    "sqrt((sum((titan$age - (sum(titan$age) / length(titan$age)))^2)) / (length(titan$age) -1))"
   ]
  },
  {
   "cell_type": "code",
   "execution_count": 97,
   "id": "260dc5d4-8e7c-43e0-a461-845b2e33f9d6",
   "metadata": {},
   "outputs": [
    {
     "data": {
      "text/html": [
       "12.8372894541093"
      ],
      "text/latex": [
       "12.8372894541093"
      ],
      "text/markdown": [
       "12.8372894541093"
      ],
      "text/plain": [
       "[1] 12.83729"
      ]
     },
     "metadata": {},
     "output_type": "display_data"
    }
   ],
   "source": [
    "sd(titan$age)"
   ]
  },
  {
   "cell_type": "code",
   "execution_count": 99,
   "id": "9666d024-4a69-4c4e-a732-1bf6fbe22e18",
   "metadata": {},
   "outputs": [
    {
     "data": {
      "text/html": [
       "<strong>75%:</strong> 13"
      ],
      "text/latex": [
       "\\textbf{75\\textbackslash{}\\%:} 13"
      ],
      "text/markdown": [
       "**75%:** 13"
      ],
      "text/plain": [
       "75% \n",
       " 13 "
      ]
     },
     "metadata": {},
     "output_type": "display_data"
    }
   ],
   "source": [
    "quantile(titan$age, 0.75) - quantile(titan$age, 0.25)"
   ]
  },
  {
   "cell_type": "code",
   "execution_count": 100,
   "id": "88bd4a2f-d95d-41ba-9ef3-8336ed433bcc",
   "metadata": {},
   "outputs": [
    {
     "data": {
      "text/html": [
       "13"
      ],
      "text/latex": [
       "13"
      ],
      "text/markdown": [
       "13"
      ],
      "text/plain": [
       "[1] 13"
      ]
     },
     "metadata": {},
     "output_type": "display_data"
    }
   ],
   "source": [
    "IQR(titan$age)"
   ]
  },
  {
   "cell_type": "markdown",
   "id": "04b8d1e7-8733-4131-8210-0dfe78a392b8",
   "metadata": {},
   "source": [
    "### 교통사고 데이터 기술통계 분산화 경향 =\n",
    "데이터가 주로 범주형이라서 조건 검색후 데이터를 선별하지 않는 이상 적절한 분석이 의미없음"
   ]
  },
  {
   "cell_type": "code",
   "execution_count": null,
   "id": "ee27d35a-80cc-4761-9023-0943171e32e6",
   "metadata": {},
   "outputs": [],
   "source": []
  }
 ],
 "metadata": {
  "kernelspec": {
   "display_name": "R",
   "language": "R",
   "name": "ir"
  },
  "language_info": {
   "codemirror_mode": "r",
   "file_extension": ".r",
   "mimetype": "text/x-r-source",
   "name": "R",
   "pygments_lexer": "r",
   "version": "3.6.3"
  }
 },
 "nbformat": 4,
 "nbformat_minor": 5
}
