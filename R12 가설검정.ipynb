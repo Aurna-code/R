{
 "cells": [
  {
   "cell_type": "markdown",
   "id": "4d59c189-fbc6-43f7-98c6-2da0f1f9ac0e",
   "metadata": {},
   "source": [
    "## 추정\n",
    "+ 보통 어떤 집단(모집단)의 특징을 알고싶다 -> 전수조사\n",
    "+ 현실에서는 시간/비용상의 문제 때문에 모든 구성원 대상 조사는 힘듬\n",
    "    + 표본 이용(일부조사)\n",
    "+ 알고자 하는 모집단의 특징을 숫자로 표현\n",
    "    + 모수(평균, 분산, 비율, 표준편차)\n",
    "    + 표본으로 뽑은 데이터- 통계량, 추정치\n",
    "+ **표본의 통계량을 '모수'가 이럴것이다 라고 추리 -> 추정**\n",
    "    + ex) 평균키 파악"
   ]
  },
  {
   "cell_type": "markdown",
   "id": "5912cf37-26d3-4589-a2ef-215b007b4da6",
   "metadata": {},
   "source": [
    "ex) 한국 성인 남자의 평균 키 파악\n",
    "\n",
    "모집단 : 한국 성인 남자\n",
    "모수 : 평균\n",
    "=> 한국 성인남자 모두를 조사할 수 없으니 표본(남자 1000명)을 선정해서 평균을 구함\n",
    "=> 표본의 평균으로 모집단의 평균을 추리함\n",
    "추정은 일부 데이터로 전체를 추리하기 때문에 100% 정답은 아니고, 일부 오차는 존재함\n",
    "\n",
    "## 추정에는 점추정, 구간 추정이 있음\n",
    "\n",
    "+ 점추정\n",
    "\n",
    "추정치를 하나의 값(점)으로 표현\n",
    "성인 남자 평균 키 - 172.38cm(통계량)\n",
    "그런데, 진짜 한국 남성의 평균키가 172cm일까?\n",
    "\n",
    "\n",
    "당연히 그럴 확률은 희박 => 표본수 작음, 오차 존재\n",
    "따라서, 특성상 점추정은 신뢰하기 어려움\n",
    "ex) 서울 지역내 하이마트에서 UHD TV를 구매한 고객의 평균 나이 추정"
   ]
  },
  {
   "cell_type": "markdown",
   "id": "2777bf3a-07a6-4e97-8411-62db03b9ba70",
   "metadata": {},
   "source": [
    "+ 구간 추정\n",
    "\n",
    "추정치를 일정구간으로 설정\n",
    "\n",
    "즉, 신뢰도(신뢰수준)를 제시하면서 상한값과 하한값으로 추정\n",
    "\n",
    "\n",
    "성인 남자 평균 키 - 172.38cm(통계량) => 167 ~ 177cm (+-5)\n",
    "\n",
    "\n",
    "이렇게 하면, 이 구간에 모수가 포함될 확률이 높아짐\n",
    "\n",
    "추정치의 신뢰도를 높이고, 점추정치의 한계를 극복하기 위해 구간 추정을 사용함\n",
    "\n",
    "\n",
    "ex) 서울 지역 IT노동자의 연간 평균 급여가 200만원이다\n",
    "\n",
    "\n",
    "(점추정 - 신뢰도 하락)\n",
    "\n",
    "서울 지역 IT노동자의 연간 평균 급여가 180 ~ 220만원 사이에 있을 가능성이 85%이다\n",
    "\n",
    "\n",
    "(구간추정 -어느 정도 신뢰도 보장)\n",
    "\n",
    "## 신뢰구간\n",
    "\n",
    "점추정은 특성상 신뢰도가 떨어짐 => 구간추정으로 보완\n",
    "\n",
    "그러면, 구간추정시 어느정도까지 구간을 설정해야 할까?\n",
    "\n",
    "\n",
    "성인 남자 평균 키에 대한 구간추정을 150~190으로 잡으면? => 너무 넓음\n",
    "\n",
    "\n",
    "구간설정이 짧을수록 좋을까? 너무 짧아도 문제\n",
    "\n",
    "너무 넓지도, 짧지않게 나름의 기준에 따라 신뢰가능한 구간을 설정 - 신뢰구간 사용\n",
    "\n",
    "\n",
    "주어진 확률로 모집단의 모수가 존재할 것으로 예상되는 값의 범위 - 신뢰구간\n",
    "\n",
    "\n",
    "이때, 주어진 확률은 '신뢰수준'이라 함\n",
    "\n",
    "신뢰수준 - 표본으로부터 계산한 결과에 대해 확실성 정도를 표현하는 것으로, 추정값으로 모수를 맞출 확률을 의미\n",
    "\n",
    "\n",
    "90% ~ 99.9% 정도로 표현"
   ]
  },
  {
   "cell_type": "markdown",
   "id": "480d26a2-7255-486e-9937-7a69a6c1b439",
   "metadata": {},
   "source": []
  },
  {
   "cell_type": "markdown",
   "id": "ed39bb28-55ae-4aee-9bfa-f7ff85027c3d",
   "metadata": {},
   "source": [
    "## 표본 추출방법\n",
    "+ 표본조사 : 더조은 수강생 5000명 대상 사용중인 핸드폰 선호도 조사를 위해 25명 선정 \n",
    "    - 모집단 : 수강생 5000명 \n",
    "    - 표본 : 수강생 30명\n",
    "+ 단순 랜덤 : Simple Random Sampling \n",
    "    - 모집단 개체에 번호표 부여 후 30명 추출 추출틀 이용\n",
    "+ 계통 추출 : 기본적으로 SRS와 유사 단, '개체수/표본수'로 계산되는 k값을 알아냄 1 ~ n의 숫자중 하나를 선택하고 그 숫자에 k를 더해서 개체들을 선택 \n",
    "    - 예) k : 3000 / 30 => 100 \n",
    "    - 임의의 숫자 뽑음(1~3000): 25 25, 125, 225, 325,..., 2925\n",
    "+ 층화 추출 : 모집단을 몇개의 계층(고유특성)으로 나누어 표본 추출 \n",
    "    - ex) 모집단 : 3000명 => 남/여 수 파악 각 계층별로 번호 부여 : 남=2100, 여=900 \n",
    "    - 계층별 비율 계산 : 남여비율 = 7:3 따라서, 남자은 21명, 여자는 9명을 SRS으로 추출\n",
    "+ 군집 추출 : 모집단을 몇개의 군집(가변특성)으로 나누어 표본 추출 \n",
    "    - ex)모집단을 학력수준/거주지역으로 나눔 각 군집별로 번호부여 (고졸,대졸,대학원졸/서울/경기/부산)_ \n",
    "    - 임의의 그룹을 선택하고 번호표 부여후 비율별로 SRS 추출"
   ]
  },
  {
   "cell_type": "markdown",
   "id": "76642632-fbd5-4d46-9ca7-8332f8fa95ee",
   "metadata": {},
   "source": [
    "## 표본추출 : sample"
   ]
  },
  {
   "cell_type": "code",
   "execution_count": 3,
   "id": "562a75f2-62ae-4804-a06e-da8bc4cf791c",
   "metadata": {},
   "outputs": [
    {
     "data": {
      "text/html": [
       "2"
      ],
      "text/latex": [
       "2"
      ],
      "text/markdown": [
       "2"
      ],
      "text/plain": [
       "[1] 2"
      ]
     },
     "metadata": {},
     "output_type": "display_data"
    }
   ],
   "source": [
    "x <- c(1:10)\n",
    "sample(x, 1) # 10개 모집단에서 1개 표본 추출"
   ]
  },
  {
   "cell_type": "code",
   "execution_count": 27,
   "id": "a2f6eeae-e5cf-41a2-bd89-7fb79e3d4518",
   "metadata": {},
   "outputs": [
    {
     "data": {
      "text/html": [
       "<style>\n",
       ".list-inline {list-style: none; margin:0; padding: 0}\n",
       ".list-inline>li {display: inline-block}\n",
       ".list-inline>li:not(:last-child)::after {content: \"\\00b7\"; padding: 0 .5ex}\n",
       "</style>\n",
       "<ol class=list-inline><li>3</li><li>4</li><li>2</li><li>8</li><li>1</li></ol>\n"
      ],
      "text/latex": [
       "\\begin{enumerate*}\n",
       "\\item 3\n",
       "\\item 4\n",
       "\\item 2\n",
       "\\item 8\n",
       "\\item 1\n",
       "\\end{enumerate*}\n"
      ],
      "text/markdown": [
       "1. 3\n",
       "2. 4\n",
       "3. 2\n",
       "4. 8\n",
       "5. 1\n",
       "\n",
       "\n"
      ],
      "text/plain": [
       "[1] 3 4 2 8 1"
      ]
     },
     "metadata": {},
     "output_type": "display_data"
    }
   ],
   "source": [
    "sample(x, 5)"
   ]
  },
  {
   "cell_type": "code",
   "execution_count": 37,
   "id": "11c32519-75b7-4eb8-9d38-75388ce5ecfd",
   "metadata": {},
   "outputs": [
    {
     "data": {
      "text/html": [
       "<style>\n",
       ".list-inline {list-style: none; margin:0; padding: 0}\n",
       ".list-inline>li {display: inline-block}\n",
       ".list-inline>li:not(:last-child)::after {content: \"\\00b7\"; padding: 0 .5ex}\n",
       "</style>\n",
       "<ol class=list-inline><li>9</li><li>10</li><li>3</li><li>8</li><li>4</li></ol>\n"
      ],
      "text/latex": [
       "\\begin{enumerate*}\n",
       "\\item 9\n",
       "\\item 10\n",
       "\\item 3\n",
       "\\item 8\n",
       "\\item 4\n",
       "\\end{enumerate*}\n"
      ],
      "text/markdown": [
       "1. 9\n",
       "2. 10\n",
       "3. 3\n",
       "4. 8\n",
       "5. 4\n",
       "\n",
       "\n"
      ],
      "text/plain": [
       "[1]  9 10  3  8  4"
      ]
     },
     "metadata": {},
     "output_type": "display_data"
    }
   ],
   "source": [
    "sample(x, 5, replace=T) # 복원추출"
   ]
  },
  {
   "cell_type": "markdown",
   "id": "6d5c0707-2887-4f38-8d8f-e57db740bb2a",
   "metadata": {},
   "source": [
    "### 가중치를 부여한 표본추출\n",
    "+ 가중치 = 1:1, 2:2, 3:3, ~ 9:9, 10,10)"
   ]
  },
  {
   "cell_type": "code",
   "execution_count": 81,
   "id": "b15c88f1-6ea1-4d9f-aa77-bcb04f7a0fd2",
   "metadata": {},
   "outputs": [
    {
     "data": {
      "text/html": [
       "<style>\n",
       ".list-inline {list-style: none; margin:0; padding: 0}\n",
       ".list-inline>li {display: inline-block}\n",
       ".list-inline>li:not(:last-child)::after {content: \"\\00b7\"; padding: 0 .5ex}\n",
       "</style>\n",
       "<ol class=list-inline><li>5</li><li>7</li><li>8</li><li>10</li><li>9</li></ol>\n"
      ],
      "text/latex": [
       "\\begin{enumerate*}\n",
       "\\item 5\n",
       "\\item 7\n",
       "\\item 8\n",
       "\\item 10\n",
       "\\item 9\n",
       "\\end{enumerate*}\n"
      ],
      "text/markdown": [
       "1. 5\n",
       "2. 7\n",
       "3. 8\n",
       "4. 10\n",
       "5. 9\n",
       "\n",
       "\n"
      ],
      "text/plain": [
       "[1]  5  7  8 10  9"
      ]
     },
     "metadata": {},
     "output_type": "display_data"
    },
    {
     "data": {
      "text/html": [
       "<style>\n",
       ".list-inline {list-style: none; margin:0; padding: 0}\n",
       ".list-inline>li {display: inline-block}\n",
       ".list-inline>li:not(:last-child)::after {content: \"\\00b7\"; padding: 0 .5ex}\n",
       "</style>\n",
       "<ol class=list-inline><li>9</li><li>10</li><li>5</li><li>3</li><li>7</li></ol>\n"
      ],
      "text/latex": [
       "\\begin{enumerate*}\n",
       "\\item 9\n",
       "\\item 10\n",
       "\\item 5\n",
       "\\item 3\n",
       "\\item 7\n",
       "\\end{enumerate*}\n"
      ],
      "text/markdown": [
       "1. 9\n",
       "2. 10\n",
       "3. 5\n",
       "4. 3\n",
       "5. 7\n",
       "\n",
       "\n"
      ],
      "text/plain": [
       "[1]  9 10  5  3  7"
      ]
     },
     "metadata": {},
     "output_type": "display_data"
    },
    {
     "data": {
      "text/html": [
       "<style>\n",
       ".list-inline {list-style: none; margin:0; padding: 0}\n",
       ".list-inline>li {display: inline-block}\n",
       ".list-inline>li:not(:last-child)::after {content: \"\\00b7\"; padding: 0 .5ex}\n",
       "</style>\n",
       "<ol class=list-inline><li>10</li><li>5</li><li>9</li><li>6</li><li>3</li></ol>\n"
      ],
      "text/latex": [
       "\\begin{enumerate*}\n",
       "\\item 10\n",
       "\\item 5\n",
       "\\item 9\n",
       "\\item 6\n",
       "\\item 3\n",
       "\\end{enumerate*}\n"
      ],
      "text/markdown": [
       "1. 10\n",
       "2. 5\n",
       "3. 9\n",
       "4. 6\n",
       "5. 3\n",
       "\n",
       "\n"
      ],
      "text/plain": [
       "[1] 10  5  9  6  3"
      ]
     },
     "metadata": {},
     "output_type": "display_data"
    },
    {
     "data": {
      "text/html": [
       "<style>\n",
       ".list-inline {list-style: none; margin:0; padding: 0}\n",
       ".list-inline>li {display: inline-block}\n",
       ".list-inline>li:not(:last-child)::after {content: \"\\00b7\"; padding: 0 .5ex}\n",
       "</style>\n",
       "<ol class=list-inline><li>10</li><li>8</li><li>4</li><li>5</li><li>3</li></ol>\n"
      ],
      "text/latex": [
       "\\begin{enumerate*}\n",
       "\\item 10\n",
       "\\item 8\n",
       "\\item 4\n",
       "\\item 5\n",
       "\\item 3\n",
       "\\end{enumerate*}\n"
      ],
      "text/markdown": [
       "1. 10\n",
       "2. 8\n",
       "3. 4\n",
       "4. 5\n",
       "5. 3\n",
       "\n",
       "\n"
      ],
      "text/plain": [
       "[1] 10  8  4  5  3"
      ]
     },
     "metadata": {},
     "output_type": "display_data"
    }
   ],
   "source": [
    "sample(x, 5, prob=1:10)\n",
    "sample(x, 5, prob=1:10)\n",
    "sample(x, 5, prob=1:10)\n",
    "sample(x, 5, prob=1:10)"
   ]
  },
  {
   "cell_type": "markdown",
   "id": "5fc196b1-13dc-4083-808a-b5135e870b5b",
   "metadata": {},
   "source": [
    "## 추론통계의 두 갈래\n",
    "\n",
    "### 모집단으로부터 표본을 추출해서 모집단의 특성을 나타내는 모수에 대한 여러 가지 정보를 얻음 : 추론통계\n",
    "\n",
    "+ 통계적 추론 = 추정 + 가설검정\n",
    "\n",
    "## 가설검정\n",
    "\n",
    "추론 통계학에서 중요하게 여기는 3가지\n",
    "\n",
    "표본집단은 모집단을 대표할 수 있나?\n",
    "\n",
    "표본의 특성이 모집단을 잘 반영해야 함 -> 대표성을 지녀야 함\n",
    "\n",
    "표본의 확률분포는 어떤가?\n",
    "\n",
    "어떤 분포이냐에 따라 추정을 위한 기법이 다름\n",
    "\n",
    "단, 표본의 수가 많아지면 정규분포에 근사\n",
    "\n",
    "추정된 결과는 신뢰할 만 한가?\n",
    "\n",
    "추정된 결과를 활용할 지 결정하는 요소\n",
    "\n",
    "+ 통계적 가설검정\n",
    "\n",
    "세상에는 수 많은 분야에 걸쳐 다양한 이론/관념이 존재\n",
    "\n",
    "이러한 이론/관념들은 그 자체로 정답이라기 보다는 '이럴것이다'라는 하나의 가설에 불과\n",
    "\n",
    "정답은 아니고 가설이므로 항상 불완전함이 내포\n",
    "\n",
    "\n",
    "한편, 불완전함을 채우기 위해 새로운 가설이 등장하기도 함\n",
    "\n",
    "\n",
    "ex) 우주에 대한 가설\n",
    "\n",
    "\n",
    "신화적 상상 -> 천동설 -> 지동설\n",
    "\n",
    "그런데, 새로운 가설이 이전가설보다 늘 합리적이고 신뢰적일까?\n",
    "\n",
    "\n",
    "오히려 이전 가설이 더 합리적일수도 있음\n",
    "\n",
    "\n",
    "따라서, 두 가설중 어떤 가설이 더 신뢰성있고 정확한지 판단해야 할 필요가 있음"
   ]
  },
  {
   "cell_type": "markdown",
   "id": "1ea5b46f-d283-4753-90bd-4b4438eec21e",
   "metadata": {},
   "source": [
    "### 이 과정을 가설검정이라 함\n",
    "\n",
    "_ 통계적 관점의 가설\n",
    "\n",
    "_ 검정을 전제로 모집단의 모수에 대한 진술 또는 가정\n",
    "\n",
    "\n",
    "ex) 하이마트에서 일하는 모든 종업원의 평균임금은 200만원이다 - 가설\n",
    "\n",
    "\n",
    "이 가설이 옳은지 알아보기 위해서는 모든 영업점을 다 돌아봐야 함 - 사실상 불가능\n",
    "\n",
    "\n",
    "=> 일정 수의 표본을 추출해서 표본 통계량을 조사하고 결정규칙에 따라 가설을 채택하거나 기각할 수 있음\n",
    "\n",
    "표본 통계량 조사 후 :\n",
    "\n",
    "\n",
    "1) 표본평균 100만원 -> 가설기각\n",
    "\n",
    "2) 표본평균 196만원 -> 가설채택? 오차 허용여부는?\n",
    "\n",
    "통계적 관점의 검정\n",
    "\n",
    "가설이 타당성 있는 진술인지 결정하기 위해 표본증거와 확률이론에 기반하여 수행하는 과정\n",
    "\n",
    "\n",
    "이러한 검정은 수학적 증명을 동반하지 않고 받아들일 만한 확률적 증거만을 제공\n",
    "\n",
    "\n",
    "따라서, 해석능력, 경험이 어느정도 동반되어야 함"
   ]
  },
  {
   "cell_type": "markdown",
   "id": "6d82a97e-c8ad-40b0-b927-c0a7afcea078",
   "metadata": {},
   "source": [
    "## 가설검정의 6가지 절차\n",
    "\n",
    "### 귀무/대립가설 설정 -> 유의수준(채택조건) 선정 -> 검정 통계량 선택 -> 결정규칙 수립 -> 표본추출, 결론도출 -> 결과 해석"
   ]
  },
  {
   "cell_type": "markdown",
   "id": "4b47feda-2efb-4974-96c8-fe0870322e4b",
   "metadata": {},
   "source": [
    "### 귀무/대립가설 설정\n",
    "\n",
    "검정하고자 하는 가설을 설정\n",
    "\n",
    "\n",
    "귀무(null)가설 $H_0$\n",
    "\n",
    "\n",
    "수치증거를 검정하기 위한 목표로 만들어진 모집단 모수값에 대한 진술(가정)\n",
    "\n",
    "대립(alternative)가설$H_1$\n",
    "\n",
    "\n",
    "표본 데이터 정보로 귀무가설이 거짓이라는 충분한 증거를 제시할 때 채택되는 진술\n",
    "\n",
    "ex) 상업적 항공기의 평균수명은 25년인지 알고 싶다\n",
    "\n",
    "\n",
    "귀무가설 : 평균수명은 25년이다 (=)\n",
    "\n",
    "대립가설 : 평균수명은 25년이 아니다/25년이상/25년이하(>,<,!=)"
   ]
  },
  {
   "cell_type": "markdown",
   "id": "091edb62-ddd8-494b-92ba-ad521cca1e22",
   "metadata": {},
   "source": [
    "### 유의수준 선정\n",
    "\n",
    "귀무가설을 기각하게 되는 확률\n",
    "\n",
    "\n",
    "일반적으로 소비자 관련 - 0.05\n",
    "\n",
    "품질보증 관련 - 0.01\n",
    "\n",
    "정치 여론 조사관련 - 0.10\n",
    "\n",
    "ex) 전자회로기판PCB 생산업체에서 불량률이 6% 이하일때 계약업체로 선적해서 납품한다는 품질보증계약 체결함\n",
    "\n",
    "\n",
    "귀무가설H0: 불량률 6% 이하 - 선적 o\n",
    "\n",
    "대립가설H1: 불량률 6% 초과 - 선적 x\n",
    "\n",
    "\n",
    "4000개의 회로판에서 표본 50개 추출\n",
    "\n",
    "\n",
    "-> 4개가 불량 -> 0.08 -> 8% -> 선적x\n",
    "\n",
    "그런데, 4개의 불량이 전체 4000개에서 유일하다면?\n",
    "\n",
    "=> 불량률 0.1% -> 선적취소는 잘못된 결정\n",
    "\n",
    "=> 귀무가설이 옳지만 기각했음 (제1종오류(알파$\\alpha$))\n",
    "\n",
    "4000개의 회로판에서 표본 50개 추출\n",
    "\n",
    "\n",
    "-> 2개가 불량 -> 0.04 -> 4% -> 선적o\n",
    "\n",
    "그런데, 48개 정상품이 전체 4000개에서 유일\n",
    "\n",
    "-> 불량률 98.8% -> 선적허용은 잘못된 결정\n",
    "\n",
    "=> 귀무가설이 틀리지만 기각못함 (제2종오류(베타$\\beta$))"
   ]
  },
  {
   "cell_type": "markdown",
   "id": "153bd502-d871-4cdc-b7ea-2014f2f50172",
   "metadata": {},
   "source": [
    "### 검정 통계량 선택\n",
    "\n",
    "귀무가설을 기각할 것인지를 결정하기 위해서 표본으로부터 계산된 값\n",
    "\n",
    "\n",
    "일반적으로 z검정값, t검정값등을 사용\n",
    "\n",
    "\n",
    "상황에 따라 F/카이제곱 검정값도 사용\n",
    "\n"
   ]
  },
  {
   "cell_type": "markdown",
   "id": "c9b8d384-4dba-40f0-83b8-96b2cc265a83",
   "metadata": {},
   "source": [
    "### 결정규칙 수립 - 단측/양측 검정\n",
    "\n",
    "귀무가설이 기각될 특정 조건과 기각되지 않을 조건을 명시\n",
    "\n",
    "일반적으로 기각영역은 귀무가설이 발생할 가능성이 없도록 작게 설정\n",
    "\n",
    "\n",
    "단측검정 : one-side, 한쪽 꼬리 검정\n",
    "\n",
    "\n",
    "방향성(크다/작다)이 대립가설에 포함되는 경우 시행하는 검정\n",
    "\n",
    "우측(오른쪽) 단측검정\n",
    "\n",
    "\n",
    "ex) 농심의 '오징어다리' 스낵의 포장중량이 500g미만인지 검정한다고 가정\n",
    "\n",
    "\n",
    "귀무가설 : 포장중량이 500g미만\n",
    "\n",
    "\n",
    "대립가설 : 포장중량이 500g이상\n",
    "\n",
    "유의수준 0.05일때 귀무가설이 기각될 영역(기각역)은 임계값 1.645 기준 오른쪽 영역\n",
    "\n",
    "임계값 : 귀무가설을 채택하거나 기각할 영역 사이의 분기점\n",
    "\n",
    "좌측(왼쪽) 단측검정\n",
    "\n",
    "\n",
    "ex) 현대 자동차에 장착되는 타이어의 평균 수명이 50000km 이상인지 검정\n",
    "\n",
    "\n",
    "귀무가설 : 평균 수명이 50000km 이상\n",
    "\n",
    "\n",
    "대립가설 : 평균 수명이 50000km 미만\n",
    "\n",
    "\n",
    "유의수준 0.05일때 귀무가설이 기각될 영역(기각역)은 임계값 -1.645 기준 왼쪽 영역\n",
    "\n",
    "\n",
    "양측검정 - two sided, 양쪽 꼬리 검정\n",
    "\n",
    "\n",
    "방향성(크다/작다)이 대립가설에 포함되지 않는 경우 시행하는 검정\n",
    "\n",
    "\n",
    "ex) 회계사의 연평균 수입은 5500만원인가?\n",
    "\n",
    "\n",
    "귀무가설 : 연평균 수입은 5500만원 이다\n",
    "\n",
    "대립가설 : 연평균 수입은 5500만원 아니다\n",
    "\n",
    "\n",
    "유의수준 0.05일때 귀무가설이 기각된 영역은 임계값 -1.96(0.025)/1.96(0.025) 기준 양쪽 영역임\n",
    "\n",
    "\n"
   ]
  },
  {
   "cell_type": "markdown",
   "id": "e9df4875-913b-4a1e-8d68-162eb8190909",
   "metadata": {},
   "source": [
    "### 결론도출\n",
    "\n",
    "만약, 계산된 검정 통계량 z값이 기각역을 넘는 값이라면 (ex: 2.34) 귀무가설은 기각됨\n",
    "\n",
    "\n",
    "계산된 검정 통계량 z값이 기각역을 넘지 않는 값이라면 (ex: 0.71) 귀무가설은 채택됨\n",
    "\n",
    "\n",
    "하지만, 1종오류/2종오류가 발생할 수도 있음\n",
    "\n",
    "\n",
    "유의확률 p-value\n",
    "\n",
    "\n",
    "귀무가설이 참이라고 가정할때 주어진 데이터가 관측될 확률\n",
    "\n",
    "또는 극단적인 데이터가 관측될 확률을 의미\n",
    "\n",
    "따라서, '유의확률이 유의수준보다 작으면 귀무가설을 기각할 수 있음' (중요!)\n",
    "\n",
    "\n",
    "\n"
   ]
  },
  {
   "cell_type": "markdown",
   "id": "49247a2b-4e0f-46f6-be61-81cb25372938",
   "metadata": {},
   "source": [
    "### 결과 해석\n",
    "\n",
    "통계를 이용해서 가설검정이 모든 분야의 가설을 다 판단하지 못함\n",
    "\n",
    "수학적 특성상 제약이 존재(표본의 편중)\n",
    "\n",
    "판단의 의사결정시 수학적 방법을 이용하는 것도 좋지만, 수학의 틀에서 벗어나 의사결정하는 것도 좋음\n",
    "\n",
    "\n",
    "=> 동물적 직감, 영감을 이용\n",
    "\n",
    "즉, 참/거짓이 존재하는 수학적 가설과는 달리 통계적 가설은 참/거짓의 유무보다는 확률만 존재함\n",
    "\n",
    "\n",
    "언제나 틀릴 가능성 내포\n",
    "\n",
    "ex) 회계사의 연평균 수입은 5500만원인가?\n",
    "\n",
    "\n",
    "귀무가설 : 연평균 수입은 5500만원 이다\n",
    "\n",
    "대립가설 : 연평균 수입은 5500만원 아니다\n",
    "\n",
    "\n",
    "결론 : 연평균 수입은 5500만원 이다 (x)\n",
    "\n",
    "\n",
    "연평균 수입이 5500만원일/아닐 확률이 다소 높다/낮다 (o)"
   ]
  },
  {
   "cell_type": "markdown",
   "id": "1dade026-1896-4908-bc26-59ae629bb01a",
   "metadata": {},
   "source": [
    "### 커피판매점 방문자 성인 키 조사\n",
    "+ 성인 키 67.6인치(172cm) 이다/아니다\n",
    "+ 귀무가설 : 아니다\n",
    "+ 대립가설 : 이다\n",
    "+ 검정방법 : 양측검정\n",
    "+ 단일표본 t검정 : t.test(표본, 평균, 검정방법)"
   ]
  },
  {
   "cell_type": "code",
   "execution_count": 86,
   "id": "fe8a4462-824a-4d49-810e-ece0832595a5",
   "metadata": {},
   "outputs": [],
   "source": [
    "data <- read.csv('coffee.csv')"
   ]
  },
  {
   "cell_type": "code",
   "execution_count": 87,
   "id": "fdbe9834-072c-4adb-a0f8-77d8021e2882",
   "metadata": {},
   "outputs": [
    {
     "data": {
      "text/html": [
       "<table class=\"dataframe\">\n",
       "<caption>A data.frame: 6 × 4</caption>\n",
       "<thead>\n",
       "\t<tr><th></th><th scope=col>user_id</th><th scope=col>age</th><th scope=col>drinks_coffee</th><th scope=col>height</th></tr>\n",
       "\t<tr><th></th><th scope=col>&lt;int&gt;</th><th scope=col>&lt;fct&gt;</th><th scope=col>&lt;fct&gt;</th><th scope=col>&lt;dbl&gt;</th></tr>\n",
       "</thead>\n",
       "<tbody>\n",
       "\t<tr><th scope=row>1</th><td>4509</td><td>&lt;21 </td><td>False</td><td>64.53818</td></tr>\n",
       "\t<tr><th scope=row>2</th><td>1864</td><td>&gt;=21</td><td>True </td><td>65.82425</td></tr>\n",
       "\t<tr><th scope=row>3</th><td>2060</td><td>&lt;21 </td><td>False</td><td>71.31985</td></tr>\n",
       "\t<tr><th scope=row>4</th><td>7875</td><td>&gt;=21</td><td>True </td><td>68.56940</td></tr>\n",
       "\t<tr><th scope=row>5</th><td>6254</td><td>&lt;21 </td><td>True </td><td>64.02023</td></tr>\n",
       "\t<tr><th scope=row>6</th><td>3742</td><td>&lt;21 </td><td>False</td><td>63.49178</td></tr>\n",
       "</tbody>\n",
       "</table>\n"
      ],
      "text/latex": [
       "A data.frame: 6 × 4\n",
       "\\begin{tabular}{r|llll}\n",
       "  & user\\_id & age & drinks\\_coffee & height\\\\\n",
       "  & <int> & <fct> & <fct> & <dbl>\\\\\n",
       "\\hline\n",
       "\t1 & 4509 & <21  & False & 64.53818\\\\\n",
       "\t2 & 1864 & >=21 & True  & 65.82425\\\\\n",
       "\t3 & 2060 & <21  & False & 71.31985\\\\\n",
       "\t4 & 7875 & >=21 & True  & 68.56940\\\\\n",
       "\t5 & 6254 & <21  & True  & 64.02023\\\\\n",
       "\t6 & 3742 & <21  & False & 63.49178\\\\\n",
       "\\end{tabular}\n"
      ],
      "text/markdown": [
       "\n",
       "A data.frame: 6 × 4\n",
       "\n",
       "| <!--/--> | user_id &lt;int&gt; | age &lt;fct&gt; | drinks_coffee &lt;fct&gt; | height &lt;dbl&gt; |\n",
       "|---|---|---|---|---|\n",
       "| 1 | 4509 | &lt;21  | False | 64.53818 |\n",
       "| 2 | 1864 | &gt;=21 | True  | 65.82425 |\n",
       "| 3 | 2060 | &lt;21  | False | 71.31985 |\n",
       "| 4 | 7875 | &gt;=21 | True  | 68.56940 |\n",
       "| 5 | 6254 | &lt;21  | True  | 64.02023 |\n",
       "| 6 | 3742 | &lt;21  | False | 63.49178 |\n",
       "\n"
      ],
      "text/plain": [
       "  user_id age  drinks_coffee height  \n",
       "1 4509    <21  False         64.53818\n",
       "2 1864    >=21 True          65.82425\n",
       "3 2060    <21  False         71.31985\n",
       "4 7875    >=21 True          68.56940\n",
       "5 6254    <21  True          64.02023\n",
       "6 3742    <21  False         63.49178"
      ]
     },
     "metadata": {},
     "output_type": "display_data"
    }
   ],
   "source": [
    "head(data)"
   ]
  },
  {
   "cell_type": "code",
   "execution_count": 88,
   "id": "67ead531-7f6a-4640-a0a4-b3fb2721bb55",
   "metadata": {},
   "outputs": [
    {
     "data": {
      "text/html": [
       "67.5974869730793"
      ],
      "text/latex": [
       "67.5974869730793"
      ],
      "text/markdown": [
       "67.5974869730793"
      ],
      "text/plain": [
       "[1] 67.59749"
      ]
     },
     "metadata": {},
     "output_type": "display_data"
    }
   ],
   "source": [
    "mean(data$height)"
   ]
  },
  {
   "cell_type": "code",
   "execution_count": 89,
   "id": "274656ba-7012-4166-9e58-5c4d1bc85223",
   "metadata": {},
   "outputs": [
    {
     "data": {
      "text/html": [
       "3.11943320655034"
      ],
      "text/latex": [
       "3.11943320655034"
      ],
      "text/markdown": [
       "3.11943320655034"
      ],
      "text/plain": [
       "[1] 3.119433"
      ]
     },
     "metadata": {},
     "output_type": "display_data"
    }
   ],
   "source": [
    "sd(data$height)"
   ]
  },
  {
   "cell_type": "code",
   "execution_count": 98,
   "id": "84da7316-4a85-40a7-a2fd-f7945391c5a4",
   "metadata": {},
   "outputs": [
    {
     "data": {
      "text/plain": [
       "\n",
       "\tOne Sample t-test\n",
       "\n",
       "data:  data$height\n",
       "t = -0.043933, df = 2973, p-value = 0.965\n",
       "alternative hypothesis: true mean is not equal to 67.6\n",
       "95 percent confidence interval:\n",
       " 67.48533 67.70964\n",
       "sample estimates:\n",
       "mean of x \n",
       " 67.59749 \n"
      ]
     },
     "metadata": {},
     "output_type": "display_data"
    }
   ],
   "source": [
    "t.test(data$height, mu=67.6) #양측검정\n",
    "# 임계값 : 양측검정 -1.96/1.96\n",
    "# t 검정값 : -1.96 < t검정값 : 귀무가설 채택\n",
    "# 유의확률 : 0.965 > 유의수준 0.05 귀무가설 채택"
   ]
  },
  {
   "cell_type": "markdown",
   "id": "47c6e6b9-0dff-4b13-9bfe-6d89da90262e",
   "metadata": {},
   "source": [
    "### t = -0.43933, p-value = 0.965"
   ]
  },
  {
   "cell_type": "code",
   "execution_count": 97,
   "id": "3005c33d-a4b5-4338-bd4e-8eb93be2df90",
   "metadata": {},
   "outputs": [
    {
     "data": {
      "text/plain": [
       "\n",
       "\tOne Sample t-test\n",
       "\n",
       "data:  data$height\n",
       "t = 1181.7, df = 2973, p-value < 2.2e-16\n",
       "alternative hypothesis: true mean is not equal to 0\n",
       "95 percent confidence interval:\n",
       " 67.48533 67.70964\n",
       "sample estimates:\n",
       "mean of x \n",
       " 67.59749 \n"
      ]
     },
     "metadata": {},
     "output_type": "display_data"
    }
   ],
   "source": [
    "t.test(data$height)"
   ]
  },
  {
   "cell_type": "markdown",
   "id": "54726337-a92d-437b-8a66-61fc1eba2952",
   "metadata": {},
   "source": [
    "#### 2010년 어느 지역 중학교 1학년 남학생의 몸무게를 전수조사하니 평균 63kg, 표준편차 8.0kg이 나왔다.\n",
    "#### 2015년 15명의 남학생을 표본추출한 몸무게가 70.2, 54.9, 67.0, 60.5, 63.4, 61.9, 65.9, 71.8, 66.1, 72.6, 73.0, 68.7, 70.3, 66.2, 55.6 일때\n",
    "#### 이 지역 남학생의 몸무게는 5년전에 비해 증가했는가?"
   ]
  },
  {
   "cell_type": "markdown",
   "id": "d5baceda-6a53-46b7-ba9f-4467ea6cafdb",
   "metadata": {},
   "source": [
    "#### 귀무가설 : 2015년 남학생 평균 몸무게는 2010년에 비해 변화 없이 63kg이다\n",
    "#### 대립가설 : 2015년 남학생 평균 몸무게는 2010년 63kg 에 비해 무거워졌다 \n",
    "방향성 있는 대립가설 : 단측검정"
   ]
  },
  {
   "cell_type": "markdown",
   "id": "236f2d90-8756-497f-bf3d-4fd06d557e7e",
   "metadata": {},
   "source": [
    "유의수준 - 0.05 설정"
   ]
  },
  {
   "cell_type": "markdown",
   "id": "7b4f616f-b249-45f8-88fc-8713526f999e",
   "metadata": {},
   "source": [
    "검정통계량 - t검정 설정"
   ]
  },
  {
   "cell_type": "markdown",
   "id": "8d630747-45cc-48e2-a68e-f68080b7cd72",
   "metadata": {},
   "source": [
    "결정규칙 - 증가 + 방향성 여부를 따지므로 단측검정"
   ]
  },
  {
   "cell_type": "markdown",
   "id": "ac8b2194-411c-44d5-b01b-c068830f3bcc",
   "metadata": {},
   "source": [
    "자유도 - 단일표본 검정시 n-1 -> 14"
   ]
  },
  {
   "cell_type": "markdown",
   "id": "8450557c-e031-42b3-a2a5-65a44431804b",
   "metadata": {},
   "source": [
    "임계값 - t-table에서 검정유형, 자유도로 판단 -> 1.761"
   ]
  },
  {
   "cell_type": "code",
   "execution_count": 99,
   "id": "7cffb0fb-295e-4998-868a-9fd1566d0620",
   "metadata": {},
   "outputs": [],
   "source": [
    "weight <- c(70.2, 54.9, 67.0, 60.5, 63.4, 61.9, 65.9, 71.8, 66.1, 72.6, 73.0, 68.7, 70.3, 66.2, 55.6)"
   ]
  },
  {
   "cell_type": "code",
   "execution_count": 101,
   "id": "0a68d7da-4fe9-48f6-9f04-e80741c80806",
   "metadata": {},
   "outputs": [
    {
     "data": {
      "text/plain": [
       "\n",
       "\tOne Sample t-test\n",
       "\n",
       "data:  weight\n",
       "t = 1.9507, df = 14, p-value = 0.0357\n",
       "alternative hypothesis: true mean is greater than 63\n",
       "95 percent confidence interval:\n",
       " 63.27896      Inf\n",
       "sample estimates:\n",
       "mean of x \n",
       " 65.87333 \n"
      ]
     },
     "metadata": {},
     "output_type": "display_data"
    }
   ],
   "source": [
    "t.test(weight, mu=63, alternative=c('greater'))"
   ]
  },
  {
   "cell_type": "code",
   "execution_count": 102,
   "id": "8a9c2de1-b658-46cb-aa81-c8fa8e1a6023",
   "metadata": {},
   "outputs": [],
   "source": [
    "# 어떤 보험회사의 클레임 평균 처리비용이 60달러라 할때,\n",
    "\n",
    "# 비용절감 정책을 도입한 효과를 알아보려 한다\n",
    "\n",
    "# 지난달 처리된 26건의 클레임을 표본으로 채택할때\n",
    "\n",
    "# 유의수준 0.01에서 처리비용이 평균 60미만인지 검정하시요\n",
    "\n",
    "# 단, 유의수준 0.01의 임계값은 2.485/-2.485이다"
   ]
  },
  {
   "cell_type": "markdown",
   "id": "6d9e99fc-6ef7-410b-b777-32b14a1e8d73",
   "metadata": {},
   "source": [
    "귀무가설 : 지난달 처리된 26건의 클레임 표본의 처리비용은 유의수준 0.01에서 평균 60 이상이다.\n",
    "\n",
    "대립가설 : 지난달 처리된 26건의 클레임 표본의 처리비용은 유의수준 0.01에서 평균 60 미만이다."
   ]
  },
  {
   "cell_type": "markdown",
   "id": "1e42f67e-0476-4593-a579-62dae0ee269f",
   "metadata": {},
   "source": [
    "유의수준 : 0.01"
   ]
  },
  {
   "cell_type": "markdown",
   "id": "4456ddd5-6e6d-4553-8983-58d1dbc4a5d9",
   "metadata": {},
   "source": [
    "검정통계량 - t검정 "
   ]
  },
  {
   "cell_type": "markdown",
   "id": "fba96a36-0a4f-40d2-b103-23187b50a77a",
   "metadata": {},
   "source": [
    "결정규칙 - 미만 (-) 여부를 따지므로 단측검정 "
   ]
  },
  {
   "cell_type": "markdown",
   "id": "0cc95bc6-3cf0-4654-8e3c-5b2e2575946d",
   "metadata": {},
   "source": [
    "자유도 - 단일표본 검정시 n-1 -> 25"
   ]
  },
  {
   "cell_type": "markdown",
   "id": "5990ee27-0e25-45a1-85d6-25c0aba90979",
   "metadata": {},
   "source": [
    "임계값 - t-table에서 검정유형, 자유도로 판단 -> 2.485 / -2.485"
   ]
  },
  {
   "cell_type": "code",
   "execution_count": 106,
   "id": "e903a227-7c4a-4d19-a3ff-27877ca7d4f6",
   "metadata": {},
   "outputs": [],
   "source": [
    "claim <- c(45, 49, 62, 40, 43, 61, 48, 53, 67, 63, 78, 64, 76, 48, 54, 51, 56, 63, 69, 58, 51, 58, 59, 56, 57, 38)"
   ]
  },
  {
   "cell_type": "markdown",
   "id": "2cc2fec2-2d05-4b1c-8206-089ae41addc0",
   "metadata": {},
   "source": [
    "#### 정규성 검사"
   ]
  },
  {
   "cell_type": "code",
   "execution_count": 116,
   "id": "f00bddd7-4f83-40c5-8fbe-8b8b90af44ae",
   "metadata": {},
   "outputs": [
    {
     "data": {
      "image/png": "[encoded data removed]",
      "text/plain": [
       "Plot with title “Histogram of claim”"
      ]
     },
     "metadata": {
      "image/png": {
       "height": 420,
       "width": 420
      }
     },
     "output_type": "display_data"
    }
   ],
   "source": [
    "hist(claim, probability=T)\n",
    "lines(density(claim), col='red')"
   ]
  },
  {
   "cell_type": "code",
   "execution_count": 119,
   "id": "c86240ff-6aa1-4ed5-b2e8-c9dfaec48dfd",
   "metadata": {},
   "outputs": [
    {
     "data": {
      "image/png": "[encoded data removed]",
      "text/plain": [
       "Plot with title “Normal Q-Q Plot”"
      ]
     },
     "metadata": {
      "image/png": {
       "height": 420,
       "width": 420
      }
     },
     "output_type": "display_data"
    }
   ],
   "source": [
    "qqnorm(claim)\n",
    "qqline(claim, col='red')"
   ]
  },
  {
   "cell_type": "code",
   "execution_count": 120,
   "id": "59bc5146-bfb2-4d57-a22d-48f71ae7a527",
   "metadata": {},
   "outputs": [
    {
     "data": {
      "text/plain": [
       "\n",
       "\tShapiro-Wilk normality test\n",
       "\n",
       "data:  claim\n",
       "W = 0.98413, p-value = 0.9472\n"
      ]
     },
     "metadata": {},
     "output_type": "display_data"
    }
   ],
   "source": [
    "shapiro.test(claim) "
   ]
  },
  {
   "cell_type": "markdown",
   "id": "9b08f92e-cf08-41c9-a729-71032f5c496f",
   "metadata": {},
   "source": [
    "### 샤피로 테스트에서 유의수준 0.05를 기준으로 보고 작으면 귀무가설 기각 크면 귀무가설 채택\n",
    "+ 귀무가설 : 표본은 정규성을 따른다, 대립가설 : 표본은 정규성을 따르지 않는다)"
   ]
  },
  {
   "cell_type": "code",
   "execution_count": 113,
   "id": "41b4e561-ef86-4909-b106-28a23392dd0c",
   "metadata": {},
   "outputs": [
    {
     "data": {
      "text/plain": [
       "\n",
       "\tOne Sample t-test\n",
       "\n",
       "data:  claim\n",
       "t = -1.8165, df = 25, p-value = 0.04065\n",
       "alternative hypothesis: true mean is less than 60\n",
       "99 percent confidence interval:\n",
       "     -Inf 61.31657\n",
       "sample estimates:\n",
       "mean of x \n",
       " 56.42308 \n"
      ]
     },
     "metadata": {},
     "output_type": "display_data"
    }
   ],
   "source": [
    "t.test(claim, mu=60, conf.level = 0.99, alternative=c('less'))"
   ]
  },
  {
   "cell_type": "code",
   "execution_count": 114,
   "id": "6bff30b0-c8fd-48c4-9793-ed3fd2894d67",
   "metadata": {},
   "outputs": [
    {
     "data": {
      "text/html": [
       "56.4230769230769"
      ],
      "text/latex": [
       "56.4230769230769"
      ],
      "text/markdown": [
       "56.4230769230769"
      ],
      "text/plain": [
       "[1] 56.42308"
      ]
     },
     "metadata": {},
     "output_type": "display_data"
    }
   ],
   "source": [
    "mean(claim)"
   ]
  },
  {
   "cell_type": "markdown",
   "id": "93443137-815e-4464-8323-b6a15db70fbc",
   "metadata": {},
   "source": [
    "### 표본의 정규성\n",
    "\n",
    "* 정규성 검정은 표본집단의 분포상태를 확인해서\n",
    "\n",
    "* 모집단의 확률분포가 정규분포곡선을 따르는지 검정하는 것을 의미\n",
    "\n",
    "\n",
    "### 정규성 확인 방법\n",
    "\n",
    "* 히스토그램이용 : 시각적으로 확인 (종모양 여부)\n",
    "\n",
    "* 분위수 그래프 : QQ 도표 (분위수/분위수 그래프)\n",
    "\n",
    "* shapiro-wilk 함수 이용 : shapiro-test"
   ]
  },
  {
   "cell_type": "code",
   "execution_count": null,
   "id": "4d611ff4-48de-4618-940f-10eb842a339a",
   "metadata": {},
   "outputs": [],
   "source": [
    "# 건장한 남성이 하루에 소비하는 물의 양은 평균 1.4리터인 정규분포를 따른다\n",
    "\n",
    "# 건강 캠페인으로 하루 최소 2리터를 마실것을 권고하였다. \n",
    "\n",
    "# 10명의 성인 남성을 뽑아서 조사해보니 1.5, 1.6, 1.5, 1.4, 1.9, 1.4, 1.3, 1.9, 1.8, 1.7 일때\n",
    "\n",
    "# 유의수준 0.01에서 물 소비량은 증가했다고 볼 수 있나?"
   ]
  },
  {
   "cell_type": "code",
   "execution_count": 121,
   "id": "d5cc623a-3a4f-4bae-b892-0e1e269d70c7",
   "metadata": {},
   "outputs": [],
   "source": [
    "water <-c(1.5, 1.6, 1.5, 1.4, 1.9, 1.4, 1.3, 1.9, 1.8, 1.7)"
   ]
  },
  {
   "cell_type": "code",
   "execution_count": 128,
   "id": "4df5d7e7-1823-4c0e-930e-4fbf73bdbb4a",
   "metadata": {},
   "outputs": [
    {
     "data": {
      "image/png": "[encoded data removed]",
      "text/plain": [
       "Plot with title “Histogram of water”"
      ]
     },
     "metadata": {
      "image/png": {
       "height": 420,
       "width": 420
      }
     },
     "output_type": "display_data"
    }
   ],
   "source": [
    "hist(water, breaks=10, probability=T)\n",
    "lines(density(water), col='red')"
   ]
  },
  {
   "cell_type": "code",
   "execution_count": 123,
   "id": "ebf1e47e-7f4c-4045-bf69-22c0b9e7c100",
   "metadata": {},
   "outputs": [
    {
     "data": {
      "image/png": "[encoded data removed]",
      "text/plain": [
       "Plot with title “Normal Q-Q Plot”"
      ]
     },
     "metadata": {
      "image/png": {
       "height": 420,
       "width": 420
      }
     },
     "output_type": "display_data"
    }
   ],
   "source": [
    "qqnorm(water)\n",
    "qqline(water, col='red')"
   ]
  },
  {
   "cell_type": "code",
   "execution_count": 125,
   "id": "bce11f8e-62d5-4743-9a85-a27dec36cc77",
   "metadata": {},
   "outputs": [
    {
     "data": {
      "text/plain": [
       "\n",
       "\tShapiro-Wilk normality test\n",
       "\n",
       "data:  water\n",
       "W = 0.92418, p-value = 0.3931\n"
      ]
     },
     "metadata": {},
     "output_type": "display_data"
    }
   ],
   "source": [
    "shapiro.test(water)"
   ]
  },
  {
   "cell_type": "code",
   "execution_count": 126,
   "id": "bada6d1a-9352-4ef2-b129-ceb01f91574a",
   "metadata": {},
   "outputs": [
    {
     "data": {
      "text/plain": [
       "\n",
       "\tOne Sample t-test\n",
       "\n",
       "data:  water\n",
       "t = 2.9277, df = 9, p-value = 0.00841\n",
       "alternative hypothesis: true mean is greater than 1.4\n",
       "99 percent confidence interval:\n",
       " 1.407259      Inf\n",
       "sample estimates:\n",
       "mean of x \n",
       "      1.6 \n"
      ]
     },
     "metadata": {},
     "output_type": "display_data"
    }
   ],
   "source": [
    "t.test(water, mu=1.4, conf.level = 0.99, alternative='greater')"
   ]
  },
  {
   "cell_type": "markdown",
   "id": "9b603a5e-6c63-498e-8a83-b3899d7581d1",
   "metadata": {},
   "source": [
    "귀무가설 : 건강 캠페인 이후에도 물 소비량은 평균 1.4리터 이하로 유지되었다.\n",
    "\n",
    "대립가설 : 건강 캠페인 이후에 물 소비량은 평균 1.4리터를 초과하였다."
   ]
  },
  {
   "cell_type": "markdown",
   "id": "e7e89c76-f62d-4778-8b97-9ccbe05f24d1",
   "metadata": {},
   "source": [
    "샤피로 테스트 결과 p밸류 0.3931로 유의수준 0.05를 초과하여 귀무가설이 채택되었으나 표본수가 적다.\n",
    "\n",
    "t테스트 결과 t통계량 2.9277이 임계값 2.821보다 크며, p밸류 0.00841이 유의수준 0.01보다 작으므로 귀무가설이 기각되고 대립가설이 채택되었다."
   ]
  },
  {
   "cell_type": "markdown",
   "id": "232ca6ac-1d8e-4982-9c1c-60fa1eec2c0f",
   "metadata": {},
   "source": []
  },
  {
   "cell_type": "code",
   "execution_count": null,
   "id": "4d5f5f22-6953-4e84-8a28-43451c36da45",
   "metadata": {},
   "outputs": [],
   "source": []
  },
  {
   "cell_type": "code",
   "execution_count": null,
   "id": "106e6057-f78f-4067-a81b-6776ff8e3538",
   "metadata": {},
   "outputs": [],
   "source": []
  },
  {
   "cell_type": "code",
   "execution_count": null,
   "id": "6dede8dc-7e65-4d43-b92b-d01c044d14f3",
   "metadata": {},
   "outputs": [],
   "source": []
  },
  {
   "cell_type": "code",
   "execution_count": null,
   "id": "d53f9937-77b2-4b2f-b3b3-8e38b5db8ecf",
   "metadata": {},
   "outputs": [],
   "source": []
  }
 ],
 "metadata": {
  "kernelspec": {
   "display_name": "R",
   "language": "R",
   "name": "ir"
  },
  "language_info": {
   "codemirror_mode": "r",
   "file_extension": ".r",
   "mimetype": "text/x-r-source",
   "name": "R",
   "pygments_lexer": "r",
   "version": "3.6.3"
  }
 },
 "nbformat": 4,
 "nbformat_minor": 5
}
