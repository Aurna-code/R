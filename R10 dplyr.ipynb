{
 "cells": [
  {
   "cell_type": "markdown",
   "id": "2b378fbd-ceb2-4580-a7cc-ae2dd947efdf",
   "metadata": {},
   "source": [
    "## dplyr\n",
    "* 해들리 위컴이 만든 패키지\n",
    "* 데이터프레임을 대상으로 데이터랭글링 작업에 빠른 속도와 많은 유용한 기능을 제공\n",
    "* 데이터 전처리작업의 사실상 표준 패키지로 인정받음\n",
    "* 데이터 전처리 작업은 동사로 정의된 각 함수를 통해서 이루어짐\n",
    "\n",
    "    - select    : 열 선택\n",
    "\n",
    "    - filter    : 조건 검색\n",
    "\n",
    "    - group_by  : 데이터 그룹화\n",
    "\n",
    "    - mutate    : 행/열 추가\n",
    "\n",
    "    - summrise  : 데이터 집계\n",
    "\n",
    "    - arrange   : 데이터 정렬\n",
    "\n",
    "* 이러한 함수들은 magrittr 패키지에 의해 구현된 파이프(>) 패러다임을 이용해서 체인형식으로 연산을 수행할 수 있음\n",
    "* 즉 먼저 수행한 함수의 결과를 다음으로 실행할 함수의 입력으로 보낼 수 있음\n",
    "    - sum(titanic, na.rm=T)   # 기존방식\n",
    "    - titanic %>% sum(na.rm=T) # 파이프 방식\n",
    "\n",
    "\n",
    "* 파이프 기호(%>%)를 입력할 때는 단축키 ctrl + shift + M 를 사용함\n",
    "\n"
   ]
  },
  {
   "cell_type": "markdown",
   "id": "4b4183c2-bc54-485e-a45b-de3dcd0185b0",
   "metadata": {},
   "source": [
    "### dplyr 패키지 설치(터미널에서 입력)\n",
    "+ install.packages('dplyr')"
   ]
  },
  {
   "cell_type": "code",
   "execution_count": 51,
   "id": "a749b12a-5008-49e1-99db-8cc7bc1d8b38",
   "metadata": {},
   "outputs": [],
   "source": [
    "library(dplyr)"
   ]
  },
  {
   "cell_type": "code",
   "execution_count": 52,
   "id": "40d7c26a-5c9b-48c4-b447-12532483c790",
   "metadata": {},
   "outputs": [],
   "source": [
    "load('sungjuk.rdata')"
   ]
  },
  {
   "cell_type": "markdown",
   "id": "09a353bc-2a7b-4f6b-a092-5e7aa2790a8a",
   "metadata": {},
   "source": [
    "#### select(열선택)\n",
    "+ 영어성적 출력"
   ]
  },
  {
   "cell_type": "code",
   "execution_count": 5,
   "id": "639d2fe4-0582-4e8c-a178-9fde7188e885",
   "metadata": {},
   "outputs": [
    {
     "data": {
      "text/html": [
       "<table class=\"dataframe\">\n",
       "<caption>A data.frame: 4 × 1</caption>\n",
       "<thead>\n",
       "\t<tr><th scope=col>eng</th></tr>\n",
       "\t<tr><th scope=col>&lt;dbl&gt;</th></tr>\n",
       "</thead>\n",
       "<tbody>\n",
       "\t<tr><td>90</td></tr>\n",
       "\t<tr><td>95</td></tr>\n",
       "\t<tr><td>69</td></tr>\n",
       "\t<tr><td>78</td></tr>\n",
       "</tbody>\n",
       "</table>\n"
      ],
      "text/latex": [
       "A data.frame: 4 × 1\n",
       "\\begin{tabular}{l}\n",
       " eng\\\\\n",
       " <dbl>\\\\\n",
       "\\hline\n",
       "\t 90\\\\\n",
       "\t 95\\\\\n",
       "\t 69\\\\\n",
       "\t 78\\\\\n",
       "\\end{tabular}\n"
      ],
      "text/markdown": [
       "\n",
       "A data.frame: 4 × 1\n",
       "\n",
       "| eng &lt;dbl&gt; |\n",
       "|---|\n",
       "| 90 |\n",
       "| 95 |\n",
       "| 69 |\n",
       "| 78 |\n",
       "\n"
      ],
      "text/plain": [
       "  eng\n",
       "1 90 \n",
       "2 95 \n",
       "3 69 \n",
       "4 78 "
      ]
     },
     "metadata": {},
     "output_type": "display_data"
    }
   ],
   "source": [
    "sungjuk %>% select(eng)  #select(컬럼명)"
   ]
  },
  {
   "cell_type": "code",
   "execution_count": 7,
   "id": "06102a61-4c14-4800-a953-e207fd8ec035",
   "metadata": {},
   "outputs": [
    {
     "data": {
      "text/html": [
       "<table class=\"dataframe\">\n",
       "<caption>A data.frame: 4 × 3</caption>\n",
       "<thead>\n",
       "\t<tr><th scope=col>eng</th><th scope=col>mat</th><th scope=col>sci</th></tr>\n",
       "\t<tr><th scope=col>&lt;dbl&gt;</th><th scope=col>&lt;dbl&gt;</th><th scope=col>&lt;dbl&gt;</th></tr>\n",
       "</thead>\n",
       "<tbody>\n",
       "\t<tr><td>90</td><td>85</td><td>90</td></tr>\n",
       "\t<tr><td>95</td><td>96</td><td>80</td></tr>\n",
       "\t<tr><td>69</td><td>49</td><td>70</td></tr>\n",
       "\t<tr><td>78</td><td>95</td><td>60</td></tr>\n",
       "</tbody>\n",
       "</table>\n"
      ],
      "text/latex": [
       "A data.frame: 4 × 3\n",
       "\\begin{tabular}{lll}\n",
       " eng & mat & sci\\\\\n",
       " <dbl> & <dbl> & <dbl>\\\\\n",
       "\\hline\n",
       "\t 90 & 85 & 90\\\\\n",
       "\t 95 & 96 & 80\\\\\n",
       "\t 69 & 49 & 70\\\\\n",
       "\t 78 & 95 & 60\\\\\n",
       "\\end{tabular}\n"
      ],
      "text/markdown": [
       "\n",
       "A data.frame: 4 × 3\n",
       "\n",
       "| eng &lt;dbl&gt; | mat &lt;dbl&gt; | sci &lt;dbl&gt; |\n",
       "|---|---|---|\n",
       "| 90 | 85 | 90 |\n",
       "| 95 | 96 | 80 |\n",
       "| 69 | 49 | 70 |\n",
       "| 78 | 95 | 60 |\n",
       "\n"
      ],
      "text/plain": [
       "  eng mat sci\n",
       "1 90  85  90 \n",
       "2 95  96  80 \n",
       "3 69  49  70 \n",
       "4 78  95  60 "
      ]
     },
     "metadata": {},
     "output_type": "display_data"
    }
   ],
   "source": [
    "sungjuk %>% select(eng, mat, sci)"
   ]
  },
  {
   "cell_type": "code",
   "execution_count": 8,
   "id": "ce78dee4-c666-4ac0-a345-ebcefd4e8c10",
   "metadata": {},
   "outputs": [
    {
     "data": {
      "text/html": [
       "<table class=\"dataframe\">\n",
       "<caption>A data.frame: 4 × 1</caption>\n",
       "<thead>\n",
       "\t<tr><th scope=col>name</th></tr>\n",
       "\t<tr><th scope=col>&lt;fct&gt;</th></tr>\n",
       "</thead>\n",
       "<tbody>\n",
       "\t<tr><td>John</td></tr>\n",
       "\t<tr><td>Tom </td></tr>\n",
       "\t<tr><td>Mark</td></tr>\n",
       "\t<tr><td>Jane</td></tr>\n",
       "</tbody>\n",
       "</table>\n"
      ],
      "text/latex": [
       "A data.frame: 4 × 1\n",
       "\\begin{tabular}{l}\n",
       " name\\\\\n",
       " <fct>\\\\\n",
       "\\hline\n",
       "\t John\\\\\n",
       "\t Tom \\\\\n",
       "\t Mark\\\\\n",
       "\t Jane\\\\\n",
       "\\end{tabular}\n"
      ],
      "text/markdown": [
       "\n",
       "A data.frame: 4 × 1\n",
       "\n",
       "| name &lt;fct&gt; |\n",
       "|---|\n",
       "| John |\n",
       "| Tom  |\n",
       "| Mark |\n",
       "| Jane |\n",
       "\n"
      ],
      "text/plain": [
       "  name\n",
       "1 John\n",
       "2 Tom \n",
       "3 Mark\n",
       "4 Jane"
      ]
     },
     "metadata": {},
     "output_type": "display_data"
    }
   ],
   "source": [
    "sungjuk %>% select(-eng, -mat, -sci)"
   ]
  },
  {
   "cell_type": "markdown",
   "id": "1755394f-6125-4e46-baea-8670e8f3bab4",
   "metadata": {},
   "source": [
    "### filter(조건검색)"
   ]
  },
  {
   "cell_type": "code",
   "execution_count": 9,
   "id": "e8018b4f-a02d-43fe-951f-f57d3dca03b3",
   "metadata": {},
   "outputs": [],
   "source": [
    "sungjuk$class <- c(1,2,1,3) # 클래스 컬럼 추가"
   ]
  },
  {
   "cell_type": "code",
   "execution_count": 10,
   "id": "0a407906-2079-4880-8882-8a71040f3e1e",
   "metadata": {},
   "outputs": [],
   "source": [
    "# class가 1인 학생 조회"
   ]
  },
  {
   "cell_type": "code",
   "execution_count": 11,
   "id": "e903c5ad-83af-4c48-bfdb-04f940292ed5",
   "metadata": {},
   "outputs": [
    {
     "data": {
      "text/html": [
       "<table class=\"dataframe\">\n",
       "<caption>A data.frame: 2 × 5</caption>\n",
       "<thead>\n",
       "\t<tr><th scope=col>name</th><th scope=col>eng</th><th scope=col>mat</th><th scope=col>sci</th><th scope=col>class</th></tr>\n",
       "\t<tr><th scope=col>&lt;fct&gt;</th><th scope=col>&lt;dbl&gt;</th><th scope=col>&lt;dbl&gt;</th><th scope=col>&lt;dbl&gt;</th><th scope=col>&lt;dbl&gt;</th></tr>\n",
       "</thead>\n",
       "<tbody>\n",
       "\t<tr><td>John</td><td>90</td><td>85</td><td>90</td><td>1</td></tr>\n",
       "\t<tr><td>Mark</td><td>69</td><td>49</td><td>70</td><td>1</td></tr>\n",
       "</tbody>\n",
       "</table>\n"
      ],
      "text/latex": [
       "A data.frame: 2 × 5\n",
       "\\begin{tabular}{lllll}\n",
       " name & eng & mat & sci & class\\\\\n",
       " <fct> & <dbl> & <dbl> & <dbl> & <dbl>\\\\\n",
       "\\hline\n",
       "\t John & 90 & 85 & 90 & 1\\\\\n",
       "\t Mark & 69 & 49 & 70 & 1\\\\\n",
       "\\end{tabular}\n"
      ],
      "text/markdown": [
       "\n",
       "A data.frame: 2 × 5\n",
       "\n",
       "| name &lt;fct&gt; | eng &lt;dbl&gt; | mat &lt;dbl&gt; | sci &lt;dbl&gt; | class &lt;dbl&gt; |\n",
       "|---|---|---|---|---|\n",
       "| John | 90 | 85 | 90 | 1 |\n",
       "| Mark | 69 | 49 | 70 | 1 |\n",
       "\n"
      ],
      "text/plain": [
       "  name eng mat sci class\n",
       "1 John 90  85  90  1    \n",
       "2 Mark 69  49  70  1    "
      ]
     },
     "metadata": {},
     "output_type": "display_data"
    }
   ],
   "source": [
    "sungjuk %>% filter(class == 1)"
   ]
  },
  {
   "cell_type": "code",
   "execution_count": 13,
   "id": "bfb6138b-c3a7-4c52-b7e5-7084eb9454fc",
   "metadata": {},
   "outputs": [
    {
     "data": {
      "text/html": [
       "<table class=\"dataframe\">\n",
       "<caption>A data.frame: 2 × 5</caption>\n",
       "<thead>\n",
       "\t<tr><th scope=col>name</th><th scope=col>eng</th><th scope=col>mat</th><th scope=col>sci</th><th scope=col>class</th></tr>\n",
       "\t<tr><th scope=col>&lt;fct&gt;</th><th scope=col>&lt;dbl&gt;</th><th scope=col>&lt;dbl&gt;</th><th scope=col>&lt;dbl&gt;</th><th scope=col>&lt;dbl&gt;</th></tr>\n",
       "</thead>\n",
       "<tbody>\n",
       "\t<tr><td>Tom </td><td>95</td><td>96</td><td>80</td><td>2</td></tr>\n",
       "\t<tr><td>Jane</td><td>78</td><td>95</td><td>60</td><td>3</td></tr>\n",
       "</tbody>\n",
       "</table>\n"
      ],
      "text/latex": [
       "A data.frame: 2 × 5\n",
       "\\begin{tabular}{lllll}\n",
       " name & eng & mat & sci & class\\\\\n",
       " <fct> & <dbl> & <dbl> & <dbl> & <dbl>\\\\\n",
       "\\hline\n",
       "\t Tom  & 95 & 96 & 80 & 2\\\\\n",
       "\t Jane & 78 & 95 & 60 & 3\\\\\n",
       "\\end{tabular}\n"
      ],
      "text/markdown": [
       "\n",
       "A data.frame: 2 × 5\n",
       "\n",
       "| name &lt;fct&gt; | eng &lt;dbl&gt; | mat &lt;dbl&gt; | sci &lt;dbl&gt; | class &lt;dbl&gt; |\n",
       "|---|---|---|---|---|\n",
       "| Tom  | 95 | 96 | 80 | 2 |\n",
       "| Jane | 78 | 95 | 60 | 3 |\n",
       "\n"
      ],
      "text/plain": [
       "  name eng mat sci class\n",
       "1 Tom  95  96  80  2    \n",
       "2 Jane 78  95  60  3    "
      ]
     },
     "metadata": {},
     "output_type": "display_data"
    }
   ],
   "source": [
    "sungjuk %>% filter(class != 1)"
   ]
  },
  {
   "cell_type": "code",
   "execution_count": 14,
   "id": "37714cab-a68d-4d59-84c9-80bae8a36913",
   "metadata": {},
   "outputs": [
    {
     "data": {
      "text/html": [
       "<table class=\"dataframe\">\n",
       "<caption>A data.frame: 3 × 5</caption>\n",
       "<thead>\n",
       "\t<tr><th scope=col>name</th><th scope=col>eng</th><th scope=col>mat</th><th scope=col>sci</th><th scope=col>class</th></tr>\n",
       "\t<tr><th scope=col>&lt;fct&gt;</th><th scope=col>&lt;dbl&gt;</th><th scope=col>&lt;dbl&gt;</th><th scope=col>&lt;dbl&gt;</th><th scope=col>&lt;dbl&gt;</th></tr>\n",
       "</thead>\n",
       "<tbody>\n",
       "\t<tr><td>John</td><td>90</td><td>85</td><td>90</td><td>1</td></tr>\n",
       "\t<tr><td>Tom </td><td>95</td><td>96</td><td>80</td><td>2</td></tr>\n",
       "\t<tr><td>Jane</td><td>78</td><td>95</td><td>60</td><td>3</td></tr>\n",
       "</tbody>\n",
       "</table>\n"
      ],
      "text/latex": [
       "A data.frame: 3 × 5\n",
       "\\begin{tabular}{lllll}\n",
       " name & eng & mat & sci & class\\\\\n",
       " <fct> & <dbl> & <dbl> & <dbl> & <dbl>\\\\\n",
       "\\hline\n",
       "\t John & 90 & 85 & 90 & 1\\\\\n",
       "\t Tom  & 95 & 96 & 80 & 2\\\\\n",
       "\t Jane & 78 & 95 & 60 & 3\\\\\n",
       "\\end{tabular}\n"
      ],
      "text/markdown": [
       "\n",
       "A data.frame: 3 × 5\n",
       "\n",
       "| name &lt;fct&gt; | eng &lt;dbl&gt; | mat &lt;dbl&gt; | sci &lt;dbl&gt; | class &lt;dbl&gt; |\n",
       "|---|---|---|---|---|\n",
       "| John | 90 | 85 | 90 | 1 |\n",
       "| Tom  | 95 | 96 | 80 | 2 |\n",
       "| Jane | 78 | 95 | 60 | 3 |\n",
       "\n"
      ],
      "text/plain": [
       "  name eng mat sci class\n",
       "1 John 90  85  90  1    \n",
       "2 Tom  95  96  80  2    \n",
       "3 Jane 78  95  60  3    "
      ]
     },
     "metadata": {},
     "output_type": "display_data"
    }
   ],
   "source": [
    "sungjuk %>% filter(eng > 70)"
   ]
  },
  {
   "cell_type": "code",
   "execution_count": 15,
   "id": "856fcbe8-6783-49fe-8e74-d5b2d79c7013",
   "metadata": {},
   "outputs": [
    {
     "data": {
      "text/html": [
       "<table class=\"dataframe\">\n",
       "<caption>A data.frame: 1 × 5</caption>\n",
       "<thead>\n",
       "\t<tr><th scope=col>name</th><th scope=col>eng</th><th scope=col>mat</th><th scope=col>sci</th><th scope=col>class</th></tr>\n",
       "\t<tr><th scope=col>&lt;fct&gt;</th><th scope=col>&lt;dbl&gt;</th><th scope=col>&lt;dbl&gt;</th><th scope=col>&lt;dbl&gt;</th><th scope=col>&lt;dbl&gt;</th></tr>\n",
       "</thead>\n",
       "<tbody>\n",
       "\t<tr><td>John</td><td>90</td><td>85</td><td>90</td><td>1</td></tr>\n",
       "</tbody>\n",
       "</table>\n"
      ],
      "text/latex": [
       "A data.frame: 1 × 5\n",
       "\\begin{tabular}{lllll}\n",
       " name & eng & mat & sci & class\\\\\n",
       " <fct> & <dbl> & <dbl> & <dbl> & <dbl>\\\\\n",
       "\\hline\n",
       "\t John & 90 & 85 & 90 & 1\\\\\n",
       "\\end{tabular}\n"
      ],
      "text/markdown": [
       "\n",
       "A data.frame: 1 × 5\n",
       "\n",
       "| name &lt;fct&gt; | eng &lt;dbl&gt; | mat &lt;dbl&gt; | sci &lt;dbl&gt; | class &lt;dbl&gt; |\n",
       "|---|---|---|---|---|\n",
       "| John | 90 | 85 | 90 | 1 |\n",
       "\n"
      ],
      "text/plain": [
       "  name eng mat sci class\n",
       "1 John 90  85  90  1    "
      ]
     },
     "metadata": {},
     "output_type": "display_data"
    }
   ],
   "source": [
    "sungjuk %>% filter(eng >80 & mat == 85)"
   ]
  },
  {
   "cell_type": "code",
   "execution_count": 19,
   "id": "148be22f-3071-4845-a42d-f22527cdfe16",
   "metadata": {},
   "outputs": [
    {
     "data": {
      "text/html": [
       "<table class=\"dataframe\">\n",
       "<caption>A data.frame: 1 × 5</caption>\n",
       "<thead>\n",
       "\t<tr><th scope=col>name</th><th scope=col>eng</th><th scope=col>mat</th><th scope=col>sci</th><th scope=col>class</th></tr>\n",
       "\t<tr><th scope=col>&lt;fct&gt;</th><th scope=col>&lt;dbl&gt;</th><th scope=col>&lt;dbl&gt;</th><th scope=col>&lt;dbl&gt;</th><th scope=col>&lt;dbl&gt;</th></tr>\n",
       "</thead>\n",
       "<tbody>\n",
       "\t<tr><td>John</td><td>90</td><td>85</td><td>90</td><td>1</td></tr>\n",
       "</tbody>\n",
       "</table>\n"
      ],
      "text/latex": [
       "A data.frame: 1 × 5\n",
       "\\begin{tabular}{lllll}\n",
       " name & eng & mat & sci & class\\\\\n",
       " <fct> & <dbl> & <dbl> & <dbl> & <dbl>\\\\\n",
       "\\hline\n",
       "\t John & 90 & 85 & 90 & 1\\\\\n",
       "\\end{tabular}\n"
      ],
      "text/markdown": [
       "\n",
       "A data.frame: 1 × 5\n",
       "\n",
       "| name &lt;fct&gt; | eng &lt;dbl&gt; | mat &lt;dbl&gt; | sci &lt;dbl&gt; | class &lt;dbl&gt; |\n",
       "|---|---|---|---|---|\n",
       "| John | 90 | 85 | 90 | 1 |\n",
       "\n"
      ],
      "text/plain": [
       "  name eng mat sci class\n",
       "1 John 90  85  90  1    "
      ]
     },
     "metadata": {},
     "output_type": "display_data"
    }
   ],
   "source": [
    "sungjuk %>% filter(eng >80,mat == 85)"
   ]
  },
  {
   "cell_type": "code",
   "execution_count": 18,
   "id": "b45014c3-084c-46d6-81d1-ff18f96bd8b7",
   "metadata": {},
   "outputs": [
    {
     "data": {
      "text/html": [
       "<table class=\"dataframe\">\n",
       "<caption>A data.frame: 1 × 2</caption>\n",
       "<thead>\n",
       "\t<tr><th scope=col>name</th><th scope=col>class</th></tr>\n",
       "\t<tr><th scope=col>&lt;fct&gt;</th><th scope=col>&lt;dbl&gt;</th></tr>\n",
       "</thead>\n",
       "<tbody>\n",
       "\t<tr><td>John</td><td>1</td></tr>\n",
       "</tbody>\n",
       "</table>\n"
      ],
      "text/latex": [
       "A data.frame: 1 × 2\n",
       "\\begin{tabular}{ll}\n",
       " name & class\\\\\n",
       " <fct> & <dbl>\\\\\n",
       "\\hline\n",
       "\t John & 1\\\\\n",
       "\\end{tabular}\n"
      ],
      "text/markdown": [
       "\n",
       "A data.frame: 1 × 2\n",
       "\n",
       "| name &lt;fct&gt; | class &lt;dbl&gt; |\n",
       "|---|---|\n",
       "| John | 1 |\n",
       "\n"
      ],
      "text/plain": [
       "  name class\n",
       "1 John 1    "
      ]
     },
     "metadata": {},
     "output_type": "display_data"
    }
   ],
   "source": [
    "sungjuk %>% filter(eng >80 & mat == 85) %>% select(name, class)"
   ]
  },
  {
   "cell_type": "code",
   "execution_count": 147,
   "id": "5ab430ad-ebab-4844-9238-f55daab5f221",
   "metadata": {},
   "outputs": [],
   "source": [
    "library(ggplot2)"
   ]
  },
  {
   "cell_type": "code",
   "execution_count": 148,
   "id": "155fcbbd-9043-45da-bb91-be0890c24aa6",
   "metadata": {},
   "outputs": [
    {
     "data": {
      "text/html": [
       "<table class=\"dataframe\">\n",
       "<caption>A tibble: 234 × 4</caption>\n",
       "<thead>\n",
       "\t<tr><th scope=col>model</th><th scope=col>manufacturer</th><th scope=col>allmpg</th><th scope=col>avgmpg</th></tr>\n",
       "\t<tr><th scope=col>&lt;chr&gt;</th><th scope=col>&lt;chr&gt;</th><th scope=col>&lt;int&gt;</th><th scope=col>&lt;dbl&gt;</th></tr>\n",
       "</thead>\n",
       "<tbody>\n",
       "\t<tr><td>a4                </td><td>audi     </td><td>47</td><td>23.5</td></tr>\n",
       "\t<tr><td>a4                </td><td>audi     </td><td>50</td><td>25.0</td></tr>\n",
       "\t<tr><td>a4                </td><td>audi     </td><td>51</td><td>25.5</td></tr>\n",
       "\t<tr><td>a4                </td><td>audi     </td><td>51</td><td>25.5</td></tr>\n",
       "\t<tr><td>a4                </td><td>audi     </td><td>42</td><td>21.0</td></tr>\n",
       "\t<tr><td>a4                </td><td>audi     </td><td>44</td><td>22.0</td></tr>\n",
       "\t<tr><td>a4                </td><td>audi     </td><td>45</td><td>22.5</td></tr>\n",
       "\t<tr><td>a4 quattro        </td><td>audi     </td><td>44</td><td>22.0</td></tr>\n",
       "\t<tr><td>a4 quattro        </td><td>audi     </td><td>41</td><td>20.5</td></tr>\n",
       "\t<tr><td>a4 quattro        </td><td>audi     </td><td>48</td><td>24.0</td></tr>\n",
       "\t<tr><td>a4 quattro        </td><td>audi     </td><td>46</td><td>23.0</td></tr>\n",
       "\t<tr><td>a4 quattro        </td><td>audi     </td><td>40</td><td>20.0</td></tr>\n",
       "\t<tr><td>a4 quattro        </td><td>audi     </td><td>42</td><td>21.0</td></tr>\n",
       "\t<tr><td>a4 quattro        </td><td>audi     </td><td>42</td><td>21.0</td></tr>\n",
       "\t<tr><td>a4 quattro        </td><td>audi     </td><td>40</td><td>20.0</td></tr>\n",
       "\t<tr><td>a6 quattro        </td><td>audi     </td><td>39</td><td>19.5</td></tr>\n",
       "\t<tr><td>a6 quattro        </td><td>audi     </td><td>42</td><td>21.0</td></tr>\n",
       "\t<tr><td>a6 quattro        </td><td>audi     </td><td>39</td><td>19.5</td></tr>\n",
       "\t<tr><td>c1500 suburban 2wd</td><td>chevrolet</td><td>34</td><td>17.0</td></tr>\n",
       "\t<tr><td>c1500 suburban 2wd</td><td>chevrolet</td><td>26</td><td>13.0</td></tr>\n",
       "\t<tr><td>c1500 suburban 2wd</td><td>chevrolet</td><td>34</td><td>17.0</td></tr>\n",
       "\t<tr><td>c1500 suburban 2wd</td><td>chevrolet</td><td>30</td><td>15.0</td></tr>\n",
       "\t<tr><td>c1500 suburban 2wd</td><td>chevrolet</td><td>29</td><td>14.5</td></tr>\n",
       "\t<tr><td>corvette          </td><td>chevrolet</td><td>42</td><td>21.0</td></tr>\n",
       "\t<tr><td>corvette          </td><td>chevrolet</td><td>38</td><td>19.0</td></tr>\n",
       "\t<tr><td>corvette          </td><td>chevrolet</td><td>42</td><td>21.0</td></tr>\n",
       "\t<tr><td>corvette          </td><td>chevrolet</td><td>40</td><td>20.0</td></tr>\n",
       "\t<tr><td>corvette          </td><td>chevrolet</td><td>39</td><td>19.5</td></tr>\n",
       "\t<tr><td>k1500 tahoe 4wd   </td><td>chevrolet</td><td>33</td><td>16.5</td></tr>\n",
       "\t<tr><td>k1500 tahoe 4wd   </td><td>chevrolet</td><td>25</td><td>12.5</td></tr>\n",
       "\t<tr><td>⋮</td><td>⋮</td><td>⋮</td><td>⋮</td></tr>\n",
       "\t<tr><td>toyota tacoma 4wd</td><td>toyota    </td><td>34</td><td>17.0</td></tr>\n",
       "\t<tr><td>toyota tacoma 4wd</td><td>toyota    </td><td>33</td><td>16.5</td></tr>\n",
       "\t<tr><td>toyota tacoma 4wd</td><td>toyota    </td><td>36</td><td>18.0</td></tr>\n",
       "\t<tr><td>gti              </td><td>volkswagen</td><td>50</td><td>25.0</td></tr>\n",
       "\t<tr><td>gti              </td><td>volkswagen</td><td>45</td><td>22.5</td></tr>\n",
       "\t<tr><td>gti              </td><td>volkswagen</td><td>50</td><td>25.0</td></tr>\n",
       "\t<tr><td>gti              </td><td>volkswagen</td><td>51</td><td>25.5</td></tr>\n",
       "\t<tr><td>gti              </td><td>volkswagen</td><td>41</td><td>20.5</td></tr>\n",
       "\t<tr><td>jetta            </td><td>volkswagen</td><td>77</td><td>38.5</td></tr>\n",
       "\t<tr><td>jetta            </td><td>volkswagen</td><td>50</td><td>25.0</td></tr>\n",
       "\t<tr><td>jetta            </td><td>volkswagen</td><td>45</td><td>22.5</td></tr>\n",
       "\t<tr><td>jetta            </td><td>volkswagen</td><td>51</td><td>25.5</td></tr>\n",
       "\t<tr><td>jetta            </td><td>volkswagen</td><td>50</td><td>25.0</td></tr>\n",
       "\t<tr><td>jetta            </td><td>volkswagen</td><td>50</td><td>25.0</td></tr>\n",
       "\t<tr><td>jetta            </td><td>volkswagen</td><td>50</td><td>25.0</td></tr>\n",
       "\t<tr><td>jetta            </td><td>volkswagen</td><td>39</td><td>19.5</td></tr>\n",
       "\t<tr><td>jetta            </td><td>volkswagen</td><td>41</td><td>20.5</td></tr>\n",
       "\t<tr><td>new beetle       </td><td>volkswagen</td><td>79</td><td>39.5</td></tr>\n",
       "\t<tr><td>new beetle       </td><td>volkswagen</td><td>70</td><td>35.0</td></tr>\n",
       "\t<tr><td>new beetle       </td><td>volkswagen</td><td>50</td><td>25.0</td></tr>\n",
       "\t<tr><td>new beetle       </td><td>volkswagen</td><td>45</td><td>22.5</td></tr>\n",
       "\t<tr><td>new beetle       </td><td>volkswagen</td><td>48</td><td>24.0</td></tr>\n",
       "\t<tr><td>new beetle       </td><td>volkswagen</td><td>49</td><td>24.5</td></tr>\n",
       "\t<tr><td>passat           </td><td>volkswagen</td><td>50</td><td>25.0</td></tr>\n",
       "\t<tr><td>passat           </td><td>volkswagen</td><td>47</td><td>23.5</td></tr>\n",
       "\t<tr><td>passat           </td><td>volkswagen</td><td>47</td><td>23.5</td></tr>\n",
       "\t<tr><td>passat           </td><td>volkswagen</td><td>50</td><td>25.0</td></tr>\n",
       "\t<tr><td>passat           </td><td>volkswagen</td><td>42</td><td>21.0</td></tr>\n",
       "\t<tr><td>passat           </td><td>volkswagen</td><td>44</td><td>22.0</td></tr>\n",
       "\t<tr><td>passat           </td><td>volkswagen</td><td>43</td><td>21.5</td></tr>\n",
       "</tbody>\n",
       "</table>\n"
      ],
      "text/latex": [
       "A tibble: 234 × 4\n",
       "\\begin{tabular}{llll}\n",
       " model & manufacturer & allmpg & avgmpg\\\\\n",
       " <chr> & <chr> & <int> & <dbl>\\\\\n",
       "\\hline\n",
       "\t a4                 & audi      & 47 & 23.5\\\\\n",
       "\t a4                 & audi      & 50 & 25.0\\\\\n",
       "\t a4                 & audi      & 51 & 25.5\\\\\n",
       "\t a4                 & audi      & 51 & 25.5\\\\\n",
       "\t a4                 & audi      & 42 & 21.0\\\\\n",
       "\t a4                 & audi      & 44 & 22.0\\\\\n",
       "\t a4                 & audi      & 45 & 22.5\\\\\n",
       "\t a4 quattro         & audi      & 44 & 22.0\\\\\n",
       "\t a4 quattro         & audi      & 41 & 20.5\\\\\n",
       "\t a4 quattro         & audi      & 48 & 24.0\\\\\n",
       "\t a4 quattro         & audi      & 46 & 23.0\\\\\n",
       "\t a4 quattro         & audi      & 40 & 20.0\\\\\n",
       "\t a4 quattro         & audi      & 42 & 21.0\\\\\n",
       "\t a4 quattro         & audi      & 42 & 21.0\\\\\n",
       "\t a4 quattro         & audi      & 40 & 20.0\\\\\n",
       "\t a6 quattro         & audi      & 39 & 19.5\\\\\n",
       "\t a6 quattro         & audi      & 42 & 21.0\\\\\n",
       "\t a6 quattro         & audi      & 39 & 19.5\\\\\n",
       "\t c1500 suburban 2wd & chevrolet & 34 & 17.0\\\\\n",
       "\t c1500 suburban 2wd & chevrolet & 26 & 13.0\\\\\n",
       "\t c1500 suburban 2wd & chevrolet & 34 & 17.0\\\\\n",
       "\t c1500 suburban 2wd & chevrolet & 30 & 15.0\\\\\n",
       "\t c1500 suburban 2wd & chevrolet & 29 & 14.5\\\\\n",
       "\t corvette           & chevrolet & 42 & 21.0\\\\\n",
       "\t corvette           & chevrolet & 38 & 19.0\\\\\n",
       "\t corvette           & chevrolet & 42 & 21.0\\\\\n",
       "\t corvette           & chevrolet & 40 & 20.0\\\\\n",
       "\t corvette           & chevrolet & 39 & 19.5\\\\\n",
       "\t k1500 tahoe 4wd    & chevrolet & 33 & 16.5\\\\\n",
       "\t k1500 tahoe 4wd    & chevrolet & 25 & 12.5\\\\\n",
       "\t ⋮ & ⋮ & ⋮ & ⋮\\\\\n",
       "\t toyota tacoma 4wd & toyota     & 34 & 17.0\\\\\n",
       "\t toyota tacoma 4wd & toyota     & 33 & 16.5\\\\\n",
       "\t toyota tacoma 4wd & toyota     & 36 & 18.0\\\\\n",
       "\t gti               & volkswagen & 50 & 25.0\\\\\n",
       "\t gti               & volkswagen & 45 & 22.5\\\\\n",
       "\t gti               & volkswagen & 50 & 25.0\\\\\n",
       "\t gti               & volkswagen & 51 & 25.5\\\\\n",
       "\t gti               & volkswagen & 41 & 20.5\\\\\n",
       "\t jetta             & volkswagen & 77 & 38.5\\\\\n",
       "\t jetta             & volkswagen & 50 & 25.0\\\\\n",
       "\t jetta             & volkswagen & 45 & 22.5\\\\\n",
       "\t jetta             & volkswagen & 51 & 25.5\\\\\n",
       "\t jetta             & volkswagen & 50 & 25.0\\\\\n",
       "\t jetta             & volkswagen & 50 & 25.0\\\\\n",
       "\t jetta             & volkswagen & 50 & 25.0\\\\\n",
       "\t jetta             & volkswagen & 39 & 19.5\\\\\n",
       "\t jetta             & volkswagen & 41 & 20.5\\\\\n",
       "\t new beetle        & volkswagen & 79 & 39.5\\\\\n",
       "\t new beetle        & volkswagen & 70 & 35.0\\\\\n",
       "\t new beetle        & volkswagen & 50 & 25.0\\\\\n",
       "\t new beetle        & volkswagen & 45 & 22.5\\\\\n",
       "\t new beetle        & volkswagen & 48 & 24.0\\\\\n",
       "\t new beetle        & volkswagen & 49 & 24.5\\\\\n",
       "\t passat            & volkswagen & 50 & 25.0\\\\\n",
       "\t passat            & volkswagen & 47 & 23.5\\\\\n",
       "\t passat            & volkswagen & 47 & 23.5\\\\\n",
       "\t passat            & volkswagen & 50 & 25.0\\\\\n",
       "\t passat            & volkswagen & 42 & 21.0\\\\\n",
       "\t passat            & volkswagen & 44 & 22.0\\\\\n",
       "\t passat            & volkswagen & 43 & 21.5\\\\\n",
       "\\end{tabular}\n"
      ],
      "text/markdown": [
       "\n",
       "A tibble: 234 × 4\n",
       "\n",
       "| model &lt;chr&gt; | manufacturer &lt;chr&gt; | allmpg &lt;int&gt; | avgmpg &lt;dbl&gt; |\n",
       "|---|---|---|---|\n",
       "| a4                 | audi      | 47 | 23.5 |\n",
       "| a4                 | audi      | 50 | 25.0 |\n",
       "| a4                 | audi      | 51 | 25.5 |\n",
       "| a4                 | audi      | 51 | 25.5 |\n",
       "| a4                 | audi      | 42 | 21.0 |\n",
       "| a4                 | audi      | 44 | 22.0 |\n",
       "| a4                 | audi      | 45 | 22.5 |\n",
       "| a4 quattro         | audi      | 44 | 22.0 |\n",
       "| a4 quattro         | audi      | 41 | 20.5 |\n",
       "| a4 quattro         | audi      | 48 | 24.0 |\n",
       "| a4 quattro         | audi      | 46 | 23.0 |\n",
       "| a4 quattro         | audi      | 40 | 20.0 |\n",
       "| a4 quattro         | audi      | 42 | 21.0 |\n",
       "| a4 quattro         | audi      | 42 | 21.0 |\n",
       "| a4 quattro         | audi      | 40 | 20.0 |\n",
       "| a6 quattro         | audi      | 39 | 19.5 |\n",
       "| a6 quattro         | audi      | 42 | 21.0 |\n",
       "| a6 quattro         | audi      | 39 | 19.5 |\n",
       "| c1500 suburban 2wd | chevrolet | 34 | 17.0 |\n",
       "| c1500 suburban 2wd | chevrolet | 26 | 13.0 |\n",
       "| c1500 suburban 2wd | chevrolet | 34 | 17.0 |\n",
       "| c1500 suburban 2wd | chevrolet | 30 | 15.0 |\n",
       "| c1500 suburban 2wd | chevrolet | 29 | 14.5 |\n",
       "| corvette           | chevrolet | 42 | 21.0 |\n",
       "| corvette           | chevrolet | 38 | 19.0 |\n",
       "| corvette           | chevrolet | 42 | 21.0 |\n",
       "| corvette           | chevrolet | 40 | 20.0 |\n",
       "| corvette           | chevrolet | 39 | 19.5 |\n",
       "| k1500 tahoe 4wd    | chevrolet | 33 | 16.5 |\n",
       "| k1500 tahoe 4wd    | chevrolet | 25 | 12.5 |\n",
       "| ⋮ | ⋮ | ⋮ | ⋮ |\n",
       "| toyota tacoma 4wd | toyota     | 34 | 17.0 |\n",
       "| toyota tacoma 4wd | toyota     | 33 | 16.5 |\n",
       "| toyota tacoma 4wd | toyota     | 36 | 18.0 |\n",
       "| gti               | volkswagen | 50 | 25.0 |\n",
       "| gti               | volkswagen | 45 | 22.5 |\n",
       "| gti               | volkswagen | 50 | 25.0 |\n",
       "| gti               | volkswagen | 51 | 25.5 |\n",
       "| gti               | volkswagen | 41 | 20.5 |\n",
       "| jetta             | volkswagen | 77 | 38.5 |\n",
       "| jetta             | volkswagen | 50 | 25.0 |\n",
       "| jetta             | volkswagen | 45 | 22.5 |\n",
       "| jetta             | volkswagen | 51 | 25.5 |\n",
       "| jetta             | volkswagen | 50 | 25.0 |\n",
       "| jetta             | volkswagen | 50 | 25.0 |\n",
       "| jetta             | volkswagen | 50 | 25.0 |\n",
       "| jetta             | volkswagen | 39 | 19.5 |\n",
       "| jetta             | volkswagen | 41 | 20.5 |\n",
       "| new beetle        | volkswagen | 79 | 39.5 |\n",
       "| new beetle        | volkswagen | 70 | 35.0 |\n",
       "| new beetle        | volkswagen | 50 | 25.0 |\n",
       "| new beetle        | volkswagen | 45 | 22.5 |\n",
       "| new beetle        | volkswagen | 48 | 24.0 |\n",
       "| new beetle        | volkswagen | 49 | 24.5 |\n",
       "| passat            | volkswagen | 50 | 25.0 |\n",
       "| passat            | volkswagen | 47 | 23.5 |\n",
       "| passat            | volkswagen | 47 | 23.5 |\n",
       "| passat            | volkswagen | 50 | 25.0 |\n",
       "| passat            | volkswagen | 42 | 21.0 |\n",
       "| passat            | volkswagen | 44 | 22.0 |\n",
       "| passat            | volkswagen | 43 | 21.5 |\n",
       "\n"
      ],
      "text/plain": [
       "    model              manufacturer allmpg avgmpg\n",
       "1   a4                 audi         47     23.5  \n",
       "2   a4                 audi         50     25.0  \n",
       "3   a4                 audi         51     25.5  \n",
       "4   a4                 audi         51     25.5  \n",
       "5   a4                 audi         42     21.0  \n",
       "6   a4                 audi         44     22.0  \n",
       "7   a4                 audi         45     22.5  \n",
       "8   a4 quattro         audi         44     22.0  \n",
       "9   a4 quattro         audi         41     20.5  \n",
       "10  a4 quattro         audi         48     24.0  \n",
       "11  a4 quattro         audi         46     23.0  \n",
       "12  a4 quattro         audi         40     20.0  \n",
       "13  a4 quattro         audi         42     21.0  \n",
       "14  a4 quattro         audi         42     21.0  \n",
       "15  a4 quattro         audi         40     20.0  \n",
       "16  a6 quattro         audi         39     19.5  \n",
       "17  a6 quattro         audi         42     21.0  \n",
       "18  a6 quattro         audi         39     19.5  \n",
       "19  c1500 suburban 2wd chevrolet    34     17.0  \n",
       "20  c1500 suburban 2wd chevrolet    26     13.0  \n",
       "21  c1500 suburban 2wd chevrolet    34     17.0  \n",
       "22  c1500 suburban 2wd chevrolet    30     15.0  \n",
       "23  c1500 suburban 2wd chevrolet    29     14.5  \n",
       "24  corvette           chevrolet    42     21.0  \n",
       "25  corvette           chevrolet    38     19.0  \n",
       "26  corvette           chevrolet    42     21.0  \n",
       "27  corvette           chevrolet    40     20.0  \n",
       "28  corvette           chevrolet    39     19.5  \n",
       "29  k1500 tahoe 4wd    chevrolet    33     16.5  \n",
       "30  k1500 tahoe 4wd    chevrolet    25     12.5  \n",
       "⋮   ⋮                  ⋮            ⋮      ⋮     \n",
       "205 toyota tacoma 4wd  toyota       34     17.0  \n",
       "206 toyota tacoma 4wd  toyota       33     16.5  \n",
       "207 toyota tacoma 4wd  toyota       36     18.0  \n",
       "208 gti                volkswagen   50     25.0  \n",
       "209 gti                volkswagen   45     22.5  \n",
       "210 gti                volkswagen   50     25.0  \n",
       "211 gti                volkswagen   51     25.5  \n",
       "212 gti                volkswagen   41     20.5  \n",
       "213 jetta              volkswagen   77     38.5  \n",
       "214 jetta              volkswagen   50     25.0  \n",
       "215 jetta              volkswagen   45     22.5  \n",
       "216 jetta              volkswagen   51     25.5  \n",
       "217 jetta              volkswagen   50     25.0  \n",
       "218 jetta              volkswagen   50     25.0  \n",
       "219 jetta              volkswagen   50     25.0  \n",
       "220 jetta              volkswagen   39     19.5  \n",
       "221 jetta              volkswagen   41     20.5  \n",
       "222 new beetle         volkswagen   79     39.5  \n",
       "223 new beetle         volkswagen   70     35.0  \n",
       "224 new beetle         volkswagen   50     25.0  \n",
       "225 new beetle         volkswagen   45     22.5  \n",
       "226 new beetle         volkswagen   48     24.0  \n",
       "227 new beetle         volkswagen   49     24.5  \n",
       "228 passat             volkswagen   50     25.0  \n",
       "229 passat             volkswagen   47     23.5  \n",
       "230 passat             volkswagen   47     23.5  \n",
       "231 passat             volkswagen   50     25.0  \n",
       "232 passat             volkswagen   42     21.0  \n",
       "233 passat             volkswagen   44     22.0  \n",
       "234 passat             volkswagen   43     21.5  "
      ]
     },
     "metadata": {},
     "output_type": "display_data"
    }
   ],
   "source": [
    "mpg\n"
   ]
  },
  {
   "cell_type": "code",
   "execution_count": 146,
   "id": "360d7a37-d4a3-40c9-b651-f7973ea3975f",
   "metadata": {},
   "outputs": [
    {
     "ename": "ERROR",
     "evalue": "Error: Can't subset columns that don't exist.\n\u001b[31m✖\u001b[39m Column `class` doesn't exist.\n",
     "output_type": "error",
     "traceback": [
      "Error: Can't subset columns that don't exist.\n\u001b[31m✖\u001b[39m Column `class` doesn't exist.\nTraceback:\n",
      "1. mpg %>% select(class, cty) %>% print(n = 5)",
      "2. print(., n = 5)",
      "3. select(., class, cty)",
      "4. select.data.frame(., class, cty)",
      "5. tidyselect::eval_select(expr(c(...)), .data)",
      "6. eval_select_impl(data, names(data), as_quosure(expr, env), include = include, \n .     exclude = exclude, strict = strict, name_spec = name_spec, \n .     allow_rename = allow_rename)",
      "7. with_subscript_errors(vars_select_eval(vars, expr, strict, data = x, \n .     name_spec = name_spec, uniquely_named = uniquely_named, allow_rename = allow_rename, \n .     type = type), type = type)",
      "8. tryCatch(instrument_base_errors(expr), vctrs_error_subscript = function(cnd) {\n .     cnd$subscript_action <- subscript_action(type)\n .     cnd$subscript_elt <- \"column\"\n .     cnd_signal(cnd)\n . })",
      "9. tryCatchList(expr, classes, parentenv, handlers)",
      "10. tryCatchOne(expr, names, parentenv, handlers[[1L]])",
      "11. value[[3L]](cond)",
      "12. cnd_signal(cnd)",
      "13. rlang:::signal_abort(x)"
     ]
    }
   ],
   "source": [
    "mpg %>% select(class, cty) %>% print(n=5)"
   ]
  },
  {
   "cell_type": "code",
   "execution_count": 145,
   "id": "ba5044a1-b5e6-4efc-a267-85535308e5cf",
   "metadata": {},
   "outputs": [
    {
     "ename": "ERROR",
     "evalue": "Error: Can't subset columns that don't exist.\n\u001b[31m✖\u001b[39m Column `class` doesn't exist.\n",
     "output_type": "error",
     "traceback": [
      "Error: Can't subset columns that don't exist.\n\u001b[31m✖\u001b[39m Column `class` doesn't exist.\nTraceback:\n",
      "1. mpg %>% select(class, cty) %>% filter(class == \"suv\")",
      "2. filter(., class == \"suv\")",
      "3. select(., class, cty)",
      "4. select.data.frame(., class, cty)",
      "5. tidyselect::eval_select(expr(c(...)), .data)",
      "6. eval_select_impl(data, names(data), as_quosure(expr, env), include = include, \n .     exclude = exclude, strict = strict, name_spec = name_spec, \n .     allow_rename = allow_rename)",
      "7. with_subscript_errors(vars_select_eval(vars, expr, strict, data = x, \n .     name_spec = name_spec, uniquely_named = uniquely_named, allow_rename = allow_rename, \n .     type = type), type = type)",
      "8. tryCatch(instrument_base_errors(expr), vctrs_error_subscript = function(cnd) {\n .     cnd$subscript_action <- subscript_action(type)\n .     cnd$subscript_elt <- \"column\"\n .     cnd_signal(cnd)\n . })",
      "9. tryCatchList(expr, classes, parentenv, handlers)",
      "10. tryCatchOne(expr, names, parentenv, handlers[[1L]])",
      "11. value[[3L]](cond)",
      "12. cnd_signal(cnd)",
      "13. rlang:::signal_abort(x)"
     ]
    }
   ],
   "source": [
    "shwy <- mpg %>% select(class, cty) %>% filter(class == 'suv')\n",
    "mean(shwy$cty)"
   ]
  },
  {
   "cell_type": "code",
   "execution_count": 85,
   "id": "c1ddae67-84d7-407b-9ee2-50c43d38927a",
   "metadata": {},
   "outputs": [
    {
     "data": {
      "text/html": [
       "20.13"
      ],
      "text/latex": [
       "20.13"
      ],
      "text/markdown": [
       "20.13"
      ],
      "text/plain": [
       "[1] 20.13"
      ]
     },
     "metadata": {},
     "output_type": "display_data"
    }
   ],
   "source": [
    "chwy <- mpg %>% filter(class == 'compact') %>% select(class, cty)\n",
    "round(mean(chwy$cty),2)"
   ]
  },
  {
   "cell_type": "code",
   "execution_count": 93,
   "id": "226708bc-6cf3-4c6a-9729-fa2c7269387b",
   "metadata": {},
   "outputs": [
    {
     "data": {
      "text/html": [
       "19.6"
      ],
      "text/latex": [
       "19.6"
      ],
      "text/markdown": [
       "19.6"
      ],
      "text/plain": [
       "[1] 19.6"
      ]
     },
     "metadata": {},
     "output_type": "display_data"
    }
   ],
   "source": [
    "diswy <- mpg %>% filter(displ == 4) %>% select(manufacturer, displ, hwy)\n",
    "mean(diswy$hwy)"
   ]
  },
  {
   "cell_type": "code",
   "execution_count": 92,
   "id": "b2d6e315-12f6-42d5-adc5-46d29b1e99fc",
   "metadata": {},
   "outputs": [
    {
     "data": {
      "text/html": [
       "17"
      ],
      "text/latex": [
       "17"
      ],
      "text/markdown": [
       "17"
      ],
      "text/plain": [
       "[1] 17"
      ]
     },
     "metadata": {},
     "output_type": "display_data"
    }
   ],
   "source": [
    "diswy2 <- mpg %>% filter(displ == 5) %>% select(manufacturer, displ, hwy)\n",
    "mean(diswy2$hwy)"
   ]
  },
  {
   "cell_type": "code",
   "execution_count": 102,
   "id": "711a1252-7e69-43fb-9435-7785fc4cdbb9",
   "metadata": {},
   "outputs": [
    {
     "data": {
      "text/html": [
       "17.61"
      ],
      "text/latex": [
       "17.61"
      ],
      "text/markdown": [
       "17.61"
      ],
      "text/plain": [
       "[1] 17.61"
      ]
     },
     "metadata": {},
     "output_type": "display_data"
    }
   ],
   "source": [
    "manucty <- mpg %>% filter(manufacturer == 'audi') %>% select(manufacturer, cty)\n",
    "round(mean(manucty$cty),2)"
   ]
  },
  {
   "cell_type": "code",
   "execution_count": 101,
   "id": "e125c0e5-317a-4544-990a-268ebd877141",
   "metadata": {},
   "outputs": [
    {
     "data": {
      "text/html": [
       "18.53"
      ],
      "text/latex": [
       "18.53"
      ],
      "text/markdown": [
       "18.53"
      ],
      "text/plain": [
       "[1] 18.53"
      ]
     },
     "metadata": {},
     "output_type": "display_data"
    }
   ],
   "source": [
    "manucty1 <- mpg %>% filter(manufacturer == 'toyota') %>% select(manufacturer, cty)\n",
    "round(mean(manucty1$cty),2)"
   ]
  },
  {
   "cell_type": "code",
   "execution_count": 108,
   "id": "398df24c-53b4-46db-8c0c-b327d4adcb63",
   "metadata": {},
   "outputs": [
    {
     "data": {
      "text/html": [
       "21.89"
      ],
      "text/latex": [
       "21.89"
      ],
      "text/markdown": [
       "21.89"
      ],
      "text/plain": [
       "[1] 21.89"
      ]
     },
     "metadata": {},
     "output_type": "display_data"
    }
   ],
   "source": [
    "manuhwy1 <- mpg %>% filter(manufacturer == 'chevrolet') %>% select(manufacturer, hwy)\n",
    "round(mean(manuhwy1$hwy),2)"
   ]
  },
  {
   "cell_type": "code",
   "execution_count": 109,
   "id": "1e156599-dc6e-45ce-9636-c3373aeb7135",
   "metadata": {},
   "outputs": [
    {
     "data": {
      "text/html": [
       "19.36"
      ],
      "text/latex": [
       "19.36"
      ],
      "text/markdown": [
       "19.36"
      ],
      "text/plain": [
       "[1] 19.36"
      ]
     },
     "metadata": {},
     "output_type": "display_data"
    }
   ],
   "source": [
    "manuhwy2 <- mpg %>% filter(manufacturer == 'ford') %>% select(manufacturer, hwy)\n",
    "round(mean(manuhwy2$hwy),2)"
   ]
  },
  {
   "cell_type": "code",
   "execution_count": 110,
   "id": "085f8b5e-0d7e-49d1-9983-5983412d4306",
   "metadata": {},
   "outputs": [
    {
     "data": {
      "text/html": [
       "32.56"
      ],
      "text/latex": [
       "32.56"
      ],
      "text/markdown": [
       "32.56"
      ],
      "text/plain": [
       "[1] 32.56"
      ]
     },
     "metadata": {},
     "output_type": "display_data"
    }
   ],
   "source": [
    "manuhwy3 <- mpg %>% filter(manufacturer == 'honda') %>% select(manufacturer, hwy)\n",
    "round(mean(manuhwy3$hwy),2)"
   ]
  },
  {
   "cell_type": "code",
   "execution_count": null,
   "id": "03297fb1-1290-41cd-a42f-5eca1925bd87",
   "metadata": {},
   "outputs": [],
   "source": []
  },
  {
   "cell_type": "markdown",
   "id": "bc5fcdf2-fb85-4f0c-be8d-a8242a01e782",
   "metadata": {},
   "source": [
    "### 행, 열 추가"
   ]
  },
  {
   "cell_type": "code",
   "execution_count": 112,
   "id": "2137abdf-93a8-431e-b746-55877b8ee497",
   "metadata": {},
   "outputs": [
    {
     "data": {
      "text/html": [
       "<table class=\"dataframe\">\n",
       "<caption>A data.frame: 4 × 4</caption>\n",
       "<thead>\n",
       "\t<tr><th scope=col>name</th><th scope=col>eng</th><th scope=col>mat</th><th scope=col>sci</th></tr>\n",
       "\t<tr><th scope=col>&lt;fct&gt;</th><th scope=col>&lt;dbl&gt;</th><th scope=col>&lt;dbl&gt;</th><th scope=col>&lt;dbl&gt;</th></tr>\n",
       "</thead>\n",
       "<tbody>\n",
       "\t<tr><td>John</td><td>90</td><td>85</td><td>90</td></tr>\n",
       "\t<tr><td>Tom </td><td>95</td><td>96</td><td>80</td></tr>\n",
       "\t<tr><td>Mark</td><td>69</td><td>49</td><td>70</td></tr>\n",
       "\t<tr><td>Jane</td><td>78</td><td>95</td><td>60</td></tr>\n",
       "</tbody>\n",
       "</table>\n"
      ],
      "text/latex": [
       "A data.frame: 4 × 4\n",
       "\\begin{tabular}{llll}\n",
       " name & eng & mat & sci\\\\\n",
       " <fct> & <dbl> & <dbl> & <dbl>\\\\\n",
       "\\hline\n",
       "\t John & 90 & 85 & 90\\\\\n",
       "\t Tom  & 95 & 96 & 80\\\\\n",
       "\t Mark & 69 & 49 & 70\\\\\n",
       "\t Jane & 78 & 95 & 60\\\\\n",
       "\\end{tabular}\n"
      ],
      "text/markdown": [
       "\n",
       "A data.frame: 4 × 4\n",
       "\n",
       "| name &lt;fct&gt; | eng &lt;dbl&gt; | mat &lt;dbl&gt; | sci &lt;dbl&gt; |\n",
       "|---|---|---|---|\n",
       "| John | 90 | 85 | 90 |\n",
       "| Tom  | 95 | 96 | 80 |\n",
       "| Mark | 69 | 49 | 70 |\n",
       "| Jane | 78 | 95 | 60 |\n",
       "\n"
      ],
      "text/plain": [
       "  name eng mat sci\n",
       "1 John 90  85  90 \n",
       "2 Tom  95  96  80 \n",
       "3 Mark 69  49  70 \n",
       "4 Jane 78  95  60 "
      ]
     },
     "metadata": {},
     "output_type": "display_data"
    }
   ],
   "source": [
    "sungjuk"
   ]
  },
  {
   "cell_type": "code",
   "execution_count": null,
   "id": "58b68f18-4fb2-4657-a952-fa64b9361764",
   "metadata": {},
   "outputs": [],
   "source": []
  },
  {
   "cell_type": "code",
   "execution_count": 129,
   "id": "17dbcfcb-b209-4426-b6ed-eed0443bb8aa",
   "metadata": {},
   "outputs": [
    {
     "data": {
      "text/html": [
       "<table class=\"dataframe\">\n",
       "<caption>A data.frame: 4 × 8</caption>\n",
       "<thead>\n",
       "\t<tr><th scope=col>name</th><th scope=col>eng</th><th scope=col>mat</th><th scope=col>sci</th><th scope=col>tot</th><th scope=col>avg</th><th scope=col>round(avg = tot/3)</th><th scope=col>2</th></tr>\n",
       "\t<tr><th scope=col>&lt;fct&gt;</th><th scope=col>&lt;dbl&gt;</th><th scope=col>&lt;dbl&gt;</th><th scope=col>&lt;dbl&gt;</th><th scope=col>&lt;dbl&gt;</th><th scope=col>&lt;dbl&gt;</th><th scope=col>&lt;dbl&gt;</th><th scope=col>&lt;dbl&gt;</th></tr>\n",
       "</thead>\n",
       "<tbody>\n",
       "\t<tr><td>John</td><td>90</td><td>85</td><td>90</td><td>265</td><td>88.3</td><td>88</td><td>2</td></tr>\n",
       "\t<tr><td>Tom </td><td>95</td><td>96</td><td>80</td><td>271</td><td>90.3</td><td>90</td><td>2</td></tr>\n",
       "\t<tr><td>Mark</td><td>69</td><td>49</td><td>70</td><td>188</td><td>62.7</td><td>63</td><td>2</td></tr>\n",
       "\t<tr><td>Jane</td><td>78</td><td>95</td><td>60</td><td>233</td><td>77.7</td><td>78</td><td>2</td></tr>\n",
       "</tbody>\n",
       "</table>\n"
      ],
      "text/latex": [
       "A data.frame: 4 × 8\n",
       "\\begin{tabular}{llllllll}\n",
       " name & eng & mat & sci & tot & avg & round(avg = tot/3) & 2\\\\\n",
       " <fct> & <dbl> & <dbl> & <dbl> & <dbl> & <dbl> & <dbl> & <dbl>\\\\\n",
       "\\hline\n",
       "\t John & 90 & 85 & 90 & 265 & 88.3 & 88 & 2\\\\\n",
       "\t Tom  & 95 & 96 & 80 & 271 & 90.3 & 90 & 2\\\\\n",
       "\t Mark & 69 & 49 & 70 & 188 & 62.7 & 63 & 2\\\\\n",
       "\t Jane & 78 & 95 & 60 & 233 & 77.7 & 78 & 2\\\\\n",
       "\\end{tabular}\n"
      ],
      "text/markdown": [
       "\n",
       "A data.frame: 4 × 8\n",
       "\n",
       "| name &lt;fct&gt; | eng &lt;dbl&gt; | mat &lt;dbl&gt; | sci &lt;dbl&gt; | tot &lt;dbl&gt; | avg &lt;dbl&gt; | round(avg = tot/3) &lt;dbl&gt; | 2 &lt;dbl&gt; |\n",
       "|---|---|---|---|---|---|---|---|\n",
       "| John | 90 | 85 | 90 | 265 | 88.3 | 88 | 2 |\n",
       "| Tom  | 95 | 96 | 80 | 271 | 90.3 | 90 | 2 |\n",
       "| Mark | 69 | 49 | 70 | 188 | 62.7 | 63 | 2 |\n",
       "| Jane | 78 | 95 | 60 | 233 | 77.7 | 78 | 2 |\n",
       "\n"
      ],
      "text/plain": [
       "  name eng mat sci tot avg  round(avg = tot/3) 2\n",
       "1 John 90  85  90  265 88.3 88                 2\n",
       "2 Tom  95  96  80  271 90.3 90                 2\n",
       "3 Mark 69  49  70  188 62.7 63                 2\n",
       "4 Jane 78  95  60  233 77.7 78                 2"
      ]
     },
     "metadata": {},
     "output_type": "display_data"
    }
   ],
   "source": [
    "sungjuk <- sungjuk %>% mutate(tot = sci + eng + mat, avg = round(tot/3,1))\n",
    "sungjuk"
   ]
  },
  {
   "cell_type": "code",
   "execution_count": 137,
   "id": "7811184c-6e98-4261-8fe5-dc303b3c222c",
   "metadata": {},
   "outputs": [],
   "source": [
    "sungjuk <- sungjuk %>% mutate('round(avg = tot/3)' = NULL)"
   ]
  },
  {
   "cell_type": "code",
   "execution_count": 138,
   "id": "85248e62-8210-464d-9bd9-607f8e5b3d63",
   "metadata": {},
   "outputs": [
    {
     "data": {
      "text/html": [
       "<table class=\"dataframe\">\n",
       "<caption>A data.frame: 4 × 6</caption>\n",
       "<thead>\n",
       "\t<tr><th scope=col>name</th><th scope=col>eng</th><th scope=col>mat</th><th scope=col>sci</th><th scope=col>tot</th><th scope=col>avg</th></tr>\n",
       "\t<tr><th scope=col>&lt;fct&gt;</th><th scope=col>&lt;dbl&gt;</th><th scope=col>&lt;dbl&gt;</th><th scope=col>&lt;dbl&gt;</th><th scope=col>&lt;dbl&gt;</th><th scope=col>&lt;dbl&gt;</th></tr>\n",
       "</thead>\n",
       "<tbody>\n",
       "\t<tr><td>John</td><td>90</td><td>85</td><td>90</td><td>265</td><td>88.3</td></tr>\n",
       "\t<tr><td>Tom </td><td>95</td><td>96</td><td>80</td><td>271</td><td>90.3</td></tr>\n",
       "\t<tr><td>Mark</td><td>69</td><td>49</td><td>70</td><td>188</td><td>62.7</td></tr>\n",
       "\t<tr><td>Jane</td><td>78</td><td>95</td><td>60</td><td>233</td><td>77.7</td></tr>\n",
       "</tbody>\n",
       "</table>\n"
      ],
      "text/latex": [
       "A data.frame: 4 × 6\n",
       "\\begin{tabular}{llllll}\n",
       " name & eng & mat & sci & tot & avg\\\\\n",
       " <fct> & <dbl> & <dbl> & <dbl> & <dbl> & <dbl>\\\\\n",
       "\\hline\n",
       "\t John & 90 & 85 & 90 & 265 & 88.3\\\\\n",
       "\t Tom  & 95 & 96 & 80 & 271 & 90.3\\\\\n",
       "\t Mark & 69 & 49 & 70 & 188 & 62.7\\\\\n",
       "\t Jane & 78 & 95 & 60 & 233 & 77.7\\\\\n",
       "\\end{tabular}\n"
      ],
      "text/markdown": [
       "\n",
       "A data.frame: 4 × 6\n",
       "\n",
       "| name &lt;fct&gt; | eng &lt;dbl&gt; | mat &lt;dbl&gt; | sci &lt;dbl&gt; | tot &lt;dbl&gt; | avg &lt;dbl&gt; |\n",
       "|---|---|---|---|---|---|\n",
       "| John | 90 | 85 | 90 | 265 | 88.3 |\n",
       "| Tom  | 95 | 96 | 80 | 271 | 90.3 |\n",
       "| Mark | 69 | 49 | 70 | 188 | 62.7 |\n",
       "| Jane | 78 | 95 | 60 | 233 | 77.7 |\n",
       "\n"
      ],
      "text/plain": [
       "  name eng mat sci tot avg \n",
       "1 John 90  85  90  265 88.3\n",
       "2 Tom  95  96  80  271 90.3\n",
       "3 Mark 69  49  70  188 62.7\n",
       "4 Jane 78  95  60  233 77.7"
      ]
     },
     "metadata": {},
     "output_type": "display_data"
    }
   ],
   "source": [
    "sungjuk"
   ]
  },
  {
   "cell_type": "code",
   "execution_count": null,
   "id": "825aa4e0-b29a-4559-9b2d-06c811595596",
   "metadata": {},
   "outputs": [],
   "source": []
  },
  {
   "cell_type": "code",
   "execution_count": null,
   "id": "f27349c2-706d-4b93-98f9-27a93b14031e",
   "metadata": {},
   "outputs": [],
   "source": [
    "mpg <- mpg %>% mutate(allmpg = cty + hwy, avgmpg = allmpg /2)"
   ]
  },
  {
   "cell_type": "code",
   "execution_count": null,
   "id": "0d91e646-5f9a-4453-8f5d-f8c222628f62",
   "metadata": {
    "tags": []
   },
   "outputs": [],
   "source": []
  },
  {
   "cell_type": "code",
   "execution_count": null,
   "id": "8b9247eb-b6dc-4b95-81ef-7d7c36fa90a9",
   "metadata": {},
   "outputs": [],
   "source": []
  },
  {
   "cell_type": "code",
   "execution_count": null,
   "id": "22702dcb-7261-4c6b-b076-e113a9c48291",
   "metadata": {},
   "outputs": [],
   "source": []
  },
  {
   "cell_type": "code",
   "execution_count": null,
   "id": "d84bb62f-8bc4-45d5-b214-48f9fadaab72",
   "metadata": {},
   "outputs": [],
   "source": []
  },
  {
   "cell_type": "code",
   "execution_count": null,
   "id": "5da216c6-1429-4953-846b-24797cc192c2",
   "metadata": {},
   "outputs": [],
   "source": []
  },
  {
   "cell_type": "code",
   "execution_count": null,
   "id": "ecde0d61-1592-4e75-83ec-d90cff85a46c",
   "metadata": {},
   "outputs": [],
   "source": []
  },
  {
   "cell_type": "code",
   "execution_count": null,
   "id": "fe85cdf0-d73b-44f4-9038-3b606c5ee321",
   "metadata": {},
   "outputs": [],
   "source": []
  },
  {
   "cell_type": "code",
   "execution_count": null,
   "id": "2df82350-2399-4820-9302-8dce17245435",
   "metadata": {},
   "outputs": [],
   "source": []
  },
  {
   "cell_type": "code",
   "execution_count": null,
   "id": "132115c8-7bc0-45a7-9faa-c4bc50dae676",
   "metadata": {},
   "outputs": [],
   "source": []
  }
 ],
 "metadata": {
  "kernelspec": {
   "display_name": "R",
   "language": "R",
   "name": "ir"
  },
  "language_info": {
   "codemirror_mode": "r",
   "file_extension": ".r",
   "mimetype": "text/x-r-source",
   "name": "R",
   "pygments_lexer": "r",
   "version": "3.6.3"
  }
 },
 "nbformat": 4,
 "nbformat_minor": 5
}
