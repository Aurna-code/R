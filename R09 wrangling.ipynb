{
 "cells": [
  {
   "cell_type": "markdown",
   "id": "f4ee241e-6dd0-4c3e-a3dd-68c3c2a9118a",
   "metadata": {},
   "source": [
    "## 데이터 전처리\n",
    "* 데이터를 조건에 따라 추출하고 원하는 형태로 데이터를 가공하는 것을 의미\n",
    "* 원시 데이터를 분석 목적에 맞게 다른 형태로 가공하는 것\n",
    "* 데이터 wrangling 또는 mungling 이라고 함"
   ]
  },
  {
   "cell_type": "markdown",
   "id": "100355f7-e6d6-478a-9c48-ee217e0fcacf",
   "metadata": {},
   "source": [
    "### 각 원소를 추출하는 방법은 boolean indexing을 이용하거나 전처리 전문 패키지 dplyr를 이용함"
   ]
  },
  {
   "cell_type": "markdown",
   "id": "51f508aa-b444-43e6-b042-77218a037412",
   "metadata": {},
   "source": [
    "### 데이터프레임\n",
    "* 서로 다른 자료형으로 구성된 데이터들로 만들어진 2차원 배열\n",
    "* 겉으로 봤을때는 행렬과 비슷해 보임"
   ]
  },
  {
   "cell_type": "code",
   "execution_count": null,
   "id": "16ca7d1f-f706-4ecf-9378-13a323ba72b9",
   "metadata": {},
   "outputs": [],
   "source": [
    "load('sungjuk.rdata')"
   ]
  },
  {
   "cell_type": "code",
   "execution_count": null,
   "id": "9cfaeba8-5d29-4b41-b0d9-9787ce32ef05",
   "metadata": {},
   "outputs": [],
   "source": [
    "head(sungjuk)"
   ]
  },
  {
   "cell_type": "markdown",
   "id": "afe70cfc-62a7-4944-b954-8278b6ff3950",
   "metadata": {},
   "source": [
    "### 데이터프레임 각 요소 접근\n",
    "+ 데이터프레임명$변수명\n",
    "+ 데이터프레임명[인덱스, 인덱스]"
   ]
  },
  {
   "cell_type": "markdown",
   "id": "34a5d3e4-88fc-4196-b045-3729cfb0931f",
   "metadata": {},
   "source": [
    "#### 이름열을 출력하는 방법"
   ]
  },
  {
   "cell_type": "code",
   "execution_count": null,
   "id": "db4fd410-69de-4959-a0a6-cfc1e2c501e8",
   "metadata": {},
   "outputs": [],
   "source": [
    "sungjuk$name"
   ]
  },
  {
   "cell_type": "code",
   "execution_count": null,
   "id": "5dcef446-c36d-47cd-b77a-5b1d38cd5483",
   "metadata": {},
   "outputs": [],
   "source": [
    "sungjuk[, 1]"
   ]
  },
  {
   "cell_type": "code",
   "execution_count": null,
   "id": "5be2023b-52fa-4f40-a73f-7f9db678df10",
   "metadata": {},
   "outputs": [],
   "source": [
    "sungjuk[, 'name']"
   ]
  },
  {
   "cell_type": "markdown",
   "id": "4ac1d33c-0e0e-449c-98b6-7ec328418003",
   "metadata": {},
   "source": [
    "#### Tom의 성적"
   ]
  },
  {
   "cell_type": "code",
   "execution_count": null,
   "id": "0a7d69b9-ce63-48a4-8bef-2eb08f49151c",
   "metadata": {},
   "outputs": [],
   "source": [
    "sungjuk[2, ]"
   ]
  },
  {
   "cell_type": "code",
   "execution_count": null,
   "id": "2eaf9598-8c1b-449e-881a-7fb6c40ff9c6",
   "metadata": {},
   "outputs": [],
   "source": [
    "sungjuk['Tom', ]   # 데이터프레임에서는 불가"
   ]
  },
  {
   "cell_type": "code",
   "execution_count": null,
   "id": "84a8e188-d292-447f-9428-e175ccbc66fc",
   "metadata": {},
   "outputs": [],
   "source": [
    "sungjuk[sungjuk$name=='Tom',]"
   ]
  },
  {
   "cell_type": "markdown",
   "id": "ac5fe56c-5f7f-4629-9df4-147599c506c4",
   "metadata": {},
   "source": [
    "#### Jane의 성적만 출력"
   ]
  },
  {
   "cell_type": "code",
   "execution_count": null,
   "id": "0b016a51-ebcc-4ead-a3db-9fd28c009247",
   "metadata": {},
   "outputs": [],
   "source": [
    "sungjuk[sungjuk$name=='Jane', c(2,3,4)]"
   ]
  },
  {
   "cell_type": "code",
   "execution_count": null,
   "id": "7a1bcdb3-138a-4a27-b1d5-4322c7bd70c4",
   "metadata": {},
   "outputs": [],
   "source": [
    "sungjuk[sungjuk$name=='Jane', c('eng','mat','sci')]"
   ]
  },
  {
   "cell_type": "code",
   "execution_count": null,
   "id": "1eb239ec-4368-44f1-bd9f-c03e4e233afe",
   "metadata": {},
   "outputs": [],
   "source": [
    "sungjuk[sungjuk$name=='Jane', c(2:4)]"
   ]
  },
  {
   "cell_type": "markdown",
   "id": "310f1ed7-0f16-48b5-8be3-2c1583640bf1",
   "metadata": {},
   "source": [
    "#### 성적 데이터프레임에서 총점/평균/학점 컬럼 추가하기\n",
    "+ 데이터프레임명$변수명 <- 처리코드"
   ]
  },
  {
   "cell_type": "code",
   "execution_count": null,
   "id": "b77683ce-eb2c-4e15-b72f-1d7518514350",
   "metadata": {},
   "outputs": [],
   "source": [
    "sungjuk$tot <- sungjuk$eng + sungjuk$mat + sungjuk$sci\n",
    "sungjuk$avg <- round((sungjuk$eng + sungjuk$mat + sungjuk$sci) / 3, 1)\n",
    "sungjuk$mean <- NULL\n",
    "sungjuk"
   ]
  },
  {
   "cell_type": "markdown",
   "id": "148cc930-bf95-4927-8b74-086b3972b206",
   "metadata": {},
   "source": [
    "### 변수 줄여서 사용하기\n",
    "+ attach/detach, with, within 함수 이용\n",
    "+ attach(생략할 키워드)\n",
    "+ detach(생략할 키워드)\n",
    "+ 파생변수 생성에는 사용불가"
   ]
  },
  {
   "cell_type": "code",
   "execution_count": 47,
   "id": "84c92716-dca5-40e3-8a25-868b600e47d0",
   "metadata": {},
   "outputs": [],
   "source": [
    "load('sungjuk.rdata')"
   ]
  },
  {
   "cell_type": "code",
   "execution_count": 48,
   "id": "602f9461-f0eb-4269-9019-f372f6d5903b",
   "metadata": {},
   "outputs": [
    {
     "name": "stderr",
     "output_type": "stream",
     "text": [
      "The following objects are masked from sungjuk (pos = 3):\n",
      "\n",
      "    eng, mat, name, sci\n",
      "\n",
      "\n"
     ]
    },
    {
     "data": {
      "text/html": [
       "<style>\n",
       ".list-inline {list-style: none; margin:0; padding: 0}\n",
       ".list-inline>li {display: inline-block}\n",
       ".list-inline>li:not(:last-child)::after {content: \"\\00b7\"; padding: 0 .5ex}\n",
       "</style>\n",
       "<ol class=list-inline><li>265</li><li>271</li><li>188</li><li>233</li></ol>\n"
      ],
      "text/latex": [
       "\\begin{enumerate*}\n",
       "\\item 265\n",
       "\\item 271\n",
       "\\item 188\n",
       "\\item 233\n",
       "\\end{enumerate*}\n"
      ],
      "text/markdown": [
       "1. 265\n",
       "2. 271\n",
       "3. 188\n",
       "4. 233\n",
       "\n",
       "\n"
      ],
      "text/plain": [
       "[1] 265 271 188 233"
      ]
     },
     "metadata": {},
     "output_type": "display_data"
    },
    {
     "data": {
      "text/html": [
       "<style>\n",
       ".list-inline {list-style: none; margin:0; padding: 0}\n",
       ".list-inline>li {display: inline-block}\n",
       ".list-inline>li:not(:last-child)::after {content: \"\\00b7\"; padding: 0 .5ex}\n",
       "</style>\n",
       "<ol class=list-inline><li>88.3</li><li>90.3</li><li>62.7</li><li>77.7</li></ol>\n"
      ],
      "text/latex": [
       "\\begin{enumerate*}\n",
       "\\item 88.3\n",
       "\\item 90.3\n",
       "\\item 62.7\n",
       "\\item 77.7\n",
       "\\end{enumerate*}\n"
      ],
      "text/markdown": [
       "1. 88.3\n",
       "2. 90.3\n",
       "3. 62.7\n",
       "4. 77.7\n",
       "\n",
       "\n"
      ],
      "text/plain": [
       "[1] 88.3 90.3 62.7 77.7"
      ]
     },
     "metadata": {},
     "output_type": "display_data"
    }
   ],
   "source": [
    "attach(sungjuk)\n",
    "    eng + mat + sci\n",
    "    round((eng + mat + sci) / 3, 1)\n",
    "detach(sungjuk)\n"
   ]
  },
  {
   "cell_type": "code",
   "execution_count": null,
   "id": "e93faf42-bf5d-4e97-9887-c1a78139e0f0",
   "metadata": {},
   "outputs": [],
   "source": [
    "attach(sungjuk)\n",
    "    tot <- eng + mat + sci\n",
    "    avg <- round((eng + mat + sci) / 3, 1)\n",
    "detach(sungjuk)"
   ]
  },
  {
   "cell_type": "code",
   "execution_count": 49,
   "id": "234fefde-1021-49ec-b101-7fd3d0bf6a2c",
   "metadata": {},
   "outputs": [],
   "source": [
    "load('sungjuk.rdata')"
   ]
  },
  {
   "cell_type": "code",
   "execution_count": 53,
   "id": "a4d6b985-145d-4068-8f23-521c1de9a78d",
   "metadata": {},
   "outputs": [
    {
     "data": {
      "text/html": [
       "<style>\n",
       ".list-inline {list-style: none; margin:0; padding: 0}\n",
       ".list-inline>li {display: inline-block}\n",
       ".list-inline>li:not(:last-child)::after {content: \"\\00b7\"; padding: 0 .5ex}\n",
       "</style>\n",
       "<ol class=list-inline><li>88.3</li><li>90.3</li><li>62.7</li><li>77.7</li></ol>\n"
      ],
      "text/latex": [
       "\\begin{enumerate*}\n",
       "\\item 88.3\n",
       "\\item 90.3\n",
       "\\item 62.7\n",
       "\\item 77.7\n",
       "\\end{enumerate*}\n"
      ],
      "text/markdown": [
       "1. 88.3\n",
       "2. 90.3\n",
       "3. 62.7\n",
       "4. 77.7\n",
       "\n",
       "\n"
      ],
      "text/plain": [
       "[1] 88.3 90.3 62.7 77.7"
      ]
     },
     "metadata": {},
     "output_type": "display_data"
    }
   ],
   "source": [
    "with(sungjuk, {\n",
    "    eng + mat + sci\n",
    "    round((eng + mat + sci) / 3, 1)\n",
    "})"
   ]
  },
  {
   "cell_type": "code",
   "execution_count": 52,
   "id": "771e4efe-1032-48db-bcc8-2e020ec51d8f",
   "metadata": {},
   "outputs": [],
   "source": [
    "load('sungjuk.rdata')"
   ]
  },
  {
   "cell_type": "markdown",
   "id": "7cad4c38-2243-47b7-a1c6-77fa6fde61eb",
   "metadata": {},
   "source": [
    "#### within : 파생변수 생성에 사용가능 - 단 생성후 해당 데이터프레임에 저장 필요"
   ]
  },
  {
   "cell_type": "markdown",
   "id": "3ac2b181-abbf-4f2d-aa3b-a1fbfddcffbe",
   "metadata": {},
   "source": [
    "#### 파생변수 초기화"
   ]
  },
  {
   "cell_type": "code",
   "execution_count": 71,
   "id": "7b228d0b-3eee-40e3-b033-65a5b63fd17c",
   "metadata": {},
   "outputs": [],
   "source": [
    "sungjuk$tot <- c(0,0,0,0)\n",
    "sungjuk$avg <- c(0,0,0,0)"
   ]
  },
  {
   "cell_type": "code",
   "execution_count": 72,
   "id": "d7c691a6-ed87-4897-88a5-eb3e2e686525",
   "metadata": {},
   "outputs": [],
   "source": [
    "sungjuk <- within(sungjuk, {\n",
    "    avg <- round((eng + mat + sci) / 3, 1)\n",
    "    tot <- eng + mat + sci\n",
    "})"
   ]
  },
  {
   "cell_type": "code",
   "execution_count": 73,
   "id": "ad53fbeb-e405-4874-a8e0-0d186d6246ca",
   "metadata": {},
   "outputs": [
    {
     "data": {
      "text/html": [
       "<table class=\"dataframe\">\n",
       "<caption>A data.frame: 4 × 6</caption>\n",
       "<thead>\n",
       "\t<tr><th scope=col>name</th><th scope=col>eng</th><th scope=col>mat</th><th scope=col>sci</th><th scope=col>avg</th><th scope=col>tot</th></tr>\n",
       "\t<tr><th scope=col>&lt;fct&gt;</th><th scope=col>&lt;dbl&gt;</th><th scope=col>&lt;dbl&gt;</th><th scope=col>&lt;dbl&gt;</th><th scope=col>&lt;dbl&gt;</th><th scope=col>&lt;dbl&gt;</th></tr>\n",
       "</thead>\n",
       "<tbody>\n",
       "\t<tr><td>John</td><td>90</td><td>85</td><td>90</td><td>88.3</td><td>265</td></tr>\n",
       "\t<tr><td>Tom </td><td>95</td><td>96</td><td>80</td><td>90.3</td><td>271</td></tr>\n",
       "\t<tr><td>Mark</td><td>69</td><td>49</td><td>70</td><td>62.7</td><td>188</td></tr>\n",
       "\t<tr><td>Jane</td><td>78</td><td>95</td><td>60</td><td>77.7</td><td>233</td></tr>\n",
       "</tbody>\n",
       "</table>\n"
      ],
      "text/latex": [
       "A data.frame: 4 × 6\n",
       "\\begin{tabular}{llllll}\n",
       " name & eng & mat & sci & avg & tot\\\\\n",
       " <fct> & <dbl> & <dbl> & <dbl> & <dbl> & <dbl>\\\\\n",
       "\\hline\n",
       "\t John & 90 & 85 & 90 & 88.3 & 265\\\\\n",
       "\t Tom  & 95 & 96 & 80 & 90.3 & 271\\\\\n",
       "\t Mark & 69 & 49 & 70 & 62.7 & 188\\\\\n",
       "\t Jane & 78 & 95 & 60 & 77.7 & 233\\\\\n",
       "\\end{tabular}\n"
      ],
      "text/markdown": [
       "\n",
       "A data.frame: 4 × 6\n",
       "\n",
       "| name &lt;fct&gt; | eng &lt;dbl&gt; | mat &lt;dbl&gt; | sci &lt;dbl&gt; | avg &lt;dbl&gt; | tot &lt;dbl&gt; |\n",
       "|---|---|---|---|---|---|\n",
       "| John | 90 | 85 | 90 | 88.3 | 265 |\n",
       "| Tom  | 95 | 96 | 80 | 90.3 | 271 |\n",
       "| Mark | 69 | 49 | 70 | 62.7 | 188 |\n",
       "| Jane | 78 | 95 | 60 | 77.7 | 233 |\n",
       "\n"
      ],
      "text/plain": [
       "  name eng mat sci avg  tot\n",
       "1 John 90  85  90  88.3 265\n",
       "2 Tom  95  96  80  90.3 271\n",
       "3 Mark 69  49  70  62.7 188\n",
       "4 Jane 78  95  60  77.7 233"
      ]
     },
     "metadata": {},
     "output_type": "display_data"
    }
   ],
   "source": [
    "sungjuk"
   ]
  },
  {
   "cell_type": "markdown",
   "id": "239c71e6-de0e-417d-a8c9-36ad0eb74674",
   "metadata": {},
   "source": [
    "### 매니저 평점 데이터에서 나이 컬럼의 값에 따라 다음의 기준으로 ages라는 컬럼을 생성함\n",
    "\n",
    "+ 나이 20~30 : 청년\n",
    "\n",
    "+ 나이 31~45 : 중년\n",
    "\n",
    "+ 나이 46~65 : 장년\n",
    "\n",
    "+ 나이 66~   : 노년\n",
    "\n"
   ]
  },
  {
   "cell_type": "code",
   "execution_count": 68,
   "id": "a52a3283-d827-4cbd-a330-c41aaee8d47d",
   "metadata": {},
   "outputs": [],
   "source": [
    "load('leadership.rdata')"
   ]
  },
  {
   "cell_type": "code",
   "execution_count": 69,
   "id": "805061fb-16fe-4499-9061-6c8b88687a09",
   "metadata": {},
   "outputs": [
    {
     "data": {
      "text/html": [
       "<table class=\"dataframe\">\n",
       "<caption>A data.frame: 5 × 10</caption>\n",
       "<thead>\n",
       "\t<tr><th></th><th scope=col>manager</th><th scope=col>date</th><th scope=col>country</th><th scope=col>gender</th><th scope=col>age</th><th scope=col>q1</th><th scope=col>q2</th><th scope=col>q3</th><th scope=col>q4</th><th scope=col>q5</th></tr>\n",
       "\t<tr><th></th><th scope=col>&lt;int&gt;</th><th scope=col>&lt;fct&gt;</th><th scope=col>&lt;fct&gt;</th><th scope=col>&lt;fct&gt;</th><th scope=col>&lt;dbl&gt;</th><th scope=col>&lt;dbl&gt;</th><th scope=col>&lt;dbl&gt;</th><th scope=col>&lt;dbl&gt;</th><th scope=col>&lt;dbl&gt;</th><th scope=col>&lt;dbl&gt;</th></tr>\n",
       "</thead>\n",
       "<tbody>\n",
       "\t<tr><th scope=row>1</th><td>1</td><td>10/24/14</td><td>US</td><td>M</td><td>32</td><td>5</td><td>4</td><td>5</td><td> 5</td><td> 5</td></tr>\n",
       "\t<tr><th scope=row>2</th><td>2</td><td>10/28/14</td><td>US</td><td>F</td><td>45</td><td>3</td><td>5</td><td>2</td><td> 5</td><td> 5</td></tr>\n",
       "\t<tr><th scope=row>3</th><td>3</td><td>10/01/14</td><td>UK</td><td>F</td><td>25</td><td>3</td><td>5</td><td>5</td><td> 5</td><td> 2</td></tr>\n",
       "\t<tr><th scope=row>4</th><td>4</td><td>10/12/14</td><td>UK</td><td>M</td><td>39</td><td>3</td><td>3</td><td>4</td><td>NA</td><td>NA</td></tr>\n",
       "\t<tr><th scope=row>5</th><td>5</td><td>05/01/14</td><td>UK</td><td>F</td><td>99</td><td>2</td><td>2</td><td>1</td><td> 2</td><td> 1</td></tr>\n",
       "</tbody>\n",
       "</table>\n"
      ],
      "text/latex": [
       "A data.frame: 5 × 10\n",
       "\\begin{tabular}{r|llllllllll}\n",
       "  & manager & date & country & gender & age & q1 & q2 & q3 & q4 & q5\\\\\n",
       "  & <int> & <fct> & <fct> & <fct> & <dbl> & <dbl> & <dbl> & <dbl> & <dbl> & <dbl>\\\\\n",
       "\\hline\n",
       "\t1 & 1 & 10/24/14 & US & M & 32 & 5 & 4 & 5 &  5 &  5\\\\\n",
       "\t2 & 2 & 10/28/14 & US & F & 45 & 3 & 5 & 2 &  5 &  5\\\\\n",
       "\t3 & 3 & 10/01/14 & UK & F & 25 & 3 & 5 & 5 &  5 &  2\\\\\n",
       "\t4 & 4 & 10/12/14 & UK & M & 39 & 3 & 3 & 4 & NA & NA\\\\\n",
       "\t5 & 5 & 05/01/14 & UK & F & 99 & 2 & 2 & 1 &  2 &  1\\\\\n",
       "\\end{tabular}\n"
      ],
      "text/markdown": [
       "\n",
       "A data.frame: 5 × 10\n",
       "\n",
       "| <!--/--> | manager &lt;int&gt; | date &lt;fct&gt; | country &lt;fct&gt; | gender &lt;fct&gt; | age &lt;dbl&gt; | q1 &lt;dbl&gt; | q2 &lt;dbl&gt; | q3 &lt;dbl&gt; | q4 &lt;dbl&gt; | q5 &lt;dbl&gt; |\n",
       "|---|---|---|---|---|---|---|---|---|---|---|\n",
       "| 1 | 1 | 10/24/14 | US | M | 32 | 5 | 4 | 5 |  5 |  5 |\n",
       "| 2 | 2 | 10/28/14 | US | F | 45 | 3 | 5 | 2 |  5 |  5 |\n",
       "| 3 | 3 | 10/01/14 | UK | F | 25 | 3 | 5 | 5 |  5 |  2 |\n",
       "| 4 | 4 | 10/12/14 | UK | M | 39 | 3 | 3 | 4 | NA | NA |\n",
       "| 5 | 5 | 05/01/14 | UK | F | 99 | 2 | 2 | 1 |  2 |  1 |\n",
       "\n"
      ],
      "text/plain": [
       "  manager date     country gender age q1 q2 q3 q4 q5\n",
       "1 1       10/24/14 US      M      32  5  4  5   5  5\n",
       "2 2       10/28/14 US      F      45  3  5  2   5  5\n",
       "3 3       10/01/14 UK      F      25  3  5  5   5  2\n",
       "4 4       10/12/14 UK      M      39  3  3  4  NA NA\n",
       "5 5       05/01/14 UK      F      99  2  2  1   2  1"
      ]
     },
     "metadata": {},
     "output_type": "display_data"
    }
   ],
   "source": [
    "head(leadership)"
   ]
  },
  {
   "cell_type": "code",
   "execution_count": 70,
   "id": "1d4f9f7d-869f-4829-a28c-e052bc5af569",
   "metadata": {},
   "outputs": [
    {
     "name": "stdout",
     "output_type": "stream",
     "text": [
      "'data.frame':\t5 obs. of  10 variables:\n",
      " $ manager: int  1 2 3 4 5\n",
      " $ date   : Factor w/ 5 levels \"05/01/14\",\"10/01/14\",..: 4 5 2 3 1\n",
      " $ country: Factor w/ 2 levels \"UK\",\"US\": 2 2 1 1 1\n",
      " $ gender : Factor w/ 2 levels \"F\",\"M\": 2 1 1 2 1\n",
      " $ age    : num  32 45 25 39 99\n",
      " $ q1     : num  5 3 3 3 2\n",
      " $ q2     : num  4 5 5 3 2\n",
      " $ q3     : num  5 2 5 4 1\n",
      " $ q4     : num  5 5 5 NA 2\n",
      " $ q5     : num  5 5 2 NA 1\n"
     ]
    }
   ],
   "source": [
    "str(leadership)"
   ]
  },
  {
   "cell_type": "code",
   "execution_count": 78,
   "id": "a9988bd4-b24c-4f06-b8f0-f1ae9ad49ab3",
   "metadata": {},
   "outputs": [],
   "source": [
    "leadership$ages <- c(0,0,0,0,0)"
   ]
  },
  {
   "cell_type": "code",
   "execution_count": 84,
   "id": "282762b8-cce5-4091-9aff-b55ccd4d70c3",
   "metadata": {},
   "outputs": [],
   "source": [
    "leadership <- within(leadership, {\n",
    "    ages[age >=20 & age <= 30] = '청년'\n",
    "    ages[age <=45 & age >= 31] = '중년'\n",
    "    ages[age >=65 & age <= 46] = '장년'\n",
    "    ages[age >=66] = '노년'\n",
    "})"
   ]
  },
  {
   "cell_type": "code",
   "execution_count": 85,
   "id": "2311c38e-e7dd-427c-a9a3-23eb574306d6",
   "metadata": {},
   "outputs": [
    {
     "data": {
      "text/html": [
       "<table class=\"dataframe\">\n",
       "<caption>A data.frame: 5 × 11</caption>\n",
       "<thead>\n",
       "\t<tr><th scope=col>manager</th><th scope=col>date</th><th scope=col>country</th><th scope=col>gender</th><th scope=col>age</th><th scope=col>q1</th><th scope=col>q2</th><th scope=col>q3</th><th scope=col>q4</th><th scope=col>q5</th><th scope=col>ages</th></tr>\n",
       "\t<tr><th scope=col>&lt;int&gt;</th><th scope=col>&lt;fct&gt;</th><th scope=col>&lt;fct&gt;</th><th scope=col>&lt;fct&gt;</th><th scope=col>&lt;dbl&gt;</th><th scope=col>&lt;dbl&gt;</th><th scope=col>&lt;dbl&gt;</th><th scope=col>&lt;dbl&gt;</th><th scope=col>&lt;dbl&gt;</th><th scope=col>&lt;dbl&gt;</th><th scope=col>&lt;chr&gt;</th></tr>\n",
       "</thead>\n",
       "<tbody>\n",
       "\t<tr><td>1</td><td>10/24/14</td><td>US</td><td>M</td><td>32</td><td>5</td><td>4</td><td>5</td><td> 5</td><td> 5</td><td>중년</td></tr>\n",
       "\t<tr><td>2</td><td>10/28/14</td><td>US</td><td>F</td><td>45</td><td>3</td><td>5</td><td>2</td><td> 5</td><td> 5</td><td>중년</td></tr>\n",
       "\t<tr><td>3</td><td>10/01/14</td><td>UK</td><td>F</td><td>25</td><td>3</td><td>5</td><td>5</td><td> 5</td><td> 2</td><td>청년</td></tr>\n",
       "\t<tr><td>4</td><td>10/12/14</td><td>UK</td><td>M</td><td>39</td><td>3</td><td>3</td><td>4</td><td>NA</td><td>NA</td><td>중년</td></tr>\n",
       "\t<tr><td>5</td><td>05/01/14</td><td>UK</td><td>F</td><td>99</td><td>2</td><td>2</td><td>1</td><td> 2</td><td> 1</td><td>노년</td></tr>\n",
       "</tbody>\n",
       "</table>\n"
      ],
      "text/latex": [
       "A data.frame: 5 × 11\n",
       "\\begin{tabular}{lllllllllll}\n",
       " manager & date & country & gender & age & q1 & q2 & q3 & q4 & q5 & ages\\\\\n",
       " <int> & <fct> & <fct> & <fct> & <dbl> & <dbl> & <dbl> & <dbl> & <dbl> & <dbl> & <chr>\\\\\n",
       "\\hline\n",
       "\t 1 & 10/24/14 & US & M & 32 & 5 & 4 & 5 &  5 &  5 & 중년\\\\\n",
       "\t 2 & 10/28/14 & US & F & 45 & 3 & 5 & 2 &  5 &  5 & 중년\\\\\n",
       "\t 3 & 10/01/14 & UK & F & 25 & 3 & 5 & 5 &  5 &  2 & 청년\\\\\n",
       "\t 4 & 10/12/14 & UK & M & 39 & 3 & 3 & 4 & NA & NA & 중년\\\\\n",
       "\t 5 & 05/01/14 & UK & F & 99 & 2 & 2 & 1 &  2 &  1 & 노년\\\\\n",
       "\\end{tabular}\n"
      ],
      "text/markdown": [
       "\n",
       "A data.frame: 5 × 11\n",
       "\n",
       "| manager &lt;int&gt; | date &lt;fct&gt; | country &lt;fct&gt; | gender &lt;fct&gt; | age &lt;dbl&gt; | q1 &lt;dbl&gt; | q2 &lt;dbl&gt; | q3 &lt;dbl&gt; | q4 &lt;dbl&gt; | q5 &lt;dbl&gt; | ages &lt;chr&gt; |\n",
       "|---|---|---|---|---|---|---|---|---|---|---|\n",
       "| 1 | 10/24/14 | US | M | 32 | 5 | 4 | 5 |  5 |  5 | 중년 |\n",
       "| 2 | 10/28/14 | US | F | 45 | 3 | 5 | 2 |  5 |  5 | 중년 |\n",
       "| 3 | 10/01/14 | UK | F | 25 | 3 | 5 | 5 |  5 |  2 | 청년 |\n",
       "| 4 | 10/12/14 | UK | M | 39 | 3 | 3 | 4 | NA | NA | 중년 |\n",
       "| 5 | 05/01/14 | UK | F | 99 | 2 | 2 | 1 |  2 |  1 | 노년 |\n",
       "\n"
      ],
      "text/plain": [
       "  manager date     country gender age q1 q2 q3 q4 q5 ages\n",
       "1 1       10/24/14 US      M      32  5  4  5   5  5 중년\n",
       "2 2       10/28/14 US      F      45  3  5  2   5  5 중년\n",
       "3 3       10/01/14 UK      F      25  3  5  5   5  2 청년\n",
       "4 4       10/12/14 UK      M      39  3  3  4  NA NA 중년\n",
       "5 5       05/01/14 UK      F      99  2  2  1   2  1 노년"
      ]
     },
     "metadata": {},
     "output_type": "display_data"
    }
   ],
   "source": [
    "leadership"
   ]
  },
  {
   "cell_type": "code",
   "execution_count": null,
   "id": "c744ee6e-1861-45a7-8e21-1bf2dfec2b28",
   "metadata": {},
   "outputs": [],
   "source": []
  },
  {
   "cell_type": "code",
   "execution_count": null,
   "id": "d8f4165b-a2f9-42cc-b475-874f6d75f296",
   "metadata": {},
   "outputs": [],
   "source": []
  },
  {
   "cell_type": "code",
   "execution_count": null,
   "id": "2338bae3-e901-48f8-98e5-fc0bc7a95a0d",
   "metadata": {},
   "outputs": [],
   "source": []
  },
  {
   "cell_type": "code",
   "execution_count": null,
   "id": "0be12f26-bd05-4dc8-a4bf-ce07a96851fc",
   "metadata": {},
   "outputs": [],
   "source": []
  },
  {
   "cell_type": "code",
   "execution_count": null,
   "id": "ab97a6cb-b04d-466d-9c47-cbfd8cb76e47",
   "metadata": {},
   "outputs": [],
   "source": []
  },
  {
   "cell_type": "code",
   "execution_count": null,
   "id": "068d0ad9-0320-45e8-a497-56e580fbd77a",
   "metadata": {},
   "outputs": [],
   "source": []
  }
 ],
 "metadata": {
  "kernelspec": {
   "display_name": "R",
   "language": "R",
   "name": "ir"
  },
  "language_info": {
   "codemirror_mode": "r",
   "file_extension": ".r",
   "mimetype": "text/x-r-source",
   "name": "R",
   "pygments_lexer": "r",
   "version": "3.6.3"
  }
 },
 "nbformat": 4,
 "nbformat_minor": 5
}
